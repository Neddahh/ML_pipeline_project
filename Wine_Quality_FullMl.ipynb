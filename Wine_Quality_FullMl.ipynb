{
  "nbformat": 4,
  "nbformat_minor": 0,
  "metadata": {
    "colab": {
      "provenance": [],
      "authorship_tag": "ABX9TyNUyMv2Wp5z3zZknZB+zDsl",
      "include_colab_link": true
    },
    "kernelspec": {
      "name": "python3",
      "display_name": "Python 3"
    },
    "language_info": {
      "name": "python"
    }
  },
  "cells": [
    {
      "cell_type": "markdown",
      "metadata": {
        "id": "view-in-github",
        "colab_type": "text"
      },
      "source": [
        "<a href=\"https://colab.research.google.com/github/Neddahh/ML_pipeline_project/blob/main/Wine_Quality_FullMl.ipynb\" target=\"_parent\"><img src=\"https://colab.research.google.com/assets/colab-badge.svg\" alt=\"Open In Colab\"/></a>"
      ]
    },
    {
      "cell_type": "code",
      "execution_count": 41,
      "metadata": {
        "id": "J6aZ0vd8AwBV"
      },
      "outputs": [],
      "source": []
    },
    {
      "cell_type": "markdown",
      "source": [
        "# Importing Libraries"
      ],
      "metadata": {
        "id": "Vy2kJreTKMeZ"
      }
    },
    {
      "cell_type": "markdown",
      "source": [
        "# Data Handling"
      ],
      "metadata": {
        "id": "xS52FsoJK73i"
      }
    },
    {
      "cell_type": "code",
      "source": [
        "import pandas as pd\n",
        "import numpy as np"
      ],
      "metadata": {
        "id": "8ZUdAKZ2KM-p"
      },
      "execution_count": 42,
      "outputs": []
    },
    {
      "cell_type": "markdown",
      "source": [
        "# Data Visualization"
      ],
      "metadata": {
        "id": "cgrVy-RoK-2B"
      }
    },
    {
      "cell_type": "code",
      "source": [
        "import plotly.express as px\n",
        "import plotly.graph_objs as go\n",
        "import plotly.subplots as sp\n",
        "from plotly.subplots import make_subplots\n",
        "import plotly.figure_factory as ff\n",
        "from IPython.display import display\n",
        "from plotly.offline import init_notebook_mode\n",
        "init_notebook_mode(connected=True)\n"
      ],
      "metadata": {
        "colab": {
          "base_uri": "https://localhost:8080/",
          "height": 17
        },
        "id": "wPWVJhBgLBwu",
        "outputId": "dfaf542c-e7cc-4a6f-8ab0-299644559dab"
      },
      "execution_count": 43,
      "outputs": [
        {
          "output_type": "display_data",
          "data": {
            "text/html": [
              "        <script type=\"text/javascript\">\n",
              "        window.PlotlyConfig = {MathJaxConfig: 'local'};\n",
              "        if (window.MathJax && window.MathJax.Hub && window.MathJax.Hub.Config) {window.MathJax.Hub.Config({SVG: {font: \"STIX-Web\"}});}\n",
              "        if (typeof require !== 'undefined') {\n",
              "        require.undef(\"plotly\");\n",
              "        requirejs.config({\n",
              "            paths: {\n",
              "                'plotly': ['https://cdn.plot.ly/plotly-2.35.2.min']\n",
              "            }\n",
              "        });\n",
              "        require(['plotly'], function(Plotly) {\n",
              "            window._Plotly = Plotly;\n",
              "        });\n",
              "        }\n",
              "        </script>\n",
              "        "
            ]
          },
          "metadata": {}
        }
      ]
    },
    {
      "cell_type": "markdown",
      "source": [
        "# Statistics & Mathematics"
      ],
      "metadata": {
        "id": "cLtOO8S_LEnp"
      }
    },
    {
      "cell_type": "code",
      "source": [
        "import scipy.stats as stats\n",
        "from scipy.stats import shapiro, skew\n",
        "import math\n",
        "\n",
        "from sklearn.feature_selection import RFECV"
      ],
      "metadata": {
        "id": "MzT9AxRVLI1l"
      },
      "execution_count": 44,
      "outputs": []
    },
    {
      "cell_type": "markdown",
      "source": [
        "# Machine Learning Pipeline & process"
      ],
      "metadata": {
        "id": "hse_lNNYLTOc"
      }
    },
    {
      "cell_type": "code",
      "source": [
        "from sklearn.pipeline import Pipeline\n",
        "from sklearn.compose import ColumnTransformer\n",
        "from sklearn.base import BaseEstimator, TransformerMixin"
      ],
      "metadata": {
        "id": "dL1rfNyYLTcD"
      },
      "execution_count": 45,
      "outputs": []
    },
    {
      "cell_type": "markdown",
      "source": [
        "# Preprocessing data"
      ],
      "metadata": {
        "id": "bjAKts4MLZQM"
      }
    },
    {
      "cell_type": "code",
      "source": [
        "from sklearn.preprocessing import RobustScaler, StandardScaler, QuantileTransformer, FunctionTransformer"
      ],
      "metadata": {
        "id": "axfF-5b0LZgr"
      },
      "execution_count": 46,
      "outputs": []
    },
    {
      "cell_type": "code",
      "source": [
        "# Model Selection for Cross Validation\n",
        "from sklearn.model_selection import StratifiedKFold, KFold, train_test_split\n"
      ],
      "metadata": {
        "id": "ohWypbENLtSP"
      },
      "execution_count": 47,
      "outputs": []
    },
    {
      "cell_type": "code",
      "source": [
        "# Machine Learning metrics\n",
        "from sklearn.metrics import mean_squared_error, r2_score, mean_absolute_error, cohen_kappa_score, make_scorer"
      ],
      "metadata": {
        "id": "J1cii-W2Ltcr"
      },
      "execution_count": 48,
      "outputs": []
    },
    {
      "cell_type": "code",
      "source": [
        "#pip install catboost\n"
      ],
      "metadata": {
        "id": "hrgKbBuAMjl3"
      },
      "execution_count": 49,
      "outputs": []
    },
    {
      "cell_type": "code",
      "source": [
        "pip install dask[dataframe]"
      ],
      "metadata": {
        "colab": {
          "base_uri": "https://localhost:8080/"
        },
        "id": "Z7AU8X5HMv5Z",
        "outputId": "61535829-5429-425e-b959-c73140ce3a51"
      },
      "execution_count": 50,
      "outputs": [
        {
          "output_type": "stream",
          "name": "stdout",
          "text": [
            "Requirement already satisfied: dask[dataframe] in /usr/local/lib/python3.10/dist-packages (2024.8.0)\n",
            "Requirement already satisfied: click>=8.1 in /usr/local/lib/python3.10/dist-packages (from dask[dataframe]) (8.1.7)\n",
            "Requirement already satisfied: cloudpickle>=1.5.0 in /usr/local/lib/python3.10/dist-packages (from dask[dataframe]) (2.2.1)\n",
            "Requirement already satisfied: fsspec>=2021.09.0 in /usr/local/lib/python3.10/dist-packages (from dask[dataframe]) (2024.6.1)\n",
            "Requirement already satisfied: packaging>=20.0 in /usr/local/lib/python3.10/dist-packages (from dask[dataframe]) (24.1)\n",
            "Requirement already satisfied: partd>=1.4.0 in /usr/local/lib/python3.10/dist-packages (from dask[dataframe]) (1.4.2)\n",
            "Requirement already satisfied: pyyaml>=5.3.1 in /usr/local/lib/python3.10/dist-packages (from dask[dataframe]) (6.0.2)\n",
            "Requirement already satisfied: toolz>=0.10.0 in /usr/local/lib/python3.10/dist-packages (from dask[dataframe]) (0.12.1)\n",
            "Requirement already satisfied: importlib-metadata>=4.13.0 in /usr/local/lib/python3.10/dist-packages (from dask[dataframe]) (8.4.0)\n",
            "Requirement already satisfied: pandas>=2.0 in /usr/local/lib/python3.10/dist-packages (from dask[dataframe]) (2.2.2)\n",
            "Requirement already satisfied: dask-expr<1.2,>=1.1 in /usr/local/lib/python3.10/dist-packages (from dask[dataframe]) (1.1.10)\n",
            "Requirement already satisfied: pyarrow>=7.0.0 in /usr/local/lib/python3.10/dist-packages (from dask-expr<1.2,>=1.1->dask[dataframe]) (16.1.0)\n",
            "Requirement already satisfied: zipp>=0.5 in /usr/local/lib/python3.10/dist-packages (from importlib-metadata>=4.13.0->dask[dataframe]) (3.20.2)\n",
            "Requirement already satisfied: numpy>=1.22.4 in /usr/local/lib/python3.10/dist-packages (from pandas>=2.0->dask[dataframe]) (1.26.4)\n",
            "Requirement already satisfied: python-dateutil>=2.8.2 in /usr/local/lib/python3.10/dist-packages (from pandas>=2.0->dask[dataframe]) (2.8.2)\n",
            "Requirement already satisfied: pytz>=2020.1 in /usr/local/lib/python3.10/dist-packages (from pandas>=2.0->dask[dataframe]) (2024.2)\n",
            "Requirement already satisfied: tzdata>=2022.7 in /usr/local/lib/python3.10/dist-packages (from pandas>=2.0->dask[dataframe]) (2024.2)\n",
            "Requirement already satisfied: locket in /usr/local/lib/python3.10/dist-packages (from partd>=1.4.0->dask[dataframe]) (1.0.0)\n",
            "Requirement already satisfied: six>=1.5 in /usr/local/lib/python3.10/dist-packages (from python-dateutil>=2.8.2->pandas>=2.0->dask[dataframe]) (1.16.0)\n"
          ]
        }
      ]
    },
    {
      "cell_type": "code",
      "source": [
        "# ML regressors\n",
        "from sklearn.linear_model import HuberRegressor,RANSACRegressor, TheilSenRegressor\n",
        "from sklearn.ensemble import HistGradientBoostingRegressor, StackingRegressor, AdaBoostRegressor, RandomForestRegressor\n",
        "from catboost import CatBoostRegressor\n",
        "from xgboost import XGBRegressor\n",
        "from lightgbm import LGBMRegressor"
      ],
      "metadata": {
        "id": "Iif-9Uc3Lthx"
      },
      "execution_count": 51,
      "outputs": []
    },
    {
      "cell_type": "code",
      "source": [
        "# ML classifiers\n",
        "from sklearn.ensemble import HistGradientBoostingClassifier, AdaBoostClassifier, RandomForestClassifier\n",
        "from sklearn.ensemble import StackingClassifier, VotingClassifier\n",
        "from catboost import CatBoostClassifier\n",
        "from xgboost import XGBClassifier\n",
        "from lightgbm import LGBMClassifier\n",
        "\n",
        "from sklearn.cluster import KMeans"
      ],
      "metadata": {
        "id": "-r-cr2AeLtlt"
      },
      "execution_count": 52,
      "outputs": []
    },
    {
      "cell_type": "code",
      "source": [
        "#pip install optuna"
      ],
      "metadata": {
        "id": "3EQoc3zsNQVO"
      },
      "execution_count": 53,
      "outputs": []
    },
    {
      "cell_type": "code",
      "source": [
        "import optuna\n",
        "\n",
        "import random\n",
        "\n",
        "# Encoder of categorical variables\n",
        "from sklearn.preprocessing import OrdinalEncoder, OneHotEncoder"
      ],
      "metadata": {
        "id": "kqq6gmP0L6Zq"
      },
      "execution_count": 54,
      "outputs": []
    },
    {
      "cell_type": "code",
      "source": [
        "# Hiding warnings\n",
        "import warnings\n",
        "warnings.filterwarnings(\"ignore\")"
      ],
      "metadata": {
        "id": "rKhlLUzlL-WA"
      },
      "execution_count": 55,
      "outputs": []
    },
    {
      "cell_type": "code",
      "source": [
        "!git clone https://github.com/Neddahh/ML_pipeline_project.git"
      ],
      "metadata": {
        "colab": {
          "base_uri": "https://localhost:8080/"
        },
        "id": "94jMn-jlL-az",
        "outputId": "d4ba838b-02e8-4c3a-b55b-e9ccf82bf8cc"
      },
      "execution_count": 56,
      "outputs": [
        {
          "output_type": "stream",
          "name": "stdout",
          "text": [
            "fatal: destination path 'ML_pipeline_project' already exists and is not an empty directory.\n"
          ]
        }
      ]
    },
    {
      "cell_type": "code",
      "source": [
        "!ls"
      ],
      "metadata": {
        "colab": {
          "base_uri": "https://localhost:8080/"
        },
        "id": "1vcMb8ECReO8",
        "outputId": "53dc5fc5-7a7a-4981-ad68-044e8c4713cd"
      },
      "execution_count": 57,
      "outputs": [
        {
          "output_type": "stream",
          "name": "stdout",
          "text": [
            "ML_pipeline_project  sample_data\n"
          ]
        }
      ]
    },
    {
      "cell_type": "code",
      "source": [],
      "metadata": {
        "id": "kuJJ07ZPL-dq"
      },
      "execution_count": 57,
      "outputs": []
    },
    {
      "cell_type": "markdown",
      "source": [
        "#Exploratory Data Analysis"
      ],
      "metadata": {
        "id": "fR4jTQg0Rupp"
      }
    },
    {
      "cell_type": "code",
      "source": [
        "df = pd.read_csv('/content/ML_pipeline_project/playground-series-s3e5/train.csv') # Loading data\n",
        "df.info()# Printing info on the data"
      ],
      "metadata": {
        "colab": {
          "base_uri": "https://localhost:8080/"
        },
        "id": "V_2J_fq5RylQ",
        "outputId": "322f487e-ff5f-4b90-bd25-8d5ad9991dfa"
      },
      "execution_count": 58,
      "outputs": [
        {
          "output_type": "stream",
          "name": "stdout",
          "text": [
            "<class 'pandas.core.frame.DataFrame'>\n",
            "RangeIndex: 2056 entries, 0 to 2055\n",
            "Data columns (total 13 columns):\n",
            " #   Column                Non-Null Count  Dtype  \n",
            "---  ------                --------------  -----  \n",
            " 0   Id                    2056 non-null   int64  \n",
            " 1   fixed acidity         2056 non-null   float64\n",
            " 2   volatile acidity      2056 non-null   float64\n",
            " 3   citric acid           2056 non-null   float64\n",
            " 4   residual sugar        2056 non-null   float64\n",
            " 5   chlorides             2056 non-null   float64\n",
            " 6   free sulfur dioxide   2056 non-null   float64\n",
            " 7   total sulfur dioxide  2056 non-null   float64\n",
            " 8   density               2056 non-null   float64\n",
            " 9   pH                    2056 non-null   float64\n",
            " 10  sulphates             2056 non-null   float64\n",
            " 11  alcohol               2056 non-null   float64\n",
            " 12  quality               2056 non-null   int64  \n",
            "dtypes: float64(11), int64(2)\n",
            "memory usage: 208.9 KB\n"
          ]
        }
      ]
    },
    {
      "cell_type": "code",
      "source": [
        "df.describe()"
      ],
      "metadata": {
        "colab": {
          "base_uri": "https://localhost:8080/",
          "height": 355
        },
        "id": "JknqE5hALtnr",
        "outputId": "6d047a16-2dd7-440a-d40c-58725512645f"
      },
      "execution_count": 59,
      "outputs": [
        {
          "output_type": "execute_result",
          "data": {
            "text/plain": [
              "                Id  fixed acidity  volatile acidity  citric acid  \\\n",
              "count  2056.000000    2056.000000       2056.000000  2056.000000   \n",
              "mean   1027.500000       8.365175          0.527601     0.265058   \n",
              "std     593.660397       1.705390          0.173164     0.188267   \n",
              "min       0.000000       5.000000          0.180000     0.000000   \n",
              "25%     513.750000       7.200000          0.390000     0.090000   \n",
              "50%    1027.500000       7.950000          0.520000     0.250000   \n",
              "75%    1541.250000       9.200000          0.640000     0.420000   \n",
              "max    2055.000000      15.900000          1.580000     0.760000   \n",
              "\n",
              "       residual sugar    chlorides  free sulfur dioxide  total sulfur dioxide  \\\n",
              "count     2056.000000  2056.000000          2056.000000           2056.000000   \n",
              "mean         2.398881     0.081856            16.955982             49.236868   \n",
              "std          0.858824     0.023729            10.009710             32.961141   \n",
              "min          1.200000     0.012000             1.000000              7.000000   \n",
              "25%          1.900000     0.071000             8.000000             22.000000   \n",
              "50%          2.200000     0.079000            16.000000             44.000000   \n",
              "75%          2.600000     0.090000            24.000000             65.000000   \n",
              "max         14.000000     0.414000            68.000000            289.000000   \n",
              "\n",
              "           density           pH    sulphates      alcohol      quality  \n",
              "count  2056.000000  2056.000000  2056.000000  2056.000000  2056.000000  \n",
              "mean      0.996748     3.310569     0.641308    10.414972     5.720817  \n",
              "std       0.001827     0.142321     0.137942     1.028825     0.853146  \n",
              "min       0.990070     2.740000     0.390000     8.700000     3.000000  \n",
              "25%       0.995600     3.200000     0.550000     9.500000     5.000000  \n",
              "50%       0.996700     3.310000     0.610000    10.100000     6.000000  \n",
              "75%       0.997800     3.390000     0.720000    11.000000     6.000000  \n",
              "max       1.003690     3.780000     1.950000    14.000000     8.000000  "
            ],
            "text/html": [
              "\n",
              "  <div id=\"df-45661f90-6b4b-4399-9f31-367aeda198a5\" class=\"colab-df-container\">\n",
              "    <div>\n",
              "<style scoped>\n",
              "    .dataframe tbody tr th:only-of-type {\n",
              "        vertical-align: middle;\n",
              "    }\n",
              "\n",
              "    .dataframe tbody tr th {\n",
              "        vertical-align: top;\n",
              "    }\n",
              "\n",
              "    .dataframe thead th {\n",
              "        text-align: right;\n",
              "    }\n",
              "</style>\n",
              "<table border=\"1\" class=\"dataframe\">\n",
              "  <thead>\n",
              "    <tr style=\"text-align: right;\">\n",
              "      <th></th>\n",
              "      <th>Id</th>\n",
              "      <th>fixed acidity</th>\n",
              "      <th>volatile acidity</th>\n",
              "      <th>citric acid</th>\n",
              "      <th>residual sugar</th>\n",
              "      <th>chlorides</th>\n",
              "      <th>free sulfur dioxide</th>\n",
              "      <th>total sulfur dioxide</th>\n",
              "      <th>density</th>\n",
              "      <th>pH</th>\n",
              "      <th>sulphates</th>\n",
              "      <th>alcohol</th>\n",
              "      <th>quality</th>\n",
              "    </tr>\n",
              "  </thead>\n",
              "  <tbody>\n",
              "    <tr>\n",
              "      <th>count</th>\n",
              "      <td>2056.000000</td>\n",
              "      <td>2056.000000</td>\n",
              "      <td>2056.000000</td>\n",
              "      <td>2056.000000</td>\n",
              "      <td>2056.000000</td>\n",
              "      <td>2056.000000</td>\n",
              "      <td>2056.000000</td>\n",
              "      <td>2056.000000</td>\n",
              "      <td>2056.000000</td>\n",
              "      <td>2056.000000</td>\n",
              "      <td>2056.000000</td>\n",
              "      <td>2056.000000</td>\n",
              "      <td>2056.000000</td>\n",
              "    </tr>\n",
              "    <tr>\n",
              "      <th>mean</th>\n",
              "      <td>1027.500000</td>\n",
              "      <td>8.365175</td>\n",
              "      <td>0.527601</td>\n",
              "      <td>0.265058</td>\n",
              "      <td>2.398881</td>\n",
              "      <td>0.081856</td>\n",
              "      <td>16.955982</td>\n",
              "      <td>49.236868</td>\n",
              "      <td>0.996748</td>\n",
              "      <td>3.310569</td>\n",
              "      <td>0.641308</td>\n",
              "      <td>10.414972</td>\n",
              "      <td>5.720817</td>\n",
              "    </tr>\n",
              "    <tr>\n",
              "      <th>std</th>\n",
              "      <td>593.660397</td>\n",
              "      <td>1.705390</td>\n",
              "      <td>0.173164</td>\n",
              "      <td>0.188267</td>\n",
              "      <td>0.858824</td>\n",
              "      <td>0.023729</td>\n",
              "      <td>10.009710</td>\n",
              "      <td>32.961141</td>\n",
              "      <td>0.001827</td>\n",
              "      <td>0.142321</td>\n",
              "      <td>0.137942</td>\n",
              "      <td>1.028825</td>\n",
              "      <td>0.853146</td>\n",
              "    </tr>\n",
              "    <tr>\n",
              "      <th>min</th>\n",
              "      <td>0.000000</td>\n",
              "      <td>5.000000</td>\n",
              "      <td>0.180000</td>\n",
              "      <td>0.000000</td>\n",
              "      <td>1.200000</td>\n",
              "      <td>0.012000</td>\n",
              "      <td>1.000000</td>\n",
              "      <td>7.000000</td>\n",
              "      <td>0.990070</td>\n",
              "      <td>2.740000</td>\n",
              "      <td>0.390000</td>\n",
              "      <td>8.700000</td>\n",
              "      <td>3.000000</td>\n",
              "    </tr>\n",
              "    <tr>\n",
              "      <th>25%</th>\n",
              "      <td>513.750000</td>\n",
              "      <td>7.200000</td>\n",
              "      <td>0.390000</td>\n",
              "      <td>0.090000</td>\n",
              "      <td>1.900000</td>\n",
              "      <td>0.071000</td>\n",
              "      <td>8.000000</td>\n",
              "      <td>22.000000</td>\n",
              "      <td>0.995600</td>\n",
              "      <td>3.200000</td>\n",
              "      <td>0.550000</td>\n",
              "      <td>9.500000</td>\n",
              "      <td>5.000000</td>\n",
              "    </tr>\n",
              "    <tr>\n",
              "      <th>50%</th>\n",
              "      <td>1027.500000</td>\n",
              "      <td>7.950000</td>\n",
              "      <td>0.520000</td>\n",
              "      <td>0.250000</td>\n",
              "      <td>2.200000</td>\n",
              "      <td>0.079000</td>\n",
              "      <td>16.000000</td>\n",
              "      <td>44.000000</td>\n",
              "      <td>0.996700</td>\n",
              "      <td>3.310000</td>\n",
              "      <td>0.610000</td>\n",
              "      <td>10.100000</td>\n",
              "      <td>6.000000</td>\n",
              "    </tr>\n",
              "    <tr>\n",
              "      <th>75%</th>\n",
              "      <td>1541.250000</td>\n",
              "      <td>9.200000</td>\n",
              "      <td>0.640000</td>\n",
              "      <td>0.420000</td>\n",
              "      <td>2.600000</td>\n",
              "      <td>0.090000</td>\n",
              "      <td>24.000000</td>\n",
              "      <td>65.000000</td>\n",
              "      <td>0.997800</td>\n",
              "      <td>3.390000</td>\n",
              "      <td>0.720000</td>\n",
              "      <td>11.000000</td>\n",
              "      <td>6.000000</td>\n",
              "    </tr>\n",
              "    <tr>\n",
              "      <th>max</th>\n",
              "      <td>2055.000000</td>\n",
              "      <td>15.900000</td>\n",
              "      <td>1.580000</td>\n",
              "      <td>0.760000</td>\n",
              "      <td>14.000000</td>\n",
              "      <td>0.414000</td>\n",
              "      <td>68.000000</td>\n",
              "      <td>289.000000</td>\n",
              "      <td>1.003690</td>\n",
              "      <td>3.780000</td>\n",
              "      <td>1.950000</td>\n",
              "      <td>14.000000</td>\n",
              "      <td>8.000000</td>\n",
              "    </tr>\n",
              "  </tbody>\n",
              "</table>\n",
              "</div>\n",
              "    <div class=\"colab-df-buttons\">\n",
              "\n",
              "  <div class=\"colab-df-container\">\n",
              "    <button class=\"colab-df-convert\" onclick=\"convertToInteractive('df-45661f90-6b4b-4399-9f31-367aeda198a5')\"\n",
              "            title=\"Convert this dataframe to an interactive table.\"\n",
              "            style=\"display:none;\">\n",
              "\n",
              "  <svg xmlns=\"http://www.w3.org/2000/svg\" height=\"24px\" viewBox=\"0 -960 960 960\">\n",
              "    <path d=\"M120-120v-720h720v720H120Zm60-500h600v-160H180v160Zm220 220h160v-160H400v160Zm0 220h160v-160H400v160ZM180-400h160v-160H180v160Zm440 0h160v-160H620v160ZM180-180h160v-160H180v160Zm440 0h160v-160H620v160Z\"/>\n",
              "  </svg>\n",
              "    </button>\n",
              "\n",
              "  <style>\n",
              "    .colab-df-container {\n",
              "      display:flex;\n",
              "      gap: 12px;\n",
              "    }\n",
              "\n",
              "    .colab-df-convert {\n",
              "      background-color: #E8F0FE;\n",
              "      border: none;\n",
              "      border-radius: 50%;\n",
              "      cursor: pointer;\n",
              "      display: none;\n",
              "      fill: #1967D2;\n",
              "      height: 32px;\n",
              "      padding: 0 0 0 0;\n",
              "      width: 32px;\n",
              "    }\n",
              "\n",
              "    .colab-df-convert:hover {\n",
              "      background-color: #E2EBFA;\n",
              "      box-shadow: 0px 1px 2px rgba(60, 64, 67, 0.3), 0px 1px 3px 1px rgba(60, 64, 67, 0.15);\n",
              "      fill: #174EA6;\n",
              "    }\n",
              "\n",
              "    .colab-df-buttons div {\n",
              "      margin-bottom: 4px;\n",
              "    }\n",
              "\n",
              "    [theme=dark] .colab-df-convert {\n",
              "      background-color: #3B4455;\n",
              "      fill: #D2E3FC;\n",
              "    }\n",
              "\n",
              "    [theme=dark] .colab-df-convert:hover {\n",
              "      background-color: #434B5C;\n",
              "      box-shadow: 0px 1px 3px 1px rgba(0, 0, 0, 0.15);\n",
              "      filter: drop-shadow(0px 1px 2px rgba(0, 0, 0, 0.3));\n",
              "      fill: #FFFFFF;\n",
              "    }\n",
              "  </style>\n",
              "\n",
              "    <script>\n",
              "      const buttonEl =\n",
              "        document.querySelector('#df-45661f90-6b4b-4399-9f31-367aeda198a5 button.colab-df-convert');\n",
              "      buttonEl.style.display =\n",
              "        google.colab.kernel.accessAllowed ? 'block' : 'none';\n",
              "\n",
              "      async function convertToInteractive(key) {\n",
              "        const element = document.querySelector('#df-45661f90-6b4b-4399-9f31-367aeda198a5');\n",
              "        const dataTable =\n",
              "          await google.colab.kernel.invokeFunction('convertToInteractive',\n",
              "                                                    [key], {});\n",
              "        if (!dataTable) return;\n",
              "\n",
              "        const docLinkHtml = 'Like what you see? Visit the ' +\n",
              "          '<a target=\"_blank\" href=https://colab.research.google.com/notebooks/data_table.ipynb>data table notebook</a>'\n",
              "          + ' to learn more about interactive tables.';\n",
              "        element.innerHTML = '';\n",
              "        dataTable['output_type'] = 'display_data';\n",
              "        await google.colab.output.renderOutput(dataTable, element);\n",
              "        const docLink = document.createElement('div');\n",
              "        docLink.innerHTML = docLinkHtml;\n",
              "        element.appendChild(docLink);\n",
              "      }\n",
              "    </script>\n",
              "  </div>\n",
              "\n",
              "\n",
              "<div id=\"df-9f4140e9-314c-4bed-a0d5-e3e4c7225e7f\">\n",
              "  <button class=\"colab-df-quickchart\" onclick=\"quickchart('df-9f4140e9-314c-4bed-a0d5-e3e4c7225e7f')\"\n",
              "            title=\"Suggest charts\"\n",
              "            style=\"display:none;\">\n",
              "\n",
              "<svg xmlns=\"http://www.w3.org/2000/svg\" height=\"24px\"viewBox=\"0 0 24 24\"\n",
              "     width=\"24px\">\n",
              "    <g>\n",
              "        <path d=\"M19 3H5c-1.1 0-2 .9-2 2v14c0 1.1.9 2 2 2h14c1.1 0 2-.9 2-2V5c0-1.1-.9-2-2-2zM9 17H7v-7h2v7zm4 0h-2V7h2v10zm4 0h-2v-4h2v4z\"/>\n",
              "    </g>\n",
              "</svg>\n",
              "  </button>\n",
              "\n",
              "<style>\n",
              "  .colab-df-quickchart {\n",
              "      --bg-color: #E8F0FE;\n",
              "      --fill-color: #1967D2;\n",
              "      --hover-bg-color: #E2EBFA;\n",
              "      --hover-fill-color: #174EA6;\n",
              "      --disabled-fill-color: #AAA;\n",
              "      --disabled-bg-color: #DDD;\n",
              "  }\n",
              "\n",
              "  [theme=dark] .colab-df-quickchart {\n",
              "      --bg-color: #3B4455;\n",
              "      --fill-color: #D2E3FC;\n",
              "      --hover-bg-color: #434B5C;\n",
              "      --hover-fill-color: #FFFFFF;\n",
              "      --disabled-bg-color: #3B4455;\n",
              "      --disabled-fill-color: #666;\n",
              "  }\n",
              "\n",
              "  .colab-df-quickchart {\n",
              "    background-color: var(--bg-color);\n",
              "    border: none;\n",
              "    border-radius: 50%;\n",
              "    cursor: pointer;\n",
              "    display: none;\n",
              "    fill: var(--fill-color);\n",
              "    height: 32px;\n",
              "    padding: 0;\n",
              "    width: 32px;\n",
              "  }\n",
              "\n",
              "  .colab-df-quickchart:hover {\n",
              "    background-color: var(--hover-bg-color);\n",
              "    box-shadow: 0 1px 2px rgba(60, 64, 67, 0.3), 0 1px 3px 1px rgba(60, 64, 67, 0.15);\n",
              "    fill: var(--button-hover-fill-color);\n",
              "  }\n",
              "\n",
              "  .colab-df-quickchart-complete:disabled,\n",
              "  .colab-df-quickchart-complete:disabled:hover {\n",
              "    background-color: var(--disabled-bg-color);\n",
              "    fill: var(--disabled-fill-color);\n",
              "    box-shadow: none;\n",
              "  }\n",
              "\n",
              "  .colab-df-spinner {\n",
              "    border: 2px solid var(--fill-color);\n",
              "    border-color: transparent;\n",
              "    border-bottom-color: var(--fill-color);\n",
              "    animation:\n",
              "      spin 1s steps(1) infinite;\n",
              "  }\n",
              "\n",
              "  @keyframes spin {\n",
              "    0% {\n",
              "      border-color: transparent;\n",
              "      border-bottom-color: var(--fill-color);\n",
              "      border-left-color: var(--fill-color);\n",
              "    }\n",
              "    20% {\n",
              "      border-color: transparent;\n",
              "      border-left-color: var(--fill-color);\n",
              "      border-top-color: var(--fill-color);\n",
              "    }\n",
              "    30% {\n",
              "      border-color: transparent;\n",
              "      border-left-color: var(--fill-color);\n",
              "      border-top-color: var(--fill-color);\n",
              "      border-right-color: var(--fill-color);\n",
              "    }\n",
              "    40% {\n",
              "      border-color: transparent;\n",
              "      border-right-color: var(--fill-color);\n",
              "      border-top-color: var(--fill-color);\n",
              "    }\n",
              "    60% {\n",
              "      border-color: transparent;\n",
              "      border-right-color: var(--fill-color);\n",
              "    }\n",
              "    80% {\n",
              "      border-color: transparent;\n",
              "      border-right-color: var(--fill-color);\n",
              "      border-bottom-color: var(--fill-color);\n",
              "    }\n",
              "    90% {\n",
              "      border-color: transparent;\n",
              "      border-bottom-color: var(--fill-color);\n",
              "    }\n",
              "  }\n",
              "</style>\n",
              "\n",
              "  <script>\n",
              "    async function quickchart(key) {\n",
              "      const quickchartButtonEl =\n",
              "        document.querySelector('#' + key + ' button');\n",
              "      quickchartButtonEl.disabled = true;  // To prevent multiple clicks.\n",
              "      quickchartButtonEl.classList.add('colab-df-spinner');\n",
              "      try {\n",
              "        const charts = await google.colab.kernel.invokeFunction(\n",
              "            'suggestCharts', [key], {});\n",
              "      } catch (error) {\n",
              "        console.error('Error during call to suggestCharts:', error);\n",
              "      }\n",
              "      quickchartButtonEl.classList.remove('colab-df-spinner');\n",
              "      quickchartButtonEl.classList.add('colab-df-quickchart-complete');\n",
              "    }\n",
              "    (() => {\n",
              "      let quickchartButtonEl =\n",
              "        document.querySelector('#df-9f4140e9-314c-4bed-a0d5-e3e4c7225e7f button');\n",
              "      quickchartButtonEl.style.display =\n",
              "        google.colab.kernel.accessAllowed ? 'block' : 'none';\n",
              "    })();\n",
              "  </script>\n",
              "</div>\n",
              "\n",
              "    </div>\n",
              "  </div>\n"
            ],
            "application/vnd.google.colaboratory.intrinsic+json": {
              "type": "dataframe",
              "summary": "{\n  \"name\": \"df\",\n  \"rows\": 8,\n  \"fields\": [\n    {\n      \"column\": \"Id\",\n      \"properties\": {\n        \"dtype\": \"number\",\n        \"std\": 740.7734426084257,\n        \"min\": 0.0,\n        \"max\": 2056.0,\n        \"num_unique_values\": 7,\n        \"samples\": [\n          2056.0,\n          1027.5,\n          1541.25\n        ],\n        \"semantic_type\": \"\",\n        \"description\": \"\"\n      }\n    },\n    {\n      \"column\": \"fixed acidity\",\n      \"properties\": {\n        \"dtype\": \"number\",\n        \"std\": 724.1228251345307,\n        \"min\": 1.7053895584201215,\n        \"max\": 2056.0,\n        \"num_unique_values\": 8,\n        \"samples\": [\n          8.365175097276264,\n          7.95,\n          2056.0\n        ],\n        \"semantic_type\": \"\",\n        \"description\": \"\"\n      }\n    },\n    {\n      \"column\": \"volatile acidity\",\n      \"properties\": {\n        \"dtype\": \"number\",\n        \"std\": 726.7033316234056,\n        \"min\": 0.1731641460828057,\n        \"max\": 2056.0,\n        \"num_unique_values\": 8,\n        \"samples\": [\n          0.5276006809338522,\n          0.52,\n          2056.0\n        ],\n        \"semantic_type\": \"\",\n        \"description\": \"\"\n      }\n    },\n    {\n      \"column\": \"citric acid\",\n      \"properties\": {\n        \"dtype\": \"number\",\n        \"std\": 726.8061398203571,\n        \"min\": 0.0,\n        \"max\": 2056.0,\n        \"num_unique_values\": 8,\n        \"samples\": [\n          0.26505836575875485,\n          0.25,\n          2056.0\n        ],\n        \"semantic_type\": \"\",\n        \"description\": \"\"\n      }\n    },\n    {\n      \"column\": \"residual sugar\",\n      \"properties\": {\n        \"dtype\": \"number\",\n        \"std\": 725.6477862828698,\n        \"min\": 0.85882351119336,\n        \"max\": 2056.0,\n        \"num_unique_values\": 8,\n        \"samples\": [\n          2.3988813229571986,\n          2.2,\n          2056.0\n        ],\n        \"semantic_type\": \"\",\n        \"description\": \"\"\n      }\n    },\n    {\n      \"column\": \"chlorides\",\n      \"properties\": {\n        \"dtype\": \"number\",\n        \"std\": 726.8668112630168,\n        \"min\": 0.012,\n        \"max\": 2056.0,\n        \"num_unique_values\": 8,\n        \"samples\": [\n          0.08185603112840467,\n          0.079,\n          2056.0\n        ],\n        \"semantic_type\": \"\",\n        \"description\": \"\"\n      }\n    },\n    {\n      \"column\": \"free sulfur dioxide\",\n      \"properties\": {\n        \"dtype\": \"number\",\n        \"std\": 719.9269376349575,\n        \"min\": 1.0,\n        \"max\": 2056.0,\n        \"num_unique_values\": 8,\n        \"samples\": [\n          16.955982490272373,\n          16.0,\n          2056.0\n        ],\n        \"semantic_type\": \"\",\n        \"description\": \"\"\n      }\n    },\n    {\n      \"column\": \"total sulfur dioxide\",\n      \"properties\": {\n        \"dtype\": \"number\",\n        \"std\": 706.9382275523119,\n        \"min\": 7.0,\n        \"max\": 2056.0,\n        \"num_unique_values\": 8,\n        \"samples\": [\n          49.23686770428016,\n          44.0,\n          2056.0\n        ],\n        \"semantic_type\": \"\",\n        \"description\": \"\"\n      }\n    },\n    {\n      \"column\": \"density\",\n      \"properties\": {\n        \"dtype\": \"number\",\n        \"std\": 726.6036958743294,\n        \"min\": 0.001827468220849147,\n        \"max\": 2056.0,\n        \"num_unique_values\": 8,\n        \"samples\": [\n          0.9967477023346303,\n          0.9967,\n          2056.0\n        ],\n        \"semantic_type\": \"\",\n        \"description\": \"\"\n      }\n    },\n    {\n      \"column\": \"pH\",\n      \"properties\": {\n        \"dtype\": \"number\",\n        \"std\": 725.90292858795,\n        \"min\": 0.1423214452136145,\n        \"max\": 2056.0,\n        \"num_unique_values\": 8,\n        \"samples\": [\n          3.31056906614786,\n          3.31,\n          2056.0\n        ],\n        \"semantic_type\": \"\",\n        \"description\": \"\"\n      }\n    },\n    {\n      \"column\": \"sulphates\",\n      \"properties\": {\n        \"dtype\": \"number\",\n        \"std\": 726.6534681370891,\n        \"min\": 0.1379417354629655,\n        \"max\": 2056.0,\n        \"num_unique_values\": 8,\n        \"samples\": [\n          0.6413083657587549,\n          0.61,\n          2056.0\n        ],\n        \"semantic_type\": \"\",\n        \"description\": \"\"\n      }\n    },\n    {\n      \"column\": \"alcohol\",\n      \"properties\": {\n        \"dtype\": \"number\",\n        \"std\": 723.6451575303635,\n        \"min\": 1.0288254072599545,\n        \"max\": 2056.0,\n        \"num_unique_values\": 8,\n        \"samples\": [\n          10.4149724383917,\n          10.1,\n          2056.0\n        ],\n        \"semantic_type\": \"\",\n        \"description\": \"\"\n      }\n    },\n    {\n      \"column\": \"quality\",\n      \"properties\": {\n        \"dtype\": \"number\",\n        \"std\": 725.1627421878896,\n        \"min\": 0.8531461817383788,\n        \"max\": 2056.0,\n        \"num_unique_values\": 7,\n        \"samples\": [\n          2056.0,\n          5.720817120622568,\n          6.0\n        ],\n        \"semantic_type\": \"\",\n        \"description\": \"\"\n      }\n    }\n  ]\n}"
            }
          },
          "metadata": {},
          "execution_count": 59
        }
      ]
    },
    {
      "cell_type": "code",
      "source": [
        "df.head()"
      ],
      "metadata": {
        "colab": {
          "base_uri": "https://localhost:8080/",
          "height": 224
        },
        "id": "UjUmVigISXAC",
        "outputId": "193472ee-f0f7-427b-f5a7-9dabeaa6ed3a"
      },
      "execution_count": 60,
      "outputs": [
        {
          "output_type": "execute_result",
          "data": {
            "text/plain": [
              "   Id  fixed acidity  volatile acidity  citric acid  residual sugar  \\\n",
              "0   0            8.0              0.50         0.39             2.2   \n",
              "1   1            9.3              0.30         0.73             2.3   \n",
              "2   2            7.1              0.51         0.03             2.1   \n",
              "3   3            8.1              0.87         0.22             2.6   \n",
              "4   4            8.5              0.36         0.30             2.3   \n",
              "\n",
              "   chlorides  free sulfur dioxide  total sulfur dioxide  density    pH  \\\n",
              "0      0.073                 30.0                  39.0  0.99572  3.33   \n",
              "1      0.092                 30.0                  67.0  0.99854  3.32   \n",
              "2      0.059                  3.0                  12.0  0.99660  3.52   \n",
              "3      0.084                 11.0                  65.0  0.99730  3.20   \n",
              "4      0.079                 10.0                  45.0  0.99444  3.20   \n",
              "\n",
              "   sulphates  alcohol  quality  \n",
              "0       0.77     12.1        6  \n",
              "1       0.67     12.8        6  \n",
              "2       0.73     11.3        7  \n",
              "3       0.53      9.8        5  \n",
              "4       1.36      9.5        6  "
            ],
            "text/html": [
              "\n",
              "  <div id=\"df-497d9813-20f0-498e-ade7-4f9f94fe8824\" class=\"colab-df-container\">\n",
              "    <div>\n",
              "<style scoped>\n",
              "    .dataframe tbody tr th:only-of-type {\n",
              "        vertical-align: middle;\n",
              "    }\n",
              "\n",
              "    .dataframe tbody tr th {\n",
              "        vertical-align: top;\n",
              "    }\n",
              "\n",
              "    .dataframe thead th {\n",
              "        text-align: right;\n",
              "    }\n",
              "</style>\n",
              "<table border=\"1\" class=\"dataframe\">\n",
              "  <thead>\n",
              "    <tr style=\"text-align: right;\">\n",
              "      <th></th>\n",
              "      <th>Id</th>\n",
              "      <th>fixed acidity</th>\n",
              "      <th>volatile acidity</th>\n",
              "      <th>citric acid</th>\n",
              "      <th>residual sugar</th>\n",
              "      <th>chlorides</th>\n",
              "      <th>free sulfur dioxide</th>\n",
              "      <th>total sulfur dioxide</th>\n",
              "      <th>density</th>\n",
              "      <th>pH</th>\n",
              "      <th>sulphates</th>\n",
              "      <th>alcohol</th>\n",
              "      <th>quality</th>\n",
              "    </tr>\n",
              "  </thead>\n",
              "  <tbody>\n",
              "    <tr>\n",
              "      <th>0</th>\n",
              "      <td>0</td>\n",
              "      <td>8.0</td>\n",
              "      <td>0.50</td>\n",
              "      <td>0.39</td>\n",
              "      <td>2.2</td>\n",
              "      <td>0.073</td>\n",
              "      <td>30.0</td>\n",
              "      <td>39.0</td>\n",
              "      <td>0.99572</td>\n",
              "      <td>3.33</td>\n",
              "      <td>0.77</td>\n",
              "      <td>12.1</td>\n",
              "      <td>6</td>\n",
              "    </tr>\n",
              "    <tr>\n",
              "      <th>1</th>\n",
              "      <td>1</td>\n",
              "      <td>9.3</td>\n",
              "      <td>0.30</td>\n",
              "      <td>0.73</td>\n",
              "      <td>2.3</td>\n",
              "      <td>0.092</td>\n",
              "      <td>30.0</td>\n",
              "      <td>67.0</td>\n",
              "      <td>0.99854</td>\n",
              "      <td>3.32</td>\n",
              "      <td>0.67</td>\n",
              "      <td>12.8</td>\n",
              "      <td>6</td>\n",
              "    </tr>\n",
              "    <tr>\n",
              "      <th>2</th>\n",
              "      <td>2</td>\n",
              "      <td>7.1</td>\n",
              "      <td>0.51</td>\n",
              "      <td>0.03</td>\n",
              "      <td>2.1</td>\n",
              "      <td>0.059</td>\n",
              "      <td>3.0</td>\n",
              "      <td>12.0</td>\n",
              "      <td>0.99660</td>\n",
              "      <td>3.52</td>\n",
              "      <td>0.73</td>\n",
              "      <td>11.3</td>\n",
              "      <td>7</td>\n",
              "    </tr>\n",
              "    <tr>\n",
              "      <th>3</th>\n",
              "      <td>3</td>\n",
              "      <td>8.1</td>\n",
              "      <td>0.87</td>\n",
              "      <td>0.22</td>\n",
              "      <td>2.6</td>\n",
              "      <td>0.084</td>\n",
              "      <td>11.0</td>\n",
              "      <td>65.0</td>\n",
              "      <td>0.99730</td>\n",
              "      <td>3.20</td>\n",
              "      <td>0.53</td>\n",
              "      <td>9.8</td>\n",
              "      <td>5</td>\n",
              "    </tr>\n",
              "    <tr>\n",
              "      <th>4</th>\n",
              "      <td>4</td>\n",
              "      <td>8.5</td>\n",
              "      <td>0.36</td>\n",
              "      <td>0.30</td>\n",
              "      <td>2.3</td>\n",
              "      <td>0.079</td>\n",
              "      <td>10.0</td>\n",
              "      <td>45.0</td>\n",
              "      <td>0.99444</td>\n",
              "      <td>3.20</td>\n",
              "      <td>1.36</td>\n",
              "      <td>9.5</td>\n",
              "      <td>6</td>\n",
              "    </tr>\n",
              "  </tbody>\n",
              "</table>\n",
              "</div>\n",
              "    <div class=\"colab-df-buttons\">\n",
              "\n",
              "  <div class=\"colab-df-container\">\n",
              "    <button class=\"colab-df-convert\" onclick=\"convertToInteractive('df-497d9813-20f0-498e-ade7-4f9f94fe8824')\"\n",
              "            title=\"Convert this dataframe to an interactive table.\"\n",
              "            style=\"display:none;\">\n",
              "\n",
              "  <svg xmlns=\"http://www.w3.org/2000/svg\" height=\"24px\" viewBox=\"0 -960 960 960\">\n",
              "    <path d=\"M120-120v-720h720v720H120Zm60-500h600v-160H180v160Zm220 220h160v-160H400v160Zm0 220h160v-160H400v160ZM180-400h160v-160H180v160Zm440 0h160v-160H620v160ZM180-180h160v-160H180v160Zm440 0h160v-160H620v160Z\"/>\n",
              "  </svg>\n",
              "    </button>\n",
              "\n",
              "  <style>\n",
              "    .colab-df-container {\n",
              "      display:flex;\n",
              "      gap: 12px;\n",
              "    }\n",
              "\n",
              "    .colab-df-convert {\n",
              "      background-color: #E8F0FE;\n",
              "      border: none;\n",
              "      border-radius: 50%;\n",
              "      cursor: pointer;\n",
              "      display: none;\n",
              "      fill: #1967D2;\n",
              "      height: 32px;\n",
              "      padding: 0 0 0 0;\n",
              "      width: 32px;\n",
              "    }\n",
              "\n",
              "    .colab-df-convert:hover {\n",
              "      background-color: #E2EBFA;\n",
              "      box-shadow: 0px 1px 2px rgba(60, 64, 67, 0.3), 0px 1px 3px 1px rgba(60, 64, 67, 0.15);\n",
              "      fill: #174EA6;\n",
              "    }\n",
              "\n",
              "    .colab-df-buttons div {\n",
              "      margin-bottom: 4px;\n",
              "    }\n",
              "\n",
              "    [theme=dark] .colab-df-convert {\n",
              "      background-color: #3B4455;\n",
              "      fill: #D2E3FC;\n",
              "    }\n",
              "\n",
              "    [theme=dark] .colab-df-convert:hover {\n",
              "      background-color: #434B5C;\n",
              "      box-shadow: 0px 1px 3px 1px rgba(0, 0, 0, 0.15);\n",
              "      filter: drop-shadow(0px 1px 2px rgba(0, 0, 0, 0.3));\n",
              "      fill: #FFFFFF;\n",
              "    }\n",
              "  </style>\n",
              "\n",
              "    <script>\n",
              "      const buttonEl =\n",
              "        document.querySelector('#df-497d9813-20f0-498e-ade7-4f9f94fe8824 button.colab-df-convert');\n",
              "      buttonEl.style.display =\n",
              "        google.colab.kernel.accessAllowed ? 'block' : 'none';\n",
              "\n",
              "      async function convertToInteractive(key) {\n",
              "        const element = document.querySelector('#df-497d9813-20f0-498e-ade7-4f9f94fe8824');\n",
              "        const dataTable =\n",
              "          await google.colab.kernel.invokeFunction('convertToInteractive',\n",
              "                                                    [key], {});\n",
              "        if (!dataTable) return;\n",
              "\n",
              "        const docLinkHtml = 'Like what you see? Visit the ' +\n",
              "          '<a target=\"_blank\" href=https://colab.research.google.com/notebooks/data_table.ipynb>data table notebook</a>'\n",
              "          + ' to learn more about interactive tables.';\n",
              "        element.innerHTML = '';\n",
              "        dataTable['output_type'] = 'display_data';\n",
              "        await google.colab.output.renderOutput(dataTable, element);\n",
              "        const docLink = document.createElement('div');\n",
              "        docLink.innerHTML = docLinkHtml;\n",
              "        element.appendChild(docLink);\n",
              "      }\n",
              "    </script>\n",
              "  </div>\n",
              "\n",
              "\n",
              "<div id=\"df-28bceb8b-6f10-4523-b569-2ce2aceb1e52\">\n",
              "  <button class=\"colab-df-quickchart\" onclick=\"quickchart('df-28bceb8b-6f10-4523-b569-2ce2aceb1e52')\"\n",
              "            title=\"Suggest charts\"\n",
              "            style=\"display:none;\">\n",
              "\n",
              "<svg xmlns=\"http://www.w3.org/2000/svg\" height=\"24px\"viewBox=\"0 0 24 24\"\n",
              "     width=\"24px\">\n",
              "    <g>\n",
              "        <path d=\"M19 3H5c-1.1 0-2 .9-2 2v14c0 1.1.9 2 2 2h14c1.1 0 2-.9 2-2V5c0-1.1-.9-2-2-2zM9 17H7v-7h2v7zm4 0h-2V7h2v10zm4 0h-2v-4h2v4z\"/>\n",
              "    </g>\n",
              "</svg>\n",
              "  </button>\n",
              "\n",
              "<style>\n",
              "  .colab-df-quickchart {\n",
              "      --bg-color: #E8F0FE;\n",
              "      --fill-color: #1967D2;\n",
              "      --hover-bg-color: #E2EBFA;\n",
              "      --hover-fill-color: #174EA6;\n",
              "      --disabled-fill-color: #AAA;\n",
              "      --disabled-bg-color: #DDD;\n",
              "  }\n",
              "\n",
              "  [theme=dark] .colab-df-quickchart {\n",
              "      --bg-color: #3B4455;\n",
              "      --fill-color: #D2E3FC;\n",
              "      --hover-bg-color: #434B5C;\n",
              "      --hover-fill-color: #FFFFFF;\n",
              "      --disabled-bg-color: #3B4455;\n",
              "      --disabled-fill-color: #666;\n",
              "  }\n",
              "\n",
              "  .colab-df-quickchart {\n",
              "    background-color: var(--bg-color);\n",
              "    border: none;\n",
              "    border-radius: 50%;\n",
              "    cursor: pointer;\n",
              "    display: none;\n",
              "    fill: var(--fill-color);\n",
              "    height: 32px;\n",
              "    padding: 0;\n",
              "    width: 32px;\n",
              "  }\n",
              "\n",
              "  .colab-df-quickchart:hover {\n",
              "    background-color: var(--hover-bg-color);\n",
              "    box-shadow: 0 1px 2px rgba(60, 64, 67, 0.3), 0 1px 3px 1px rgba(60, 64, 67, 0.15);\n",
              "    fill: var(--button-hover-fill-color);\n",
              "  }\n",
              "\n",
              "  .colab-df-quickchart-complete:disabled,\n",
              "  .colab-df-quickchart-complete:disabled:hover {\n",
              "    background-color: var(--disabled-bg-color);\n",
              "    fill: var(--disabled-fill-color);\n",
              "    box-shadow: none;\n",
              "  }\n",
              "\n",
              "  .colab-df-spinner {\n",
              "    border: 2px solid var(--fill-color);\n",
              "    border-color: transparent;\n",
              "    border-bottom-color: var(--fill-color);\n",
              "    animation:\n",
              "      spin 1s steps(1) infinite;\n",
              "  }\n",
              "\n",
              "  @keyframes spin {\n",
              "    0% {\n",
              "      border-color: transparent;\n",
              "      border-bottom-color: var(--fill-color);\n",
              "      border-left-color: var(--fill-color);\n",
              "    }\n",
              "    20% {\n",
              "      border-color: transparent;\n",
              "      border-left-color: var(--fill-color);\n",
              "      border-top-color: var(--fill-color);\n",
              "    }\n",
              "    30% {\n",
              "      border-color: transparent;\n",
              "      border-left-color: var(--fill-color);\n",
              "      border-top-color: var(--fill-color);\n",
              "      border-right-color: var(--fill-color);\n",
              "    }\n",
              "    40% {\n",
              "      border-color: transparent;\n",
              "      border-right-color: var(--fill-color);\n",
              "      border-top-color: var(--fill-color);\n",
              "    }\n",
              "    60% {\n",
              "      border-color: transparent;\n",
              "      border-right-color: var(--fill-color);\n",
              "    }\n",
              "    80% {\n",
              "      border-color: transparent;\n",
              "      border-right-color: var(--fill-color);\n",
              "      border-bottom-color: var(--fill-color);\n",
              "    }\n",
              "    90% {\n",
              "      border-color: transparent;\n",
              "      border-bottom-color: var(--fill-color);\n",
              "    }\n",
              "  }\n",
              "</style>\n",
              "\n",
              "  <script>\n",
              "    async function quickchart(key) {\n",
              "      const quickchartButtonEl =\n",
              "        document.querySelector('#' + key + ' button');\n",
              "      quickchartButtonEl.disabled = true;  // To prevent multiple clicks.\n",
              "      quickchartButtonEl.classList.add('colab-df-spinner');\n",
              "      try {\n",
              "        const charts = await google.colab.kernel.invokeFunction(\n",
              "            'suggestCharts', [key], {});\n",
              "      } catch (error) {\n",
              "        console.error('Error during call to suggestCharts:', error);\n",
              "      }\n",
              "      quickchartButtonEl.classList.remove('colab-df-spinner');\n",
              "      quickchartButtonEl.classList.add('colab-df-quickchart-complete');\n",
              "    }\n",
              "    (() => {\n",
              "      let quickchartButtonEl =\n",
              "        document.querySelector('#df-28bceb8b-6f10-4523-b569-2ce2aceb1e52 button');\n",
              "      quickchartButtonEl.style.display =\n",
              "        google.colab.kernel.accessAllowed ? 'block' : 'none';\n",
              "    })();\n",
              "  </script>\n",
              "</div>\n",
              "\n",
              "    </div>\n",
              "  </div>\n"
            ],
            "application/vnd.google.colaboratory.intrinsic+json": {
              "type": "dataframe",
              "variable_name": "df",
              "summary": "{\n  \"name\": \"df\",\n  \"rows\": 2056,\n  \"fields\": [\n    {\n      \"column\": \"Id\",\n      \"properties\": {\n        \"dtype\": \"number\",\n        \"std\": 593,\n        \"min\": 0,\n        \"max\": 2055,\n        \"num_unique_values\": 2056,\n        \"samples\": [\n          184,\n          1724,\n          251\n        ],\n        \"semantic_type\": \"\",\n        \"description\": \"\"\n      }\n    },\n    {\n      \"column\": \"fixed acidity\",\n      \"properties\": {\n        \"dtype\": \"number\",\n        \"std\": 1.7053895584201215,\n        \"min\": 5.0,\n        \"max\": 15.9,\n        \"num_unique_values\": 87,\n        \"samples\": [\n          11.1,\n          8.0,\n          10.3\n        ],\n        \"semantic_type\": \"\",\n        \"description\": \"\"\n      }\n    },\n    {\n      \"column\": \"volatile acidity\",\n      \"properties\": {\n        \"dtype\": \"number\",\n        \"std\": 0.1731641460828057,\n        \"min\": 0.18,\n        \"max\": 1.58,\n        \"num_unique_values\": 113,\n        \"samples\": [\n          0.68,\n          0.36,\n          0.625\n        ],\n        \"semantic_type\": \"\",\n        \"description\": \"\"\n      }\n    },\n    {\n      \"column\": \"citric acid\",\n      \"properties\": {\n        \"dtype\": \"number\",\n        \"std\": 0.18826728553050992,\n        \"min\": 0.0,\n        \"max\": 0.76,\n        \"num_unique_values\": 71,\n        \"samples\": [\n          0.26,\n          0.39,\n          0.25\n        ],\n        \"semantic_type\": \"\",\n        \"description\": \"\"\n      }\n    },\n    {\n      \"column\": \"residual sugar\",\n      \"properties\": {\n        \"dtype\": \"number\",\n        \"std\": 0.85882351119336,\n        \"min\": 1.2,\n        \"max\": 14.0,\n        \"num_unique_values\": 66,\n        \"samples\": [\n          2.15,\n          6.1,\n          2.2\n        ],\n        \"semantic_type\": \"\",\n        \"description\": \"\"\n      }\n    },\n    {\n      \"column\": \"chlorides\",\n      \"properties\": {\n        \"dtype\": \"number\",\n        \"std\": 0.023728711911112768,\n        \"min\": 0.012,\n        \"max\": 0.414,\n        \"num_unique_values\": 103,\n        \"samples\": [\n          0.106,\n          0.1689999999999999,\n          0.125\n        ],\n        \"semantic_type\": \"\",\n        \"description\": \"\"\n      }\n    },\n    {\n      \"column\": \"free sulfur dioxide\",\n      \"properties\": {\n        \"dtype\": \"number\",\n        \"std\": 10.009709797314668,\n        \"min\": 1.0,\n        \"max\": 68.0,\n        \"num_unique_values\": 49,\n        \"samples\": [\n          5.0,\n          40.5,\n          39.0\n        ],\n        \"semantic_type\": \"\",\n        \"description\": \"\"\n      }\n    },\n    {\n      \"column\": \"total sulfur dioxide\",\n      \"properties\": {\n        \"dtype\": \"number\",\n        \"std\": 32.96114091513307,\n        \"min\": 7.0,\n        \"max\": 289.0,\n        \"num_unique_values\": 126,\n        \"samples\": [\n          56.0,\n          42.0,\n          144.0\n        ],\n        \"semantic_type\": \"\",\n        \"description\": \"\"\n      }\n    },\n    {\n      \"column\": \"density\",\n      \"properties\": {\n        \"dtype\": \"number\",\n        \"std\": 0.001827468220849147,\n        \"min\": 0.99007,\n        \"max\": 1.00369,\n        \"num_unique_values\": 313,\n        \"samples\": [\n          0.9971,\n          0.99682,\n          0.9985\n        ],\n        \"semantic_type\": \"\",\n        \"description\": \"\"\n      }\n    },\n    {\n      \"column\": \"pH\",\n      \"properties\": {\n        \"dtype\": \"number\",\n        \"std\": 0.1423214452136145,\n        \"min\": 2.74,\n        \"max\": 3.78,\n        \"num_unique_values\": 77,\n        \"samples\": [\n          3.11,\n          3.09,\n          3.08\n        ],\n        \"semantic_type\": \"\",\n        \"description\": \"\"\n      }\n    },\n    {\n      \"column\": \"sulphates\",\n      \"properties\": {\n        \"dtype\": \"number\",\n        \"std\": 0.1379417354629655,\n        \"min\": 0.39,\n        \"max\": 1.95,\n        \"num_unique_values\": 73,\n        \"samples\": [\n          1.36,\n          1.17,\n          0.71\n        ],\n        \"semantic_type\": \"\",\n        \"description\": \"\"\n      }\n    },\n    {\n      \"column\": \"alcohol\",\n      \"properties\": {\n        \"dtype\": \"number\",\n        \"std\": 1.0288254072599545,\n        \"min\": 8.7,\n        \"max\": 14.0,\n        \"num_unique_values\": 53,\n        \"samples\": [\n          10.7,\n          12.9,\n          14.0\n        ],\n        \"semantic_type\": \"\",\n        \"description\": \"\"\n      }\n    },\n    {\n      \"column\": \"quality\",\n      \"properties\": {\n        \"dtype\": \"number\",\n        \"std\": 0,\n        \"min\": 3,\n        \"max\": 8,\n        \"num_unique_values\": 6,\n        \"samples\": [\n          6,\n          7,\n          3\n        ],\n        \"semantic_type\": \"\",\n        \"description\": \"\"\n      }\n    }\n  ]\n}"
            }
          },
          "metadata": {},
          "execution_count": 60
        }
      ]
    },
    {
      "cell_type": "markdown",
      "source": [
        "1. The Id column can be dropped\n",
        "2. There are no missing values\n",
        "3. We have different scales across the attributes. We may benefit from using rescaling methods, such as StandardScaling."
      ],
      "metadata": {
        "id": "FvzO3ULpTsWz"
      }
    },
    {
      "cell_type": "code",
      "source": [
        "df = df.drop('Id', axis = 1)  # Dropping 'Id' columns"
      ],
      "metadata": {
        "id": "Z4Rk2v-DLtwd"
      },
      "execution_count": 61,
      "outputs": []
    },
    {
      "cell_type": "code",
      "source": [
        "# Defining seed and the template for plots\n",
        "seed = 42\n",
        "plotly_template = 'simple_white'"
      ],
      "metadata": {
        "_kg_hide-input": true,
        "execution": {
          "iopub.status.busy": "2023-07-14T11:55:14.924886Z",
          "iopub.execute_input": "2023-07-14T11:55:14.925670Z",
          "iopub.status.idle": "2023-07-14T11:55:14.930456Z",
          "shell.execute_reply.started": "2023-07-14T11:55:14.925627Z",
          "shell.execute_reply": "2023-07-14T11:55:14.929650Z"
        },
        "trusted": true,
        "id": "KQIvrCZjVnYR"
      },
      "execution_count": 62,
      "outputs": []
    },
    {
      "cell_type": "code",
      "source": [
        "def dataframe_description(df):\n",
        "    \"\"\"\n",
        "    This function prints some basic info on the dataset.\n",
        "    \"\"\"\n",
        "    categorical_features = []\n",
        "    continuous_features = []\n",
        "    binary_features = []\n",
        "\n",
        "    for col in df.columns:\n",
        "        if df[col].dtype == object:\n",
        "            categorical_features.append(col)\n",
        "        else:\n",
        "            if df[col].nunique() <= 2:\n",
        "                binary_features.append(col)\n",
        "            else:\n",
        "                continuous_features.append(col)\n",
        "\n",
        "    print(\"\\n{} shape: {}\".format(type(df).__name__, df.shape))\n",
        "    print(\"\\n{:,.0f} samples\".format(df.shape[0]))\n",
        "    print(\"\\n{:,.0f} attributes\".format(df.shape[1]))\n",
        "    print(f'\\nMissing Data: \\n')\n",
        "    print(df.isnull().sum())\n",
        "    print(f'\\nDuplicates: {df.duplicated().sum()}')\n",
        "    print(f'\\nData types: \\n')\n",
        "    print(df.dtypes)\n",
        "    print(f'\\nCategorical features: \\n')\n",
        "    if len(categorical_features) == 0:\n",
        "        print('No Categorical Features')\n",
        "    else:\n",
        "        for feature in categorical_features:\n",
        "            print(feature)\n",
        "    print(f'\\nContinuous features: \\n')\n",
        "    if len(continuous_features) == 0:\n",
        "        print('No Continuous Features')\n",
        "    else:\n",
        "        for feature in continuous_features:\n",
        "            print(feature)\n",
        "    print(f'\\nBinary features: \\n')\n",
        "    if len(binary_features) == 0:\n",
        "        print('No Binary Features')\n",
        "    else:\n",
        "        for feature in binary_features:\n",
        "            print(feature)\n",
        "    print(f'\\n{type(df).__name__} Head: \\n')\n",
        "    display(df.head(5))\n",
        "    print(f'\\n{type(df).__name__} Tail: \\n')\n",
        "    display(df.tail(5))"
      ],
      "metadata": {
        "_kg_hide-input": true,
        "execution": {
          "iopub.status.busy": "2023-07-14T11:55:14.932065Z",
          "iopub.execute_input": "2023-07-14T11:55:14.932710Z",
          "iopub.status.idle": "2023-07-14T11:55:14.957341Z",
          "shell.execute_reply.started": "2023-07-14T11:55:14.932678Z",
          "shell.execute_reply": "2023-07-14T11:55:14.955599Z"
        },
        "trusted": true,
        "id": "GGxC8A3aVnYR"
      },
      "execution_count": 63,
      "outputs": []
    },
    {
      "cell_type": "code",
      "source": [
        "\n",
        "\n",
        "\n",
        "def plot_correlation_1(df):\n",
        "    '''\n",
        "    This function is resposible to plot a correlation map among features in the dataset\n",
        "    '''\n",
        "    corr = np.round(df.corr(), 2)\n",
        "    mask = np.triu(np.ones_like(corr, dtype = bool))\n",
        "    c_mask = np.where(~mask, corr, 100)\n",
        "\n",
        "    c = []\n",
        "    for i in c_mask.tolist()[1:]:\n",
        "        c.append([x for x in i if x != 100])\n",
        "\n",
        "    fig = ff.create_annotated_heatmap(z=c[::-1],\n",
        "                                      x=corr.index.tolist()[:-1],\n",
        "                                      y=corr.columns.tolist()[1:][::-1],\n",
        "                                      colorscale = 'bluyl')\n",
        "\n",
        "    fig.update_layout(title = {'text': '<b>Feature Correlation <br> <sup>Heatmap</sup></b>'},\n",
        "                      height = 650, width = 650,\n",
        "                      margin = dict(t=210, l = 80),\n",
        "                      template = 'simple_white',\n",
        "                      yaxis = dict(autorange = 'reversed'))\n",
        "\n",
        "    fig.add_trace(go.Heatmap(z = c[::-1],\n",
        "                             colorscale = 'bluyl',\n",
        "                             showscale = True,\n",
        "                             visible = False))\n",
        "    fig.data[1].visible = True\n",
        "\n",
        "    fig.show()"
      ],
      "metadata": {
        "_kg_hide-input": true,
        "execution": {
          "iopub.status.busy": "2023-07-14T11:55:14.960657Z",
          "iopub.execute_input": "2023-07-14T11:55:14.961400Z",
          "iopub.status.idle": "2023-07-14T11:55:14.975088Z",
          "shell.execute_reply.started": "2023-07-14T11:55:14.961353Z",
          "shell.execute_reply": "2023-07-14T11:55:14.973188Z"
        },
        "trusted": true,
        "id": "QTlipdRAVnYS"
      },
      "execution_count": 84,
      "outputs": []
    },
    {
      "cell_type": "code",
      "source": [
        "def describe(df):\n",
        "    '''\n",
        "    This function plots a table containing Descriptive Statistics of the Dataframe\n",
        "    '''\n",
        "    mean_features = df.mean().round(2).apply(lambda x: \"{:,.2f}\".format(x))\n",
        "    std_features = df.std().round(2).apply(lambda x: \"{:,.2f}\".format(x))\n",
        "    q1 = df.quantile(0.25).round(2).apply(lambda x: \"{:,.2f}\".format(x))\n",
        "    median = df.quantile(0.5).round(2).apply(lambda x: \"{:,.2f}\".format(x))\n",
        "    q3 = df.quantile(0.75).round(2).apply(lambda x: \"{:,.2f}\".format(x))\n",
        "\n",
        "\n",
        "    # Generating new Dataframe\n",
        "    describe_df = pd.DataFrame({'Feature Name': mean_features.index,\n",
        "                                'Mean': mean_features.values,\n",
        "                                'Standard Deviation': std_features.values,\n",
        "                                '25%': q1.values,\n",
        "                                'Median': median.values,\n",
        "                                '75%': q3.values})\n",
        "\n",
        "    # Generating a Table w/ Pyplot\n",
        "    fig = go.Figure(data = [go.Table(header=dict(values=list(describe_df.columns),\n",
        "                                                 align = 'center',\n",
        "                                                 fill_color = 'midnightblue',\n",
        "                                               font=dict(color = 'white', size = 18)),\n",
        "                                     cells=dict(values=[describe_df['Feature Name'],\n",
        "                                                        describe_df['Mean'],\n",
        "                                                        describe_df['Standard Deviation'],\n",
        "                                                       describe_df['25%'],\n",
        "                                                       describe_df['Median'],\n",
        "                                                       describe_df['75%']],\n",
        "                                                fill_color = 'gainsboro',\n",
        "                                                align = 'center'))\n",
        "                           ])\n",
        "\n",
        "    fig.update_layout(title = {'text': f'<b>Descriptive Statistics of the Dataframe<br><sup> (Mean, Standard Deviation, 25%, Median, and 75%)</sup></b>'},\n",
        "                      template = plotly_template,\n",
        "                      height = 700, width = 950,\n",
        "                      margin = dict(t = 100))\n",
        "\n",
        "    fig.show()"
      ],
      "metadata": {
        "_kg_hide-input": true,
        "execution": {
          "iopub.status.busy": "2023-07-14T11:55:14.976690Z",
          "iopub.execute_input": "2023-07-14T11:55:14.977334Z",
          "iopub.status.idle": "2023-07-14T11:55:15.001918Z",
          "shell.execute_reply.started": "2023-07-14T11:55:14.977298Z",
          "shell.execute_reply": "2023-07-14T11:55:15.000864Z"
        },
        "trusted": true,
        "id": "dBD4rnb7VnYS"
      },
      "execution_count": 65,
      "outputs": []
    },
    {
      "cell_type": "code",
      "source": [
        "def plot_distplot(df, x):\n",
        "    '''\n",
        "    This function creates a distribution plot for continuous variables\n",
        "    '''\n",
        "\n",
        "    feature = df[x]\n",
        "\n",
        "    fig = ff.create_distplot([feature], [x], show_hist=False)\n",
        "\n",
        "    fig.update_layout(\n",
        "        title={'text': f'<b>Distplot <br> <sup>{x}</sup></b>',\n",
        "               'xanchor': 'left',\n",
        "               'x': 0.05},\n",
        "        height=600,\n",
        "        width=1000,\n",
        "        margin=dict(t=100),\n",
        "        template= plotly_template,\n",
        "        showlegend=True\n",
        "    )\n",
        "\n",
        "    fig.show()"
      ],
      "metadata": {
        "_kg_hide-input": true,
        "execution": {
          "iopub.status.busy": "2023-07-14T11:55:15.003626Z",
          "iopub.execute_input": "2023-07-14T11:55:15.004078Z",
          "iopub.status.idle": "2023-07-14T11:55:15.032635Z",
          "shell.execute_reply.started": "2023-07-14T11:55:15.004045Z",
          "shell.execute_reply": "2023-07-14T11:55:15.031043Z"
        },
        "trusted": true,
        "id": "tXvEm2mVVnYT"
      },
      "execution_count": 66,
      "outputs": []
    },
    {
      "cell_type": "code",
      "source": [
        "def plot_histogram_matrix(df):\n",
        "\n",
        "    '''\n",
        "    This function identifies all continuous features within the dataset and plots\n",
        "    a matrix of histograms for each attribute\n",
        "    '''\n",
        "\n",
        "    continuous_features = []\n",
        "    for feat in df.columns:\n",
        "        if df[feat].nunique() > 2:\n",
        "            continuous_features.append(feat)\n",
        "    num_cols = 2\n",
        "    num_rows = (len(continuous_features) + 1) // num_cols\n",
        "\n",
        "    fig = make_subplots(rows=num_rows, cols=num_cols)\n",
        "\n",
        "    for i, feature in enumerate(continuous_features):\n",
        "        row = i // num_cols + 1\n",
        "        col = i % num_cols + 1\n",
        "\n",
        "        fig.add_trace(\n",
        "            go.Histogram(\n",
        "                x=df[feature],\n",
        "                name=feature\n",
        "            ),\n",
        "            row=row,\n",
        "            col=col\n",
        "        )\n",
        "\n",
        "        fig.update_xaxes(title_text=feature, row=row, col=col)\n",
        "        fig.update_yaxes(title_text='Frequency', row=row, col=col)\n",
        "        fig.update_layout(\n",
        "            title=f'<b>Histogram Matrix<br> <sup> Continuous Features</sup></b>',\n",
        "            showlegend=False\n",
        "        )\n",
        "\n",
        "    fig.update_layout(\n",
        "        height=350 * num_rows,\n",
        "        width=1000,\n",
        "        margin=dict(t=100, l=80),\n",
        "        template= plotly_template\n",
        "    )\n",
        "\n",
        "    fig.show()"
      ],
      "metadata": {
        "_kg_hide-input": true,
        "execution": {
          "iopub.status.busy": "2023-07-14T11:55:15.034389Z",
          "iopub.execute_input": "2023-07-14T11:55:15.035509Z",
          "iopub.status.idle": "2023-07-14T11:55:15.051206Z",
          "shell.execute_reply.started": "2023-07-14T11:55:15.035450Z",
          "shell.execute_reply": "2023-07-14T11:55:15.049898Z"
        },
        "trusted": true,
        "id": "fSEY-gB2VnYT"
      },
      "execution_count": 67,
      "outputs": []
    },
    {
      "cell_type": "code",
      "source": [
        "def plot_boxplot_matrix(df):\n",
        "\n",
        "    '''\n",
        "    This function identifies all continuous features within the dataset and plots\n",
        "    a matrix of boxplots for each attribute\n",
        "    '''\n",
        "\n",
        "    continuous_features = []\n",
        "    for feat in df.columns:\n",
        "        if df[feat].nunique() > 2:\n",
        "            continuous_features.append(feat)\n",
        "\n",
        "    num_cols = 2\n",
        "    num_rows = (len(continuous_features) + 1) // num_cols\n",
        "\n",
        "\n",
        "    fig = make_subplots(rows=num_rows, cols=num_cols)\n",
        "\n",
        "\n",
        "    for i, feature in enumerate(continuous_features):\n",
        "        row = i // num_cols + 1\n",
        "        col = i % num_cols + 1\n",
        "\n",
        "        fig.add_trace(\n",
        "            go.Box(\n",
        "                x=df[feature],\n",
        "                name = ' '\n",
        "            ),\n",
        "            row=row,\n",
        "            col=col\n",
        "        )\n",
        "\n",
        "        fig.update_yaxes(title_text = ' ', row=row, col=col)\n",
        "        fig.update_xaxes(title_text= feature, row=row, col=col)\n",
        "        fig.update_layout(\n",
        "            title=f'<b>Boxplot Matrix<br> <sup> Continuous Features</sup></b>',\n",
        "            showlegend=False,\n",
        "            yaxis=dict(\n",
        "            tickangle=-90\n",
        "        )\n",
        "        )\n",
        "\n",
        "    fig.update_layout(\n",
        "        height=350 * num_rows,\n",
        "        width=1000,\n",
        "        margin=dict(t=100, l=80),\n",
        "        template= plotly_template\n",
        "    )\n",
        "\n",
        "\n",
        "    fig.show()"
      ],
      "metadata": {
        "_kg_hide-input": true,
        "execution": {
          "iopub.status.busy": "2023-07-14T11:55:15.052592Z",
          "iopub.execute_input": "2023-07-14T11:55:15.052973Z",
          "iopub.status.idle": "2023-07-14T11:55:15.078453Z",
          "shell.execute_reply.started": "2023-07-14T11:55:15.052940Z",
          "shell.execute_reply": "2023-07-14T11:55:15.077122Z"
        },
        "trusted": true,
        "id": "043klL39VnYU"
      },
      "execution_count": 68,
      "outputs": []
    },
    {
      "cell_type": "code",
      "source": [
        "def scatterplot(df, x, y):\n",
        "    '''\n",
        "    This function takes a dataframe and X and y axes to plot a scatterplot\n",
        "    '''\n",
        "\n",
        "    color_dict = {\n",
        "        0: 'orange',\n",
        "        1: 'blue',\n",
        "        2: 'green',\n",
        "        3: 'red',\n",
        "        4: 'black',\n",
        "        5: 'purple',\n",
        "        6: 'pink',\n",
        "        7: 'brown',\n",
        "        8: 'teal',\n",
        "        9: 'magenta',\n",
        "        10: 'cyan',\n",
        "        11: 'olive',\n",
        "        12: 'navy',\n",
        "        13: 'indigo',\n",
        "        14: 'maroon',\n",
        "        15: 'turquoise',\n",
        "        16: 'silver',\n",
        "        17: 'gold'\n",
        "    }\n",
        "\n",
        "    color_index = random.choice(list(color_dict.keys()))\n",
        "    color = color_dict[color_index]\n",
        "\n",
        "    fig = px.scatter(df, y=y, x=x)\n",
        "    fig.update_traces(marker=dict(size=10, color=color))\n",
        "    fig.update_layout(\n",
        "        title={'text': f'<b>Scatterplot <br> <sup>{x} x {y}</sup></b>'},\n",
        "        height=750,\n",
        "        width=850,\n",
        "        margin=dict(t=80, l=80),\n",
        "        template= plotly_template\n",
        "    )\n",
        "    fig.show()"
      ],
      "metadata": {
        "_kg_hide-input": true,
        "execution": {
          "iopub.status.busy": "2023-07-14T11:55:15.080335Z",
          "iopub.execute_input": "2023-07-14T11:55:15.080809Z",
          "iopub.status.idle": "2023-07-14T11:55:15.101558Z",
          "shell.execute_reply.started": "2023-07-14T11:55:15.080742Z",
          "shell.execute_reply": "2023-07-14T11:55:15.100339Z"
        },
        "trusted": true,
        "id": "mPMKd5drVnYU"
      },
      "execution_count": 69,
      "outputs": []
    },
    {
      "cell_type": "code",
      "source": [
        "def clustered_scatterplot(df, y, x, cluster):\n",
        "    '''\n",
        "    This function takes a dataframe, x, and y axes to plot a scatterplot colored accordingly to clusters\n",
        "    It also prints a count of values for each cluster\n",
        "    '''\n",
        "    fig = px.scatter(df,\n",
        "                     y = y,\n",
        "                     x = x,\n",
        "                     color = cluster, symbol = cluster)\n",
        "\n",
        "    fig.update_traces(marker = dict(size = 10))\n",
        "\n",
        "    fig.update(layout_coloraxis_showscale=False)\n",
        "\n",
        "    fig.update_layout(title = {'text': f'<b>Clustered Scatterplot <br> <sup> {y} x {x} </sup></b>',\n",
        "                              'xanchor': 'left',\n",
        "                              'x': 0.05},\n",
        "                     height = 600, width = 700,\n",
        "                     margin = dict(t=100),\n",
        "                     template = plotly_template,\n",
        "                     showlegend = True)\n",
        "\n",
        "    fig.show()\n",
        "\n",
        "    print('Cluster Count:')\n",
        "    print(f'{df[cluster].value_counts()}')"
      ],
      "metadata": {
        "_kg_hide-input": true,
        "execution": {
          "iopub.status.busy": "2023-07-14T11:55:15.105676Z",
          "iopub.execute_input": "2023-07-14T11:55:15.106156Z",
          "iopub.status.idle": "2023-07-14T11:55:15.124121Z",
          "shell.execute_reply.started": "2023-07-14T11:55:15.106122Z",
          "shell.execute_reply": "2023-07-14T11:55:15.122746Z"
        },
        "trusted": true,
        "id": "hnO63qtvVnYV"
      },
      "execution_count": 70,
      "outputs": []
    },
    {
      "cell_type": "code",
      "source": [
        "def barplot(df, feat):\n",
        "\n",
        "    '''\n",
        "    This function is supposed to organize the n top value counts of any attribute and plot a Barplot\n",
        "    '''\n",
        "\n",
        "    counts = df[feat].value_counts()\n",
        "    fig = px.bar(y=counts.values,\n",
        "                 x=counts.index,\n",
        "                 color = counts.index,\n",
        "                 text=counts.values)\n",
        "\n",
        "    fig.update_layout(title=f'<b>Frequency of values in {feat}<br> <sup> Barplot</sup></b>',\n",
        "                      xaxis=dict(title=f'{feat}'),\n",
        "                      yaxis=dict(title='Count'),\n",
        "                      legend=dict(title=f'{feat}'),\n",
        "                      showlegend=True,\n",
        "                      height=600,\n",
        "                      width=1000,\n",
        "                      margin=dict(t=100, l=80),\n",
        "                      template= plotly_template)\n",
        "    fig.show()"
      ],
      "metadata": {
        "_kg_hide-input": true,
        "execution": {
          "iopub.status.busy": "2023-07-14T11:55:15.126310Z",
          "iopub.execute_input": "2023-07-14T11:55:15.126945Z",
          "iopub.status.idle": "2023-07-14T11:55:15.139508Z",
          "shell.execute_reply.started": "2023-07-14T11:55:15.126908Z",
          "shell.execute_reply": "2023-07-14T11:55:15.138165Z"
        },
        "trusted": true,
        "id": "HAlaBcA8VnYV"
      },
      "execution_count": 71,
      "outputs": []
    },
    {
      "cell_type": "code",
      "source": [
        "def shapiro_wilk_test(df):\n",
        "    '''\n",
        "    This function performs a Shapiro-Wilk test to check if the data is normally distributed or not, as well as skewness\n",
        "    '''\n",
        "    print(f'\\033[1mShapiro-Wilk Test & Skewness:\\033[0m')\n",
        "    print('\\n- - - - - - - - - - - - - - - - - - - - - - - - - - - - - - - - - - - - - - - - - - - - - - - - - - - -  \\n')\n",
        "\n",
        "    numeric_columns = df.select_dtypes(include=['float', 'int']).columns\n",
        "\n",
        "    for feature in numeric_columns:\n",
        "        stats, p_value = shapiro(df[feature])\n",
        "\n",
        "        if p_value < 0.05:\n",
        "            text = f'{feature} Does Not Seem to be Normally Distributed'\n",
        "        else:\n",
        "            text = f'{feature} Seems to be Normally Distributed'\n",
        "\n",
        "        print(f'{feature}')\n",
        "        print(f'\\n  Shapiro-Wilk Statistic: {stats:.2f}')\n",
        "        print(f'\\n  Shapiro-Wilk P-value: {p_value}')\n",
        "        print(f'\\n  Skewness: {np.round(skew(df[feature]), 2)}')\n",
        "        print(f'\\n  Conclusion: {text}')\n",
        "        print('\\n===============================================================================================')\n",
        "\n",
        "    print('\\n- - - - - - - - - - - - - - - - - - - - - - - - - - - - - - - - - - - - - - - - - - - - - - - - - - - -  \\n')\n",
        "    print(f'\\033[1mEnd of Shapiro-Wilk Test\\033[0m')"
      ],
      "metadata": {
        "_kg_hide-input": true,
        "execution": {
          "iopub.status.busy": "2023-07-14T11:55:15.140747Z",
          "iopub.execute_input": "2023-07-14T11:55:15.141526Z",
          "iopub.status.idle": "2023-07-14T11:55:15.163995Z",
          "shell.execute_reply.started": "2023-07-14T11:55:15.141481Z",
          "shell.execute_reply": "2023-07-14T11:55:15.162845Z"
        },
        "trusted": true,
        "id": "Cp8ju-GCVnYV"
      },
      "execution_count": 72,
      "outputs": []
    },
    {
      "cell_type": "code",
      "source": [
        "def boxplot(df, y, x, color):\n",
        "    '''\n",
        "    This function plots a Y and X boxplot\n",
        "    '''\n",
        "    fig = px.box(df, y= y , x = x, color= color)\n",
        "\n",
        "    fig.update_layout(title=f'<b>Boxplot<br> <sup> {y} by {x}</sup></b>',\n",
        "                      showlegend=False,\n",
        "                      yaxis=dict(tickangle= -45),\n",
        "                      height=600,\n",
        "                      width=1000,\n",
        "                      margin=dict(t=100, l=80),\n",
        "                      template= plotly_template)\n",
        "\n",
        "    fig.show()"
      ],
      "metadata": {
        "_kg_hide-input": true,
        "execution": {
          "iopub.status.busy": "2023-07-14T11:55:15.165099Z",
          "iopub.execute_input": "2023-07-14T11:55:15.165468Z",
          "iopub.status.idle": "2023-07-14T11:55:15.183034Z",
          "shell.execute_reply.started": "2023-07-14T11:55:15.165437Z",
          "shell.execute_reply": "2023-07-14T11:55:15.181768Z"
        },
        "trusted": true,
        "id": "_MV-9Xj-VnYW"
      },
      "execution_count": 73,
      "outputs": []
    },
    {
      "cell_type": "code",
      "source": [
        "def pred_vs_true_plot(y_true, y_pred):\n",
        "    '''\n",
        "    This function takes values for y_true and y_val, and plots a scatterplot along with a line of best fit\n",
        "    '''\n",
        "\n",
        "    slope, intercept = np.polyfit(y_true, y_pred, 1)\n",
        "    fit_line = slope * y_true + intercept\n",
        "\n",
        "    fig = go.Figure()\n",
        "    fig.add_trace(go.Scatter(x=y_true, y=y_pred, mode='markers', name='Data Points'))\n",
        "    fig.add_trace(go.Scatter(x=y_true, y=fit_line, mode='lines', line=dict(color='red'), name='Fit-line'))\n",
        "    fig.update_traces(marker=dict(size=10, color='blue'))\n",
        "    fig.update_layout(\n",
        "        title={'text': f'<b>True x Predicted <br> <sup>Scatterplot</sup></b>'},\n",
        "        xaxis=dict(title='True Salaries'),\n",
        "        yaxis=dict(title='Predicted Salaries'),\n",
        "        height=750,\n",
        "        width=850,\n",
        "        margin=dict(t=250, l=80),\n",
        "        template= plotly_template,\n",
        "    )\n",
        "    fig.show()\n"
      ],
      "metadata": {
        "_kg_hide-input": true,
        "execution": {
          "iopub.status.busy": "2023-07-14T11:55:15.184184Z",
          "iopub.execute_input": "2023-07-14T11:55:15.184613Z",
          "iopub.status.idle": "2023-07-14T11:55:15.206891Z",
          "shell.execute_reply.started": "2023-07-14T11:55:15.184576Z",
          "shell.execute_reply": "2023-07-14T11:55:15.205658Z"
        },
        "trusted": true,
        "id": "ARZJFG9BVnYW"
      },
      "execution_count": 74,
      "outputs": []
    },
    {
      "cell_type": "code",
      "source": [
        "def three_axes_scatterplot(df, x, y, z):\n",
        "\n",
        "    '''\n",
        "    This function takes a dataframe and different attributes to build a 3D scatterplot\n",
        "\n",
        "    '''\n",
        "\n",
        "    scatterplot = go.Scatter3d(\n",
        "        x= df[x],\n",
        "        y= df[y],\n",
        "        z= df[z],\n",
        "        mode='markers')\n",
        "\n",
        "    fig = go.Figure(data=scatterplot)\n",
        "    fig.update_layout(\n",
        "        title={'text': f'<b>3D Scatterplot <br> <sup>{x} x {y} x {z}</sup></b>',\n",
        "               'xanchor': 'left',\n",
        "               'x': 0.05},\n",
        "        height=600,\n",
        "        width=700,\n",
        "        margin=dict(t=100),\n",
        "        template= plotly_template,\n",
        "        showlegend=True\n",
        "    )\n",
        "\n",
        "\n",
        "    fig.show()"
      ],
      "metadata": {
        "_kg_hide-input": true,
        "execution": {
          "iopub.status.busy": "2023-07-14T11:55:15.208401Z",
          "iopub.execute_input": "2023-07-14T11:55:15.208888Z",
          "iopub.status.idle": "2023-07-14T11:55:15.225208Z",
          "shell.execute_reply.started": "2023-07-14T11:55:15.208836Z",
          "shell.execute_reply": "2023-07-14T11:55:15.223649Z"
        },
        "trusted": true,
        "id": "JmwMnKjMVnYW"
      },
      "execution_count": 75,
      "outputs": []
    },
    {
      "cell_type": "code",
      "source": [
        "def violin_boxplot(df, y, x, color):\n",
        "    '''\n",
        "    This function plots a Y and X ridgeline plot\n",
        "    '''\n",
        "\n",
        "    fig = px.violin(df, y=y, x=x, color=color, box=True, points= 'all')\n",
        "\n",
        "    fig.update_layout(title=f'<b>Violin Boxplot<br> <sup>{x} by {y}</sup></b>',\n",
        "                      showlegend=False,\n",
        "                      yaxis=dict(tickangle=-45),\n",
        "                      height=600,\n",
        "                      width=1000,\n",
        "                      margin=dict(t=100, l=80),\n",
        "                      template= plotly_template)\n",
        "\n",
        "    fig.show()"
      ],
      "metadata": {
        "_kg_hide-input": true,
        "execution": {
          "iopub.status.busy": "2023-07-14T11:55:15.227256Z",
          "iopub.execute_input": "2023-07-14T11:55:15.227698Z",
          "iopub.status.idle": "2023-07-14T11:55:15.244362Z",
          "shell.execute_reply.started": "2023-07-14T11:55:15.227667Z",
          "shell.execute_reply": "2023-07-14T11:55:15.243211Z"
        },
        "trusted": true,
        "id": "7uSSTCacVnYX"
      },
      "execution_count": 76,
      "outputs": []
    },
    {
      "cell_type": "code",
      "source": [
        "def individual_boxplot(df, x):\n",
        "    fig = px.box(df, x = x)\n",
        "\n",
        "    fig.update_layout(title=f'<b>Boxplot<br> <sup> {x}</sup></b>',\n",
        "                      showlegend=False,\n",
        "                      yaxis=dict(tickangle= -45),\n",
        "                      height=400,\n",
        "                      width=1000,\n",
        "                      margin=dict(t=100, l=80),\n",
        "                      template= plotly_template)\n",
        "\n",
        "    fig.show()"
      ],
      "metadata": {
        "_kg_hide-input": true,
        "execution": {
          "iopub.status.busy": "2023-07-14T11:55:15.345652Z",
          "iopub.execute_input": "2023-07-14T11:55:15.346037Z",
          "iopub.status.idle": "2023-07-14T11:55:15.353644Z",
          "shell.execute_reply.started": "2023-07-14T11:55:15.346008Z",
          "shell.execute_reply": "2023-07-14T11:55:15.352290Z"
        },
        "trusted": true,
        "id": "5QMbNE2SVnYX"
      },
      "execution_count": 77,
      "outputs": []
    },
    {
      "cell_type": "code",
      "source": [
        "def elbow_curve(wss):\n",
        "    fig = go.Figure()\n",
        "    fig.add_trace(go.Scatter(x = list(range(1,10)),\n",
        "                            y = wss,\n",
        "                            mode = 'lines+markers',\n",
        "                            marker = dict(color = 'midnightblue'),\n",
        "                            name = 'WSS'))\n",
        "\n",
        "\n",
        "    fig.update_layout(title = {'text': '<b>Elbow Curve Plot <br> <sup>Within-Cluster Sum of Squares</sup></b>'},\n",
        "                     height = 400, width = 950,\n",
        "                     xaxis_title = 'Number of Clusters',\n",
        "                     yaxis_title = 'Within-Cluster Sum of Squares (WSS)',\n",
        "                     margin = dict(t=80),\n",
        "                     template = plotly_template)\n",
        "\n",
        "    fig.show()"
      ],
      "metadata": {
        "_kg_hide-input": true,
        "execution": {
          "iopub.status.busy": "2023-07-14T11:55:15.896388Z",
          "iopub.execute_input": "2023-07-14T11:55:15.897224Z",
          "iopub.status.idle": "2023-07-14T11:55:15.904389Z",
          "shell.execute_reply.started": "2023-07-14T11:55:15.897184Z",
          "shell.execute_reply": "2023-07-14T11:55:15.902875Z"
        },
        "trusted": true,
        "id": "XaBHTXjmVnYX"
      },
      "execution_count": 78,
      "outputs": []
    },
    {
      "cell_type": "code",
      "source": [
        "def split_train_test(df, test_size, seed):\n",
        "\n",
        "    '''\n",
        "    This function splits a dataframe for training and testing according to test_size\n",
        "    '''\n",
        "\n",
        "    train, test = train_test_split(df, test_size = test_size, shuffle = True, random_state = seed) # Splitting data\n",
        "\n",
        "    print(f'\\n Train shape: {train.shape}\\n')\n",
        "    print(f'\\n {len(train)} Samples \\n')\n",
        "    print(f'\\n {len(train.columns)} Attributes \\n')\n",
        "    display(train.head(10))\n",
        "    print('\\n' * 2)\n",
        "\n",
        "    print(f'\\n Test shape: {test.shape:}\\n')\n",
        "    print(f'\\n {len(test)} Samples \\n')\n",
        "    print(f'\\n {len(test.columns)} Attributes \\n')\n",
        "    display(test.head(10))\n",
        "\n",
        "    return train, test"
      ],
      "metadata": {
        "_kg_hide-input": true,
        "execution": {
          "iopub.status.busy": "2023-07-14T11:55:16.446565Z",
          "iopub.execute_input": "2023-07-14T11:55:16.446995Z",
          "iopub.status.idle": "2023-07-14T11:55:16.455187Z",
          "shell.execute_reply.started": "2023-07-14T11:55:16.446962Z",
          "shell.execute_reply": "2023-07-14T11:55:16.453925Z"
        },
        "trusted": true,
        "id": "PJflM1EfVnYX"
      },
      "execution_count": 79,
      "outputs": []
    },
    {
      "cell_type": "code",
      "source": [
        "def X_y_split(df, target_variable):\n",
        "\n",
        "    '''\n",
        "    This function takes a dataframe and a target variable to create an X (predictors) dataframe and a y Series\n",
        "    '''\n",
        "\n",
        "    X, y = df.drop([target_variable], axis = 1), df[target_variable]\n",
        "\n",
        "    #Printing info on X and y\n",
        "    print(f'\\nX shape: {X.shape}\\n')\n",
        "    print(f'\\n{len(X)} Samples \\n')\n",
        "    print(f'\\n{len(X.columns)} Attributes \\n')\n",
        "    display(X.head(10))\n",
        "    print('\\n')\n",
        "    print(f'\\ny shape: {y.shape}\\n')\n",
        "    print(f'\\n{len(y)} Samples \\n')\n",
        "    display(y.head(10))\n",
        "\n",
        "    return X, y"
      ],
      "metadata": {
        "_kg_hide-input": true,
        "execution": {
          "iopub.status.busy": "2023-07-14T11:55:16.965012Z",
          "iopub.execute_input": "2023-07-14T11:55:16.965421Z",
          "iopub.status.idle": "2023-07-14T11:55:16.974681Z",
          "shell.execute_reply.started": "2023-07-14T11:55:16.965389Z",
          "shell.execute_reply": "2023-07-14T11:55:16.973234Z"
        },
        "trusted": true,
        "id": "bmqUj2tqVnYX"
      },
      "execution_count": 80,
      "outputs": []
    },
    {
      "cell_type": "code",
      "source": [],
      "metadata": {
        "id": "ZfD8BzZwcuzn"
      },
      "execution_count": null,
      "outputs": []
    },
    {
      "cell_type": "code",
      "source": [
        "import numpy as np\n",
        "import plotly.figure_factory as ff\n",
        "import plotly.graph_objects as go\n",
        "\n",
        "\n",
        "#ChatGPT code\n",
        "def plot_correlation(df):\n",
        "    '''\n",
        "    This function is responsible for plotting a correlation map among features in the dataset\n",
        "    '''\n",
        "    corr = np.round(df.corr(), 2)\n",
        "    mask = np.triu(np.ones_like(corr, dtype=bool))\n",
        "\n",
        "    fig = ff.create_annotated_heatmap(\n",
        "        z=corr.values,\n",
        "        x=list(corr.columns),\n",
        "        y=list(corr.index),\n",
        "        annotation_text=corr.values,\n",
        "        colorscale='Blues'\n",
        "    )\n",
        "\n",
        "    fig.update_layout(\n",
        "        title={'text': '<b>Feature Correlation Heatmap</b>', 'x': 0.5},\n",
        "        height=650,\n",
        "        width=650\n",
        "    )\n",
        "\n",
        "    fig.show()\n",
        "\n",
        "# To ensure plotly works properly in Colab, use this:\n",
        "import plotly.io as pio\n",
        "pio.renderers.default = 'colab'  # Ensures Plotly shows inline in Colab\n"
      ],
      "metadata": {
        "id": "CioDDESJcjo2"
      },
      "execution_count": 82,
      "outputs": []
    },
    {
      "cell_type": "code",
      "source": [
        "describe(df)"
      ],
      "metadata": {
        "colab": {
          "base_uri": "https://localhost:8080/",
          "height": 717
        },
        "id": "AhP8Sj8xhj6I",
        "outputId": "8fd9963c-36a2-4cbe-b829-32d45e46dcac"
      },
      "execution_count": 90,
      "outputs": [
        {
          "output_type": "display_data",
          "data": {
            "text/html": [
              "<html>\n",
              "<head><meta charset=\"utf-8\" /></head>\n",
              "<body>\n",
              "    <div>            <script src=\"https://cdnjs.cloudflare.com/ajax/libs/mathjax/2.7.5/MathJax.js?config=TeX-AMS-MML_SVG\"></script><script type=\"text/javascript\">if (window.MathJax && window.MathJax.Hub && window.MathJax.Hub.Config) {window.MathJax.Hub.Config({SVG: {font: \"STIX-Web\"}});}</script>                <script type=\"text/javascript\">window.PlotlyConfig = {MathJaxConfig: 'local'};</script>\n",
              "        <script charset=\"utf-8\" src=\"https://cdn.plot.ly/plotly-2.35.2.min.js\"></script>                <div id=\"4d550f25-cabd-4cf8-8f4c-3723a9f4e146\" class=\"plotly-graph-div\" style=\"height:700px; width:950px;\"></div>            <script type=\"text/javascript\">                                    window.PLOTLYENV=window.PLOTLYENV || {};                                    if (document.getElementById(\"4d550f25-cabd-4cf8-8f4c-3723a9f4e146\")) {                    Plotly.newPlot(                        \"4d550f25-cabd-4cf8-8f4c-3723a9f4e146\",                        [{\"cells\":{\"align\":\"center\",\"fill\":{\"color\":\"gainsboro\"},\"values\":[[\"fixed acidity\",\"volatile acidity\",\"citric acid\",\"residual sugar\",\"chlorides\",\"free sulfur dioxide\",\"total sulfur dioxide\",\"density\",\"pH\",\"sulphates\",\"alcohol\",\"quality\"],[\"8.37\",\"0.53\",\"0.27\",\"2.40\",\"0.08\",\"16.96\",\"49.24\",\"1.00\",\"3.31\",\"0.64\",\"10.41\",\"5.72\"],[\"1.71\",\"0.17\",\"0.19\",\"0.86\",\"0.02\",\"10.01\",\"32.96\",\"0.00\",\"0.14\",\"0.14\",\"1.03\",\"0.85\"],[\"7.20\",\"0.39\",\"0.09\",\"1.90\",\"0.07\",\"8.00\",\"22.00\",\"1.00\",\"3.20\",\"0.55\",\"9.50\",\"5.00\"],[\"7.95\",\"0.52\",\"0.25\",\"2.20\",\"0.08\",\"16.00\",\"44.00\",\"1.00\",\"3.31\",\"0.61\",\"10.10\",\"6.00\"],[\"9.20\",\"0.64\",\"0.42\",\"2.60\",\"0.09\",\"24.00\",\"65.00\",\"1.00\",\"3.39\",\"0.72\",\"11.00\",\"6.00\"]]},\"header\":{\"align\":\"center\",\"fill\":{\"color\":\"midnightblue\"},\"font\":{\"color\":\"white\",\"size\":18},\"values\":[\"Feature Name\",\"Mean\",\"Standard Deviation\",\"25%\",\"Median\",\"75%\"]},\"type\":\"table\"}],                        {\"template\":{\"data\":{\"barpolar\":[{\"marker\":{\"line\":{\"color\":\"white\",\"width\":0.5},\"pattern\":{\"fillmode\":\"overlay\",\"size\":10,\"solidity\":0.2}},\"type\":\"barpolar\"}],\"bar\":[{\"error_x\":{\"color\":\"rgb(36,36,36)\"},\"error_y\":{\"color\":\"rgb(36,36,36)\"},\"marker\":{\"line\":{\"color\":\"white\",\"width\":0.5},\"pattern\":{\"fillmode\":\"overlay\",\"size\":10,\"solidity\":0.2}},\"type\":\"bar\"}],\"carpet\":[{\"aaxis\":{\"endlinecolor\":\"rgb(36,36,36)\",\"gridcolor\":\"white\",\"linecolor\":\"white\",\"minorgridcolor\":\"white\",\"startlinecolor\":\"rgb(36,36,36)\"},\"baxis\":{\"endlinecolor\":\"rgb(36,36,36)\",\"gridcolor\":\"white\",\"linecolor\":\"white\",\"minorgridcolor\":\"white\",\"startlinecolor\":\"rgb(36,36,36)\"},\"type\":\"carpet\"}],\"choropleth\":[{\"colorbar\":{\"outlinewidth\":1,\"tickcolor\":\"rgb(36,36,36)\",\"ticks\":\"outside\"},\"type\":\"choropleth\"}],\"contourcarpet\":[{\"colorbar\":{\"outlinewidth\":1,\"tickcolor\":\"rgb(36,36,36)\",\"ticks\":\"outside\"},\"type\":\"contourcarpet\"}],\"contour\":[{\"colorbar\":{\"outlinewidth\":1,\"tickcolor\":\"rgb(36,36,36)\",\"ticks\":\"outside\"},\"colorscale\":[[0.0,\"#440154\"],[0.1111111111111111,\"#482878\"],[0.2222222222222222,\"#3e4989\"],[0.3333333333333333,\"#31688e\"],[0.4444444444444444,\"#26828e\"],[0.5555555555555556,\"#1f9e89\"],[0.6666666666666666,\"#35b779\"],[0.7777777777777778,\"#6ece58\"],[0.8888888888888888,\"#b5de2b\"],[1.0,\"#fde725\"]],\"type\":\"contour\"}],\"heatmapgl\":[{\"colorbar\":{\"outlinewidth\":1,\"tickcolor\":\"rgb(36,36,36)\",\"ticks\":\"outside\"},\"colorscale\":[[0.0,\"#440154\"],[0.1111111111111111,\"#482878\"],[0.2222222222222222,\"#3e4989\"],[0.3333333333333333,\"#31688e\"],[0.4444444444444444,\"#26828e\"],[0.5555555555555556,\"#1f9e89\"],[0.6666666666666666,\"#35b779\"],[0.7777777777777778,\"#6ece58\"],[0.8888888888888888,\"#b5de2b\"],[1.0,\"#fde725\"]],\"type\":\"heatmapgl\"}],\"heatmap\":[{\"colorbar\":{\"outlinewidth\":1,\"tickcolor\":\"rgb(36,36,36)\",\"ticks\":\"outside\"},\"colorscale\":[[0.0,\"#440154\"],[0.1111111111111111,\"#482878\"],[0.2222222222222222,\"#3e4989\"],[0.3333333333333333,\"#31688e\"],[0.4444444444444444,\"#26828e\"],[0.5555555555555556,\"#1f9e89\"],[0.6666666666666666,\"#35b779\"],[0.7777777777777778,\"#6ece58\"],[0.8888888888888888,\"#b5de2b\"],[1.0,\"#fde725\"]],\"type\":\"heatmap\"}],\"histogram2dcontour\":[{\"colorbar\":{\"outlinewidth\":1,\"tickcolor\":\"rgb(36,36,36)\",\"ticks\":\"outside\"},\"colorscale\":[[0.0,\"#440154\"],[0.1111111111111111,\"#482878\"],[0.2222222222222222,\"#3e4989\"],[0.3333333333333333,\"#31688e\"],[0.4444444444444444,\"#26828e\"],[0.5555555555555556,\"#1f9e89\"],[0.6666666666666666,\"#35b779\"],[0.7777777777777778,\"#6ece58\"],[0.8888888888888888,\"#b5de2b\"],[1.0,\"#fde725\"]],\"type\":\"histogram2dcontour\"}],\"histogram2d\":[{\"colorbar\":{\"outlinewidth\":1,\"tickcolor\":\"rgb(36,36,36)\",\"ticks\":\"outside\"},\"colorscale\":[[0.0,\"#440154\"],[0.1111111111111111,\"#482878\"],[0.2222222222222222,\"#3e4989\"],[0.3333333333333333,\"#31688e\"],[0.4444444444444444,\"#26828e\"],[0.5555555555555556,\"#1f9e89\"],[0.6666666666666666,\"#35b779\"],[0.7777777777777778,\"#6ece58\"],[0.8888888888888888,\"#b5de2b\"],[1.0,\"#fde725\"]],\"type\":\"histogram2d\"}],\"histogram\":[{\"marker\":{\"line\":{\"color\":\"white\",\"width\":0.6}},\"type\":\"histogram\"}],\"mesh3d\":[{\"colorbar\":{\"outlinewidth\":1,\"tickcolor\":\"rgb(36,36,36)\",\"ticks\":\"outside\"},\"type\":\"mesh3d\"}],\"parcoords\":[{\"line\":{\"colorbar\":{\"outlinewidth\":1,\"tickcolor\":\"rgb(36,36,36)\",\"ticks\":\"outside\"}},\"type\":\"parcoords\"}],\"pie\":[{\"automargin\":true,\"type\":\"pie\"}],\"scatter3d\":[{\"line\":{\"colorbar\":{\"outlinewidth\":1,\"tickcolor\":\"rgb(36,36,36)\",\"ticks\":\"outside\"}},\"marker\":{\"colorbar\":{\"outlinewidth\":1,\"tickcolor\":\"rgb(36,36,36)\",\"ticks\":\"outside\"}},\"type\":\"scatter3d\"}],\"scattercarpet\":[{\"marker\":{\"colorbar\":{\"outlinewidth\":1,\"tickcolor\":\"rgb(36,36,36)\",\"ticks\":\"outside\"}},\"type\":\"scattercarpet\"}],\"scattergeo\":[{\"marker\":{\"colorbar\":{\"outlinewidth\":1,\"tickcolor\":\"rgb(36,36,36)\",\"ticks\":\"outside\"}},\"type\":\"scattergeo\"}],\"scattergl\":[{\"marker\":{\"colorbar\":{\"outlinewidth\":1,\"tickcolor\":\"rgb(36,36,36)\",\"ticks\":\"outside\"}},\"type\":\"scattergl\"}],\"scattermapbox\":[{\"marker\":{\"colorbar\":{\"outlinewidth\":1,\"tickcolor\":\"rgb(36,36,36)\",\"ticks\":\"outside\"}},\"type\":\"scattermapbox\"}],\"scatterpolargl\":[{\"marker\":{\"colorbar\":{\"outlinewidth\":1,\"tickcolor\":\"rgb(36,36,36)\",\"ticks\":\"outside\"}},\"type\":\"scatterpolargl\"}],\"scatterpolar\":[{\"marker\":{\"colorbar\":{\"outlinewidth\":1,\"tickcolor\":\"rgb(36,36,36)\",\"ticks\":\"outside\"}},\"type\":\"scatterpolar\"}],\"scatter\":[{\"fillpattern\":{\"fillmode\":\"overlay\",\"size\":10,\"solidity\":0.2},\"type\":\"scatter\"}],\"scatterternary\":[{\"marker\":{\"colorbar\":{\"outlinewidth\":1,\"tickcolor\":\"rgb(36,36,36)\",\"ticks\":\"outside\"}},\"type\":\"scatterternary\"}],\"surface\":[{\"colorbar\":{\"outlinewidth\":1,\"tickcolor\":\"rgb(36,36,36)\",\"ticks\":\"outside\"},\"colorscale\":[[0.0,\"#440154\"],[0.1111111111111111,\"#482878\"],[0.2222222222222222,\"#3e4989\"],[0.3333333333333333,\"#31688e\"],[0.4444444444444444,\"#26828e\"],[0.5555555555555556,\"#1f9e89\"],[0.6666666666666666,\"#35b779\"],[0.7777777777777778,\"#6ece58\"],[0.8888888888888888,\"#b5de2b\"],[1.0,\"#fde725\"]],\"type\":\"surface\"}],\"table\":[{\"cells\":{\"fill\":{\"color\":\"rgb(237,237,237)\"},\"line\":{\"color\":\"white\"}},\"header\":{\"fill\":{\"color\":\"rgb(217,217,217)\"},\"line\":{\"color\":\"white\"}},\"type\":\"table\"}]},\"layout\":{\"annotationdefaults\":{\"arrowhead\":0,\"arrowwidth\":1},\"autotypenumbers\":\"strict\",\"coloraxis\":{\"colorbar\":{\"outlinewidth\":1,\"tickcolor\":\"rgb(36,36,36)\",\"ticks\":\"outside\"}},\"colorscale\":{\"diverging\":[[0.0,\"rgb(103,0,31)\"],[0.1,\"rgb(178,24,43)\"],[0.2,\"rgb(214,96,77)\"],[0.3,\"rgb(244,165,130)\"],[0.4,\"rgb(253,219,199)\"],[0.5,\"rgb(247,247,247)\"],[0.6,\"rgb(209,229,240)\"],[0.7,\"rgb(146,197,222)\"],[0.8,\"rgb(67,147,195)\"],[0.9,\"rgb(33,102,172)\"],[1.0,\"rgb(5,48,97)\"]],\"sequential\":[[0.0,\"#440154\"],[0.1111111111111111,\"#482878\"],[0.2222222222222222,\"#3e4989\"],[0.3333333333333333,\"#31688e\"],[0.4444444444444444,\"#26828e\"],[0.5555555555555556,\"#1f9e89\"],[0.6666666666666666,\"#35b779\"],[0.7777777777777778,\"#6ece58\"],[0.8888888888888888,\"#b5de2b\"],[1.0,\"#fde725\"]],\"sequentialminus\":[[0.0,\"#440154\"],[0.1111111111111111,\"#482878\"],[0.2222222222222222,\"#3e4989\"],[0.3333333333333333,\"#31688e\"],[0.4444444444444444,\"#26828e\"],[0.5555555555555556,\"#1f9e89\"],[0.6666666666666666,\"#35b779\"],[0.7777777777777778,\"#6ece58\"],[0.8888888888888888,\"#b5de2b\"],[1.0,\"#fde725\"]]},\"colorway\":[\"#1F77B4\",\"#FF7F0E\",\"#2CA02C\",\"#D62728\",\"#9467BD\",\"#8C564B\",\"#E377C2\",\"#7F7F7F\",\"#BCBD22\",\"#17BECF\"],\"font\":{\"color\":\"rgb(36,36,36)\"},\"geo\":{\"bgcolor\":\"white\",\"lakecolor\":\"white\",\"landcolor\":\"white\",\"showlakes\":true,\"showland\":true,\"subunitcolor\":\"white\"},\"hoverlabel\":{\"align\":\"left\"},\"hovermode\":\"closest\",\"mapbox\":{\"style\":\"light\"},\"paper_bgcolor\":\"white\",\"plot_bgcolor\":\"white\",\"polar\":{\"angularaxis\":{\"gridcolor\":\"rgb(232,232,232)\",\"linecolor\":\"rgb(36,36,36)\",\"showgrid\":false,\"showline\":true,\"ticks\":\"outside\"},\"bgcolor\":\"white\",\"radialaxis\":{\"gridcolor\":\"rgb(232,232,232)\",\"linecolor\":\"rgb(36,36,36)\",\"showgrid\":false,\"showline\":true,\"ticks\":\"outside\"}},\"scene\":{\"xaxis\":{\"backgroundcolor\":\"white\",\"gridcolor\":\"rgb(232,232,232)\",\"gridwidth\":2,\"linecolor\":\"rgb(36,36,36)\",\"showbackground\":true,\"showgrid\":false,\"showline\":true,\"ticks\":\"outside\",\"zeroline\":false,\"zerolinecolor\":\"rgb(36,36,36)\"},\"yaxis\":{\"backgroundcolor\":\"white\",\"gridcolor\":\"rgb(232,232,232)\",\"gridwidth\":2,\"linecolor\":\"rgb(36,36,36)\",\"showbackground\":true,\"showgrid\":false,\"showline\":true,\"ticks\":\"outside\",\"zeroline\":false,\"zerolinecolor\":\"rgb(36,36,36)\"},\"zaxis\":{\"backgroundcolor\":\"white\",\"gridcolor\":\"rgb(232,232,232)\",\"gridwidth\":2,\"linecolor\":\"rgb(36,36,36)\",\"showbackground\":true,\"showgrid\":false,\"showline\":true,\"ticks\":\"outside\",\"zeroline\":false,\"zerolinecolor\":\"rgb(36,36,36)\"}},\"shapedefaults\":{\"fillcolor\":\"black\",\"line\":{\"width\":0},\"opacity\":0.3},\"ternary\":{\"aaxis\":{\"gridcolor\":\"rgb(232,232,232)\",\"linecolor\":\"rgb(36,36,36)\",\"showgrid\":false,\"showline\":true,\"ticks\":\"outside\"},\"baxis\":{\"gridcolor\":\"rgb(232,232,232)\",\"linecolor\":\"rgb(36,36,36)\",\"showgrid\":false,\"showline\":true,\"ticks\":\"outside\"},\"bgcolor\":\"white\",\"caxis\":{\"gridcolor\":\"rgb(232,232,232)\",\"linecolor\":\"rgb(36,36,36)\",\"showgrid\":false,\"showline\":true,\"ticks\":\"outside\"}},\"title\":{\"x\":0.05},\"xaxis\":{\"automargin\":true,\"gridcolor\":\"rgb(232,232,232)\",\"linecolor\":\"rgb(36,36,36)\",\"showgrid\":false,\"showline\":true,\"ticks\":\"outside\",\"title\":{\"standoff\":15},\"zeroline\":false,\"zerolinecolor\":\"rgb(36,36,36)\"},\"yaxis\":{\"automargin\":true,\"gridcolor\":\"rgb(232,232,232)\",\"linecolor\":\"rgb(36,36,36)\",\"showgrid\":false,\"showline\":true,\"ticks\":\"outside\",\"title\":{\"standoff\":15},\"zeroline\":false,\"zerolinecolor\":\"rgb(36,36,36)\"}}},\"title\":{\"text\":\"\\u003cb\\u003eDescriptive Statistics of the Dataframe\\u003cbr\\u003e\\u003csup\\u003e (Mean, Standard Deviation, 25%, Median, and 75%)\\u003c\\u002fsup\\u003e\\u003c\\u002fb\\u003e\"},\"margin\":{\"t\":100},\"height\":700,\"width\":950},                        {\"responsive\": true}                    ).then(function(){\n",
              "                            \n",
              "var gd = document.getElementById('4d550f25-cabd-4cf8-8f4c-3723a9f4e146');\n",
              "var x = new MutationObserver(function (mutations, observer) {{\n",
              "        var display = window.getComputedStyle(gd).display;\n",
              "        if (!display || display === 'none') {{\n",
              "            console.log([gd, 'removed!']);\n",
              "            Plotly.purge(gd);\n",
              "            observer.disconnect();\n",
              "        }}\n",
              "}});\n",
              "\n",
              "// Listen for the removal of the full notebook cells\n",
              "var notebookContainer = gd.closest('#notebook-container');\n",
              "if (notebookContainer) {{\n",
              "    x.observe(notebookContainer, {childList: true});\n",
              "}}\n",
              "\n",
              "// Listen for the clearing of the current output cell\n",
              "var outputEl = gd.closest('.output');\n",
              "if (outputEl) {{\n",
              "    x.observe(outputEl, {childList: true});\n",
              "}}\n",
              "\n",
              "                        })                };                            </script>        </div>\n",
              "</body>\n",
              "</html>"
            ]
          },
          "metadata": {}
        }
      ]
    },
    {
      "cell_type": "code",
      "source": [
        "# To ensure plotly works properly in Colab, use this:\n",
        "import plotly.io as pio\n",
        "pio.renderers.default = 'colab'  # Ensures Plotly shows inline in Colab\n",
        "\n",
        "plot_correlation_1(df) #Author's code\n",
        "\n",
        "#plt.show()"
      ],
      "metadata": {
        "colab": {
          "base_uri": "https://localhost:8080/",
          "height": 667
        },
        "id": "9PZXpHNcUFz4",
        "outputId": "97bcc606-708a-4e81-ca8a-5c178e4844a2"
      },
      "execution_count": 88,
      "outputs": [
        {
          "output_type": "display_data",
          "data": {
            "text/html": [
              "<html>\n",
              "<head><meta charset=\"utf-8\" /></head>\n",
              "<body>\n",
              "    <div>            <script src=\"https://cdnjs.cloudflare.com/ajax/libs/mathjax/2.7.5/MathJax.js?config=TeX-AMS-MML_SVG\"></script><script type=\"text/javascript\">if (window.MathJax && window.MathJax.Hub && window.MathJax.Hub.Config) {window.MathJax.Hub.Config({SVG: {font: \"STIX-Web\"}});}</script>                <script type=\"text/javascript\">window.PlotlyConfig = {MathJaxConfig: 'local'};</script>\n",
              "        <script charset=\"utf-8\" src=\"https://cdn.plot.ly/plotly-2.35.2.min.js\"></script>                <div id=\"6a6f4bd7-9c40-4e82-98dd-79db7e7d39e0\" class=\"plotly-graph-div\" style=\"height:650px; width:650px;\"></div>            <script type=\"text/javascript\">                                    window.PLOTLYENV=window.PLOTLYENV || {};                                    if (document.getElementById(\"6a6f4bd7-9c40-4e82-98dd-79db7e7d39e0\")) {                    Plotly.newPlot(                        \"6a6f4bd7-9c40-4e82-98dd-79db7e7d39e0\",                        [{\"colorscale\":[[0.0,\"rgb(247, 254, 174)\"],[0.16666666666666666,\"rgb(183, 230, 165)\"],[0.3333333333333333,\"rgb(124, 203, 162)\"],[0.5,\"rgb(70, 174, 160)\"],[0.6666666666666666,\"rgb(8, 144, 153)\"],[0.8333333333333334,\"rgb(0, 113, 139)\"],[1.0,\"rgb(4, 82, 117)\"]],\"reversescale\":false,\"showscale\":false,\"x\":[\"fixed acidity\",\"volatile acidity\",\"citric acid\",\"residual sugar\",\"chlorides\",\"free sulfur dioxide\",\"total sulfur dioxide\",\"density\",\"pH\",\"sulphates\",\"alcohol\"],\"y\":[\"quality\",\"alcohol\",\"sulphates\",\"pH\",\"density\",\"total sulfur dioxide\",\"free sulfur dioxide\",\"chlorides\",\"residual sugar\",\"citric acid\",\"volatile acidity\"],\"z\":[[0.07,-0.22,0.14,0.05,-0.05,-0.06,-0.23,-0.15,0.02,0.37,0.48],[-0.03,-0.22,0.08,0.08,-0.15,-0.11,-0.32,-0.36,0.13,0.25],[0.14,-0.34,0.26,0.03,0.05,-0.05,-0.15,-0.0,-0.05],[-0.67,0.24,-0.56,-0.11,-0.13,0.14,-0.02,-0.39],[0.62,-0.08,0.38,0.28,0.25,-0.07,0.11],[-0.13,0.08,-0.09,-0.02,0.01,0.64],[-0.24,0.05,-0.19,-0.1,-0.05],[0.17,0.03,0.14,0.09],[0.22,-0.08,0.15],[0.7,-0.59],[-0.32]],\"type\":\"heatmap\"},{\"colorscale\":[[0.0,\"rgb(247, 254, 174)\"],[0.16666666666666666,\"rgb(183, 230, 165)\"],[0.3333333333333333,\"rgb(124, 203, 162)\"],[0.5,\"rgb(70, 174, 160)\"],[0.6666666666666666,\"rgb(8, 144, 153)\"],[0.8333333333333334,\"rgb(0, 113, 139)\"],[1.0,\"rgb(4, 82, 117)\"]],\"showscale\":true,\"visible\":true,\"z\":[[0.07,-0.22,0.14,0.05,-0.05,-0.06,-0.23,-0.15,0.02,0.37,0.48],[-0.03,-0.22,0.08,0.08,-0.15,-0.11,-0.32,-0.36,0.13,0.25],[0.14,-0.34,0.26,0.03,0.05,-0.05,-0.15,-0.0,-0.05],[-0.67,0.24,-0.56,-0.11,-0.13,0.14,-0.02,-0.39],[0.62,-0.08,0.38,0.28,0.25,-0.07,0.11],[-0.13,0.08,-0.09,-0.02,0.01,0.64],[-0.24,0.05,-0.19,-0.1,-0.05],[0.17,0.03,0.14,0.09],[0.22,-0.08,0.15],[0.7,-0.59],[-0.32]],\"type\":\"heatmap\"}],                        {\"annotations\":[{\"font\":{\"color\":\"#FFFFFF\"},\"showarrow\":false,\"text\":\"0.07\",\"x\":\"fixed acidity\",\"xref\":\"x\",\"y\":\"quality\",\"yref\":\"y\"},{\"font\":{\"color\":\"#000000\"},\"showarrow\":false,\"text\":\"-0.22\",\"x\":\"volatile acidity\",\"xref\":\"x\",\"y\":\"quality\",\"yref\":\"y\"},{\"font\":{\"color\":\"#FFFFFF\"},\"showarrow\":false,\"text\":\"0.14\",\"x\":\"citric acid\",\"xref\":\"x\",\"y\":\"quality\",\"yref\":\"y\"},{\"font\":{\"color\":\"#FFFFFF\"},\"showarrow\":false,\"text\":\"0.05\",\"x\":\"residual sugar\",\"xref\":\"x\",\"y\":\"quality\",\"yref\":\"y\"},{\"font\":{\"color\":\"#000000\"},\"showarrow\":false,\"text\":\"-0.05\",\"x\":\"chlorides\",\"xref\":\"x\",\"y\":\"quality\",\"yref\":\"y\"},{\"font\":{\"color\":\"#000000\"},\"showarrow\":false,\"text\":\"-0.06\",\"x\":\"free sulfur dioxide\",\"xref\":\"x\",\"y\":\"quality\",\"yref\":\"y\"},{\"font\":{\"color\":\"#000000\"},\"showarrow\":false,\"text\":\"-0.23\",\"x\":\"total sulfur dioxide\",\"xref\":\"x\",\"y\":\"quality\",\"yref\":\"y\"},{\"font\":{\"color\":\"#000000\"},\"showarrow\":false,\"text\":\"-0.15\",\"x\":\"density\",\"xref\":\"x\",\"y\":\"quality\",\"yref\":\"y\"},{\"font\":{\"color\":\"#FFFFFF\"},\"showarrow\":false,\"text\":\"0.02\",\"x\":\"pH\",\"xref\":\"x\",\"y\":\"quality\",\"yref\":\"y\"},{\"font\":{\"color\":\"#FFFFFF\"},\"showarrow\":false,\"text\":\"0.37\",\"x\":\"sulphates\",\"xref\":\"x\",\"y\":\"quality\",\"yref\":\"y\"},{\"font\":{\"color\":\"#FFFFFF\"},\"showarrow\":false,\"text\":\"0.48\",\"x\":\"alcohol\",\"xref\":\"x\",\"y\":\"quality\",\"yref\":\"y\"},{\"font\":{\"color\":\"#000000\"},\"showarrow\":false,\"text\":\"-0.03\",\"x\":\"fixed acidity\",\"xref\":\"x\",\"y\":\"alcohol\",\"yref\":\"y\"},{\"font\":{\"color\":\"#000000\"},\"showarrow\":false,\"text\":\"-0.22\",\"x\":\"volatile acidity\",\"xref\":\"x\",\"y\":\"alcohol\",\"yref\":\"y\"},{\"font\":{\"color\":\"#FFFFFF\"},\"showarrow\":false,\"text\":\"0.08\",\"x\":\"citric acid\",\"xref\":\"x\",\"y\":\"alcohol\",\"yref\":\"y\"},{\"font\":{\"color\":\"#FFFFFF\"},\"showarrow\":false,\"text\":\"0.08\",\"x\":\"residual sugar\",\"xref\":\"x\",\"y\":\"alcohol\",\"yref\":\"y\"},{\"font\":{\"color\":\"#000000\"},\"showarrow\":false,\"text\":\"-0.15\",\"x\":\"chlorides\",\"xref\":\"x\",\"y\":\"alcohol\",\"yref\":\"y\"},{\"font\":{\"color\":\"#000000\"},\"showarrow\":false,\"text\":\"-0.11\",\"x\":\"free sulfur dioxide\",\"xref\":\"x\",\"y\":\"alcohol\",\"yref\":\"y\"},{\"font\":{\"color\":\"#000000\"},\"showarrow\":false,\"text\":\"-0.32\",\"x\":\"total sulfur dioxide\",\"xref\":\"x\",\"y\":\"alcohol\",\"yref\":\"y\"},{\"font\":{\"color\":\"#000000\"},\"showarrow\":false,\"text\":\"-0.36\",\"x\":\"density\",\"xref\":\"x\",\"y\":\"alcohol\",\"yref\":\"y\"},{\"font\":{\"color\":\"#FFFFFF\"},\"showarrow\":false,\"text\":\"0.13\",\"x\":\"pH\",\"xref\":\"x\",\"y\":\"alcohol\",\"yref\":\"y\"},{\"font\":{\"color\":\"#FFFFFF\"},\"showarrow\":false,\"text\":\"0.25\",\"x\":\"sulphates\",\"xref\":\"x\",\"y\":\"alcohol\",\"yref\":\"y\"},{\"font\":{\"color\":\"#FFFFFF\"},\"showarrow\":false,\"text\":\"0.14\",\"x\":\"fixed acidity\",\"xref\":\"x\",\"y\":\"sulphates\",\"yref\":\"y\"},{\"font\":{\"color\":\"#000000\"},\"showarrow\":false,\"text\":\"-0.34\",\"x\":\"volatile acidity\",\"xref\":\"x\",\"y\":\"sulphates\",\"yref\":\"y\"},{\"font\":{\"color\":\"#FFFFFF\"},\"showarrow\":false,\"text\":\"0.26\",\"x\":\"citric acid\",\"xref\":\"x\",\"y\":\"sulphates\",\"yref\":\"y\"},{\"font\":{\"color\":\"#FFFFFF\"},\"showarrow\":false,\"text\":\"0.03\",\"x\":\"residual sugar\",\"xref\":\"x\",\"y\":\"sulphates\",\"yref\":\"y\"},{\"font\":{\"color\":\"#FFFFFF\"},\"showarrow\":false,\"text\":\"0.05\",\"x\":\"chlorides\",\"xref\":\"x\",\"y\":\"sulphates\",\"yref\":\"y\"},{\"font\":{\"color\":\"#000000\"},\"showarrow\":false,\"text\":\"-0.05\",\"x\":\"free sulfur dioxide\",\"xref\":\"x\",\"y\":\"sulphates\",\"yref\":\"y\"},{\"font\":{\"color\":\"#000000\"},\"showarrow\":false,\"text\":\"-0.15\",\"x\":\"total sulfur dioxide\",\"xref\":\"x\",\"y\":\"sulphates\",\"yref\":\"y\"},{\"font\":{\"color\":\"#000000\"},\"showarrow\":false,\"text\":\"-0.0\",\"x\":\"density\",\"xref\":\"x\",\"y\":\"sulphates\",\"yref\":\"y\"},{\"font\":{\"color\":\"#000000\"},\"showarrow\":false,\"text\":\"-0.05\",\"x\":\"pH\",\"xref\":\"x\",\"y\":\"sulphates\",\"yref\":\"y\"},{\"font\":{\"color\":\"#000000\"},\"showarrow\":false,\"text\":\"-0.67\",\"x\":\"fixed acidity\",\"xref\":\"x\",\"y\":\"pH\",\"yref\":\"y\"},{\"font\":{\"color\":\"#FFFFFF\"},\"showarrow\":false,\"text\":\"0.24\",\"x\":\"volatile acidity\",\"xref\":\"x\",\"y\":\"pH\",\"yref\":\"y\"},{\"font\":{\"color\":\"#000000\"},\"showarrow\":false,\"text\":\"-0.56\",\"x\":\"citric acid\",\"xref\":\"x\",\"y\":\"pH\",\"yref\":\"y\"},{\"font\":{\"color\":\"#000000\"},\"showarrow\":false,\"text\":\"-0.11\",\"x\":\"residual sugar\",\"xref\":\"x\",\"y\":\"pH\",\"yref\":\"y\"},{\"font\":{\"color\":\"#000000\"},\"showarrow\":false,\"text\":\"-0.13\",\"x\":\"chlorides\",\"xref\":\"x\",\"y\":\"pH\",\"yref\":\"y\"},{\"font\":{\"color\":\"#FFFFFF\"},\"showarrow\":false,\"text\":\"0.14\",\"x\":\"free sulfur dioxide\",\"xref\":\"x\",\"y\":\"pH\",\"yref\":\"y\"},{\"font\":{\"color\":\"#000000\"},\"showarrow\":false,\"text\":\"-0.02\",\"x\":\"total sulfur dioxide\",\"xref\":\"x\",\"y\":\"pH\",\"yref\":\"y\"},{\"font\":{\"color\":\"#000000\"},\"showarrow\":false,\"text\":\"-0.39\",\"x\":\"density\",\"xref\":\"x\",\"y\":\"pH\",\"yref\":\"y\"},{\"font\":{\"color\":\"#FFFFFF\"},\"showarrow\":false,\"text\":\"0.62\",\"x\":\"fixed acidity\",\"xref\":\"x\",\"y\":\"density\",\"yref\":\"y\"},{\"font\":{\"color\":\"#000000\"},\"showarrow\":false,\"text\":\"-0.08\",\"x\":\"volatile acidity\",\"xref\":\"x\",\"y\":\"density\",\"yref\":\"y\"},{\"font\":{\"color\":\"#FFFFFF\"},\"showarrow\":false,\"text\":\"0.38\",\"x\":\"citric acid\",\"xref\":\"x\",\"y\":\"density\",\"yref\":\"y\"},{\"font\":{\"color\":\"#FFFFFF\"},\"showarrow\":false,\"text\":\"0.28\",\"x\":\"residual sugar\",\"xref\":\"x\",\"y\":\"density\",\"yref\":\"y\"},{\"font\":{\"color\":\"#FFFFFF\"},\"showarrow\":false,\"text\":\"0.25\",\"x\":\"chlorides\",\"xref\":\"x\",\"y\":\"density\",\"yref\":\"y\"},{\"font\":{\"color\":\"#000000\"},\"showarrow\":false,\"text\":\"-0.07\",\"x\":\"free sulfur dioxide\",\"xref\":\"x\",\"y\":\"density\",\"yref\":\"y\"},{\"font\":{\"color\":\"#FFFFFF\"},\"showarrow\":false,\"text\":\"0.11\",\"x\":\"total sulfur dioxide\",\"xref\":\"x\",\"y\":\"density\",\"yref\":\"y\"},{\"font\":{\"color\":\"#000000\"},\"showarrow\":false,\"text\":\"-0.13\",\"x\":\"fixed acidity\",\"xref\":\"x\",\"y\":\"total sulfur dioxide\",\"yref\":\"y\"},{\"font\":{\"color\":\"#FFFFFF\"},\"showarrow\":false,\"text\":\"0.08\",\"x\":\"volatile acidity\",\"xref\":\"x\",\"y\":\"total sulfur dioxide\",\"yref\":\"y\"},{\"font\":{\"color\":\"#000000\"},\"showarrow\":false,\"text\":\"-0.09\",\"x\":\"citric acid\",\"xref\":\"x\",\"y\":\"total sulfur dioxide\",\"yref\":\"y\"},{\"font\":{\"color\":\"#000000\"},\"showarrow\":false,\"text\":\"-0.02\",\"x\":\"residual sugar\",\"xref\":\"x\",\"y\":\"total sulfur dioxide\",\"yref\":\"y\"},{\"font\":{\"color\":\"#000000\"},\"showarrow\":false,\"text\":\"0.01\",\"x\":\"chlorides\",\"xref\":\"x\",\"y\":\"total sulfur dioxide\",\"yref\":\"y\"},{\"font\":{\"color\":\"#FFFFFF\"},\"showarrow\":false,\"text\":\"0.64\",\"x\":\"free sulfur dioxide\",\"xref\":\"x\",\"y\":\"total sulfur dioxide\",\"yref\":\"y\"},{\"font\":{\"color\":\"#000000\"},\"showarrow\":false,\"text\":\"-0.24\",\"x\":\"fixed acidity\",\"xref\":\"x\",\"y\":\"free sulfur dioxide\",\"yref\":\"y\"},{\"font\":{\"color\":\"#FFFFFF\"},\"showarrow\":false,\"text\":\"0.05\",\"x\":\"volatile acidity\",\"xref\":\"x\",\"y\":\"free sulfur dioxide\",\"yref\":\"y\"},{\"font\":{\"color\":\"#000000\"},\"showarrow\":false,\"text\":\"-0.19\",\"x\":\"citric acid\",\"xref\":\"x\",\"y\":\"free sulfur dioxide\",\"yref\":\"y\"},{\"font\":{\"color\":\"#000000\"},\"showarrow\":false,\"text\":\"-0.1\",\"x\":\"residual sugar\",\"xref\":\"x\",\"y\":\"free sulfur dioxide\",\"yref\":\"y\"},{\"font\":{\"color\":\"#000000\"},\"showarrow\":false,\"text\":\"-0.05\",\"x\":\"chlorides\",\"xref\":\"x\",\"y\":\"free sulfur dioxide\",\"yref\":\"y\"},{\"font\":{\"color\":\"#FFFFFF\"},\"showarrow\":false,\"text\":\"0.17\",\"x\":\"fixed acidity\",\"xref\":\"x\",\"y\":\"chlorides\",\"yref\":\"y\"},{\"font\":{\"color\":\"#FFFFFF\"},\"showarrow\":false,\"text\":\"0.03\",\"x\":\"volatile acidity\",\"xref\":\"x\",\"y\":\"chlorides\",\"yref\":\"y\"},{\"font\":{\"color\":\"#FFFFFF\"},\"showarrow\":false,\"text\":\"0.14\",\"x\":\"citric acid\",\"xref\":\"x\",\"y\":\"chlorides\",\"yref\":\"y\"},{\"font\":{\"color\":\"#FFFFFF\"},\"showarrow\":false,\"text\":\"0.09\",\"x\":\"residual sugar\",\"xref\":\"x\",\"y\":\"chlorides\",\"yref\":\"y\"},{\"font\":{\"color\":\"#FFFFFF\"},\"showarrow\":false,\"text\":\"0.22\",\"x\":\"fixed acidity\",\"xref\":\"x\",\"y\":\"residual sugar\",\"yref\":\"y\"},{\"font\":{\"color\":\"#000000\"},\"showarrow\":false,\"text\":\"-0.08\",\"x\":\"volatile acidity\",\"xref\":\"x\",\"y\":\"residual sugar\",\"yref\":\"y\"},{\"font\":{\"color\":\"#FFFFFF\"},\"showarrow\":false,\"text\":\"0.15\",\"x\":\"citric acid\",\"xref\":\"x\",\"y\":\"residual sugar\",\"yref\":\"y\"},{\"font\":{\"color\":\"#FFFFFF\"},\"showarrow\":false,\"text\":\"0.7\",\"x\":\"fixed acidity\",\"xref\":\"x\",\"y\":\"citric acid\",\"yref\":\"y\"},{\"font\":{\"color\":\"#000000\"},\"showarrow\":false,\"text\":\"-0.59\",\"x\":\"volatile acidity\",\"xref\":\"x\",\"y\":\"citric acid\",\"yref\":\"y\"},{\"font\":{\"color\":\"#000000\"},\"showarrow\":false,\"text\":\"-0.32\",\"x\":\"fixed acidity\",\"xref\":\"x\",\"y\":\"volatile acidity\",\"yref\":\"y\"}],\"xaxis\":{\"dtick\":1,\"gridcolor\":\"rgb(0, 0, 0)\",\"side\":\"top\",\"ticks\":\"\"},\"yaxis\":{\"dtick\":1,\"ticks\":\"\",\"ticksuffix\":\"  \",\"autorange\":\"reversed\"},\"template\":{\"data\":{\"barpolar\":[{\"marker\":{\"line\":{\"color\":\"white\",\"width\":0.5},\"pattern\":{\"fillmode\":\"overlay\",\"size\":10,\"solidity\":0.2}},\"type\":\"barpolar\"}],\"bar\":[{\"error_x\":{\"color\":\"rgb(36,36,36)\"},\"error_y\":{\"color\":\"rgb(36,36,36)\"},\"marker\":{\"line\":{\"color\":\"white\",\"width\":0.5},\"pattern\":{\"fillmode\":\"overlay\",\"size\":10,\"solidity\":0.2}},\"type\":\"bar\"}],\"carpet\":[{\"aaxis\":{\"endlinecolor\":\"rgb(36,36,36)\",\"gridcolor\":\"white\",\"linecolor\":\"white\",\"minorgridcolor\":\"white\",\"startlinecolor\":\"rgb(36,36,36)\"},\"baxis\":{\"endlinecolor\":\"rgb(36,36,36)\",\"gridcolor\":\"white\",\"linecolor\":\"white\",\"minorgridcolor\":\"white\",\"startlinecolor\":\"rgb(36,36,36)\"},\"type\":\"carpet\"}],\"choropleth\":[{\"colorbar\":{\"outlinewidth\":1,\"tickcolor\":\"rgb(36,36,36)\",\"ticks\":\"outside\"},\"type\":\"choropleth\"}],\"contourcarpet\":[{\"colorbar\":{\"outlinewidth\":1,\"tickcolor\":\"rgb(36,36,36)\",\"ticks\":\"outside\"},\"type\":\"contourcarpet\"}],\"contour\":[{\"colorbar\":{\"outlinewidth\":1,\"tickcolor\":\"rgb(36,36,36)\",\"ticks\":\"outside\"},\"colorscale\":[[0.0,\"#440154\"],[0.1111111111111111,\"#482878\"],[0.2222222222222222,\"#3e4989\"],[0.3333333333333333,\"#31688e\"],[0.4444444444444444,\"#26828e\"],[0.5555555555555556,\"#1f9e89\"],[0.6666666666666666,\"#35b779\"],[0.7777777777777778,\"#6ece58\"],[0.8888888888888888,\"#b5de2b\"],[1.0,\"#fde725\"]],\"type\":\"contour\"}],\"heatmapgl\":[{\"colorbar\":{\"outlinewidth\":1,\"tickcolor\":\"rgb(36,36,36)\",\"ticks\":\"outside\"},\"colorscale\":[[0.0,\"#440154\"],[0.1111111111111111,\"#482878\"],[0.2222222222222222,\"#3e4989\"],[0.3333333333333333,\"#31688e\"],[0.4444444444444444,\"#26828e\"],[0.5555555555555556,\"#1f9e89\"],[0.6666666666666666,\"#35b779\"],[0.7777777777777778,\"#6ece58\"],[0.8888888888888888,\"#b5de2b\"],[1.0,\"#fde725\"]],\"type\":\"heatmapgl\"}],\"heatmap\":[{\"colorbar\":{\"outlinewidth\":1,\"tickcolor\":\"rgb(36,36,36)\",\"ticks\":\"outside\"},\"colorscale\":[[0.0,\"#440154\"],[0.1111111111111111,\"#482878\"],[0.2222222222222222,\"#3e4989\"],[0.3333333333333333,\"#31688e\"],[0.4444444444444444,\"#26828e\"],[0.5555555555555556,\"#1f9e89\"],[0.6666666666666666,\"#35b779\"],[0.7777777777777778,\"#6ece58\"],[0.8888888888888888,\"#b5de2b\"],[1.0,\"#fde725\"]],\"type\":\"heatmap\"}],\"histogram2dcontour\":[{\"colorbar\":{\"outlinewidth\":1,\"tickcolor\":\"rgb(36,36,36)\",\"ticks\":\"outside\"},\"colorscale\":[[0.0,\"#440154\"],[0.1111111111111111,\"#482878\"],[0.2222222222222222,\"#3e4989\"],[0.3333333333333333,\"#31688e\"],[0.4444444444444444,\"#26828e\"],[0.5555555555555556,\"#1f9e89\"],[0.6666666666666666,\"#35b779\"],[0.7777777777777778,\"#6ece58\"],[0.8888888888888888,\"#b5de2b\"],[1.0,\"#fde725\"]],\"type\":\"histogram2dcontour\"}],\"histogram2d\":[{\"colorbar\":{\"outlinewidth\":1,\"tickcolor\":\"rgb(36,36,36)\",\"ticks\":\"outside\"},\"colorscale\":[[0.0,\"#440154\"],[0.1111111111111111,\"#482878\"],[0.2222222222222222,\"#3e4989\"],[0.3333333333333333,\"#31688e\"],[0.4444444444444444,\"#26828e\"],[0.5555555555555556,\"#1f9e89\"],[0.6666666666666666,\"#35b779\"],[0.7777777777777778,\"#6ece58\"],[0.8888888888888888,\"#b5de2b\"],[1.0,\"#fde725\"]],\"type\":\"histogram2d\"}],\"histogram\":[{\"marker\":{\"line\":{\"color\":\"white\",\"width\":0.6}},\"type\":\"histogram\"}],\"mesh3d\":[{\"colorbar\":{\"outlinewidth\":1,\"tickcolor\":\"rgb(36,36,36)\",\"ticks\":\"outside\"},\"type\":\"mesh3d\"}],\"parcoords\":[{\"line\":{\"colorbar\":{\"outlinewidth\":1,\"tickcolor\":\"rgb(36,36,36)\",\"ticks\":\"outside\"}},\"type\":\"parcoords\"}],\"pie\":[{\"automargin\":true,\"type\":\"pie\"}],\"scatter3d\":[{\"line\":{\"colorbar\":{\"outlinewidth\":1,\"tickcolor\":\"rgb(36,36,36)\",\"ticks\":\"outside\"}},\"marker\":{\"colorbar\":{\"outlinewidth\":1,\"tickcolor\":\"rgb(36,36,36)\",\"ticks\":\"outside\"}},\"type\":\"scatter3d\"}],\"scattercarpet\":[{\"marker\":{\"colorbar\":{\"outlinewidth\":1,\"tickcolor\":\"rgb(36,36,36)\",\"ticks\":\"outside\"}},\"type\":\"scattercarpet\"}],\"scattergeo\":[{\"marker\":{\"colorbar\":{\"outlinewidth\":1,\"tickcolor\":\"rgb(36,36,36)\",\"ticks\":\"outside\"}},\"type\":\"scattergeo\"}],\"scattergl\":[{\"marker\":{\"colorbar\":{\"outlinewidth\":1,\"tickcolor\":\"rgb(36,36,36)\",\"ticks\":\"outside\"}},\"type\":\"scattergl\"}],\"scattermapbox\":[{\"marker\":{\"colorbar\":{\"outlinewidth\":1,\"tickcolor\":\"rgb(36,36,36)\",\"ticks\":\"outside\"}},\"type\":\"scattermapbox\"}],\"scatterpolargl\":[{\"marker\":{\"colorbar\":{\"outlinewidth\":1,\"tickcolor\":\"rgb(36,36,36)\",\"ticks\":\"outside\"}},\"type\":\"scatterpolargl\"}],\"scatterpolar\":[{\"marker\":{\"colorbar\":{\"outlinewidth\":1,\"tickcolor\":\"rgb(36,36,36)\",\"ticks\":\"outside\"}},\"type\":\"scatterpolar\"}],\"scatter\":[{\"fillpattern\":{\"fillmode\":\"overlay\",\"size\":10,\"solidity\":0.2},\"type\":\"scatter\"}],\"scatterternary\":[{\"marker\":{\"colorbar\":{\"outlinewidth\":1,\"tickcolor\":\"rgb(36,36,36)\",\"ticks\":\"outside\"}},\"type\":\"scatterternary\"}],\"surface\":[{\"colorbar\":{\"outlinewidth\":1,\"tickcolor\":\"rgb(36,36,36)\",\"ticks\":\"outside\"},\"colorscale\":[[0.0,\"#440154\"],[0.1111111111111111,\"#482878\"],[0.2222222222222222,\"#3e4989\"],[0.3333333333333333,\"#31688e\"],[0.4444444444444444,\"#26828e\"],[0.5555555555555556,\"#1f9e89\"],[0.6666666666666666,\"#35b779\"],[0.7777777777777778,\"#6ece58\"],[0.8888888888888888,\"#b5de2b\"],[1.0,\"#fde725\"]],\"type\":\"surface\"}],\"table\":[{\"cells\":{\"fill\":{\"color\":\"rgb(237,237,237)\"},\"line\":{\"color\":\"white\"}},\"header\":{\"fill\":{\"color\":\"rgb(217,217,217)\"},\"line\":{\"color\":\"white\"}},\"type\":\"table\"}]},\"layout\":{\"annotationdefaults\":{\"arrowhead\":0,\"arrowwidth\":1},\"autotypenumbers\":\"strict\",\"coloraxis\":{\"colorbar\":{\"outlinewidth\":1,\"tickcolor\":\"rgb(36,36,36)\",\"ticks\":\"outside\"}},\"colorscale\":{\"diverging\":[[0.0,\"rgb(103,0,31)\"],[0.1,\"rgb(178,24,43)\"],[0.2,\"rgb(214,96,77)\"],[0.3,\"rgb(244,165,130)\"],[0.4,\"rgb(253,219,199)\"],[0.5,\"rgb(247,247,247)\"],[0.6,\"rgb(209,229,240)\"],[0.7,\"rgb(146,197,222)\"],[0.8,\"rgb(67,147,195)\"],[0.9,\"rgb(33,102,172)\"],[1.0,\"rgb(5,48,97)\"]],\"sequential\":[[0.0,\"#440154\"],[0.1111111111111111,\"#482878\"],[0.2222222222222222,\"#3e4989\"],[0.3333333333333333,\"#31688e\"],[0.4444444444444444,\"#26828e\"],[0.5555555555555556,\"#1f9e89\"],[0.6666666666666666,\"#35b779\"],[0.7777777777777778,\"#6ece58\"],[0.8888888888888888,\"#b5de2b\"],[1.0,\"#fde725\"]],\"sequentialminus\":[[0.0,\"#440154\"],[0.1111111111111111,\"#482878\"],[0.2222222222222222,\"#3e4989\"],[0.3333333333333333,\"#31688e\"],[0.4444444444444444,\"#26828e\"],[0.5555555555555556,\"#1f9e89\"],[0.6666666666666666,\"#35b779\"],[0.7777777777777778,\"#6ece58\"],[0.8888888888888888,\"#b5de2b\"],[1.0,\"#fde725\"]]},\"colorway\":[\"#1F77B4\",\"#FF7F0E\",\"#2CA02C\",\"#D62728\",\"#9467BD\",\"#8C564B\",\"#E377C2\",\"#7F7F7F\",\"#BCBD22\",\"#17BECF\"],\"font\":{\"color\":\"rgb(36,36,36)\"},\"geo\":{\"bgcolor\":\"white\",\"lakecolor\":\"white\",\"landcolor\":\"white\",\"showlakes\":true,\"showland\":true,\"subunitcolor\":\"white\"},\"hoverlabel\":{\"align\":\"left\"},\"hovermode\":\"closest\",\"mapbox\":{\"style\":\"light\"},\"paper_bgcolor\":\"white\",\"plot_bgcolor\":\"white\",\"polar\":{\"angularaxis\":{\"gridcolor\":\"rgb(232,232,232)\",\"linecolor\":\"rgb(36,36,36)\",\"showgrid\":false,\"showline\":true,\"ticks\":\"outside\"},\"bgcolor\":\"white\",\"radialaxis\":{\"gridcolor\":\"rgb(232,232,232)\",\"linecolor\":\"rgb(36,36,36)\",\"showgrid\":false,\"showline\":true,\"ticks\":\"outside\"}},\"scene\":{\"xaxis\":{\"backgroundcolor\":\"white\",\"gridcolor\":\"rgb(232,232,232)\",\"gridwidth\":2,\"linecolor\":\"rgb(36,36,36)\",\"showbackground\":true,\"showgrid\":false,\"showline\":true,\"ticks\":\"outside\",\"zeroline\":false,\"zerolinecolor\":\"rgb(36,36,36)\"},\"yaxis\":{\"backgroundcolor\":\"white\",\"gridcolor\":\"rgb(232,232,232)\",\"gridwidth\":2,\"linecolor\":\"rgb(36,36,36)\",\"showbackground\":true,\"showgrid\":false,\"showline\":true,\"ticks\":\"outside\",\"zeroline\":false,\"zerolinecolor\":\"rgb(36,36,36)\"},\"zaxis\":{\"backgroundcolor\":\"white\",\"gridcolor\":\"rgb(232,232,232)\",\"gridwidth\":2,\"linecolor\":\"rgb(36,36,36)\",\"showbackground\":true,\"showgrid\":false,\"showline\":true,\"ticks\":\"outside\",\"zeroline\":false,\"zerolinecolor\":\"rgb(36,36,36)\"}},\"shapedefaults\":{\"fillcolor\":\"black\",\"line\":{\"width\":0},\"opacity\":0.3},\"ternary\":{\"aaxis\":{\"gridcolor\":\"rgb(232,232,232)\",\"linecolor\":\"rgb(36,36,36)\",\"showgrid\":false,\"showline\":true,\"ticks\":\"outside\"},\"baxis\":{\"gridcolor\":\"rgb(232,232,232)\",\"linecolor\":\"rgb(36,36,36)\",\"showgrid\":false,\"showline\":true,\"ticks\":\"outside\"},\"bgcolor\":\"white\",\"caxis\":{\"gridcolor\":\"rgb(232,232,232)\",\"linecolor\":\"rgb(36,36,36)\",\"showgrid\":false,\"showline\":true,\"ticks\":\"outside\"}},\"title\":{\"x\":0.05},\"xaxis\":{\"automargin\":true,\"gridcolor\":\"rgb(232,232,232)\",\"linecolor\":\"rgb(36,36,36)\",\"showgrid\":false,\"showline\":true,\"ticks\":\"outside\",\"title\":{\"standoff\":15},\"zeroline\":false,\"zerolinecolor\":\"rgb(36,36,36)\"},\"yaxis\":{\"automargin\":true,\"gridcolor\":\"rgb(232,232,232)\",\"linecolor\":\"rgb(36,36,36)\",\"showgrid\":false,\"showline\":true,\"ticks\":\"outside\",\"title\":{\"standoff\":15},\"zeroline\":false,\"zerolinecolor\":\"rgb(36,36,36)\"}}},\"title\":{\"text\":\"\\u003cb\\u003eFeature Correlation \\u003cbr\\u003e \\u003csup\\u003eHeatmap\\u003c\\u002fsup\\u003e\\u003c\\u002fb\\u003e\"},\"margin\":{\"t\":210,\"l\":80},\"height\":650,\"width\":650},                        {\"responsive\": true}                    ).then(function(){\n",
              "                            \n",
              "var gd = document.getElementById('6a6f4bd7-9c40-4e82-98dd-79db7e7d39e0');\n",
              "var x = new MutationObserver(function (mutations, observer) {{\n",
              "        var display = window.getComputedStyle(gd).display;\n",
              "        if (!display || display === 'none') {{\n",
              "            console.log([gd, 'removed!']);\n",
              "            Plotly.purge(gd);\n",
              "            observer.disconnect();\n",
              "        }}\n",
              "}});\n",
              "\n",
              "// Listen for the removal of the full notebook cells\n",
              "var notebookContainer = gd.closest('#notebook-container');\n",
              "if (notebookContainer) {{\n",
              "    x.observe(notebookContainer, {childList: true});\n",
              "}}\n",
              "\n",
              "// Listen for the clearing of the current output cell\n",
              "var outputEl = gd.closest('.output');\n",
              "if (outputEl) {{\n",
              "    x.observe(outputEl, {childList: true});\n",
              "}}\n",
              "\n",
              "                        })                };                            </script>        </div>\n",
              "</body>\n",
              "</html>"
            ]
          },
          "metadata": {}
        }
      ]
    },
    {
      "cell_type": "code",
      "source": [
        "#GPT code\n",
        "plot_correlation(df)"
      ],
      "metadata": {
        "colab": {
          "base_uri": "https://localhost:8080/",
          "height": 667
        },
        "id": "pLfp3-ixdTt5",
        "outputId": "09edf995-92f0-44f0-cde4-595af4a853ec"
      },
      "execution_count": 87,
      "outputs": [
        {
          "output_type": "display_data",
          "data": {
            "text/html": [
              "<html>\n",
              "<head><meta charset=\"utf-8\" /></head>\n",
              "<body>\n",
              "    <div>            <script src=\"https://cdnjs.cloudflare.com/ajax/libs/mathjax/2.7.5/MathJax.js?config=TeX-AMS-MML_SVG\"></script><script type=\"text/javascript\">if (window.MathJax && window.MathJax.Hub && window.MathJax.Hub.Config) {window.MathJax.Hub.Config({SVG: {font: \"STIX-Web\"}});}</script>                <script type=\"text/javascript\">window.PlotlyConfig = {MathJaxConfig: 'local'};</script>\n",
              "        <script charset=\"utf-8\" src=\"https://cdn.plot.ly/plotly-2.35.2.min.js\"></script>                <div id=\"427c03b8-f7b0-42b0-8870-053ced95d385\" class=\"plotly-graph-div\" style=\"height:650px; width:650px;\"></div>            <script type=\"text/javascript\">                                    window.PLOTLYENV=window.PLOTLYENV || {};                                    if (document.getElementById(\"427c03b8-f7b0-42b0-8870-053ced95d385\")) {                    Plotly.newPlot(                        \"427c03b8-f7b0-42b0-8870-053ced95d385\",                        [{\"colorscale\":[[0.0,\"rgb(247,251,255)\"],[0.125,\"rgb(222,235,247)\"],[0.25,\"rgb(198,219,239)\"],[0.375,\"rgb(158,202,225)\"],[0.5,\"rgb(107,174,214)\"],[0.625,\"rgb(66,146,198)\"],[0.75,\"rgb(33,113,181)\"],[0.875,\"rgb(8,81,156)\"],[1.0,\"rgb(8,48,107)\"]],\"reversescale\":false,\"showscale\":false,\"x\":[\"fixed acidity\",\"volatile acidity\",\"citric acid\",\"residual sugar\",\"chlorides\",\"free sulfur dioxide\",\"total sulfur dioxide\",\"density\",\"pH\",\"sulphates\",\"alcohol\",\"quality\"],\"y\":[\"fixed acidity\",\"volatile acidity\",\"citric acid\",\"residual sugar\",\"chlorides\",\"free sulfur dioxide\",\"total sulfur dioxide\",\"density\",\"pH\",\"sulphates\",\"alcohol\",\"quality\"],\"z\":[[1.0,-0.32,0.7,0.22,0.17,-0.24,-0.13,0.62,-0.67,0.14,-0.03,0.07],[-0.32,1.0,-0.59,-0.08,0.03,0.05,0.08,-0.08,0.24,-0.34,-0.22,-0.22],[0.7,-0.59,1.0,0.15,0.14,-0.19,-0.09,0.38,-0.56,0.26,0.08,0.14],[0.22,-0.08,0.15,1.0,0.09,-0.1,-0.02,0.28,-0.11,0.03,0.08,0.05],[0.17,0.03,0.14,0.09,1.0,-0.05,0.01,0.25,-0.13,0.05,-0.15,-0.05],[-0.24,0.05,-0.19,-0.1,-0.05,1.0,0.64,-0.07,0.14,-0.05,-0.11,-0.06],[-0.13,0.08,-0.09,-0.02,0.01,0.64,1.0,0.11,-0.02,-0.15,-0.32,-0.23],[0.62,-0.08,0.38,0.28,0.25,-0.07,0.11,1.0,-0.39,-0.0,-0.36,-0.15],[-0.67,0.24,-0.56,-0.11,-0.13,0.14,-0.02,-0.39,1.0,-0.05,0.13,0.02],[0.14,-0.34,0.26,0.03,0.05,-0.05,-0.15,-0.0,-0.05,1.0,0.25,0.37],[-0.03,-0.22,0.08,0.08,-0.15,-0.11,-0.32,-0.36,0.13,0.25,1.0,0.48],[0.07,-0.22,0.14,0.05,-0.05,-0.06,-0.23,-0.15,0.02,0.37,0.48,1.0]],\"type\":\"heatmap\"}],                        {\"annotations\":[{\"font\":{\"color\":\"#FFFFFF\"},\"showarrow\":false,\"text\":\"1.0\",\"x\":\"fixed acidity\",\"xref\":\"x\",\"y\":\"fixed acidity\",\"yref\":\"y\"},{\"font\":{\"color\":\"#000000\"},\"showarrow\":false,\"text\":\"-0.32\",\"x\":\"volatile acidity\",\"xref\":\"x\",\"y\":\"fixed acidity\",\"yref\":\"y\"},{\"font\":{\"color\":\"#FFFFFF\"},\"showarrow\":false,\"text\":\"0.7\",\"x\":\"citric acid\",\"xref\":\"x\",\"y\":\"fixed acidity\",\"yref\":\"y\"},{\"font\":{\"color\":\"#FFFFFF\"},\"showarrow\":false,\"text\":\"0.22\",\"x\":\"residual sugar\",\"xref\":\"x\",\"y\":\"fixed acidity\",\"yref\":\"y\"},{\"font\":{\"color\":\"#FFFFFF\"},\"showarrow\":false,\"text\":\"0.17\",\"x\":\"chlorides\",\"xref\":\"x\",\"y\":\"fixed acidity\",\"yref\":\"y\"},{\"font\":{\"color\":\"#000000\"},\"showarrow\":false,\"text\":\"-0.24\",\"x\":\"free sulfur dioxide\",\"xref\":\"x\",\"y\":\"fixed acidity\",\"yref\":\"y\"},{\"font\":{\"color\":\"#000000\"},\"showarrow\":false,\"text\":\"-0.13\",\"x\":\"total sulfur dioxide\",\"xref\":\"x\",\"y\":\"fixed acidity\",\"yref\":\"y\"},{\"font\":{\"color\":\"#FFFFFF\"},\"showarrow\":false,\"text\":\"0.62\",\"x\":\"density\",\"xref\":\"x\",\"y\":\"fixed acidity\",\"yref\":\"y\"},{\"font\":{\"color\":\"#000000\"},\"showarrow\":false,\"text\":\"-0.67\",\"x\":\"pH\",\"xref\":\"x\",\"y\":\"fixed acidity\",\"yref\":\"y\"},{\"font\":{\"color\":\"#000000\"},\"showarrow\":false,\"text\":\"0.14\",\"x\":\"sulphates\",\"xref\":\"x\",\"y\":\"fixed acidity\",\"yref\":\"y\"},{\"font\":{\"color\":\"#000000\"},\"showarrow\":false,\"text\":\"-0.03\",\"x\":\"alcohol\",\"xref\":\"x\",\"y\":\"fixed acidity\",\"yref\":\"y\"},{\"font\":{\"color\":\"#000000\"},\"showarrow\":false,\"text\":\"0.07\",\"x\":\"quality\",\"xref\":\"x\",\"y\":\"fixed acidity\",\"yref\":\"y\"},{\"font\":{\"color\":\"#000000\"},\"showarrow\":false,\"text\":\"-0.32\",\"x\":\"fixed acidity\",\"xref\":\"x\",\"y\":\"volatile acidity\",\"yref\":\"y\"},{\"font\":{\"color\":\"#FFFFFF\"},\"showarrow\":false,\"text\":\"1.0\",\"x\":\"volatile acidity\",\"xref\":\"x\",\"y\":\"volatile acidity\",\"yref\":\"y\"},{\"font\":{\"color\":\"#000000\"},\"showarrow\":false,\"text\":\"-0.59\",\"x\":\"citric acid\",\"xref\":\"x\",\"y\":\"volatile acidity\",\"yref\":\"y\"},{\"font\":{\"color\":\"#000000\"},\"showarrow\":false,\"text\":\"-0.08\",\"x\":\"residual sugar\",\"xref\":\"x\",\"y\":\"volatile acidity\",\"yref\":\"y\"},{\"font\":{\"color\":\"#000000\"},\"showarrow\":false,\"text\":\"0.03\",\"x\":\"chlorides\",\"xref\":\"x\",\"y\":\"volatile acidity\",\"yref\":\"y\"},{\"font\":{\"color\":\"#000000\"},\"showarrow\":false,\"text\":\"0.05\",\"x\":\"free sulfur dioxide\",\"xref\":\"x\",\"y\":\"volatile acidity\",\"yref\":\"y\"},{\"font\":{\"color\":\"#000000\"},\"showarrow\":false,\"text\":\"0.08\",\"x\":\"total sulfur dioxide\",\"xref\":\"x\",\"y\":\"volatile acidity\",\"yref\":\"y\"},{\"font\":{\"color\":\"#000000\"},\"showarrow\":false,\"text\":\"-0.08\",\"x\":\"density\",\"xref\":\"x\",\"y\":\"volatile acidity\",\"yref\":\"y\"},{\"font\":{\"color\":\"#FFFFFF\"},\"showarrow\":false,\"text\":\"0.24\",\"x\":\"pH\",\"xref\":\"x\",\"y\":\"volatile acidity\",\"yref\":\"y\"},{\"font\":{\"color\":\"#000000\"},\"showarrow\":false,\"text\":\"-0.34\",\"x\":\"sulphates\",\"xref\":\"x\",\"y\":\"volatile acidity\",\"yref\":\"y\"},{\"font\":{\"color\":\"#000000\"},\"showarrow\":false,\"text\":\"-0.22\",\"x\":\"alcohol\",\"xref\":\"x\",\"y\":\"volatile acidity\",\"yref\":\"y\"},{\"font\":{\"color\":\"#000000\"},\"showarrow\":false,\"text\":\"-0.22\",\"x\":\"quality\",\"xref\":\"x\",\"y\":\"volatile acidity\",\"yref\":\"y\"},{\"font\":{\"color\":\"#FFFFFF\"},\"showarrow\":false,\"text\":\"0.7\",\"x\":\"fixed acidity\",\"xref\":\"x\",\"y\":\"citric acid\",\"yref\":\"y\"},{\"font\":{\"color\":\"#000000\"},\"showarrow\":false,\"text\":\"-0.59\",\"x\":\"volatile acidity\",\"xref\":\"x\",\"y\":\"citric acid\",\"yref\":\"y\"},{\"font\":{\"color\":\"#FFFFFF\"},\"showarrow\":false,\"text\":\"1.0\",\"x\":\"citric acid\",\"xref\":\"x\",\"y\":\"citric acid\",\"yref\":\"y\"},{\"font\":{\"color\":\"#000000\"},\"showarrow\":false,\"text\":\"0.15\",\"x\":\"residual sugar\",\"xref\":\"x\",\"y\":\"citric acid\",\"yref\":\"y\"},{\"font\":{\"color\":\"#000000\"},\"showarrow\":false,\"text\":\"0.14\",\"x\":\"chlorides\",\"xref\":\"x\",\"y\":\"citric acid\",\"yref\":\"y\"},{\"font\":{\"color\":\"#000000\"},\"showarrow\":false,\"text\":\"-0.19\",\"x\":\"free sulfur dioxide\",\"xref\":\"x\",\"y\":\"citric acid\",\"yref\":\"y\"},{\"font\":{\"color\":\"#000000\"},\"showarrow\":false,\"text\":\"-0.09\",\"x\":\"total sulfur dioxide\",\"xref\":\"x\",\"y\":\"citric acid\",\"yref\":\"y\"},{\"font\":{\"color\":\"#FFFFFF\"},\"showarrow\":false,\"text\":\"0.38\",\"x\":\"density\",\"xref\":\"x\",\"y\":\"citric acid\",\"yref\":\"y\"},{\"font\":{\"color\":\"#000000\"},\"showarrow\":false,\"text\":\"-0.56\",\"x\":\"pH\",\"xref\":\"x\",\"y\":\"citric acid\",\"yref\":\"y\"},{\"font\":{\"color\":\"#FFFFFF\"},\"showarrow\":false,\"text\":\"0.26\",\"x\":\"sulphates\",\"xref\":\"x\",\"y\":\"citric acid\",\"yref\":\"y\"},{\"font\":{\"color\":\"#000000\"},\"showarrow\":false,\"text\":\"0.08\",\"x\":\"alcohol\",\"xref\":\"x\",\"y\":\"citric acid\",\"yref\":\"y\"},{\"font\":{\"color\":\"#000000\"},\"showarrow\":false,\"text\":\"0.14\",\"x\":\"quality\",\"xref\":\"x\",\"y\":\"citric acid\",\"yref\":\"y\"},{\"font\":{\"color\":\"#FFFFFF\"},\"showarrow\":false,\"text\":\"0.22\",\"x\":\"fixed acidity\",\"xref\":\"x\",\"y\":\"residual sugar\",\"yref\":\"y\"},{\"font\":{\"color\":\"#000000\"},\"showarrow\":false,\"text\":\"-0.08\",\"x\":\"volatile acidity\",\"xref\":\"x\",\"y\":\"residual sugar\",\"yref\":\"y\"},{\"font\":{\"color\":\"#000000\"},\"showarrow\":false,\"text\":\"0.15\",\"x\":\"citric acid\",\"xref\":\"x\",\"y\":\"residual sugar\",\"yref\":\"y\"},{\"font\":{\"color\":\"#FFFFFF\"},\"showarrow\":false,\"text\":\"1.0\",\"x\":\"residual sugar\",\"xref\":\"x\",\"y\":\"residual sugar\",\"yref\":\"y\"},{\"font\":{\"color\":\"#000000\"},\"showarrow\":false,\"text\":\"0.09\",\"x\":\"chlorides\",\"xref\":\"x\",\"y\":\"residual sugar\",\"yref\":\"y\"},{\"font\":{\"color\":\"#000000\"},\"showarrow\":false,\"text\":\"-0.1\",\"x\":\"free sulfur dioxide\",\"xref\":\"x\",\"y\":\"residual sugar\",\"yref\":\"y\"},{\"font\":{\"color\":\"#000000\"},\"showarrow\":false,\"text\":\"-0.02\",\"x\":\"total sulfur dioxide\",\"xref\":\"x\",\"y\":\"residual sugar\",\"yref\":\"y\"},{\"font\":{\"color\":\"#FFFFFF\"},\"showarrow\":false,\"text\":\"0.28\",\"x\":\"density\",\"xref\":\"x\",\"y\":\"residual sugar\",\"yref\":\"y\"},{\"font\":{\"color\":\"#000000\"},\"showarrow\":false,\"text\":\"-0.11\",\"x\":\"pH\",\"xref\":\"x\",\"y\":\"residual sugar\",\"yref\":\"y\"},{\"font\":{\"color\":\"#000000\"},\"showarrow\":false,\"text\":\"0.03\",\"x\":\"sulphates\",\"xref\":\"x\",\"y\":\"residual sugar\",\"yref\":\"y\"},{\"font\":{\"color\":\"#000000\"},\"showarrow\":false,\"text\":\"0.08\",\"x\":\"alcohol\",\"xref\":\"x\",\"y\":\"residual sugar\",\"yref\":\"y\"},{\"font\":{\"color\":\"#000000\"},\"showarrow\":false,\"text\":\"0.05\",\"x\":\"quality\",\"xref\":\"x\",\"y\":\"residual sugar\",\"yref\":\"y\"},{\"font\":{\"color\":\"#FFFFFF\"},\"showarrow\":false,\"text\":\"0.17\",\"x\":\"fixed acidity\",\"xref\":\"x\",\"y\":\"chlorides\",\"yref\":\"y\"},{\"font\":{\"color\":\"#000000\"},\"showarrow\":false,\"text\":\"0.03\",\"x\":\"volatile acidity\",\"xref\":\"x\",\"y\":\"chlorides\",\"yref\":\"y\"},{\"font\":{\"color\":\"#000000\"},\"showarrow\":false,\"text\":\"0.14\",\"x\":\"citric acid\",\"xref\":\"x\",\"y\":\"chlorides\",\"yref\":\"y\"},{\"font\":{\"color\":\"#000000\"},\"showarrow\":false,\"text\":\"0.09\",\"x\":\"residual sugar\",\"xref\":\"x\",\"y\":\"chlorides\",\"yref\":\"y\"},{\"font\":{\"color\":\"#FFFFFF\"},\"showarrow\":false,\"text\":\"1.0\",\"x\":\"chlorides\",\"xref\":\"x\",\"y\":\"chlorides\",\"yref\":\"y\"},{\"font\":{\"color\":\"#000000\"},\"showarrow\":false,\"text\":\"-0.05\",\"x\":\"free sulfur dioxide\",\"xref\":\"x\",\"y\":\"chlorides\",\"yref\":\"y\"},{\"font\":{\"color\":\"#000000\"},\"showarrow\":false,\"text\":\"0.01\",\"x\":\"total sulfur dioxide\",\"xref\":\"x\",\"y\":\"chlorides\",\"yref\":\"y\"},{\"font\":{\"color\":\"#FFFFFF\"},\"showarrow\":false,\"text\":\"0.25\",\"x\":\"density\",\"xref\":\"x\",\"y\":\"chlorides\",\"yref\":\"y\"},{\"font\":{\"color\":\"#000000\"},\"showarrow\":false,\"text\":\"-0.13\",\"x\":\"pH\",\"xref\":\"x\",\"y\":\"chlorides\",\"yref\":\"y\"},{\"font\":{\"color\":\"#000000\"},\"showarrow\":false,\"text\":\"0.05\",\"x\":\"sulphates\",\"xref\":\"x\",\"y\":\"chlorides\",\"yref\":\"y\"},{\"font\":{\"color\":\"#000000\"},\"showarrow\":false,\"text\":\"-0.15\",\"x\":\"alcohol\",\"xref\":\"x\",\"y\":\"chlorides\",\"yref\":\"y\"},{\"font\":{\"color\":\"#000000\"},\"showarrow\":false,\"text\":\"-0.05\",\"x\":\"quality\",\"xref\":\"x\",\"y\":\"chlorides\",\"yref\":\"y\"},{\"font\":{\"color\":\"#000000\"},\"showarrow\":false,\"text\":\"-0.24\",\"x\":\"fixed acidity\",\"xref\":\"x\",\"y\":\"free sulfur dioxide\",\"yref\":\"y\"},{\"font\":{\"color\":\"#000000\"},\"showarrow\":false,\"text\":\"0.05\",\"x\":\"volatile acidity\",\"xref\":\"x\",\"y\":\"free sulfur dioxide\",\"yref\":\"y\"},{\"font\":{\"color\":\"#000000\"},\"showarrow\":false,\"text\":\"-0.19\",\"x\":\"citric acid\",\"xref\":\"x\",\"y\":\"free sulfur dioxide\",\"yref\":\"y\"},{\"font\":{\"color\":\"#000000\"},\"showarrow\":false,\"text\":\"-0.1\",\"x\":\"residual sugar\",\"xref\":\"x\",\"y\":\"free sulfur dioxide\",\"yref\":\"y\"},{\"font\":{\"color\":\"#000000\"},\"showarrow\":false,\"text\":\"-0.05\",\"x\":\"chlorides\",\"xref\":\"x\",\"y\":\"free sulfur dioxide\",\"yref\":\"y\"},{\"font\":{\"color\":\"#FFFFFF\"},\"showarrow\":false,\"text\":\"1.0\",\"x\":\"free sulfur dioxide\",\"xref\":\"x\",\"y\":\"free sulfur dioxide\",\"yref\":\"y\"},{\"font\":{\"color\":\"#FFFFFF\"},\"showarrow\":false,\"text\":\"0.64\",\"x\":\"total sulfur dioxide\",\"xref\":\"x\",\"y\":\"free sulfur dioxide\",\"yref\":\"y\"},{\"font\":{\"color\":\"#000000\"},\"showarrow\":false,\"text\":\"-0.07\",\"x\":\"density\",\"xref\":\"x\",\"y\":\"free sulfur dioxide\",\"yref\":\"y\"},{\"font\":{\"color\":\"#000000\"},\"showarrow\":false,\"text\":\"0.14\",\"x\":\"pH\",\"xref\":\"x\",\"y\":\"free sulfur dioxide\",\"yref\":\"y\"},{\"font\":{\"color\":\"#000000\"},\"showarrow\":false,\"text\":\"-0.05\",\"x\":\"sulphates\",\"xref\":\"x\",\"y\":\"free sulfur dioxide\",\"yref\":\"y\"},{\"font\":{\"color\":\"#000000\"},\"showarrow\":false,\"text\":\"-0.11\",\"x\":\"alcohol\",\"xref\":\"x\",\"y\":\"free sulfur dioxide\",\"yref\":\"y\"},{\"font\":{\"color\":\"#000000\"},\"showarrow\":false,\"text\":\"-0.06\",\"x\":\"quality\",\"xref\":\"x\",\"y\":\"free sulfur dioxide\",\"yref\":\"y\"},{\"font\":{\"color\":\"#000000\"},\"showarrow\":false,\"text\":\"-0.13\",\"x\":\"fixed acidity\",\"xref\":\"x\",\"y\":\"total sulfur dioxide\",\"yref\":\"y\"},{\"font\":{\"color\":\"#000000\"},\"showarrow\":false,\"text\":\"0.08\",\"x\":\"volatile acidity\",\"xref\":\"x\",\"y\":\"total sulfur dioxide\",\"yref\":\"y\"},{\"font\":{\"color\":\"#000000\"},\"showarrow\":false,\"text\":\"-0.09\",\"x\":\"citric acid\",\"xref\":\"x\",\"y\":\"total sulfur dioxide\",\"yref\":\"y\"},{\"font\":{\"color\":\"#000000\"},\"showarrow\":false,\"text\":\"-0.02\",\"x\":\"residual sugar\",\"xref\":\"x\",\"y\":\"total sulfur dioxide\",\"yref\":\"y\"},{\"font\":{\"color\":\"#000000\"},\"showarrow\":false,\"text\":\"0.01\",\"x\":\"chlorides\",\"xref\":\"x\",\"y\":\"total sulfur dioxide\",\"yref\":\"y\"},{\"font\":{\"color\":\"#FFFFFF\"},\"showarrow\":false,\"text\":\"0.64\",\"x\":\"free sulfur dioxide\",\"xref\":\"x\",\"y\":\"total sulfur dioxide\",\"yref\":\"y\"},{\"font\":{\"color\":\"#FFFFFF\"},\"showarrow\":false,\"text\":\"1.0\",\"x\":\"total sulfur dioxide\",\"xref\":\"x\",\"y\":\"total sulfur dioxide\",\"yref\":\"y\"},{\"font\":{\"color\":\"#000000\"},\"showarrow\":false,\"text\":\"0.11\",\"x\":\"density\",\"xref\":\"x\",\"y\":\"total sulfur dioxide\",\"yref\":\"y\"},{\"font\":{\"color\":\"#000000\"},\"showarrow\":false,\"text\":\"-0.02\",\"x\":\"pH\",\"xref\":\"x\",\"y\":\"total sulfur dioxide\",\"yref\":\"y\"},{\"font\":{\"color\":\"#000000\"},\"showarrow\":false,\"text\":\"-0.15\",\"x\":\"sulphates\",\"xref\":\"x\",\"y\":\"total sulfur dioxide\",\"yref\":\"y\"},{\"font\":{\"color\":\"#000000\"},\"showarrow\":false,\"text\":\"-0.32\",\"x\":\"alcohol\",\"xref\":\"x\",\"y\":\"total sulfur dioxide\",\"yref\":\"y\"},{\"font\":{\"color\":\"#000000\"},\"showarrow\":false,\"text\":\"-0.23\",\"x\":\"quality\",\"xref\":\"x\",\"y\":\"total sulfur dioxide\",\"yref\":\"y\"},{\"font\":{\"color\":\"#FFFFFF\"},\"showarrow\":false,\"text\":\"0.62\",\"x\":\"fixed acidity\",\"xref\":\"x\",\"y\":\"density\",\"yref\":\"y\"},{\"font\":{\"color\":\"#000000\"},\"showarrow\":false,\"text\":\"-0.08\",\"x\":\"volatile acidity\",\"xref\":\"x\",\"y\":\"density\",\"yref\":\"y\"},{\"font\":{\"color\":\"#FFFFFF\"},\"showarrow\":false,\"text\":\"0.38\",\"x\":\"citric acid\",\"xref\":\"x\",\"y\":\"density\",\"yref\":\"y\"},{\"font\":{\"color\":\"#FFFFFF\"},\"showarrow\":false,\"text\":\"0.28\",\"x\":\"residual sugar\",\"xref\":\"x\",\"y\":\"density\",\"yref\":\"y\"},{\"font\":{\"color\":\"#FFFFFF\"},\"showarrow\":false,\"text\":\"0.25\",\"x\":\"chlorides\",\"xref\":\"x\",\"y\":\"density\",\"yref\":\"y\"},{\"font\":{\"color\":\"#000000\"},\"showarrow\":false,\"text\":\"-0.07\",\"x\":\"free sulfur dioxide\",\"xref\":\"x\",\"y\":\"density\",\"yref\":\"y\"},{\"font\":{\"color\":\"#000000\"},\"showarrow\":false,\"text\":\"0.11\",\"x\":\"total sulfur dioxide\",\"xref\":\"x\",\"y\":\"density\",\"yref\":\"y\"},{\"font\":{\"color\":\"#FFFFFF\"},\"showarrow\":false,\"text\":\"1.0\",\"x\":\"density\",\"xref\":\"x\",\"y\":\"density\",\"yref\":\"y\"},{\"font\":{\"color\":\"#000000\"},\"showarrow\":false,\"text\":\"-0.39\",\"x\":\"pH\",\"xref\":\"x\",\"y\":\"density\",\"yref\":\"y\"},{\"font\":{\"color\":\"#000000\"},\"showarrow\":false,\"text\":\"-0.0\",\"x\":\"sulphates\",\"xref\":\"x\",\"y\":\"density\",\"yref\":\"y\"},{\"font\":{\"color\":\"#000000\"},\"showarrow\":false,\"text\":\"-0.36\",\"x\":\"alcohol\",\"xref\":\"x\",\"y\":\"density\",\"yref\":\"y\"},{\"font\":{\"color\":\"#000000\"},\"showarrow\":false,\"text\":\"-0.15\",\"x\":\"quality\",\"xref\":\"x\",\"y\":\"density\",\"yref\":\"y\"},{\"font\":{\"color\":\"#000000\"},\"showarrow\":false,\"text\":\"-0.67\",\"x\":\"fixed acidity\",\"xref\":\"x\",\"y\":\"pH\",\"yref\":\"y\"},{\"font\":{\"color\":\"#FFFFFF\"},\"showarrow\":false,\"text\":\"0.24\",\"x\":\"volatile acidity\",\"xref\":\"x\",\"y\":\"pH\",\"yref\":\"y\"},{\"font\":{\"color\":\"#000000\"},\"showarrow\":false,\"text\":\"-0.56\",\"x\":\"citric acid\",\"xref\":\"x\",\"y\":\"pH\",\"yref\":\"y\"},{\"font\":{\"color\":\"#000000\"},\"showarrow\":false,\"text\":\"-0.11\",\"x\":\"residual sugar\",\"xref\":\"x\",\"y\":\"pH\",\"yref\":\"y\"},{\"font\":{\"color\":\"#000000\"},\"showarrow\":false,\"text\":\"-0.13\",\"x\":\"chlorides\",\"xref\":\"x\",\"y\":\"pH\",\"yref\":\"y\"},{\"font\":{\"color\":\"#000000\"},\"showarrow\":false,\"text\":\"0.14\",\"x\":\"free sulfur dioxide\",\"xref\":\"x\",\"y\":\"pH\",\"yref\":\"y\"},{\"font\":{\"color\":\"#000000\"},\"showarrow\":false,\"text\":\"-0.02\",\"x\":\"total sulfur dioxide\",\"xref\":\"x\",\"y\":\"pH\",\"yref\":\"y\"},{\"font\":{\"color\":\"#000000\"},\"showarrow\":false,\"text\":\"-0.39\",\"x\":\"density\",\"xref\":\"x\",\"y\":\"pH\",\"yref\":\"y\"},{\"font\":{\"color\":\"#FFFFFF\"},\"showarrow\":false,\"text\":\"1.0\",\"x\":\"pH\",\"xref\":\"x\",\"y\":\"pH\",\"yref\":\"y\"},{\"font\":{\"color\":\"#000000\"},\"showarrow\":false,\"text\":\"-0.05\",\"x\":\"sulphates\",\"xref\":\"x\",\"y\":\"pH\",\"yref\":\"y\"},{\"font\":{\"color\":\"#000000\"},\"showarrow\":false,\"text\":\"0.13\",\"x\":\"alcohol\",\"xref\":\"x\",\"y\":\"pH\",\"yref\":\"y\"},{\"font\":{\"color\":\"#000000\"},\"showarrow\":false,\"text\":\"0.02\",\"x\":\"quality\",\"xref\":\"x\",\"y\":\"pH\",\"yref\":\"y\"},{\"font\":{\"color\":\"#000000\"},\"showarrow\":false,\"text\":\"0.14\",\"x\":\"fixed acidity\",\"xref\":\"x\",\"y\":\"sulphates\",\"yref\":\"y\"},{\"font\":{\"color\":\"#000000\"},\"showarrow\":false,\"text\":\"-0.34\",\"x\":\"volatile acidity\",\"xref\":\"x\",\"y\":\"sulphates\",\"yref\":\"y\"},{\"font\":{\"color\":\"#FFFFFF\"},\"showarrow\":false,\"text\":\"0.26\",\"x\":\"citric acid\",\"xref\":\"x\",\"y\":\"sulphates\",\"yref\":\"y\"},{\"font\":{\"color\":\"#000000\"},\"showarrow\":false,\"text\":\"0.03\",\"x\":\"residual sugar\",\"xref\":\"x\",\"y\":\"sulphates\",\"yref\":\"y\"},{\"font\":{\"color\":\"#000000\"},\"showarrow\":false,\"text\":\"0.05\",\"x\":\"chlorides\",\"xref\":\"x\",\"y\":\"sulphates\",\"yref\":\"y\"},{\"font\":{\"color\":\"#000000\"},\"showarrow\":false,\"text\":\"-0.05\",\"x\":\"free sulfur dioxide\",\"xref\":\"x\",\"y\":\"sulphates\",\"yref\":\"y\"},{\"font\":{\"color\":\"#000000\"},\"showarrow\":false,\"text\":\"-0.15\",\"x\":\"total sulfur dioxide\",\"xref\":\"x\",\"y\":\"sulphates\",\"yref\":\"y\"},{\"font\":{\"color\":\"#000000\"},\"showarrow\":false,\"text\":\"-0.0\",\"x\":\"density\",\"xref\":\"x\",\"y\":\"sulphates\",\"yref\":\"y\"},{\"font\":{\"color\":\"#000000\"},\"showarrow\":false,\"text\":\"-0.05\",\"x\":\"pH\",\"xref\":\"x\",\"y\":\"sulphates\",\"yref\":\"y\"},{\"font\":{\"color\":\"#FFFFFF\"},\"showarrow\":false,\"text\":\"1.0\",\"x\":\"sulphates\",\"xref\":\"x\",\"y\":\"sulphates\",\"yref\":\"y\"},{\"font\":{\"color\":\"#FFFFFF\"},\"showarrow\":false,\"text\":\"0.25\",\"x\":\"alcohol\",\"xref\":\"x\",\"y\":\"sulphates\",\"yref\":\"y\"},{\"font\":{\"color\":\"#FFFFFF\"},\"showarrow\":false,\"text\":\"0.37\",\"x\":\"quality\",\"xref\":\"x\",\"y\":\"sulphates\",\"yref\":\"y\"},{\"font\":{\"color\":\"#000000\"},\"showarrow\":false,\"text\":\"-0.03\",\"x\":\"fixed acidity\",\"xref\":\"x\",\"y\":\"alcohol\",\"yref\":\"y\"},{\"font\":{\"color\":\"#000000\"},\"showarrow\":false,\"text\":\"-0.22\",\"x\":\"volatile acidity\",\"xref\":\"x\",\"y\":\"alcohol\",\"yref\":\"y\"},{\"font\":{\"color\":\"#000000\"},\"showarrow\":false,\"text\":\"0.08\",\"x\":\"citric acid\",\"xref\":\"x\",\"y\":\"alcohol\",\"yref\":\"y\"},{\"font\":{\"color\":\"#000000\"},\"showarrow\":false,\"text\":\"0.08\",\"x\":\"residual sugar\",\"xref\":\"x\",\"y\":\"alcohol\",\"yref\":\"y\"},{\"font\":{\"color\":\"#000000\"},\"showarrow\":false,\"text\":\"-0.15\",\"x\":\"chlorides\",\"xref\":\"x\",\"y\":\"alcohol\",\"yref\":\"y\"},{\"font\":{\"color\":\"#000000\"},\"showarrow\":false,\"text\":\"-0.11\",\"x\":\"free sulfur dioxide\",\"xref\":\"x\",\"y\":\"alcohol\",\"yref\":\"y\"},{\"font\":{\"color\":\"#000000\"},\"showarrow\":false,\"text\":\"-0.32\",\"x\":\"total sulfur dioxide\",\"xref\":\"x\",\"y\":\"alcohol\",\"yref\":\"y\"},{\"font\":{\"color\":\"#000000\"},\"showarrow\":false,\"text\":\"-0.36\",\"x\":\"density\",\"xref\":\"x\",\"y\":\"alcohol\",\"yref\":\"y\"},{\"font\":{\"color\":\"#000000\"},\"showarrow\":false,\"text\":\"0.13\",\"x\":\"pH\",\"xref\":\"x\",\"y\":\"alcohol\",\"yref\":\"y\"},{\"font\":{\"color\":\"#FFFFFF\"},\"showarrow\":false,\"text\":\"0.25\",\"x\":\"sulphates\",\"xref\":\"x\",\"y\":\"alcohol\",\"yref\":\"y\"},{\"font\":{\"color\":\"#FFFFFF\"},\"showarrow\":false,\"text\":\"1.0\",\"x\":\"alcohol\",\"xref\":\"x\",\"y\":\"alcohol\",\"yref\":\"y\"},{\"font\":{\"color\":\"#FFFFFF\"},\"showarrow\":false,\"text\":\"0.48\",\"x\":\"quality\",\"xref\":\"x\",\"y\":\"alcohol\",\"yref\":\"y\"},{\"font\":{\"color\":\"#000000\"},\"showarrow\":false,\"text\":\"0.07\",\"x\":\"fixed acidity\",\"xref\":\"x\",\"y\":\"quality\",\"yref\":\"y\"},{\"font\":{\"color\":\"#000000\"},\"showarrow\":false,\"text\":\"-0.22\",\"x\":\"volatile acidity\",\"xref\":\"x\",\"y\":\"quality\",\"yref\":\"y\"},{\"font\":{\"color\":\"#000000\"},\"showarrow\":false,\"text\":\"0.14\",\"x\":\"citric acid\",\"xref\":\"x\",\"y\":\"quality\",\"yref\":\"y\"},{\"font\":{\"color\":\"#000000\"},\"showarrow\":false,\"text\":\"0.05\",\"x\":\"residual sugar\",\"xref\":\"x\",\"y\":\"quality\",\"yref\":\"y\"},{\"font\":{\"color\":\"#000000\"},\"showarrow\":false,\"text\":\"-0.05\",\"x\":\"chlorides\",\"xref\":\"x\",\"y\":\"quality\",\"yref\":\"y\"},{\"font\":{\"color\":\"#000000\"},\"showarrow\":false,\"text\":\"-0.06\",\"x\":\"free sulfur dioxide\",\"xref\":\"x\",\"y\":\"quality\",\"yref\":\"y\"},{\"font\":{\"color\":\"#000000\"},\"showarrow\":false,\"text\":\"-0.23\",\"x\":\"total sulfur dioxide\",\"xref\":\"x\",\"y\":\"quality\",\"yref\":\"y\"},{\"font\":{\"color\":\"#000000\"},\"showarrow\":false,\"text\":\"-0.15\",\"x\":\"density\",\"xref\":\"x\",\"y\":\"quality\",\"yref\":\"y\"},{\"font\":{\"color\":\"#000000\"},\"showarrow\":false,\"text\":\"0.02\",\"x\":\"pH\",\"xref\":\"x\",\"y\":\"quality\",\"yref\":\"y\"},{\"font\":{\"color\":\"#FFFFFF\"},\"showarrow\":false,\"text\":\"0.37\",\"x\":\"sulphates\",\"xref\":\"x\",\"y\":\"quality\",\"yref\":\"y\"},{\"font\":{\"color\":\"#FFFFFF\"},\"showarrow\":false,\"text\":\"0.48\",\"x\":\"alcohol\",\"xref\":\"x\",\"y\":\"quality\",\"yref\":\"y\"},{\"font\":{\"color\":\"#FFFFFF\"},\"showarrow\":false,\"text\":\"1.0\",\"x\":\"quality\",\"xref\":\"x\",\"y\":\"quality\",\"yref\":\"y\"}],\"xaxis\":{\"dtick\":1,\"gridcolor\":\"rgb(0, 0, 0)\",\"side\":\"top\",\"ticks\":\"\"},\"yaxis\":{\"dtick\":1,\"ticks\":\"\",\"ticksuffix\":\"  \"},\"template\":{\"data\":{\"histogram2dcontour\":[{\"type\":\"histogram2dcontour\",\"colorbar\":{\"outlinewidth\":0,\"ticks\":\"\"},\"colorscale\":[[0.0,\"#0d0887\"],[0.1111111111111111,\"#46039f\"],[0.2222222222222222,\"#7201a8\"],[0.3333333333333333,\"#9c179e\"],[0.4444444444444444,\"#bd3786\"],[0.5555555555555556,\"#d8576b\"],[0.6666666666666666,\"#ed7953\"],[0.7777777777777778,\"#fb9f3a\"],[0.8888888888888888,\"#fdca26\"],[1.0,\"#f0f921\"]]}],\"choropleth\":[{\"type\":\"choropleth\",\"colorbar\":{\"outlinewidth\":0,\"ticks\":\"\"}}],\"histogram2d\":[{\"type\":\"histogram2d\",\"colorbar\":{\"outlinewidth\":0,\"ticks\":\"\"},\"colorscale\":[[0.0,\"#0d0887\"],[0.1111111111111111,\"#46039f\"],[0.2222222222222222,\"#7201a8\"],[0.3333333333333333,\"#9c179e\"],[0.4444444444444444,\"#bd3786\"],[0.5555555555555556,\"#d8576b\"],[0.6666666666666666,\"#ed7953\"],[0.7777777777777778,\"#fb9f3a\"],[0.8888888888888888,\"#fdca26\"],[1.0,\"#f0f921\"]]}],\"heatmap\":[{\"type\":\"heatmap\",\"colorbar\":{\"outlinewidth\":0,\"ticks\":\"\"},\"colorscale\":[[0.0,\"#0d0887\"],[0.1111111111111111,\"#46039f\"],[0.2222222222222222,\"#7201a8\"],[0.3333333333333333,\"#9c179e\"],[0.4444444444444444,\"#bd3786\"],[0.5555555555555556,\"#d8576b\"],[0.6666666666666666,\"#ed7953\"],[0.7777777777777778,\"#fb9f3a\"],[0.8888888888888888,\"#fdca26\"],[1.0,\"#f0f921\"]]}],\"heatmapgl\":[{\"type\":\"heatmapgl\",\"colorbar\":{\"outlinewidth\":0,\"ticks\":\"\"},\"colorscale\":[[0.0,\"#0d0887\"],[0.1111111111111111,\"#46039f\"],[0.2222222222222222,\"#7201a8\"],[0.3333333333333333,\"#9c179e\"],[0.4444444444444444,\"#bd3786\"],[0.5555555555555556,\"#d8576b\"],[0.6666666666666666,\"#ed7953\"],[0.7777777777777778,\"#fb9f3a\"],[0.8888888888888888,\"#fdca26\"],[1.0,\"#f0f921\"]]}],\"contourcarpet\":[{\"type\":\"contourcarpet\",\"colorbar\":{\"outlinewidth\":0,\"ticks\":\"\"}}],\"contour\":[{\"type\":\"contour\",\"colorbar\":{\"outlinewidth\":0,\"ticks\":\"\"},\"colorscale\":[[0.0,\"#0d0887\"],[0.1111111111111111,\"#46039f\"],[0.2222222222222222,\"#7201a8\"],[0.3333333333333333,\"#9c179e\"],[0.4444444444444444,\"#bd3786\"],[0.5555555555555556,\"#d8576b\"],[0.6666666666666666,\"#ed7953\"],[0.7777777777777778,\"#fb9f3a\"],[0.8888888888888888,\"#fdca26\"],[1.0,\"#f0f921\"]]}],\"surface\":[{\"type\":\"surface\",\"colorbar\":{\"outlinewidth\":0,\"ticks\":\"\"},\"colorscale\":[[0.0,\"#0d0887\"],[0.1111111111111111,\"#46039f\"],[0.2222222222222222,\"#7201a8\"],[0.3333333333333333,\"#9c179e\"],[0.4444444444444444,\"#bd3786\"],[0.5555555555555556,\"#d8576b\"],[0.6666666666666666,\"#ed7953\"],[0.7777777777777778,\"#fb9f3a\"],[0.8888888888888888,\"#fdca26\"],[1.0,\"#f0f921\"]]}],\"mesh3d\":[{\"type\":\"mesh3d\",\"colorbar\":{\"outlinewidth\":0,\"ticks\":\"\"}}],\"scatter\":[{\"fillpattern\":{\"fillmode\":\"overlay\",\"size\":10,\"solidity\":0.2},\"type\":\"scatter\"}],\"parcoords\":[{\"type\":\"parcoords\",\"line\":{\"colorbar\":{\"outlinewidth\":0,\"ticks\":\"\"}}}],\"scatterpolargl\":[{\"type\":\"scatterpolargl\",\"marker\":{\"colorbar\":{\"outlinewidth\":0,\"ticks\":\"\"}}}],\"bar\":[{\"error_x\":{\"color\":\"#2a3f5f\"},\"error_y\":{\"color\":\"#2a3f5f\"},\"marker\":{\"line\":{\"color\":\"#E5ECF6\",\"width\":0.5},\"pattern\":{\"fillmode\":\"overlay\",\"size\":10,\"solidity\":0.2}},\"type\":\"bar\"}],\"scattergeo\":[{\"type\":\"scattergeo\",\"marker\":{\"colorbar\":{\"outlinewidth\":0,\"ticks\":\"\"}}}],\"scatterpolar\":[{\"type\":\"scatterpolar\",\"marker\":{\"colorbar\":{\"outlinewidth\":0,\"ticks\":\"\"}}}],\"histogram\":[{\"marker\":{\"pattern\":{\"fillmode\":\"overlay\",\"size\":10,\"solidity\":0.2}},\"type\":\"histogram\"}],\"scattergl\":[{\"type\":\"scattergl\",\"marker\":{\"colorbar\":{\"outlinewidth\":0,\"ticks\":\"\"}}}],\"scatter3d\":[{\"type\":\"scatter3d\",\"line\":{\"colorbar\":{\"outlinewidth\":0,\"ticks\":\"\"}},\"marker\":{\"colorbar\":{\"outlinewidth\":0,\"ticks\":\"\"}}}],\"scattermapbox\":[{\"type\":\"scattermapbox\",\"marker\":{\"colorbar\":{\"outlinewidth\":0,\"ticks\":\"\"}}}],\"scatterternary\":[{\"type\":\"scatterternary\",\"marker\":{\"colorbar\":{\"outlinewidth\":0,\"ticks\":\"\"}}}],\"scattercarpet\":[{\"type\":\"scattercarpet\",\"marker\":{\"colorbar\":{\"outlinewidth\":0,\"ticks\":\"\"}}}],\"carpet\":[{\"aaxis\":{\"endlinecolor\":\"#2a3f5f\",\"gridcolor\":\"white\",\"linecolor\":\"white\",\"minorgridcolor\":\"white\",\"startlinecolor\":\"#2a3f5f\"},\"baxis\":{\"endlinecolor\":\"#2a3f5f\",\"gridcolor\":\"white\",\"linecolor\":\"white\",\"minorgridcolor\":\"white\",\"startlinecolor\":\"#2a3f5f\"},\"type\":\"carpet\"}],\"table\":[{\"cells\":{\"fill\":{\"color\":\"#EBF0F8\"},\"line\":{\"color\":\"white\"}},\"header\":{\"fill\":{\"color\":\"#C8D4E3\"},\"line\":{\"color\":\"white\"}},\"type\":\"table\"}],\"barpolar\":[{\"marker\":{\"line\":{\"color\":\"#E5ECF6\",\"width\":0.5},\"pattern\":{\"fillmode\":\"overlay\",\"size\":10,\"solidity\":0.2}},\"type\":\"barpolar\"}],\"pie\":[{\"automargin\":true,\"type\":\"pie\"}]},\"layout\":{\"autotypenumbers\":\"strict\",\"colorway\":[\"#636efa\",\"#EF553B\",\"#00cc96\",\"#ab63fa\",\"#FFA15A\",\"#19d3f3\",\"#FF6692\",\"#B6E880\",\"#FF97FF\",\"#FECB52\"],\"font\":{\"color\":\"#2a3f5f\"},\"hovermode\":\"closest\",\"hoverlabel\":{\"align\":\"left\"},\"paper_bgcolor\":\"white\",\"plot_bgcolor\":\"#E5ECF6\",\"polar\":{\"bgcolor\":\"#E5ECF6\",\"angularaxis\":{\"gridcolor\":\"white\",\"linecolor\":\"white\",\"ticks\":\"\"},\"radialaxis\":{\"gridcolor\":\"white\",\"linecolor\":\"white\",\"ticks\":\"\"}},\"ternary\":{\"bgcolor\":\"#E5ECF6\",\"aaxis\":{\"gridcolor\":\"white\",\"linecolor\":\"white\",\"ticks\":\"\"},\"baxis\":{\"gridcolor\":\"white\",\"linecolor\":\"white\",\"ticks\":\"\"},\"caxis\":{\"gridcolor\":\"white\",\"linecolor\":\"white\",\"ticks\":\"\"}},\"coloraxis\":{\"colorbar\":{\"outlinewidth\":0,\"ticks\":\"\"}},\"colorscale\":{\"sequential\":[[0.0,\"#0d0887\"],[0.1111111111111111,\"#46039f\"],[0.2222222222222222,\"#7201a8\"],[0.3333333333333333,\"#9c179e\"],[0.4444444444444444,\"#bd3786\"],[0.5555555555555556,\"#d8576b\"],[0.6666666666666666,\"#ed7953\"],[0.7777777777777778,\"#fb9f3a\"],[0.8888888888888888,\"#fdca26\"],[1.0,\"#f0f921\"]],\"sequentialminus\":[[0.0,\"#0d0887\"],[0.1111111111111111,\"#46039f\"],[0.2222222222222222,\"#7201a8\"],[0.3333333333333333,\"#9c179e\"],[0.4444444444444444,\"#bd3786\"],[0.5555555555555556,\"#d8576b\"],[0.6666666666666666,\"#ed7953\"],[0.7777777777777778,\"#fb9f3a\"],[0.8888888888888888,\"#fdca26\"],[1.0,\"#f0f921\"]],\"diverging\":[[0,\"#8e0152\"],[0.1,\"#c51b7d\"],[0.2,\"#de77ae\"],[0.3,\"#f1b6da\"],[0.4,\"#fde0ef\"],[0.5,\"#f7f7f7\"],[0.6,\"#e6f5d0\"],[0.7,\"#b8e186\"],[0.8,\"#7fbc41\"],[0.9,\"#4d9221\"],[1,\"#276419\"]]},\"xaxis\":{\"gridcolor\":\"white\",\"linecolor\":\"white\",\"ticks\":\"\",\"title\":{\"standoff\":15},\"zerolinecolor\":\"white\",\"automargin\":true,\"zerolinewidth\":2},\"yaxis\":{\"gridcolor\":\"white\",\"linecolor\":\"white\",\"ticks\":\"\",\"title\":{\"standoff\":15},\"zerolinecolor\":\"white\",\"automargin\":true,\"zerolinewidth\":2},\"scene\":{\"xaxis\":{\"backgroundcolor\":\"#E5ECF6\",\"gridcolor\":\"white\",\"linecolor\":\"white\",\"showbackground\":true,\"ticks\":\"\",\"zerolinecolor\":\"white\",\"gridwidth\":2},\"yaxis\":{\"backgroundcolor\":\"#E5ECF6\",\"gridcolor\":\"white\",\"linecolor\":\"white\",\"showbackground\":true,\"ticks\":\"\",\"zerolinecolor\":\"white\",\"gridwidth\":2},\"zaxis\":{\"backgroundcolor\":\"#E5ECF6\",\"gridcolor\":\"white\",\"linecolor\":\"white\",\"showbackground\":true,\"ticks\":\"\",\"zerolinecolor\":\"white\",\"gridwidth\":2}},\"shapedefaults\":{\"line\":{\"color\":\"#2a3f5f\"}},\"annotationdefaults\":{\"arrowcolor\":\"#2a3f5f\",\"arrowhead\":0,\"arrowwidth\":1},\"geo\":{\"bgcolor\":\"white\",\"landcolor\":\"#E5ECF6\",\"subunitcolor\":\"white\",\"showland\":true,\"showlakes\":true,\"lakecolor\":\"white\"},\"title\":{\"x\":0.05},\"mapbox\":{\"style\":\"light\"}}},\"title\":{\"text\":\"\\u003cb\\u003eFeature Correlation Heatmap\\u003c\\u002fb\\u003e\",\"x\":0.5},\"height\":650,\"width\":650},                        {\"responsive\": true}                    ).then(function(){\n",
              "                            \n",
              "var gd = document.getElementById('427c03b8-f7b0-42b0-8870-053ced95d385');\n",
              "var x = new MutationObserver(function (mutations, observer) {{\n",
              "        var display = window.getComputedStyle(gd).display;\n",
              "        if (!display || display === 'none') {{\n",
              "            console.log([gd, 'removed!']);\n",
              "            Plotly.purge(gd);\n",
              "            observer.disconnect();\n",
              "        }}\n",
              "}});\n",
              "\n",
              "// Listen for the removal of the full notebook cells\n",
              "var notebookContainer = gd.closest('#notebook-container');\n",
              "if (notebookContainer) {{\n",
              "    x.observe(notebookContainer, {childList: true});\n",
              "}}\n",
              "\n",
              "// Listen for the clearing of the current output cell\n",
              "var outputEl = gd.closest('.output');\n",
              "if (outputEl) {{\n",
              "    x.observe(outputEl, {childList: true});\n",
              "}}\n",
              "\n",
              "                        })                };                            </script>        </div>\n",
              "</body>\n",
              "</html>"
            ]
          },
          "metadata": {}
        }
      ]
    },
    {
      "cell_type": "code",
      "source": [
        "three_axes_scatterplot(df, 'citric acid', 'fixed acidity', 'density')\n",
        "\n",
        "#These three features are highly correlated"
      ],
      "metadata": {
        "execution": {
          "iopub.status.busy": "2023-07-14T11:55:36.848219Z",
          "iopub.execute_input": "2023-07-14T11:55:36.848599Z",
          "iopub.status.idle": "2023-07-14T11:55:36.923591Z",
          "shell.execute_reply.started": "2023-07-14T11:55:36.848569Z",
          "shell.execute_reply": "2023-07-14T11:55:36.922653Z"
        },
        "trusted": true,
        "id": "wZIhJOGvVnYa",
        "colab": {
          "base_uri": "https://localhost:8080/",
          "height": 617
        },
        "outputId": "f82477a1-f3a3-4c13-84a6-9c4cdce504c3"
      },
      "execution_count": 89,
      "outputs": [
        {
          "output_type": "display_data",
          "data": {
            "text/html": [
              "<html>\n",
              "<head><meta charset=\"utf-8\" /></head>\n",
              "<body>\n",
              "    <div>            <script src=\"https://cdnjs.cloudflare.com/ajax/libs/mathjax/2.7.5/MathJax.js?config=TeX-AMS-MML_SVG\"></script><script type=\"text/javascript\">if (window.MathJax && window.MathJax.Hub && window.MathJax.Hub.Config) {window.MathJax.Hub.Config({SVG: {font: \"STIX-Web\"}});}</script>                <script type=\"text/javascript\">window.PlotlyConfig = {MathJaxConfig: 'local'};</script>\n",
              "        <script charset=\"utf-8\" src=\"https://cdn.plot.ly/plotly-2.35.2.min.js\"></script>                <div id=\"08d63de0-0b73-41b9-8bbd-784979a889b3\" class=\"plotly-graph-div\" style=\"height:600px; width:700px;\"></div>            <script type=\"text/javascript\">                                    window.PLOTLYENV=window.PLOTLYENV || {};                                    if (document.getElementById(\"08d63de0-0b73-41b9-8bbd-784979a889b3\")) {                    Plotly.newPlot(                        \"08d63de0-0b73-41b9-8bbd-784979a889b3\",                        [{\"mode\":\"markers\",\"x\":[0.39,0.73,0.03,0.22,0.3,0.44,0.0,0.32,0.55,0.09,0.24,0.42,0.24,0.28,0.03,0.24,0.6,0.28,0.34,0.16,0.31,0.24,0.0,0.01,0.0,0.32,0.0,0.57,0.18,0.55,0.07,0.24,0.39,0.29,0.26,0.06,0.3,0.21,0.49,0.11,0.02,0.49,0.29,0.42,0.0,0.07,0.6,0.41,0.13,0.32,0.43,0.29,0.5,0.21,0.39,0.08,0.49,0.26,0.12,0.0,0.23,0.07,0.39,0.19,0.18,0.6,0.0,0.21,0.05,0.06,0.0,0.02,0.37,0.0,0.02,0.19,0.44,0.32,0.0,0.24,0.39,0.21,0.02,0.09,0.22,0.33,0.27,0.57,0.01,0.55,0.23,0.26,0.0,0.49,0.29,0.66,0.42,0.53,0.22,0.03,0.06,0.49,0.09,0.22,0.14,0.39,0.13,0.04,0.05,0.4,0.0,0.3,0.0,0.49,0.27,0.33,0.55,0.22,0.64,0.19,0.02,0.49,0.49,0.02,0.0,0.53,0.0,0.33,0.36,0.49,0.52,0.24,0.44,0.43,0.0,0.01,0.06,0.11,0.49,0.14,0.0,0.26,0.26,0.49,0.49,0.53,0.3,0.14,0.02,0.34,0.12,0.34,0.39,0.02,0.14,0.05,0.4,0.03,0.39,0.24,0.09,0.1,0.22,0.25,0.31,0.06,0.26,0.0,0.5,0.05,0.06,0.32,0.0,0.13,0.14,0.28,0.24,0.53,0.07,0.27,0.17,0.02,0.27,0.0,0.1,0.14,0.45,0.22,0.0,0.18,0.31,0.0,0.54,0.25,0.22,0.73,0.48,0.52,0.64,0.26,0.0,0.33,0.01,0.49,0.0,0.45,0.24,0.49,0.21,0.44,0.0,0.66,0.43,0.31,0.49,0.36,0.0,0.09,0.63,0.02,0.45,0.21,0.19,0.06,0.21,0.22,0.49,0.0,0.27,0.28,0.49,0.33,0.13,0.29,0.12,0.4,0.33,0.02,0.6,0.06,0.13,0.22,0.04,0.31,0.29,0.03,0.25,0.21,0.24,0.0,0.35,0.27,0.02,0.26,0.03,0.42,0.57,0.13,0.0,0.0,0.55,0.48,0.49,0.28,0.66,0.66,0.27,0.21,0.4,0.49,0.36,0.08,0.08,0.34,0.0,0.32,0.2,0.08,0.34,0.33,0.49,0.49,0.24,0.19,0.44,0.0,0.66,0.21,0.42,0.49,0.44,0.63,0.4,0.49,0.45,0.53,0.42,0.49,0.11,0.04,0.29,0.1,0.05,0.49,0.27,0.24,0.3,0.32,0.0,0.0,0.53,0.08,0.26,0.25,0.32,0.06,0.34,0.15,0.2,0.2,0.49,0.42,0.3,0.5,0.01,0.29,0.59,0.01,0.21,0.53,0.04,0.28,0.0,0.22,0.01,0.49,0.33,0.0,0.13,0.0,0.22,0.03,0.65,0.6,0.03,0.01,0.24,0.49,0.26,0.02,0.0,0.26,0.03,0.24,0.0,0.18,0.24,0.14,0.26,0.12,0.39,0.24,0.2,0.01,0.03,0.31,0.2,0.09,0.35,0.0,0.28,0.55,0.03,0.18,0.21,0.49,0.01,0.23,0.2,0.32,0.21,0.15,0.36,0.13,0.05,0.2,0.31,0.09,0.24,0.43,0.52,0.52,0.53,0.41,0.21,0.28,0.53,0.04,0.49,0.31,0.48,0.45,0.02,0.04,0.34,0.08,0.1,0.12,0.13,0.31,0.28,0.49,0.24,0.39,0.26,0.57,0.36,0.49,0.12,0.45,0.32,0.27,0.21,0.1,0.34,0.24,0.53,0.0,0.14,0.21,0.0,0.08,0.51,0.21,0.53,0.31,0.63,0.32,0.08,0.07,0.24,0.48,0.54,0.23,0.28,0.34,0.19,0.76,0.11,0.43,0.0,0.22,0.21,0.14,0.49,0.18,0.49,0.49,0.56,0.5,0.63,0.04,0.32,0.0,0.27,0.49,0.0,0.21,0.3,0.56,0.15,0.21,0.17,0.31,0.0,0.19,0.03,0.0,0.34,0.04,0.02,0.01,0.49,0.53,0.65,0.28,0.53,0.0,0.41,0.22,0.64,0.01,0.34,0.0,0.3,0.31,0.01,0.06,0.24,0.0,0.0,0.0,0.39,0.19,0.01,0.26,0.51,0.44,0.3,0.1,0.01,0.34,0.01,0.0,0.09,0.1,0.15,0.63,0.19,0.44,0.06,0.22,0.24,0.41,0.36,0.59,0.49,0.22,0.35,0.0,0.36,0.0,0.04,0.4,0.32,0.34,0.51,0.31,0.49,0.02,0.04,0.07,0.2,0.31,0.13,0.4,0.26,0.49,0.25,0.07,0.45,0.03,0.48,0.14,0.12,0.52,0.32,0.53,0.0,0.21,0.53,0.0,0.43,0.49,0.68,0.37,0.33,0.45,0.17,0.31,0.03,0.28,0.31,0.49,0.49,0.2,0.01,0.49,0.34,0.24,0.3,0.32,0.02,0.15,0.53,0.53,0.26,0.19,0.18,0.11,0.26,0.0,0.49,0.2,0.63,0.4,0.28,0.25,0.05,0.31,0.66,0.32,0.49,0.24,0.63,0.06,0.49,0.07,0.25,0.49,0.49,0.49,0.37,0.22,0.3,0.24,0.66,0.45,0.52,0.29,0.05,0.22,0.26,0.26,0.0,0.49,0.0,0.33,0.0,0.46,0.0,0.46,0.45,0.5,0.29,0.3,0.06,0.53,0.08,0.3,0.24,0.36,0.23,0.34,0.39,0.08,0.12,0.24,0.03,0.63,0.13,0.08,0.0,0.42,0.31,0.49,0.27,0.48,0.0,0.24,0.03,0.36,0.57,0.4,0.21,0.17,0.03,0.03,0.2,0.45,0.0,0.31,0.31,0.32,0.51,0.49,0.14,0.48,0.15,0.14,0.02,0.08,0.36,0.19,0.0,0.0,0.0,0.33,0.48,0.24,0.48,0.53,0.49,0.45,0.42,0.01,0.21,0.0,0.21,0.32,0.0,0.52,0.02,0.04,0.0,0.01,0.32,0.24,0.02,0.34,0.22,0.26,0.01,0.12,0.3,0.0,0.08,0.3,0.28,0.74,0.28,0.42,0.03,0.0,0.11,0.68,0.1,0.14,0.0,0.26,0.27,0.08,0.24,0.4,0.3,0.32,0.04,0.28,0.63,0.0,0.31,0.35,0.17,0.44,0.25,0.08,0.0,0.49,0.3,0.52,0.02,0.0,0.41,0.2,0.22,0.49,0.26,0.55,0.26,0.29,0.21,0.36,0.4,0.0,0.54,0.59,0.32,0.47,0.02,0.09,0.19,0.1,0.13,0.28,0.07,0.25,0.13,0.53,0.12,0.0,0.6,0.42,0.43,0.33,0.03,0.39,0.4,0.0,0.34,0.12,0.16,0.07,0.24,0.63,0.01,0.44,0.24,0.55,0.44,0.66,0.22,0.3,0.01,0.07,0.3,0.3,0.31,0.36,0.49,0.49,0.07,0.0,0.0,0.49,0.32,0.26,0.39,0.53,0.49,0.08,0.47,0.21,0.31,0.0,0.31,0.0,0.26,0.21,0.0,0.28,0.2,0.01,0.51,0.49,0.06,0.06,0.23,0.59,0.54,0.08,0.34,0.52,0.15,0.25,0.0,0.12,0.0,0.24,0.0,0.24,0.0,0.2,0.01,0.53,0.04,0.03,0.51,0.53,0.49,0.14,0.59,0.53,0.24,0.52,0.0,0.53,0.09,0.45,0.2,0.51,0.06,0.48,0.12,0.31,0.0,0.21,0.02,0.24,0.3,0.44,0.0,0.1,0.54,0.03,0.59,0.24,0.6,0.0,0.45,0.23,0.26,0.21,0.26,0.46,0.43,0.46,0.23,0.0,0.53,0.07,0.0,0.08,0.32,0.32,0.49,0.17,0.01,0.24,0.29,0.04,0.46,0.27,0.63,0.01,0.24,0.0,0.24,0.19,0.02,0.54,0.02,0.28,0.0,0.26,0.0,0.28,0.16,0.0,0.26,0.18,0.14,0.73,0.35,0.31,0.21,0.26,0.49,0.66,0.22,0.44,0.4,0.01,0.66,0.05,0.49,0.24,0.01,0.29,0.32,0.0,0.3,0.25,0.12,0.59,0.01,0.51,0.21,0.68,0.0,0.0,0.29,0.45,0.49,0.66,0.0,0.24,0.19,0.03,0.29,0.52,0.21,0.6,0.23,0.29,0.0,0.29,0.52,0.23,0.0,0.32,0.02,0.53,0.39,0.31,0.0,0.49,0.06,0.27,0.3,0.18,0.0,0.26,0.3,0.38,0.2,0.49,0.47,0.41,0.0,0.42,0.73,0.0,0.49,0.26,0.49,0.08,0.02,0.0,0.22,0.42,0.37,0.0,0.07,0.26,0.31,0.4,0.53,0.32,0.54,0.27,0.21,0.06,0.26,0.32,0.25,0.21,0.49,0.02,0.0,0.27,0.24,0.3,0.19,0.43,0.28,0.2,0.49,0.01,0.1,0.0,0.0,0.66,0.63,0.3,0.32,0.28,0.08,0.0,0.4,0.07,0.53,0.49,0.0,0.0,0.14,0.59,0.09,0.63,0.2,0.45,0.16,0.45,0.24,0.31,0.09,0.43,0.55,0.33,0.63,0.36,0.19,0.49,0.18,0.49,0.49,0.32,0.39,0.34,0.03,0.0,0.55,0.22,0.5,0.36,0.26,0.36,0.06,0.63,0.49,0.07,0.3,0.54,0.36,0.49,0.02,0.26,0.31,0.11,0.47,0.26,0.31,0.21,0.0,0.49,0.24,0.13,0.04,0.24,0.25,0.22,0.26,0.49,0.59,0.19,0.02,0.49,0.12,0.6,0.03,0.14,0.31,0.3,0.41,0.35,0.26,0.0,0.33,0.42,0.38,0.0,0.22,0.3,0.57,0.49,0.1,0.16,0.24,0.24,0.24,0.53,0.23,0.0,0.24,0.53,0.32,0.0,0.57,0.0,0.49,0.21,0.45,0.01,0.06,0.55,0.3,0.0,0.05,0.31,0.11,0.03,0.37,0.42,0.02,0.0,0.49,0.32,0.53,0.0,0.0,0.03,0.39,0.0,0.27,0.43,0.23,0.23,0.49,0.45,0.0,0.01,0.24,0.03,0.28,0.54,0.02,0.48,0.26,0.3,0.25,0.06,0.49,0.03,0.0,0.03,0.28,0.14,0.47,0.27,0.6,0.08,0.04,0.15,0.6,0.28,0.21,0.26,0.11,0.0,0.05,0.54,0.32,0.26,0.2,0.26,0.24,0.49,0.36,0.28,0.09,0.47,0.14,0.0,0.49,0.55,0.22,0.0,0.2,0.6,0.28,0.11,0.0,0.2,0.49,0.58,0.66,0.22,0.24,0.41,0.0,0.01,0.02,0.49,0.4,0.37,0.49,0.38,0.0,0.25,0.2,0.57,0.26,0.45,0.18,0.49,0.27,0.32,0.08,0.45,0.26,0.0,0.41,0.37,0.49,0.0,0.53,0.04,0.07,0.0,0.2,0.45,0.5,0.51,0.24,0.1,0.26,0.32,0.23,0.53,0.06,0.49,0.32,0.0,0.67,0.08,0.63,0.1,0.06,0.3,0.08,0.0,0.08,0.1,0.3,0.49,0.24,0.57,0.49,0.16,0.3,0.54,0.4,0.14,0.48,0.25,0.32,0.24,0.53,0.37,0.06,0.49,0.04,0.19,0.08,0.08,0.36,0.02,0.13,0.14,0.59,0.32,0.24,0.22,0.29,0.43,0.29,0.43,0.03,0.26,0.0,0.3,0.42,0.24,0.22,0.24,0.66,0.0,0.32,0.08,0.26,0.24,0.49,0.42,0.24,0.01,0.03,0.23,0.49,0.25,0.56,0.24,0.66,0.49,0.3,0.0,0.24,0.35,0.19,0.09,0.25,0.4,0.0,0.24,0.49,0.32,0.28,0.37,0.24,0.3,0.41,0.48,0.36,0.35,0.33,0.03,0.4,0.0,0.4,0.49,0.5,0.0,0.31,0.22,0.31,0.04,0.49,0.0,0.16,0.0,0.49,0.2,0.3,0.39,0.53,0.31,0.19,0.53,0.66,0.3,0.24,0.26,0.1,0.49,0.26,0.02,0.49,0.38,0.53,0.32,0.0,0.03,0.17,0.24,0.06,0.37,0.35,0.39,0.53,0.28,0.53,0.25,0.32,0.12,0.17,0.23,0.32,0.26,0.49,0.17,0.08,0.45,0.5,0.1,0.3,0.26,0.15,0.49,0.1,0.0,0.29,0.0,0.05,0.09,0.01,0.22,0.66,0.0,0.32,0.0,0.35,0.24,0.2,0.35,0.15,0.07,0.08,0.49,0.4,0.55,0.25,0.24,0.0,0.66,0.24,0.0,0.1,0.42,0.49,0.59,0.08,0.42,0.01,0.1,0.39,0.5,0.21,0.29,0.15,0.08,0.65,0.09,0.44,0.45,0.32,0.0,0.01,0.19,0.13,0.22,0.26,0.0,0.35,0.27,0.49,0.66,0.37,0.32,0.24,0.45,0.28,0.17,0.28,0.02,0.24,0.0,0.41,0.51,0.39,0.22,0.07,0.57,0.05,0.22,0.31,0.25,0.29,0.23,0.34,0.34,0.24,0.41,0.18,0.27,0.48,0.0,0.22,0.6,0.24,0.45,0.23,0.37,0.28,0.28,0.34,0.0,0.02,0.05,0.06,0.15,0.21,0.33,0.49,0.31,0.2,0.3,0.0,0.66,0.45,0.43,0.42,0.3,0.23,0.24,0.13,0.19,0.24,0.06,0.6,0.31,0.24,0.4,0.27,0.08,0.4,0.05,0.42,0.1,0.49,0.03,0.07,0.43,0.68,0.0,0.0,0.66,0.0,0.24,0.14,0.07,0.12,0.3,0.24,0.08,0.6,0.66,0.29,0.12,0.14,0.17,0.49,0.3,0.53,0.36,0.1,0.15,0.26,0.52,0.6,0.29,0.63,0.3,0.0,0.3,0.0,0.3,0.32,0.49,0.34,0.26,0.21,0.49,0.14,0.13,0.25,0.0,0.05,0.0,0.32,0.54,0.14,0.21,0.2,0.66,0.53,0.45,0.49,0.32,0.24,0.06,0.1,0.02,0.24,0.36,0.24,0.49,0.21,0.02,0.24,0.66,0.08,0.28,0.33,0.48,0.0,0.0,0.3,0.73,0.26,0.01,0.48,0.21,0.07,0.25,0.24,0.49,0.3,0.24,0.33,0.66,0.0,0.43,0.23,0.01,0.0,0.24,0.0,0.32,0.32,0.23,0.21,0.29,0.03,0.72,0.24,0.45,0.53,0.15,0.33,0.64,0.25,0.4,0.0,0.09,0.04,0.66,0.28,0.41,0.24,0.63,0.24,0.13,0.0,0.54,0.24,0.08,0.31,0.21,0.38,0.49,0.32,0.4,0.03,0.49,0.5,0.37,0.17,0.12,0.1,0.05,0.0,0.19,0.21,0.27,0.0,0.1,0.23,0.31,0.0,0.02,0.33,0.12,0.49,0.02,0.36,0.34,0.27,0.01,0.34,0.48,0.1,0.22,0.58,0.42,0.49,0.49,0.43,0.22,0.31,0.34,0.0,0.21,0.49,0.0,0.09,0.31,0.51,0.23,0.08,0.35,0.53,0.0,0.43,0.65,0.03,0.0,0.02,0.42,0.02,0.09,0.34,0.51,0.24,0.02,0.06,0.28,0.13,0.53,0.23,0.31,0.27,0.23,0.09,0.0,0.26,0.25,0.0,0.22,0.44,0.1,0.49,0.39,0.43,0.45,0.14,0.11,0.0,0.0,0.31,0.28,0.45,0.52,0.49,0.57,0.37,0.54,0.04,0.76,0.24,0.49,0.66,0.0,0.25,0.0,0.03,0.53,0.01,0.51,0.19,0.26,0.01,0.03,0.04,0.42,0.28,0.28,0.3,0.05,0.08,0.27,0.21,0.08,0.28,0.1,0.24,0.18,0.11,0.27,0.24,0.27,0.2,0.18,0.0,0.24,0.07,0.21,0.21,0.63,0.53,0.02,0.42,0.14,0.24,0.32,0.48,0.53,0.26,0.45,0.0,0.03,0.39,0.03,0.06,0.09,0.0,0.3,0.57,0.2,0.26,0.49,0.24,0.49,0.34,0.21,0.25,0.0,0.08,0.0,0.01,0.3,0.2,0.2,0.05,0.17,0.33,0.18,0.11,0.09,0.32,0.64,0.03,0.23,0.63,0.5,0.4,0.66,0.45,0.56,0.49,0.32,0.0,0.04,0.24,0.0,0.0,0.07,0.12,0.13,0.49,0.05,0.46,0.3,0.02,0.15,0.66,0.46,0.25,0.21,0.22,0.51,0.06,0.49,0.21,0.66,0.57,0.1,0.18,0.15,0.3,0.0,0.0,0.57,0.31,0.21,0.42,0.68,0.09,0.24,0.49,0.39,0.2,0.49,0.0,0.33,0.0,0.4,0.02,0.2,0.21,0.26,0.14,0.19,0.28,0.07,0.24,0.32,0.42,0.18,0.02,0.02,0.42,0.33,0.53,0.21,0.04,0.49,0.02,0.21,0.01,0.49,0.49,0.4,0.24,0.44,0.08,0.24,0.25,0.33,0.0,0.5,0.24,0.07,0.31,0.54,0.21,0.1,0.0,0.33,0.49,0.46,0.0,0.14,0.49,0.13,0.24,0.0,0.49,0.34,0.26,0.06,0.04,0.33,0.43,0.47,0.0,0.08,0.05,0.24,0.21,0.17,0.4,0.15,0.02,0.45,0.42,0.0,0.01,0.08,0.08,0.24,0.24,0.49,0.31,0.49,0.24,0.24,0.55,0.57,0.22,0.14,0.32,0.2,0.2,0.48,0.21,0.14,0.32,0.27,0.4,0.16,0.25,0.24,0.21,0.3,0.48,0.0,0.38,0.19,0.49,0.19,0.43,0.47,0.6,0.0,0.28,0.27,0.42,0.33,0.29,0.27,0.49,0.24,0.49,0.13,0.21,0.42,0.0,0.18],\"y\":[8.0,9.3,7.1,8.1,8.5,9.9,7.2,7.5,11.6,7.8,9.0,10.4,10.5,6.7,6.4,7.4,11.5,7.6,10.2,5.6,9.1,9.7,8.0,5.9,7.9,8.2,7.3,10.3,8.9,10.8,8.0,6.1,8.9,7.8,9.2,7.0,7.1,8.7,12.0,8.6,7.5,12.0,7.8,8.4,7.1,8.0,8.7,7.4,5.0,7.0,8.6,7.3,9.9,7.6,9.8,7.8,9.3,7.4,7.8,7.0,7.4,7.2,9.4,8.8,8.0,12.8,7.0,7.7,7.4,6.6,7.1,6.3,9.3,6.1,7.0,8.9,10.9,7.8,7.2,8.8,9.0,8.2,7.1,5.3,8.0,10.0,8.6,10.4,6.7,9.1,7.3,8.0,7.1,9.0,8.1,12.6,10.0,10.4,8.1,5.6,7.4,9.3,8.2,8.8,8.2,8.9,5.8,6.8,8.2,7.1,7.0,7.2,6.6,12.3,6.8,7.3,9.9,6.9,12.5,8.7,7.5,9.7,7.9,7.5,7.2,9.3,6.8,9.1,9.1,11.9,8.0,9.2,10.0,8.6,7.3,7.0,7.0,9.8,8.3,7.0,7.0,7.8,7.7,10.4,9.6,11.9,7.0,6.9,6.0,8.9,7.2,8.6,10.4,7.0,6.3,7.8,6.6,6.9,9.3,10.2,7.6,7.4,8.8,7.9,9.0,7.0,9.0,7.0,9.3,5.6,7.5,7.0,6.0,7.8,7.2,8.4,7.3,7.5,7.0,9.1,7.4,7.2,8.3,9.9,6.6,6.8,10.4,7.1,6.8,8.4,6.6,6.1,10.0,8.7,8.3,10.4,11.6,7.5,8.7,7.1,6.7,7.9,6.7,13.3,7.1,8.8,8.4,13.2,7.4,10.2,5.1,12.3,7.9,7.6,12.3,10.3,7.0,10.6,13.8,7.0,8.8,8.2,6.7,7.2,7.7,7.4,9.9,6.8,8.9,6.7,10.4,8.9,7.9,9.5,7.7,11.3,7.3,7.1,14.3,7.2,7.6,8.9,6.6,7.7,6.6,6.4,6.3,7.7,9.9,6.7,7.3,7.9,6.2,7.0,6.8,7.6,11.3,6.1,9.1,7.0,8.7,10.2,6.6,7.8,11.9,11.6,7.6,7.4,9.9,13.8,7.8,6.8,6.4,8.3,6.6,9.4,8.7,6.4,7.9,7.1,13.3,10.6,7.3,9.9,8.8,7.1,13.8,7.9,9.3,11.4,9.4,11.4,10.1,12.8,8.2,11.5,7.7,12.4,8.6,7.6,7.6,6.4,6.6,12.3,8.0,9.3,9.0,9.8,7.7,7.3,8.9,7.7,6.7,6.6,8.8,7.2,7.6,6.9,8.1,6.5,12.8,8.1,7.4,9.3,6.7,8.2,11.9,7.8,7.2,8.9,6.7,8.8,6.4,8.1,6.6,10.4,7.9,5.9,7.9,5.0,8.1,7.7,8.0,8.8,7.2,7.6,8.6,9.6,8.7,7.8,5.2,7.9,7.2,8.2,7.9,7.3,10.1,7.6,8.3,7.3,9.9,8.6,7.5,7.7,7.0,7.8,9.9,6.5,9.6,5.0,8.0,8.8,8.1,7.2,7.7,7.8,7.3,8.3,7.1,8.0,6.7,8.4,8.7,6.3,7.4,7.5,7.8,8.7,9.4,9.4,9.1,11.8,11.5,10.7,9.3,7.7,11.5,8.8,9.1,8.8,10.7,8.9,6.6,6.9,7.5,7.0,6.7,9.9,7.9,7.6,7.1,9.9,11.4,8.4,7.9,8.8,10.2,8.7,7.3,9.8,7.3,9.1,7.6,6.8,8.2,9.2,11.2,6.1,8.7,7.6,8.1,7.7,7.0,7.5,9.3,8.3,10.0,7.6,6.8,8.4,9.9,12.8,9.8,7.6,5.6,8.9,8.0,11.9,8.0,10.6,6.4,8.0,7.1,7.6,7.9,7.1,7.4,9.2,11.9,10.9,10.4,8.4,7.4,6.0,8.0,11.9,7.1,8.3,7.3,10.0,6.7,9.7,7.8,7.8,7.0,6.9,7.2,7.0,10.9,7.9,6.9,7.8,15.0,12.6,11.5,9.9,11.5,8.1,10.6,8.4,12.3,7.1,8.2,9.4,7.2,10.0,7.5,9.9,8.7,6.8,6.8,6.7,8.9,7.8,5.6,7.7,7.9,8.4,8.7,7.8,7.9,10.6,7.2,7.6,8.5,8.3,6.7,12.5,6.0,7.2,7.2,8.3,9.0,13.0,9.8,9.0,12.3,8.4,8.9,9.3,8.7,6.5,5.9,9.3,7.4,7.6,11.1,8.3,8.3,6.9,8.6,6.4,7.9,9.6,7.5,7.7,7.7,10.4,7.3,7.1,9.1,7.8,10.8,8.1,7.5,11.1,8.2,10.0,7.7,7.8,9.6,6.8,9.1,11.9,10.4,8.9,7.9,8.9,8.8,6.6,6.6,6.4,8.8,12.5,11.9,7.0,6.9,8.7,7.6,8.9,8.3,8.9,6.6,6.5,10.7,11.6,7.0,7.5,7.8,7.3,7.4,7.1,9.4,6.4,12.5,7.9,7.8,8.6,7.9,9.3,13.3,7.2,12.0,8.4,13.9,6.7,11.7,7.2,7.5,10.8,10.3,13.0,9.1,8.0,7.3,8.4,11.9,8.9,11.3,8.9,7.9,8.7,7.4,7.6,7.0,9.9,8.8,8.3,6.5,10.8,6.1,9.9,10.2,7.6,8.8,9.9,7.6,11.3,6.4,7.6,7.9,8.2,5.9,7.4,8.8,6.8,8.4,9.3,7.8,11.5,6.7,6.6,7.5,7.0,7.1,11.5,7.5,8.1,7.6,9.5,7.5,8.8,8.4,8.7,6.9,6.9,7.1,7.4,7.7,8.9,7.1,7.5,7.5,7.8,7.9,12.5,9.4,8.2,6.3,9.2,7.0,6.8,9.1,9.4,6.8,6.1,6.3,10.8,10.2,9.3,8.7,11.4,9.9,11.5,9.3,6.6,7.7,7.4,7.0,7.4,6.8,8.2,6.8,7.7,7.2,7.2,7.8,10.0,5.2,7.9,9.8,8.8,6.2,9.1,6.1,7.1,6.4,9.3,8.3,12.8,7.5,8.1,7.7,6.7,6.8,11.6,6.2,7.8,6.5,7.6,8.6,7.0,7.7,9.0,7.1,7.4,8.7,7.7,10.0,8.0,8.6,7.7,8.2,10.3,8.8,6.2,6.2,12.0,8.2,9.3,7.1,7.8,8.7,7.3,8.7,12.0,8.8,10.1,8.7,7.2,9.3,7.7,9.9,6.1,11.6,10.5,7.9,9.9,7.9,6.8,8.9,7.2,8.9,7.5,7.7,7.8,6.7,11.5,7.1,10.1,9.2,9.1,8.9,8.8,7.6,7.2,8.9,7.7,8.9,7.8,7.2,6.6,8.8,10.5,6.6,10.1,9.5,12.3,10.4,7.8,6.1,8.6,6.4,6.7,7.0,8.6,7.1,8.4,9.3,8.8,5.3,6.5,6.8,10.0,10.6,8.3,8.9,11.3,11.5,7.8,12.2,7.5,8.8,11.6,8.3,7.0,7.7,7.8,8.8,8.0,8.1,6.8,10.5,9.8,7.8,7.7,7.3,7.6,8.9,6.2,8.2,8.0,6.8,8.0,7.1,8.8,6.4,7.9,8.1,8.7,6.3,6.3,7.9,11.9,7.2,7.9,12.3,11.3,11.3,7.8,10.0,12.4,5.0,10.3,6.1,10.2,8.6,10.9,7.7,9.0,7.7,7.3,7.3,9.4,6.4,7.3,7.1,7.1,6.2,9.3,7.5,7.7,11.9,7.1,10.4,9.9,8.2,7.7,8.6,8.2,7.8,7.8,7.8,7.5,8.8,6.9,8.9,7.5,11.5,6.6,7.9,6.7,7.2,8.0,8.8,7.1,7.9,8.2,9.6,7.8,8.0,6.4,11.5,7.1,9.2,7.3,8.6,7.8,7.4,12.5,7.1,6.8,7.1,7.6,8.4,8.1,7.8,6.5,7.5,6.7,8.8,11.9,8.5,7.7,8.8,7.0,11.5,7.2,8.0,11.8,8.0,7.8,11.5,6.5,8.6,8.9,7.5,8.3,10.8,6.0,7.3,6.4,8.4,13.3,7.5,10.8,6.6,11.5,7.3,6.6,6.6,8.2,8.8,13.0,7.8,9.6,7.1,7.4,6.5,8.5,7.5,8.8,8.1,7.8,8.1,7.6,8.0,9.2,6.8,6.7,6.6,10.2,9.0,8.8,8.3,9.9,7.7,7.2,7.2,8.8,7.1,7.8,6.8,9.2,8.0,8.3,9.3,8.8,7.1,7.9,8.8,7.2,8.0,7.4,12.3,6.4,7.0,8.1,10.0,10.2,8.2,7.5,7.5,8.8,8.2,7.1,11.6,8.3,12.5,8.7,7.6,6.7,7.7,7.8,8.0,7.7,12.6,7.5,7.1,7.6,8.9,8.0,6.4,6.7,9.1,7.6,12.3,7.8,6.9,7.2,6.1,12.0,12.5,7.1,6.2,8.4,6.8,7.9,8.2,7.6,8.7,12.5,8.3,7.6,6.4,8.0,6.8,12.0,7.7,8.5,6.5,10.2,6.7,7.5,8.8,10.1,11.6,7.6,11.5,11.7,9.0,9.3,7.7,12.6,10.6,7.7,8.1,8.4,6.4,7.2,11.9,9.1,12.8,8.6,7.4,8.9,7.1,10.4,8.6,5.6,7.4,11.3,7.8,11.9,6.6,9.2,6.9,6.2,7.4,7.4,8.9,7.7,6.6,12.4,8.6,7.3,6.2,8.4,8.2,8.5,7.4,13.5,10.3,7.8,7.2,8.1,7.8,13.3,8.2,7.9,9.5,8.0,7.1,7.0,7.6,7.4,8.9,6.8,10.9,5.1,8.2,8.6,8.4,9.9,7.7,7.0,8.2,6.7,7.6,8.8,8.0,6.0,8.0,9.1,8.2,5.6,7.5,7.0,9.9,9.9,8.9,7.6,6.6,8.9,7.3,6.5,7.7,6.7,8.0,8.1,10.2,7.7,7.0,7.3,8.1,7.0,12.6,7.1,8.3,6.8,9.6,7.0,7.9,6.0,6.9,8.7,11.9,8.9,7.7,7.4,7.0,7.5,7.7,8.4,6.1,10.4,7.5,8.1,9.4,7.8,11.9,7.6,6.2,7.2,9.8,6.8,10.3,6.9,8.8,8.5,5.1,7.1,11.9,9.3,9.9,7.5,8.3,6.0,7.9,11.7,7.7,8.7,7.4,8.2,9.9,8.9,7.3,7.2,7.8,10.0,7.3,8.1,9.4,10.1,8.2,7.1,7.5,9.3,9.1,5.7,5.6,6.8,10.6,9.8,11.1,6.0,10.0,8.3,6.4,7.0,7.9,9.9,8.7,8.8,9.9,9.5,6.4,8.9,6.2,9.7,8.3,8.9,7.9,12.3,9.6,7.5,6.1,10.2,7.7,7.0,9.1,7.0,10.4,6.0,10.1,5.6,6.8,8.0,8.3,7.6,13.4,8.0,8.7,7.0,7.6,5.3,9.8,10.1,7.6,9.2,8.9,6.2,10.4,6.2,10.4,6.1,7.9,8.6,6.7,7.9,6.5,8.0,8.3,12.6,6.4,6.4,12.4,8.7,8.4,8.9,7.9,6.2,9.4,8.6,9.2,9.6,11.4,8.7,7.6,12.6,6.2,7.7,6.4,7.0,9.0,6.4,8.8,6.4,11.5,9.2,10.6,9.8,7.6,7.8,7.8,10.6,7.2,7.0,5.6,9.4,7.2,8.3,6.0,10.2,11.5,8.0,7.8,6.8,7.8,10.6,10.0,7.2,10.5,7.6,5.6,7.9,10.6,8.0,9.2,10.6,12.0,8.3,7.2,7.5,6.7,7.6,7.1,6.7,7.5,8.2,6.7,7.0,8.9,7.2,9.4,8.4,8.9,7.7,8.2,9.3,8.2,7.9,7.5,7.2,7.5,6.1,8.6,12.7,8.8,6.3,7.6,7.1,9.6,7.8,12.8,7.1,9.1,8.1,9.0,6.2,7.1,9.3,11.5,8.7,7.3,13.0,12.8,7.3,7.9,7.9,7.7,15.5,9.4,7.5,8.3,8.3,9.9,10.7,6.5,6.8,10.0,7.6,7.8,8.9,8.0,8.9,11.5,7.4,11.4,8.7,7.8,8.9,8.5,6.0,8.3,8.3,15.9,7.1,7.0,9.1,8.1,8.1,11.9,7.9,6.1,11.6,8.0,5.6,7.6,6.0,7.8,6.4,7.1,9.2,12.5,8.9,9.3,7.1,7.8,6.5,8.0,9.9,6.2,7.6,6.3,8.5,9.3,10.5,9.2,9.4,7.4,11.3,9.3,6.8,7.0,7.9,9.3,12.3,7.1,8.6,6.8,7.9,8.4,11.5,7.6,7.6,7.8,6.2,11.3,8.0,9.3,9.0,7.8,7.1,5.0,7.9,7.2,9.0,7.6,6.8,8.5,8.1,9.4,10.6,8.6,7.6,6.0,9.9,7.2,8.9,9.8,7.1,10.6,7.3,9.4,9.9,9.4,8.0,7.7,8.4,8.8,9.4,7.8,9.0,9.1,7.8,7.0,9.1,8.1,8.3,7.0,5.2,10.7,6.9,8.8,9.7,9.3,6.9,8.4,8.6,9.3,9.9,8.1,6.5,7.5,7.1,7.7,8.3,9.9,9.0,9.8,5.4,8.6,7.1,7.0,11.3,8.3,10.4,7.5,8.2,6.9,8.7,6.5,7.2,8.7,7.5,9.1,9.9,9.3,9.3,8.6,6.7,7.2,7.0,8.2,7.9,9.0,7.1,6.7,7.5,8.0,7.0,5.3,12.3,6.8,8.9,7.4,6.8,7.8,8.3,6.2,6.0,10.2,12.5,7.9,7.1,7.8,8.3,11.9,7.5,7.5,8.4,8.6,6.0,8.1,9.4,11.9,10.0,12.5,7.9,5.6,8.9,6.8,8.1,7.5,12.3,8.0,7.7,7.7,12.8,7.4,7.2,7.8,11.1,7.6,6.7,7.7,10.6,6.8,7.2,8.9,11.9,13.2,9.0,12.8,7.8,9.3,6.9,6.3,7.3,8.9,7.2,8.3,8.3,7.8,6.5,7.5,11.4,6.7,8.3,7.4,8.4,7.1,6.6,7.1,11.9,8.1,7.7,9.1,6.7,5.6,6.8,8.4,8.8,9.1,10.2,7.3,11.9,7.1,10.4,7.4,7.0,6.4,9.0,7.1,8.5,7.5,7.7,8.2,6.2,7.5,9.6,9.0,9.1,11.3,7.1,6.7,10.8,8.6,8.3,7.5,8.0,5.6,11.1,9.0,8.0,9.4,9.9,6.7,7.6,6.8,9.5,10.2,6.7,7.5,6.7,8.2,10.0,8.2,8.2,7.1,8.7,9.2,5.7,7.8,8.2,7.0,5.9,6.7,8.8,7.7,8.2,6.3,8.7,6.9,8.9,6.6,7.5,8.8,6.1,8.2,6.2,7.0,7.8,8.0,8.4,8.8,9.9,9.3,8.7,10.9,8.3,9.4,11.9,6.9,8.4,7.7,9.3,6.6,6.8,12.5,7.0,7.0,9.8,9.9,7.6,6.2,8.6,11.3,6.1,11.3,11.6,6.7,6.0,6.9,8.2,7.5,8.8,8.4,11.9,9.3,7.1,7.5,7.8,7.6,10.5,7.3,8.6,7.4,8.2,6.8,7.2,7.7,6.1,5.4,9.2,11.9,7.2,10.6,8.5,10.5,10.0,6.4,5.0,7.1,6.8,7.7,7.0,10.6,9.2,12.3,9.0,8.0,11.9,6.6,12.8,7.8,12.5,10.5,7.1,7.0,6.6,7.1,11.4,6.8,8.9,6.8,8.7,6.8,6.1,5.8,10.7,7.1,7.0,7.6,6.7,11.9,9.9,7.9,6.7,8.3,7.7,6.0,7.9,5.3,9.5,7.6,8.3,7.5,7.2,6.0,10.6,7.8,7.5,9.9,10.0,11.5,6.1,8.0,8.9,9.4,7.2,9.8,8.9,7.2,10.0,6.1,7.2,8.1,7.1,7.8,6.8,6.6,9.1,11.3,7.1,7.5,11.9,8.9,10.3,9.1,8.1,10.5,8.3,6.2,6.9,7.5,8.1,8.0,7.7,7.4,9.9,7.6,8.0,7.9,7.1,7.2,11.5,6.1,7.9,11.7,7.0,7.6,11.6,7.9,11.5,7.7,8.0,6.0,7.9,9.9,7.2,7.7,7.4,6.2,7.6,13.3,8.0,7.7,8.1,6.7,6.7,8.6,8.0,7.8,8.1,9.5,10.7,7.8,12.0,8.2,12.5,9.9,6.0,7.7,6.8,8.0,8.8,8.1,12.7,7.8,7.7,7.1,11.9,7.3,8.6,13.0,8.6,6.4,8.7,6.2,7.9,7.8,8.7,7.6,7.8,7.7,7.8,6.4,7.2,9.6,6.4,7.9,8.3,8.9,6.1,5.6,7.0,10.0,8.7,11.5,7.9,6.6,13.3,7.5,6.8,7.3,7.9,11.6,7.3,8.8,8.0,5.2,10.0,7.3,9.4,6.4,9.6,6.2,6.7,8.2,9.2,7.3,7.5,6.6,7.6,10.8,10.0,6.6,6.1,10.6,8.4,10.1,6.0,11.9,7.2,7.7,6.9,6.7,8.1,10.9,10.9,5.0,6.7,8.4,8.3,7.7,9.2,8.7,7.0,7.5,8.9,8.1,6.0,6.9,7.1,8.0,7.0,8.7,8.5,8.4,14.3,10.4,8.2,11.6,7.0,8.1,7.8,8.9,7.1,6.4,8.9,6.6,10.8,7.6,7.2,7.0,7.7,7.3,7.9,6.7,8.8,11.2,7.1,8.6,6.7,11.9,5.6,10.4,11.5,8.7,7.3,7.7,7.7,8.2,7.0,8.0,6.6,11.9,8.4,11.9,6.6,9.7,7.7,9.1,6.2],\"z\":[0.99572,0.99854,0.9966,0.9973,0.99444,0.9982,0.99552,0.9956,1.0008,0.99682,0.9976,0.9972,0.9981,0.9948,0.99736,0.9978,0.99628,0.9969,0.99683,0.9981,0.999,0.9976,0.99888,0.99258,0.9966,0.9947,0.99472,0.9986,0.9969,0.9988,0.99476,0.9952,0.99808,0.9967,0.998,0.9975,0.9978,0.99596,0.9987,0.99765,0.99587,1.0021,0.9959,0.9965,0.99632,0.9972,0.9973,0.99728,0.99258,0.99467,0.99516,0.99689,0.9991,0.9963,0.9976,0.9971,0.99498,0.99612,0.9964,0.99456,0.99578,0.99693,0.99786,0.9969,0.99685,0.9981,0.9972,0.9974,0.9965,0.99489,0.99787,0.99572,0.9982,0.99531,0.9976,0.99727,1.0032,0.99622,0.9972,0.9968,0.9974,0.99761,0.9962,0.99252,0.99668,0.9978,0.99516,0.9986,0.99362,0.9976,0.9982,0.9976,0.99472,1.0014,0.9972,0.9994,0.99528,0.99604,0.99712,0.99508,0.99621,0.9982,1.00015,0.9994,0.99494,0.9971,0.99528,0.99842,0.99739,0.99396,0.99584,0.999,0.99774,0.999,0.99854,0.99803,0.9948,0.9948,0.99842,0.9962,0.99538,0.9982,1.00012,0.99498,0.99242,0.99528,0.9952,0.99564,0.9983,0.9962,0.99647,0.9986,0.9968,0.99734,0.9956,0.99538,0.9963,0.99668,0.9976,0.99712,0.99316,0.99618,0.99628,0.99975,1.001,0.9986,0.99438,0.99462,0.995,0.9978,0.99593,0.99242,0.9982,0.9972,0.9956,0.9978,0.9955,0.99746,0.9978,1.0022,0.99476,0.9966,0.9994,0.99645,0.9981,0.9971,0.9976,0.995,0.99735,0.99512,0.9969,0.99736,0.996,0.99728,0.99724,0.997,0.99648,0.99562,0.99744,0.99824,0.9976,0.99736,0.9984,0.99786,0.99525,0.9955,0.99704,0.9946,0.99531,0.99498,0.9948,0.99852,0.9986,0.9976,0.99688,0.9973,0.99476,0.9934,0.99558,0.99622,0.9968,0.9986,0.99508,1.0002,0.99668,0.99828,0.9958,1.0014,0.9974,0.99728,0.99672,1.0004,0.9958,0.9976,1.0004,0.9976,0.99362,0.9986,1.0004,0.99557,0.99852,0.9968,0.9948,0.9948,0.99587,0.9971,0.9991,0.99467,0.99572,0.99064,1.0004,0.99498,0.99604,0.99668,0.9963,0.9986,0.9963,0.99745,1.0004,0.9946,0.99546,0.9982,0.9955,0.9987,0.99573,0.9967,0.9952,0.99588,0.99692,0.9934,0.9948,0.99396,0.99534,0.9983,0.9955,0.9973,1.0,0.99472,0.997,0.99636,0.9982,0.9973,0.9968,0.99408,0.99572,0.9988,0.99728,0.9976,0.99572,1.0014,0.99627,0.9948,0.9955,0.9994,0.99701,0.99622,0.9974,0.99552,0.9972,0.9944,1.0032,0.9976,0.99633,0.9996,0.99836,0.9976,1.0014,0.9958,0.99458,0.9982,0.99925,0.9987,0.99774,0.999,0.9971,0.99572,0.9968,0.9994,0.9984,0.9973,0.9961,0.99396,0.9934,0.99316,0.99568,0.9984,0.9984,0.99818,0.99612,0.99594,0.9973,0.9964,0.99578,0.9958,0.9961,0.9962,0.9969,0.9948,0.99458,0.9952,0.9986,0.99608,0.99489,0.99746,0.99538,0.9987,1.00015,0.99444,0.9962,1.00012,0.9959,0.9976,0.99738,0.9973,0.9959,0.99702,0.995,0.9916,0.99499,0.99292,0.99659,0.9964,0.99728,0.99716,0.99568,0.99538,0.9983,0.9976,0.99622,0.99732,0.99191,0.9964,0.99774,0.9972,0.99538,0.9961,1.0004,0.9991,0.99668,0.9968,0.9988,0.99494,0.9958,0.99718,0.99627,0.9984,0.99692,0.99444,0.99478,0.99294,0.9947,0.9952,0.99672,0.9976,0.9961,0.99656,0.99609,0.9986,0.99613,0.99732,0.99608,0.998,0.99546,0.99636,0.9955,0.99688,0.99379,0.99616,0.9976,0.9978,0.99538,0.9982,0.99642,0.9998,0.9976,0.9963,0.99546,0.998,1.0,0.99688,0.99562,0.9976,0.99631,0.99426,0.9956,0.9962,0.99064,0.9994,0.99588,0.9982,0.9964,0.9971,0.9978,0.99647,0.9974,0.9965,0.99708,0.9955,0.99575,0.9978,0.99689,0.99914,0.99478,0.99619,0.9936,0.9988,0.99975,0.99672,0.99672,0.9962,0.99605,0.9969,0.99578,0.99587,0.99523,0.9963,0.99842,0.9984,0.99358,0.99488,0.998,0.9997,0.9984,0.9964,0.99256,0.99536,0.9959,1.0004,0.9956,0.9976,0.99642,0.99584,0.99714,0.99622,0.9959,0.99736,0.9964,1.001,0.9981,0.9991,1.00242,0.9974,0.99744,0.99516,0.9976,0.9991,0.99692,0.99694,0.99688,0.9994,0.99936,0.99786,0.99824,0.9971,0.99682,0.99576,0.99628,0.99728,0.9991,0.9964,0.99498,0.99538,1.0021,0.9976,0.99572,0.99828,0.9986,0.99444,0.99786,0.9988,0.9994,0.99743,0.9974,0.9988,0.997,0.9976,0.99609,0.9982,0.99444,0.9959,0.9968,0.99538,0.99652,0.99668,0.99784,0.9987,0.99519,0.9979,0.9965,0.99631,0.9963,0.9988,0.99566,0.99242,0.9976,0.99803,0.99488,0.9986,0.99458,0.99459,0.99746,0.99476,0.9976,1.0002,0.99652,0.9978,1.0014,0.9964,0.99182,0.99774,0.99516,0.99498,0.9958,0.99498,0.9963,0.9955,0.99652,0.9981,0.99688,0.99599,0.9976,0.99467,0.99609,0.99745,0.9957,0.99476,0.9976,0.9976,0.99616,0.9956,0.99586,0.9967,0.99408,0.99572,0.99536,0.99672,0.99712,0.9934,0.9968,0.99712,0.998,0.9966,0.9987,0.9982,0.9971,0.9948,0.99472,0.9988,0.997,0.99636,0.99494,0.99459,0.9982,0.9994,0.9986,0.996,0.99855,1.001,0.99356,0.9998,0.99735,0.99676,0.9952,0.9952,0.99622,0.9986,0.99633,0.99692,0.99633,0.99562,0.99419,0.99704,0.9988,0.99585,0.99818,0.9971,0.9968,0.99718,0.9946,0.99708,1.00369,0.99508,1.0004,0.9967,1.0014,0.9958,0.9986,0.99702,0.99564,1.0002,0.9994,1.0021,0.9986,0.99007,0.9976,0.99823,0.9994,0.99702,0.9983,0.9965,0.9969,0.9983,0.9972,0.9976,0.99627,0.9981,0.9997,0.99484,0.9956,0.9982,0.99498,0.9976,0.9987,0.9959,0.9981,0.9985,0.9972,0.9982,0.9968,0.9964,0.9947,0.99736,0.9916,0.99352,0.9963,0.99588,0.99586,0.9978,0.99467,0.9988,0.99552,0.9998,0.99655,0.99516,0.99572,0.9988,0.99456,0.9965,0.99734,0.9994,0.99736,0.99704,0.99572,0.999,0.99732,0.9956,0.99746,0.99745,0.99612,0.99386,0.99612,0.9978,0.99516,0.9964,0.99396,1.0004,0.99939,0.99865,0.99625,0.99668,0.99514,0.995,0.9988,0.9976,0.99531,0.99685,0.99633,0.99316,0.99483,0.99803,0.9974,0.99572,1.0004,0.9996,0.99817,0.99516,0.9984,0.99611,0.9963,0.9956,0.995,0.99316,0.99734,0.99522,0.9976,0.997,0.99629,0.9987,0.99387,0.99516,0.9994,0.9987,0.99498,0.9976,0.99489,0.9994,0.99728,0.997,0.995,0.9994,0.99516,0.9973,0.99734,0.99494,0.99546,0.99546,0.99476,0.9968,0.99632,0.9962,0.9976,0.9964,0.9988,0.99786,0.9992,0.9956,0.9948,0.9973,0.9982,0.99774,0.9987,0.9978,0.9956,0.99546,0.9976,0.9956,0.99448,1.0021,0.9972,0.995,0.99668,0.99562,0.99479,0.99388,0.9958,0.9997,0.99738,0.9982,0.99616,0.99692,0.99448,0.995,0.9979,0.9959,1.0003,0.99708,0.9973,0.99396,0.9974,0.9974,0.9972,0.9964,0.99525,0.9967,0.99655,0.9974,0.99693,1.0001,0.99419,0.99536,0.99572,0.99652,0.99467,0.99695,0.9964,0.9947,0.99518,0.99586,0.99732,0.99668,0.99514,0.99458,0.9982,0.9996,0.99546,0.99585,0.99901,1.0004,0.9986,0.9969,0.99538,0.9981,0.99489,0.99743,0.9959,0.99512,0.99472,1.00289,0.9982,0.9982,0.9976,0.99498,0.99615,0.9994,0.99418,0.9976,0.9994,0.99642,0.9986,0.99557,0.9997,0.9946,0.99396,1.0021,0.99694,0.9974,0.99627,0.99668,0.9979,0.99652,0.9974,0.99491,0.99738,1.00012,0.99746,0.9959,0.99572,0.99655,0.9959,0.99702,0.99316,0.99522,0.9962,0.99458,0.99736,0.99504,0.9948,0.9968,0.9966,0.99761,0.995,0.9956,0.9972,0.9986,0.99744,0.99627,1.00369,0.9996,1.0,0.99628,0.99572,0.99592,0.99258,0.99724,0.99191,0.9972,0.9964,0.99738,0.9976,0.99724,0.9974,0.99444,0.99467,0.99708,0.99468,0.9966,0.9934,0.9973,0.99484,0.99668,0.99603,0.9983,0.9994,0.99744,0.9976,0.9991,0.99549,0.99292,0.99572,0.9966,0.99613,0.9974,0.99708,0.99647,0.9956,0.9948,0.9969,0.99693,0.9982,0.99458,0.9964,0.9947,0.99587,0.9974,0.9982,0.99524,0.99538,0.99855,0.9979,0.9958,0.99408,0.99478,0.9987,0.9963,0.9976,0.9982,0.998,0.9968,0.99736,1.0,0.99572,0.99344,0.9963,0.99612,0.99636,0.9963,0.9956,0.9948,0.9976,0.99494,0.99783,0.9996,0.99622,0.9958,0.9979,0.9986,0.9987,0.99647,0.99628,0.9986,0.99623,0.99568,0.9986,0.9976,0.9957,0.9982,0.99521,0.99408,0.9986,0.9976,0.99516,0.99439,0.9968,0.9994,0.9946,0.9972,0.99494,0.99976,0.9946,0.99568,0.99408,0.99332,0.9994,0.9986,0.9964,0.9988,0.9979,0.99514,0.99494,0.99538,0.99572,0.99728,0.99578,0.99685,0.9969,0.9963,0.99374,0.9976,0.99498,0.9934,0.9958,0.9972,0.9976,0.9994,0.99459,0.9994,0.9961,0.996,0.99728,0.9979,0.99693,0.99622,0.9959,0.998,0.9976,0.9974,0.9984,0.991,0.99684,0.99504,0.99546,0.9959,0.99652,0.99736,1.0004,0.9957,0.99557,0.9967,0.99922,0.99704,0.9986,0.99631,0.99598,0.99623,0.9966,0.99476,0.99852,0.9984,0.999,0.99628,0.9947,0.9963,0.99622,0.99334,0.99656,0.9972,0.99526,0.99745,0.99661,0.99613,0.99734,0.9958,0.9948,0.9948,0.9976,0.9964,1.0014,0.9967,0.99855,0.99387,0.99354,1.0004,0.99704,0.99656,0.99636,0.9978,0.9964,0.99628,0.99716,0.9981,0.99774,0.9986,0.9978,0.99182,0.99538,0.99718,0.99815,1.0,0.9963,0.9976,0.99397,0.9956,0.9948,0.99648,0.99745,0.99584,1.00012,0.9972,0.9996,0.99575,0.99451,0.9982,0.99622,0.9997,1.0002,0.9966,0.99408,0.99565,0.99508,0.99494,1.0008,0.99692,1.0022,0.99517,0.99622,0.99748,0.9955,0.9994,0.9986,0.99385,0.99388,0.99504,0.99734,1.0003,0.9948,0.998,0.99387,0.99538,0.9979,0.99408,0.9969,0.9969,0.99458,1.0022,0.99498,0.99668,0.9934,0.9976,0.99632,0.9968,0.99694,0.9981,0.9994,0.99688,0.9971,0.9962,0.99577,1.0022,0.9973,0.99362,0.99782,0.999,0.99458,0.99613,0.9972,0.99619,0.99528,0.9948,0.99708,0.99258,0.9982,0.9965,0.99566,0.9976,0.99628,0.9952,0.99408,0.9934,0.99578,0.995,0.99636,0.99508,0.99672,0.9974,0.99242,0.99157,0.9968,0.9968,0.9976,0.9982,0.99914,0.99504,0.9958,0.99562,0.99538,0.9958,0.99546,0.99472,0.99782,0.9972,1.001,0.9962,0.9988,0.99603,0.9972,0.99642,0.9988,0.9976,0.9978,0.99528,0.9981,0.99494,0.99716,0.9958,0.9963,0.9976,1.0026,0.99388,0.99538,0.99516,0.9969,0.9966,0.99628,0.999,0.99538,0.99738,0.99613,0.99752,0.9982,0.9964,0.9982,0.99586,0.9958,0.99761,0.99748,0.99522,0.99965,0.99672,0.99622,1.0002,0.99385,0.99438,1.0004,0.99652,0.99444,0.99612,0.99668,0.9956,0.9963,0.9984,0.99388,0.9994,0.9971,0.9972,0.9966,0.99182,0.99565,0.99736,0.99568,0.9994,0.9972,0.99624,0.998,0.9994,0.9976,0.99162,0.9978,0.99914,0.99788,0.99668,0.99252,0.99498,0.9994,0.9988,0.99652,0.99636,0.9994,0.9984,0.99712,0.99492,0.9964,0.99578,0.998,0.99732,1.0021,0.99914,0.99536,0.99621,0.99588,0.99652,0.99622,0.99738,0.9948,1.0014,0.99854,0.99728,0.9955,0.9976,0.996,0.9982,0.999,0.99584,0.9972,0.995,0.99534,0.9962,0.9973,0.99704,0.99815,0.9934,1.0002,0.99416,0.9994,0.99538,0.9977,0.9934,0.99738,0.99736,0.99628,0.9988,0.9961,0.99659,0.9968,0.99628,0.9976,0.9966,0.99618,0.9977,0.9964,0.99656,0.99538,0.99656,0.99494,1.0002,0.9956,0.99459,0.9976,0.9971,0.9959,0.99344,0.99467,0.99462,0.9987,0.9976,0.99476,0.99656,0.9934,0.9973,0.99739,0.9994,0.99855,0.99736,0.9974,0.9964,0.99739,0.99508,0.9987,0.99574,0.9986,0.99734,0.9971,0.9978,0.9958,0.9955,0.9978,0.9973,0.99656,0.99612,0.99258,0.99786,0.99633,0.9976,0.99489,0.9994,0.9997,0.99557,0.99552,0.99588,0.99675,0.9986,0.9994,0.99787,0.9978,0.99668,0.9927,0.9968,0.9988,0.99688,0.9979,0.9974,0.9986,0.9974,0.99492,0.99437,0.99656,0.9962,0.99418,0.99498,0.99593,0.99418,0.99467,0.99604,0.99586,0.99629,0.9984,0.99746,0.99682,0.9972,0.99506,0.9982,0.99444,0.99728,0.99535,0.996,0.99648,0.99558,0.99346,1.0002,0.99467,0.99574,0.99728,0.9948,0.9988,0.99568,1.0002,0.9982,0.9996,0.99576,0.99652,0.9957,0.99464,0.99652,0.9982,0.99692,0.9974,1.0018,0.9996,0.99786,0.99688,0.99622,0.99557,1.00315,0.99785,0.9961,1.0004,0.99581,0.99492,0.99408,0.9956,0.9958,0.9982,0.9964,0.99504,0.99538,0.99855,0.99652,0.9988,0.99538,0.9968,0.99419,0.99616,0.99492,0.99925,0.99728,0.99633,0.99786,1.00289,0.99632,0.99584,0.9994,0.99572,0.99562,0.9994,0.9968,0.99182,0.9996,0.99706,0.9934,0.99294,0.9958,0.9962,0.99418,0.99566,0.9986,0.9994,0.9986,0.99716,0.99672,0.9982,0.9956,0.99683,0.99786,0.9964,0.99538,0.99553,0.9974,0.9974,0.9982,0.99782,0.99914,0.99836,1.00242,0.99702,0.99344,0.99576,0.99534,0.998,0.9994,0.99738,0.99702,0.9961,0.9964,0.9981,0.9994,0.99748,0.99596,0.99714,0.9958,1.0,0.9976,0.9978,0.9981,0.9973,0.99494,0.9976,0.99458,0.99538,0.9986,0.9976,0.99258,0.9978,0.99534,0.9976,0.9979,0.9978,0.9963,0.9948,0.99774,0.9956,0.9994,0.9988,0.9976,0.9984,0.9956,0.99652,0.9982,0.99782,0.9984,0.9976,0.99502,0.99734,0.9991,0.99718,0.9968,0.9987,0.9968,0.9956,0.99516,0.9964,0.99562,0.99768,0.99182,0.9976,0.99518,0.9976,0.9968,0.99572,0.9956,0.99761,0.99632,0.9982,0.9991,0.9952,0.997,0.99717,0.9966,0.9969,0.9982,1.0004,0.9976,0.9976,0.9916,0.9972,0.99648,0.9968,0.99672,0.99418,0.9987,0.9964,0.99914,0.9971,1.0008,0.99587,0.9956,0.9964,0.99728,0.9982,0.9986,0.9976,0.99708,0.99516,0.9955,0.9968,0.99395,0.99616,0.9962,0.9988,0.9963,0.99564,0.9942,0.9966,0.99478,0.99396,1.0004,0.99448,0.99472,0.99714,0.9954,0.9962,0.99822,0.9953,0.99448,0.99702,1.0026,0.9966,0.99746,0.99586,0.99855,0.99476,0.9973,0.99736,0.99728,0.99586,0.99512,0.99746,0.9988,1.0,1.0004,1.0014,0.9964,0.99562,0.9966,0.99162,0.9973,0.99725,0.9994,0.9968,0.9964,0.9966,0.9994,0.9964,0.99514,0.99656,0.9986,0.99655,0.9948,0.9948,0.9987,0.99378,0.9955,0.9994,0.9988,0.9994,0.99685,0.9976,0.99612,0.9976,0.99488,0.99748,0.99855,0.99842,0.99437,0.9976,0.9974,0.9964,0.99613,0.9976,0.99704,0.99552,0.99824,0.9958,0.99502,0.99554,0.99358,0.9972,0.9994,0.99616,0.997616,0.9976,0.9953,0.99479,0.99499,0.9976,0.99498,0.99652,0.9976,0.9922,0.9986,0.9976,0.9978,0.99593,0.99538,0.9934,0.99652,0.99636,0.99736,0.9953,0.9974,0.9982,0.99552,0.99746,0.9974,0.9978,0.9997,0.99642,0.99693,0.99362,0.9974,0.99702,0.99454,0.99387,0.99498,0.9964,0.9976,0.9982,0.99444,0.9976,0.9982,0.9958,0.99459,0.9948,0.9988,0.9979,0.99593,0.9962,0.99499,0.99354,0.9994,0.99667,0.99514,0.99744,0.9976,0.99384,0.99386,0.9969,0.9976,0.99842,0.99252,0.9948,0.9982,0.9964,0.9964,0.9958,0.9964,0.995,0.99836,0.99622,0.99566,0.9979,0.99508,0.9973,0.9958,0.99596,0.99818,0.99498,0.99736,0.99622,0.9968,0.99566,0.99668,0.9984,0.99494,0.9964,1.0004,0.9948,0.9967,0.9967,0.99713,0.99346,0.99745,0.9994,0.99484,0.99456,0.99476,0.9982,0.9964,0.9964,0.9934,0.9972,0.99738,0.9996,0.9976,0.9958,0.99258,0.99489,0.99498,0.99588,0.99648,0.9974,0.9982,0.99557,0.9994,0.9948,0.99694,0.99494,0.99774,0.99489,0.99716,0.99408,0.9964,0.99459,0.997,0.99613,0.99629,0.99396,0.99782,1.0002,0.99628,0.9994,0.99476,0.9996,0.9994,0.9959,0.99258,0.9966,0.9948,0.99532,0.99578,0.9985,0.99734,1.0002,0.9994,0.9946,0.99712,0.9959,1.0004,0.9956,0.9994,0.99498,0.9968,0.99622,0.998,0.99575,0.9981,0.99538,0.99558,0.99396,0.9982,0.99528,0.99538,0.9942,0.99396,0.9966,0.99616,0.99786,0.99498,0.9996,0.99708,0.9968,0.99655,0.99823,0.99675,0.99478,0.9962,0.9947,0.998,0.9979,0.9962,0.9959,0.9971,0.9956,0.9991,0.9964,0.99836,0.9991,0.99547,0.99642,0.99745,0.99672,0.9974,0.9986,0.99694,0.9982,0.99534,0.99623,0.99444,0.9962,0.99743,0.99498,0.99538,0.9965,0.99385,0.99448,0.9973,0.9974,0.99745,0.99622,1.0004,0.9976,0.9994,0.99586,0.99656,0.9976,0.9948,0.99489,0.99471,0.99467,0.9968,0.9966,0.9968,0.9966,0.99652,0.99745,0.99652,0.99603,0.99444,0.99546,0.9988,0.99538,0.9962,0.9987,0.99494,0.9964,0.9994,0.99576,0.9994,0.9968,0.99456,0.99622,0.9973,0.9991,0.99536,0.9968,0.99632,0.9952,0.99603,1.00012,0.9976,0.9952,0.99724,0.996,0.99655,0.9976,0.99534,0.99616,0.9976,0.9977,0.99743,0.9968,1.0003,0.9978,0.9972,0.99788,0.9968,0.99855,0.99808,0.9967,0.9979,0.9969,0.9995,0.9974,0.99748,0.99518,0.9982,0.99499,0.9976,1.0004,0.99534,0.99489,0.9992,0.9984,0.99888,0.9969,0.9973,0.9968,0.99672,0.9972,0.99622,0.9997,0.99566,0.99814,0.99574,0.99604,0.99576,0.9987,0.9934,0.9958,0.99745,0.9986,0.9936,0.9983,0.99656,0.99854,1.0021,0.99765,0.9959,0.99562,0.9976,0.9992,0.99334,0.9974,0.9958,0.99374,0.99761,0.9963,0.99732,0.9971,0.99787,0.9934,0.99498,0.9968,0.9957,0.9974,0.99546,0.99626,0.99628,0.9976,0.9982,0.9978,0.99514,0.9987,0.9962,0.9984,0.99258,1.0001,0.99694,0.99631,0.9955,0.9955,0.9972,0.9985,0.99519,0.99235,0.99352,0.9988,0.99444,0.9972,0.9994,0.99526,0.9973,0.99564,0.99652,0.9968,0.9958,0.99362,0.9972,0.99685,0.99552,0.9966,0.9978,0.99364,1.00315,0.9988,0.99613,0.9996,0.99605,0.99828,0.9987,0.99408,0.9973,0.99647,0.99408,0.99534,0.99538,0.99748,0.9982,0.99668,0.9959,0.9962,0.9974,0.99489,0.998,1.0003,0.99672,0.99577,0.9947,0.9994,0.99344,0.9984,0.9985,0.9973,0.99636,0.99064,0.99586,0.99627,0.99768,0.9979,0.99852,1.0014,0.9956,0.9994,0.99388,0.99745,0.99258,0.9967,0.9952],\"type\":\"scatter3d\"}],                        {\"template\":{\"data\":{\"barpolar\":[{\"marker\":{\"line\":{\"color\":\"white\",\"width\":0.5},\"pattern\":{\"fillmode\":\"overlay\",\"size\":10,\"solidity\":0.2}},\"type\":\"barpolar\"}],\"bar\":[{\"error_x\":{\"color\":\"rgb(36,36,36)\"},\"error_y\":{\"color\":\"rgb(36,36,36)\"},\"marker\":{\"line\":{\"color\":\"white\",\"width\":0.5},\"pattern\":{\"fillmode\":\"overlay\",\"size\":10,\"solidity\":0.2}},\"type\":\"bar\"}],\"carpet\":[{\"aaxis\":{\"endlinecolor\":\"rgb(36,36,36)\",\"gridcolor\":\"white\",\"linecolor\":\"white\",\"minorgridcolor\":\"white\",\"startlinecolor\":\"rgb(36,36,36)\"},\"baxis\":{\"endlinecolor\":\"rgb(36,36,36)\",\"gridcolor\":\"white\",\"linecolor\":\"white\",\"minorgridcolor\":\"white\",\"startlinecolor\":\"rgb(36,36,36)\"},\"type\":\"carpet\"}],\"choropleth\":[{\"colorbar\":{\"outlinewidth\":1,\"tickcolor\":\"rgb(36,36,36)\",\"ticks\":\"outside\"},\"type\":\"choropleth\"}],\"contourcarpet\":[{\"colorbar\":{\"outlinewidth\":1,\"tickcolor\":\"rgb(36,36,36)\",\"ticks\":\"outside\"},\"type\":\"contourcarpet\"}],\"contour\":[{\"colorbar\":{\"outlinewidth\":1,\"tickcolor\":\"rgb(36,36,36)\",\"ticks\":\"outside\"},\"colorscale\":[[0.0,\"#440154\"],[0.1111111111111111,\"#482878\"],[0.2222222222222222,\"#3e4989\"],[0.3333333333333333,\"#31688e\"],[0.4444444444444444,\"#26828e\"],[0.5555555555555556,\"#1f9e89\"],[0.6666666666666666,\"#35b779\"],[0.7777777777777778,\"#6ece58\"],[0.8888888888888888,\"#b5de2b\"],[1.0,\"#fde725\"]],\"type\":\"contour\"}],\"heatmapgl\":[{\"colorbar\":{\"outlinewidth\":1,\"tickcolor\":\"rgb(36,36,36)\",\"ticks\":\"outside\"},\"colorscale\":[[0.0,\"#440154\"],[0.1111111111111111,\"#482878\"],[0.2222222222222222,\"#3e4989\"],[0.3333333333333333,\"#31688e\"],[0.4444444444444444,\"#26828e\"],[0.5555555555555556,\"#1f9e89\"],[0.6666666666666666,\"#35b779\"],[0.7777777777777778,\"#6ece58\"],[0.8888888888888888,\"#b5de2b\"],[1.0,\"#fde725\"]],\"type\":\"heatmapgl\"}],\"heatmap\":[{\"colorbar\":{\"outlinewidth\":1,\"tickcolor\":\"rgb(36,36,36)\",\"ticks\":\"outside\"},\"colorscale\":[[0.0,\"#440154\"],[0.1111111111111111,\"#482878\"],[0.2222222222222222,\"#3e4989\"],[0.3333333333333333,\"#31688e\"],[0.4444444444444444,\"#26828e\"],[0.5555555555555556,\"#1f9e89\"],[0.6666666666666666,\"#35b779\"],[0.7777777777777778,\"#6ece58\"],[0.8888888888888888,\"#b5de2b\"],[1.0,\"#fde725\"]],\"type\":\"heatmap\"}],\"histogram2dcontour\":[{\"colorbar\":{\"outlinewidth\":1,\"tickcolor\":\"rgb(36,36,36)\",\"ticks\":\"outside\"},\"colorscale\":[[0.0,\"#440154\"],[0.1111111111111111,\"#482878\"],[0.2222222222222222,\"#3e4989\"],[0.3333333333333333,\"#31688e\"],[0.4444444444444444,\"#26828e\"],[0.5555555555555556,\"#1f9e89\"],[0.6666666666666666,\"#35b779\"],[0.7777777777777778,\"#6ece58\"],[0.8888888888888888,\"#b5de2b\"],[1.0,\"#fde725\"]],\"type\":\"histogram2dcontour\"}],\"histogram2d\":[{\"colorbar\":{\"outlinewidth\":1,\"tickcolor\":\"rgb(36,36,36)\",\"ticks\":\"outside\"},\"colorscale\":[[0.0,\"#440154\"],[0.1111111111111111,\"#482878\"],[0.2222222222222222,\"#3e4989\"],[0.3333333333333333,\"#31688e\"],[0.4444444444444444,\"#26828e\"],[0.5555555555555556,\"#1f9e89\"],[0.6666666666666666,\"#35b779\"],[0.7777777777777778,\"#6ece58\"],[0.8888888888888888,\"#b5de2b\"],[1.0,\"#fde725\"]],\"type\":\"histogram2d\"}],\"histogram\":[{\"marker\":{\"line\":{\"color\":\"white\",\"width\":0.6}},\"type\":\"histogram\"}],\"mesh3d\":[{\"colorbar\":{\"outlinewidth\":1,\"tickcolor\":\"rgb(36,36,36)\",\"ticks\":\"outside\"},\"type\":\"mesh3d\"}],\"parcoords\":[{\"line\":{\"colorbar\":{\"outlinewidth\":1,\"tickcolor\":\"rgb(36,36,36)\",\"ticks\":\"outside\"}},\"type\":\"parcoords\"}],\"pie\":[{\"automargin\":true,\"type\":\"pie\"}],\"scatter3d\":[{\"line\":{\"colorbar\":{\"outlinewidth\":1,\"tickcolor\":\"rgb(36,36,36)\",\"ticks\":\"outside\"}},\"marker\":{\"colorbar\":{\"outlinewidth\":1,\"tickcolor\":\"rgb(36,36,36)\",\"ticks\":\"outside\"}},\"type\":\"scatter3d\"}],\"scattercarpet\":[{\"marker\":{\"colorbar\":{\"outlinewidth\":1,\"tickcolor\":\"rgb(36,36,36)\",\"ticks\":\"outside\"}},\"type\":\"scattercarpet\"}],\"scattergeo\":[{\"marker\":{\"colorbar\":{\"outlinewidth\":1,\"tickcolor\":\"rgb(36,36,36)\",\"ticks\":\"outside\"}},\"type\":\"scattergeo\"}],\"scattergl\":[{\"marker\":{\"colorbar\":{\"outlinewidth\":1,\"tickcolor\":\"rgb(36,36,36)\",\"ticks\":\"outside\"}},\"type\":\"scattergl\"}],\"scattermapbox\":[{\"marker\":{\"colorbar\":{\"outlinewidth\":1,\"tickcolor\":\"rgb(36,36,36)\",\"ticks\":\"outside\"}},\"type\":\"scattermapbox\"}],\"scatterpolargl\":[{\"marker\":{\"colorbar\":{\"outlinewidth\":1,\"tickcolor\":\"rgb(36,36,36)\",\"ticks\":\"outside\"}},\"type\":\"scatterpolargl\"}],\"scatterpolar\":[{\"marker\":{\"colorbar\":{\"outlinewidth\":1,\"tickcolor\":\"rgb(36,36,36)\",\"ticks\":\"outside\"}},\"type\":\"scatterpolar\"}],\"scatter\":[{\"fillpattern\":{\"fillmode\":\"overlay\",\"size\":10,\"solidity\":0.2},\"type\":\"scatter\"}],\"scatterternary\":[{\"marker\":{\"colorbar\":{\"outlinewidth\":1,\"tickcolor\":\"rgb(36,36,36)\",\"ticks\":\"outside\"}},\"type\":\"scatterternary\"}],\"surface\":[{\"colorbar\":{\"outlinewidth\":1,\"tickcolor\":\"rgb(36,36,36)\",\"ticks\":\"outside\"},\"colorscale\":[[0.0,\"#440154\"],[0.1111111111111111,\"#482878\"],[0.2222222222222222,\"#3e4989\"],[0.3333333333333333,\"#31688e\"],[0.4444444444444444,\"#26828e\"],[0.5555555555555556,\"#1f9e89\"],[0.6666666666666666,\"#35b779\"],[0.7777777777777778,\"#6ece58\"],[0.8888888888888888,\"#b5de2b\"],[1.0,\"#fde725\"]],\"type\":\"surface\"}],\"table\":[{\"cells\":{\"fill\":{\"color\":\"rgb(237,237,237)\"},\"line\":{\"color\":\"white\"}},\"header\":{\"fill\":{\"color\":\"rgb(217,217,217)\"},\"line\":{\"color\":\"white\"}},\"type\":\"table\"}]},\"layout\":{\"annotationdefaults\":{\"arrowhead\":0,\"arrowwidth\":1},\"autotypenumbers\":\"strict\",\"coloraxis\":{\"colorbar\":{\"outlinewidth\":1,\"tickcolor\":\"rgb(36,36,36)\",\"ticks\":\"outside\"}},\"colorscale\":{\"diverging\":[[0.0,\"rgb(103,0,31)\"],[0.1,\"rgb(178,24,43)\"],[0.2,\"rgb(214,96,77)\"],[0.3,\"rgb(244,165,130)\"],[0.4,\"rgb(253,219,199)\"],[0.5,\"rgb(247,247,247)\"],[0.6,\"rgb(209,229,240)\"],[0.7,\"rgb(146,197,222)\"],[0.8,\"rgb(67,147,195)\"],[0.9,\"rgb(33,102,172)\"],[1.0,\"rgb(5,48,97)\"]],\"sequential\":[[0.0,\"#440154\"],[0.1111111111111111,\"#482878\"],[0.2222222222222222,\"#3e4989\"],[0.3333333333333333,\"#31688e\"],[0.4444444444444444,\"#26828e\"],[0.5555555555555556,\"#1f9e89\"],[0.6666666666666666,\"#35b779\"],[0.7777777777777778,\"#6ece58\"],[0.8888888888888888,\"#b5de2b\"],[1.0,\"#fde725\"]],\"sequentialminus\":[[0.0,\"#440154\"],[0.1111111111111111,\"#482878\"],[0.2222222222222222,\"#3e4989\"],[0.3333333333333333,\"#31688e\"],[0.4444444444444444,\"#26828e\"],[0.5555555555555556,\"#1f9e89\"],[0.6666666666666666,\"#35b779\"],[0.7777777777777778,\"#6ece58\"],[0.8888888888888888,\"#b5de2b\"],[1.0,\"#fde725\"]]},\"colorway\":[\"#1F77B4\",\"#FF7F0E\",\"#2CA02C\",\"#D62728\",\"#9467BD\",\"#8C564B\",\"#E377C2\",\"#7F7F7F\",\"#BCBD22\",\"#17BECF\"],\"font\":{\"color\":\"rgb(36,36,36)\"},\"geo\":{\"bgcolor\":\"white\",\"lakecolor\":\"white\",\"landcolor\":\"white\",\"showlakes\":true,\"showland\":true,\"subunitcolor\":\"white\"},\"hoverlabel\":{\"align\":\"left\"},\"hovermode\":\"closest\",\"mapbox\":{\"style\":\"light\"},\"paper_bgcolor\":\"white\",\"plot_bgcolor\":\"white\",\"polar\":{\"angularaxis\":{\"gridcolor\":\"rgb(232,232,232)\",\"linecolor\":\"rgb(36,36,36)\",\"showgrid\":false,\"showline\":true,\"ticks\":\"outside\"},\"bgcolor\":\"white\",\"radialaxis\":{\"gridcolor\":\"rgb(232,232,232)\",\"linecolor\":\"rgb(36,36,36)\",\"showgrid\":false,\"showline\":true,\"ticks\":\"outside\"}},\"scene\":{\"xaxis\":{\"backgroundcolor\":\"white\",\"gridcolor\":\"rgb(232,232,232)\",\"gridwidth\":2,\"linecolor\":\"rgb(36,36,36)\",\"showbackground\":true,\"showgrid\":false,\"showline\":true,\"ticks\":\"outside\",\"zeroline\":false,\"zerolinecolor\":\"rgb(36,36,36)\"},\"yaxis\":{\"backgroundcolor\":\"white\",\"gridcolor\":\"rgb(232,232,232)\",\"gridwidth\":2,\"linecolor\":\"rgb(36,36,36)\",\"showbackground\":true,\"showgrid\":false,\"showline\":true,\"ticks\":\"outside\",\"zeroline\":false,\"zerolinecolor\":\"rgb(36,36,36)\"},\"zaxis\":{\"backgroundcolor\":\"white\",\"gridcolor\":\"rgb(232,232,232)\",\"gridwidth\":2,\"linecolor\":\"rgb(36,36,36)\",\"showbackground\":true,\"showgrid\":false,\"showline\":true,\"ticks\":\"outside\",\"zeroline\":false,\"zerolinecolor\":\"rgb(36,36,36)\"}},\"shapedefaults\":{\"fillcolor\":\"black\",\"line\":{\"width\":0},\"opacity\":0.3},\"ternary\":{\"aaxis\":{\"gridcolor\":\"rgb(232,232,232)\",\"linecolor\":\"rgb(36,36,36)\",\"showgrid\":false,\"showline\":true,\"ticks\":\"outside\"},\"baxis\":{\"gridcolor\":\"rgb(232,232,232)\",\"linecolor\":\"rgb(36,36,36)\",\"showgrid\":false,\"showline\":true,\"ticks\":\"outside\"},\"bgcolor\":\"white\",\"caxis\":{\"gridcolor\":\"rgb(232,232,232)\",\"linecolor\":\"rgb(36,36,36)\",\"showgrid\":false,\"showline\":true,\"ticks\":\"outside\"}},\"title\":{\"x\":0.05},\"xaxis\":{\"automargin\":true,\"gridcolor\":\"rgb(232,232,232)\",\"linecolor\":\"rgb(36,36,36)\",\"showgrid\":false,\"showline\":true,\"ticks\":\"outside\",\"title\":{\"standoff\":15},\"zeroline\":false,\"zerolinecolor\":\"rgb(36,36,36)\"},\"yaxis\":{\"automargin\":true,\"gridcolor\":\"rgb(232,232,232)\",\"linecolor\":\"rgb(36,36,36)\",\"showgrid\":false,\"showline\":true,\"ticks\":\"outside\",\"title\":{\"standoff\":15},\"zeroline\":false,\"zerolinecolor\":\"rgb(36,36,36)\"}}},\"title\":{\"text\":\"\\u003cb\\u003e3D Scatterplot \\u003cbr\\u003e \\u003csup\\u003ecitric acid x fixed acidity x density\\u003c\\u002fsup\\u003e\\u003c\\u002fb\\u003e\",\"xanchor\":\"left\",\"x\":0.05},\"margin\":{\"t\":100},\"height\":600,\"width\":700,\"showlegend\":true},                        {\"responsive\": true}                    ).then(function(){\n",
              "                            \n",
              "var gd = document.getElementById('08d63de0-0b73-41b9-8bbd-784979a889b3');\n",
              "var x = new MutationObserver(function (mutations, observer) {{\n",
              "        var display = window.getComputedStyle(gd).display;\n",
              "        if (!display || display === 'none') {{\n",
              "            console.log([gd, 'removed!']);\n",
              "            Plotly.purge(gd);\n",
              "            observer.disconnect();\n",
              "        }}\n",
              "}});\n",
              "\n",
              "// Listen for the removal of the full notebook cells\n",
              "var notebookContainer = gd.closest('#notebook-container');\n",
              "if (notebookContainer) {{\n",
              "    x.observe(notebookContainer, {childList: true});\n",
              "}}\n",
              "\n",
              "// Listen for the clearing of the current output cell\n",
              "var outputEl = gd.closest('.output');\n",
              "if (outputEl) {{\n",
              "    x.observe(outputEl, {childList: true});\n",
              "}}\n",
              "\n",
              "                        })                };                            </script>        </div>\n",
              "</body>\n",
              "</html>"
            ]
          },
          "metadata": {}
        }
      ]
    },
    {
      "cell_type": "markdown",
      "source": [
        "#Continuous Features"
      ],
      "metadata": {
        "id": "UFb2uo9th8GT"
      }
    },
    {
      "cell_type": "markdown",
      "source": [
        "we remove our target feature i.e. 'Quality'"
      ],
      "metadata": {
        "id": "7vp-Hucyh-Bm"
      }
    },
    {
      "cell_type": "code",
      "source": [
        "cols = df.columns.tolist()\n",
        "cols.remove('quality')"
      ],
      "metadata": {
        "id": "YHB6STFxh06v"
      },
      "execution_count": 91,
      "outputs": []
    },
    {
      "cell_type": "code",
      "source": [
        "plot_histogram_matrix(df)"
      ],
      "metadata": {
        "colab": {
          "base_uri": "https://localhost:8080/",
          "height": 1000
        },
        "id": "Gi--egv7iE3w",
        "outputId": "5eb29b7d-2798-44ec-c838-fbf0ed3c6f3b"
      },
      "execution_count": 92,
      "outputs": [
        {
          "output_type": "display_data",
          "data": {
            "text/html": [
              "<html>\n",
              "<head><meta charset=\"utf-8\" /></head>\n",
              "<body>\n",
              "    <div>            <script src=\"https://cdnjs.cloudflare.com/ajax/libs/mathjax/2.7.5/MathJax.js?config=TeX-AMS-MML_SVG\"></script><script type=\"text/javascript\">if (window.MathJax && window.MathJax.Hub && window.MathJax.Hub.Config) {window.MathJax.Hub.Config({SVG: {font: \"STIX-Web\"}});}</script>                <script type=\"text/javascript\">window.PlotlyConfig = {MathJaxConfig: 'local'};</script>\n",
              "        <script charset=\"utf-8\" src=\"https://cdn.plot.ly/plotly-2.35.2.min.js\"></script>                <div id=\"7a92c6ef-2100-44b5-afd5-baee2c7e79ba\" class=\"plotly-graph-div\" style=\"height:2100px; width:1000px;\"></div>            <script type=\"text/javascript\">                                    window.PLOTLYENV=window.PLOTLYENV || {};                                    if (document.getElementById(\"7a92c6ef-2100-44b5-afd5-baee2c7e79ba\")) {                    Plotly.newPlot(                        \"7a92c6ef-2100-44b5-afd5-baee2c7e79ba\",                        [{\"name\":\"fixed acidity\",\"x\":[8.0,9.3,7.1,8.1,8.5,9.9,7.2,7.5,11.6,7.8,9.0,10.4,10.5,6.7,6.4,7.4,11.5,7.6,10.2,5.6,9.1,9.7,8.0,5.9,7.9,8.2,7.3,10.3,8.9,10.8,8.0,6.1,8.9,7.8,9.2,7.0,7.1,8.7,12.0,8.6,7.5,12.0,7.8,8.4,7.1,8.0,8.7,7.4,5.0,7.0,8.6,7.3,9.9,7.6,9.8,7.8,9.3,7.4,7.8,7.0,7.4,7.2,9.4,8.8,8.0,12.8,7.0,7.7,7.4,6.6,7.1,6.3,9.3,6.1,7.0,8.9,10.9,7.8,7.2,8.8,9.0,8.2,7.1,5.3,8.0,10.0,8.6,10.4,6.7,9.1,7.3,8.0,7.1,9.0,8.1,12.6,10.0,10.4,8.1,5.6,7.4,9.3,8.2,8.8,8.2,8.9,5.8,6.8,8.2,7.1,7.0,7.2,6.6,12.3,6.8,7.3,9.9,6.9,12.5,8.7,7.5,9.7,7.9,7.5,7.2,9.3,6.8,9.1,9.1,11.9,8.0,9.2,10.0,8.6,7.3,7.0,7.0,9.8,8.3,7.0,7.0,7.8,7.7,10.4,9.6,11.9,7.0,6.9,6.0,8.9,7.2,8.6,10.4,7.0,6.3,7.8,6.6,6.9,9.3,10.2,7.6,7.4,8.8,7.9,9.0,7.0,9.0,7.0,9.3,5.6,7.5,7.0,6.0,7.8,7.2,8.4,7.3,7.5,7.0,9.1,7.4,7.2,8.3,9.9,6.6,6.8,10.4,7.1,6.8,8.4,6.6,6.1,10.0,8.7,8.3,10.4,11.6,7.5,8.7,7.1,6.7,7.9,6.7,13.3,7.1,8.8,8.4,13.2,7.4,10.2,5.1,12.3,7.9,7.6,12.3,10.3,7.0,10.6,13.8,7.0,8.8,8.2,6.7,7.2,7.7,7.4,9.9,6.8,8.9,6.7,10.4,8.9,7.9,9.5,7.7,11.3,7.3,7.1,14.3,7.2,7.6,8.9,6.6,7.7,6.6,6.4,6.3,7.7,9.9,6.7,7.3,7.9,6.2,7.0,6.8,7.6,11.3,6.1,9.1,7.0,8.7,10.2,6.6,7.8,11.9,11.6,7.6,7.4,9.9,13.8,7.8,6.8,6.4,8.3,6.6,9.4,8.7,6.4,7.9,7.1,13.3,10.6,7.3,9.9,8.8,7.1,13.8,7.9,9.3,11.4,9.4,11.4,10.1,12.8,8.2,11.5,7.7,12.4,8.6,7.6,7.6,6.4,6.6,12.3,8.0,9.3,9.0,9.8,7.7,7.3,8.9,7.7,6.7,6.6,8.8,7.2,7.6,6.9,8.1,6.5,12.8,8.1,7.4,9.3,6.7,8.2,11.9,7.8,7.2,8.9,6.7,8.8,6.4,8.1,6.6,10.4,7.9,5.9,7.9,5.0,8.1,7.7,8.0,8.8,7.2,7.6,8.6,9.6,8.7,7.8,5.2,7.9,7.2,8.2,7.9,7.3,10.1,7.6,8.3,7.3,9.9,8.6,7.5,7.7,7.0,7.8,9.9,6.5,9.6,5.0,8.0,8.8,8.1,7.2,7.7,7.8,7.3,8.3,7.1,8.0,6.7,8.4,8.7,6.3,7.4,7.5,7.8,8.7,9.4,9.4,9.1,11.8,11.5,10.7,9.3,7.7,11.5,8.8,9.1,8.8,10.7,8.9,6.6,6.9,7.5,7.0,6.7,9.9,7.9,7.6,7.1,9.9,11.4,8.4,7.9,8.8,10.2,8.7,7.3,9.8,7.3,9.1,7.6,6.8,8.2,9.2,11.2,6.1,8.7,7.6,8.1,7.7,7.0,7.5,9.3,8.3,10.0,7.6,6.8,8.4,9.9,12.8,9.8,7.6,5.6,8.9,8.0,11.9,8.0,10.6,6.4,8.0,7.1,7.6,7.9,7.1,7.4,9.2,11.9,10.9,10.4,8.4,7.4,6.0,8.0,11.9,7.1,8.3,7.3,10.0,6.7,9.7,7.8,7.8,7.0,6.9,7.2,7.0,10.9,7.9,6.9,7.8,15.0,12.6,11.5,9.9,11.5,8.1,10.6,8.4,12.3,7.1,8.2,9.4,7.2,10.0,7.5,9.9,8.7,6.8,6.8,6.7,8.9,7.8,5.6,7.7,7.9,8.4,8.7,7.8,7.9,10.6,7.2,7.6,8.5,8.3,6.7,12.5,6.0,7.2,7.2,8.3,9.0,13.0,9.8,9.0,12.3,8.4,8.9,9.3,8.7,6.5,5.9,9.3,7.4,7.6,11.1,8.3,8.3,6.9,8.6,6.4,7.9,9.6,7.5,7.7,7.7,10.4,7.3,7.1,9.1,7.8,10.8,8.1,7.5,11.1,8.2,10.0,7.7,7.8,9.6,6.8,9.1,11.9,10.4,8.9,7.9,8.9,8.8,6.6,6.6,6.4,8.8,12.5,11.9,7.0,6.9,8.7,7.6,8.9,8.3,8.9,6.6,6.5,10.7,11.6,7.0,7.5,7.8,7.3,7.4,7.1,9.4,6.4,12.5,7.9,7.8,8.6,7.9,9.3,13.3,7.2,12.0,8.4,13.9,6.7,11.7,7.2,7.5,10.8,10.3,13.0,9.1,8.0,7.3,8.4,11.9,8.9,11.3,8.9,7.9,8.7,7.4,7.6,7.0,9.9,8.8,8.3,6.5,10.8,6.1,9.9,10.2,7.6,8.8,9.9,7.6,11.3,6.4,7.6,7.9,8.2,5.9,7.4,8.8,6.8,8.4,9.3,7.8,11.5,6.7,6.6,7.5,7.0,7.1,11.5,7.5,8.1,7.6,9.5,7.5,8.8,8.4,8.7,6.9,6.9,7.1,7.4,7.7,8.9,7.1,7.5,7.5,7.8,7.9,12.5,9.4,8.2,6.3,9.2,7.0,6.8,9.1,9.4,6.8,6.1,6.3,10.8,10.2,9.3,8.7,11.4,9.9,11.5,9.3,6.6,7.7,7.4,7.0,7.4,6.8,8.2,6.8,7.7,7.2,7.2,7.8,10.0,5.2,7.9,9.8,8.8,6.2,9.1,6.1,7.1,6.4,9.3,8.3,12.8,7.5,8.1,7.7,6.7,6.8,11.6,6.2,7.8,6.5,7.6,8.6,7.0,7.7,9.0,7.1,7.4,8.7,7.7,10.0,8.0,8.6,7.7,8.2,10.3,8.8,6.2,6.2,12.0,8.2,9.3,7.1,7.8,8.7,7.3,8.7,12.0,8.8,10.1,8.7,7.2,9.3,7.7,9.9,6.1,11.6,10.5,7.9,9.9,7.9,6.8,8.9,7.2,8.9,7.5,7.7,7.8,6.7,11.5,7.1,10.1,9.2,9.1,8.9,8.8,7.6,7.2,8.9,7.7,8.9,7.8,7.2,6.6,8.8,10.5,6.6,10.1,9.5,12.3,10.4,7.8,6.1,8.6,6.4,6.7,7.0,8.6,7.1,8.4,9.3,8.8,5.3,6.5,6.8,10.0,10.6,8.3,8.9,11.3,11.5,7.8,12.2,7.5,8.8,11.6,8.3,7.0,7.7,7.8,8.8,8.0,8.1,6.8,10.5,9.8,7.8,7.7,7.3,7.6,8.9,6.2,8.2,8.0,6.8,8.0,7.1,8.8,6.4,7.9,8.1,8.7,6.3,6.3,7.9,11.9,7.2,7.9,12.3,11.3,11.3,7.8,10.0,12.4,5.0,10.3,6.1,10.2,8.6,10.9,7.7,9.0,7.7,7.3,7.3,9.4,6.4,7.3,7.1,7.1,6.2,9.3,7.5,7.7,11.9,7.1,10.4,9.9,8.2,7.7,8.6,8.2,7.8,7.8,7.8,7.5,8.8,6.9,8.9,7.5,11.5,6.6,7.9,6.7,7.2,8.0,8.8,7.1,7.9,8.2,9.6,7.8,8.0,6.4,11.5,7.1,9.2,7.3,8.6,7.8,7.4,12.5,7.1,6.8,7.1,7.6,8.4,8.1,7.8,6.5,7.5,6.7,8.8,11.9,8.5,7.7,8.8,7.0,11.5,7.2,8.0,11.8,8.0,7.8,11.5,6.5,8.6,8.9,7.5,8.3,10.8,6.0,7.3,6.4,8.4,13.3,7.5,10.8,6.6,11.5,7.3,6.6,6.6,8.2,8.8,13.0,7.8,9.6,7.1,7.4,6.5,8.5,7.5,8.8,8.1,7.8,8.1,7.6,8.0,9.2,6.8,6.7,6.6,10.2,9.0,8.8,8.3,9.9,7.7,7.2,7.2,8.8,7.1,7.8,6.8,9.2,8.0,8.3,9.3,8.8,7.1,7.9,8.8,7.2,8.0,7.4,12.3,6.4,7.0,8.1,10.0,10.2,8.2,7.5,7.5,8.8,8.2,7.1,11.6,8.3,12.5,8.7,7.6,6.7,7.7,7.8,8.0,7.7,12.6,7.5,7.1,7.6,8.9,8.0,6.4,6.7,9.1,7.6,12.3,7.8,6.9,7.2,6.1,12.0,12.5,7.1,6.2,8.4,6.8,7.9,8.2,7.6,8.7,12.5,8.3,7.6,6.4,8.0,6.8,12.0,7.7,8.5,6.5,10.2,6.7,7.5,8.8,10.1,11.6,7.6,11.5,11.7,9.0,9.3,7.7,12.6,10.6,7.7,8.1,8.4,6.4,7.2,11.9,9.1,12.8,8.6,7.4,8.9,7.1,10.4,8.6,5.6,7.4,11.3,7.8,11.9,6.6,9.2,6.9,6.2,7.4,7.4,8.9,7.7,6.6,12.4,8.6,7.3,6.2,8.4,8.2,8.5,7.4,13.5,10.3,7.8,7.2,8.1,7.8,13.3,8.2,7.9,9.5,8.0,7.1,7.0,7.6,7.4,8.9,6.8,10.9,5.1,8.2,8.6,8.4,9.9,7.7,7.0,8.2,6.7,7.6,8.8,8.0,6.0,8.0,9.1,8.2,5.6,7.5,7.0,9.9,9.9,8.9,7.6,6.6,8.9,7.3,6.5,7.7,6.7,8.0,8.1,10.2,7.7,7.0,7.3,8.1,7.0,12.6,7.1,8.3,6.8,9.6,7.0,7.9,6.0,6.9,8.7,11.9,8.9,7.7,7.4,7.0,7.5,7.7,8.4,6.1,10.4,7.5,8.1,9.4,7.8,11.9,7.6,6.2,7.2,9.8,6.8,10.3,6.9,8.8,8.5,5.1,7.1,11.9,9.3,9.9,7.5,8.3,6.0,7.9,11.7,7.7,8.7,7.4,8.2,9.9,8.9,7.3,7.2,7.8,10.0,7.3,8.1,9.4,10.1,8.2,7.1,7.5,9.3,9.1,5.7,5.6,6.8,10.6,9.8,11.1,6.0,10.0,8.3,6.4,7.0,7.9,9.9,8.7,8.8,9.9,9.5,6.4,8.9,6.2,9.7,8.3,8.9,7.9,12.3,9.6,7.5,6.1,10.2,7.7,7.0,9.1,7.0,10.4,6.0,10.1,5.6,6.8,8.0,8.3,7.6,13.4,8.0,8.7,7.0,7.6,5.3,9.8,10.1,7.6,9.2,8.9,6.2,10.4,6.2,10.4,6.1,7.9,8.6,6.7,7.9,6.5,8.0,8.3,12.6,6.4,6.4,12.4,8.7,8.4,8.9,7.9,6.2,9.4,8.6,9.2,9.6,11.4,8.7,7.6,12.6,6.2,7.7,6.4,7.0,9.0,6.4,8.8,6.4,11.5,9.2,10.6,9.8,7.6,7.8,7.8,10.6,7.2,7.0,5.6,9.4,7.2,8.3,6.0,10.2,11.5,8.0,7.8,6.8,7.8,10.6,10.0,7.2,10.5,7.6,5.6,7.9,10.6,8.0,9.2,10.6,12.0,8.3,7.2,7.5,6.7,7.6,7.1,6.7,7.5,8.2,6.7,7.0,8.9,7.2,9.4,8.4,8.9,7.7,8.2,9.3,8.2,7.9,7.5,7.2,7.5,6.1,8.6,12.7,8.8,6.3,7.6,7.1,9.6,7.8,12.8,7.1,9.1,8.1,9.0,6.2,7.1,9.3,11.5,8.7,7.3,13.0,12.8,7.3,7.9,7.9,7.7,15.5,9.4,7.5,8.3,8.3,9.9,10.7,6.5,6.8,10.0,7.6,7.8,8.9,8.0,8.9,11.5,7.4,11.4,8.7,7.8,8.9,8.5,6.0,8.3,8.3,15.9,7.1,7.0,9.1,8.1,8.1,11.9,7.9,6.1,11.6,8.0,5.6,7.6,6.0,7.8,6.4,7.1,9.2,12.5,8.9,9.3,7.1,7.8,6.5,8.0,9.9,6.2,7.6,6.3,8.5,9.3,10.5,9.2,9.4,7.4,11.3,9.3,6.8,7.0,7.9,9.3,12.3,7.1,8.6,6.8,7.9,8.4,11.5,7.6,7.6,7.8,6.2,11.3,8.0,9.3,9.0,7.8,7.1,5.0,7.9,7.2,9.0,7.6,6.8,8.5,8.1,9.4,10.6,8.6,7.6,6.0,9.9,7.2,8.9,9.8,7.1,10.6,7.3,9.4,9.9,9.4,8.0,7.7,8.4,8.8,9.4,7.8,9.0,9.1,7.8,7.0,9.1,8.1,8.3,7.0,5.2,10.7,6.9,8.8,9.7,9.3,6.9,8.4,8.6,9.3,9.9,8.1,6.5,7.5,7.1,7.7,8.3,9.9,9.0,9.8,5.4,8.6,7.1,7.0,11.3,8.3,10.4,7.5,8.2,6.9,8.7,6.5,7.2,8.7,7.5,9.1,9.9,9.3,9.3,8.6,6.7,7.2,7.0,8.2,7.9,9.0,7.1,6.7,7.5,8.0,7.0,5.3,12.3,6.8,8.9,7.4,6.8,7.8,8.3,6.2,6.0,10.2,12.5,7.9,7.1,7.8,8.3,11.9,7.5,7.5,8.4,8.6,6.0,8.1,9.4,11.9,10.0,12.5,7.9,5.6,8.9,6.8,8.1,7.5,12.3,8.0,7.7,7.7,12.8,7.4,7.2,7.8,11.1,7.6,6.7,7.7,10.6,6.8,7.2,8.9,11.9,13.2,9.0,12.8,7.8,9.3,6.9,6.3,7.3,8.9,7.2,8.3,8.3,7.8,6.5,7.5,11.4,6.7,8.3,7.4,8.4,7.1,6.6,7.1,11.9,8.1,7.7,9.1,6.7,5.6,6.8,8.4,8.8,9.1,10.2,7.3,11.9,7.1,10.4,7.4,7.0,6.4,9.0,7.1,8.5,7.5,7.7,8.2,6.2,7.5,9.6,9.0,9.1,11.3,7.1,6.7,10.8,8.6,8.3,7.5,8.0,5.6,11.1,9.0,8.0,9.4,9.9,6.7,7.6,6.8,9.5,10.2,6.7,7.5,6.7,8.2,10.0,8.2,8.2,7.1,8.7,9.2,5.7,7.8,8.2,7.0,5.9,6.7,8.8,7.7,8.2,6.3,8.7,6.9,8.9,6.6,7.5,8.8,6.1,8.2,6.2,7.0,7.8,8.0,8.4,8.8,9.9,9.3,8.7,10.9,8.3,9.4,11.9,6.9,8.4,7.7,9.3,6.6,6.8,12.5,7.0,7.0,9.8,9.9,7.6,6.2,8.6,11.3,6.1,11.3,11.6,6.7,6.0,6.9,8.2,7.5,8.8,8.4,11.9,9.3,7.1,7.5,7.8,7.6,10.5,7.3,8.6,7.4,8.2,6.8,7.2,7.7,6.1,5.4,9.2,11.9,7.2,10.6,8.5,10.5,10.0,6.4,5.0,7.1,6.8,7.7,7.0,10.6,9.2,12.3,9.0,8.0,11.9,6.6,12.8,7.8,12.5,10.5,7.1,7.0,6.6,7.1,11.4,6.8,8.9,6.8,8.7,6.8,6.1,5.8,10.7,7.1,7.0,7.6,6.7,11.9,9.9,7.9,6.7,8.3,7.7,6.0,7.9,5.3,9.5,7.6,8.3,7.5,7.2,6.0,10.6,7.8,7.5,9.9,10.0,11.5,6.1,8.0,8.9,9.4,7.2,9.8,8.9,7.2,10.0,6.1,7.2,8.1,7.1,7.8,6.8,6.6,9.1,11.3,7.1,7.5,11.9,8.9,10.3,9.1,8.1,10.5,8.3,6.2,6.9,7.5,8.1,8.0,7.7,7.4,9.9,7.6,8.0,7.9,7.1,7.2,11.5,6.1,7.9,11.7,7.0,7.6,11.6,7.9,11.5,7.7,8.0,6.0,7.9,9.9,7.2,7.7,7.4,6.2,7.6,13.3,8.0,7.7,8.1,6.7,6.7,8.6,8.0,7.8,8.1,9.5,10.7,7.8,12.0,8.2,12.5,9.9,6.0,7.7,6.8,8.0,8.8,8.1,12.7,7.8,7.7,7.1,11.9,7.3,8.6,13.0,8.6,6.4,8.7,6.2,7.9,7.8,8.7,7.6,7.8,7.7,7.8,6.4,7.2,9.6,6.4,7.9,8.3,8.9,6.1,5.6,7.0,10.0,8.7,11.5,7.9,6.6,13.3,7.5,6.8,7.3,7.9,11.6,7.3,8.8,8.0,5.2,10.0,7.3,9.4,6.4,9.6,6.2,6.7,8.2,9.2,7.3,7.5,6.6,7.6,10.8,10.0,6.6,6.1,10.6,8.4,10.1,6.0,11.9,7.2,7.7,6.9,6.7,8.1,10.9,10.9,5.0,6.7,8.4,8.3,7.7,9.2,8.7,7.0,7.5,8.9,8.1,6.0,6.9,7.1,8.0,7.0,8.7,8.5,8.4,14.3,10.4,8.2,11.6,7.0,8.1,7.8,8.9,7.1,6.4,8.9,6.6,10.8,7.6,7.2,7.0,7.7,7.3,7.9,6.7,8.8,11.2,7.1,8.6,6.7,11.9,5.6,10.4,11.5,8.7,7.3,7.7,7.7,8.2,7.0,8.0,6.6,11.9,8.4,11.9,6.6,9.7,7.7,9.1,6.2],\"type\":\"histogram\",\"xaxis\":\"x\",\"yaxis\":\"y\"},{\"name\":\"volatile acidity\",\"x\":[0.5,0.3,0.51,0.87,0.36,0.51,0.87,0.43,0.38,0.78,0.715,0.24,0.59,0.52,0.66,0.59,0.27,0.56,0.24,0.39,0.39,0.55,0.69,0.22,0.7,0.31,0.7,0.28,0.56,0.5,0.84,0.69,0.45,0.41,0.54,0.62,0.36,0.58,0.31,0.4,0.5,0.42,0.44,0.48,0.785,0.76,0.51,0.32,0.62,0.38,0.34,0.42,0.4,0.88,0.42,0.78,0.5,0.6,0.59,0.66,0.51,0.74,0.35,0.625,0.825,0.39,0.6,0.57,0.705,0.725,0.66,0.73,0.47,0.695,0.56,0.685,0.49,0.43,0.885,0.49,0.34,0.49,0.65,0.43,0.82,0.52,0.39,0.38,0.75,0.43,0.6,0.84,0.69,0.48,0.5,0.51,0.37,0.27,0.64,0.74,0.62,0.28,0.7,0.725,0.55,0.46,0.52,0.54,0.875,0.33,0.66,0.48,0.735,0.43,0.34,0.24,0.38,0.59,0.42,0.47,0.59,0.45,0.6,0.65,0.67,0.27,0.795,0.34,0.745,0.31,0.32,0.46,0.28,0.32,0.62,0.685,0.62,0.8,0.5,0.52,0.74,0.66,0.6,0.21,0.52,0.35,0.36,0.37,0.59,0.49,0.625,0.3,0.36,0.66,0.48,0.965,0.4,0.63,0.36,0.43,0.655,0.5,0.96,0.37,0.48,0.57,0.62,0.52,0.3,0.66,0.59,0.43,0.785,0.6,0.56,0.49,0.43,0.27,0.705,0.57,0.585,0.65,0.62,1.0,0.63,0.43,0.39,0.575,0.49,0.61,0.48,0.695,0.5,0.32,0.825,0.39,0.58,0.37,0.41,0.6,0.88,0.43,0.7,0.39,0.96,0.28,1.04,0.34,0.64,0.24,0.56,0.615,0.21,0.38,0.38,0.35,0.955,0.46,0.49,0.5,0.66,0.87,0.74,0.62,0.65,0.59,0.63,0.735,0.31,0.46,0.45,0.5,0.56,0.7,0.725,0.18,0.41,0.59,0.4,0.52,0.51,0.575,0.54,0.46,0.56,0.82,0.33,0.31,0.45,0.56,0.28,0.31,0.66,0.885,0.48,0.5,0.38,0.55,0.66,0.7,0.36,0.66,0.4,0.54,0.58,0.52,0.49,0.5,0.29,0.35,0.705,0.6,0.36,0.31,0.54,0.28,0.78,0.66,0.3,0.3,0.46,0.27,0.42,0.49,0.32,0.805,0.615,0.36,0.4,0.6,0.27,0.32,0.69,0.5,0.32,0.4,0.26,0.49,0.68,0.655,0.43,0.64,0.705,0.27,0.68,0.42,0.42,0.84,0.835,0.965,0.35,0.66,0.64,0.34,0.21,0.935,0.5,0.75,0.65,0.41,0.56,0.39,0.36,0.31,0.62,0.66,0.36,0.58,0.45,0.48,0.88,0.34,0.66,0.765,0.63,0.41,0.36,0.66,0.39,0.5,0.58,0.84,0.46,0.31,0.52,0.58,0.75,0.62,0.6,0.735,0.695,0.53,0.78,0.61,1.33,0.59,0.69,0.51,0.64,0.875,0.67,0.46,0.58,0.6,0.655,0.54,0.58,0.32,0.27,0.5,0.48,0.3,0.885,0.59,0.88,0.52,0.58,0.59,0.62,0.69,0.64,0.63,0.21,0.61,0.52,0.645,0.48,0.6,0.53,0.46,0.35,0.315,0.46,0.37,0.65,0.59,0.36,0.825,0.655,0.48,0.37,0.54,0.855,0.53,0.28,0.47,0.58,0.39,0.54,0.45,0.47,0.5,0.39,0.31,0.54,0.5,0.28,0.5,0.69,0.53,0.37,0.54,0.68,0.63,0.28,0.39,0.43,0.4,0.63,0.735,0.885,0.78,0.41,0.38,0.47,0.43,0.31,0.47,0.6,0.74,0.57,0.41,0.48,0.62,0.48,0.28,0.69,0.69,0.875,0.24,0.7,0.58,0.84,0.58,0.52,0.61,0.42,0.635,0.41,0.4,0.615,0.57,0.66,0.69,0.69,0.58,0.85,0.38,0.31,0.31,0.655,0.49,0.64,0.55,0.5,0.45,0.77,0.685,0.24,0.53,0.65,0.6,0.635,0.41,0.41,0.41,0.26,0.51,0.63,0.56,0.41,0.62,0.52,0.88,0.41,0.37,0.58,0.84,0.41,0.64,0.705,0.68,0.49,0.56,0.66,0.6,0.31,0.46,0.5,0.865,0.685,0.5,0.62,0.66,0.53,0.6,0.55,0.4,0.35,0.34,0.62,0.56,0.61,0.27,0.66,0.54,0.39,0.735,0.28,0.61,0.28,0.69,0.655,0.39,0.43,0.18,0.39,0.46,0.5,0.57,0.655,0.655,0.58,0.54,0.58,0.26,0.54,0.29,0.6,0.78,0.33,0.88,0.28,0.51,0.52,0.38,0.48,0.36,0.7,0.61,0.27,0.735,0.45,0.685,0.48,0.24,0.31,0.45,0.63,0.63,0.62,0.56,0.76,0.45,0.31,0.915,0.56,0.59,0.34,0.725,0.38,0.48,0.36,0.61,0.41,0.3,0.64,0.49,0.51,0.58,0.36,0.78,0.39,0.4,0.47,0.47,0.58,0.37,0.63,0.35,0.59,0.38,0.38,0.23,0.49,0.53,0.44,0.6,0.36,0.51,0.32,0.35,0.35,0.74,0.39,0.24,0.53,0.37,0.32,0.4,0.725,0.745,0.49,0.49,0.59,0.38,0.68,0.3,0.56,0.5,0.69,0.5,0.32,0.41,0.43,0.55,0.57,0.28,0.62,0.5,0.54,0.34,0.43,0.4,0.41,0.6,0.67,0.705,0.64,0.69,0.54,0.59,0.655,0.5,0.39,0.715,0.34,0.28,0.64,0.53,0.6,0.5,0.28,0.22,0.63,0.4,0.66,0.56,0.61,0.28,0.77,0.47,0.36,0.47,0.41,0.5,0.43,0.28,0.55,0.43,0.57,0.6,0.67,0.59,0.54,0.705,0.86,0.47,0.28,0.59,0.28,0.43,0.41,0.35,0.41,0.6,0.69,0.64,1.035,0.48,0.6,0.27,0.57,0.62,0.63,0.65,0.35,0.46,0.67,0.29,0.59,0.6,0.75,0.545,0.48,0.735,0.715,0.43,0.49,0.36,0.48,0.52,0.58,0.915,0.695,0.3,0.64,0.61,0.63,0.785,0.52,0.58,0.67,0.31,0.61,0.49,0.58,0.61,0.5,0.88,0.44,0.39,0.46,0.31,0.6,0.7,0.66,0.3,0.49,0.29,0.57,0.835,0.28,0.58,0.575,0.5,0.54,0.38,0.6,0.52,0.55,0.31,0.43,0.59,0.42,0.57,0.42,0.35,0.57,0.48,0.795,1.33,0.42,0.35,0.725,0.6,0.52,0.43,0.745,0.915,0.28,0.53,0.35,0.4,0.7,0.52,0.45,0.645,0.43,0.68,0.36,0.69,0.67,0.32,0.61,0.33,0.57,0.43,0.47,0.42,0.64,0.49,0.58,0.635,0.22,0.935,0.38,0.27,0.61,0.69,0.66,0.64,0.66,0.39,0.66,0.6,0.31,0.36,0.18,0.77,0.28,0.62,0.43,0.745,0.37,0.68,0.54,0.58,0.77,0.735,0.57,0.62,0.31,0.67,0.61,0.57,0.36,0.55,0.4,0.635,0.47,0.35,0.57,0.32,0.69,0.62,0.61,0.57,0.86,0.22,0.835,0.49,0.705,0.41,0.66,0.845,0.37,0.38,0.5,0.6,0.51,0.37,0.43,0.32,0.88,0.27,0.39,0.42,0.56,0.3,0.65,0.28,0.725,0.66,0.59,0.46,0.65,0.6,0.43,0.39,1.33,0.78,0.41,0.6,0.49,0.54,0.3,0.69,0.29,0.74,0.54,0.49,0.58,0.36,0.36,0.35,0.58,0.34,0.38,0.66,0.63,0.38,0.36,0.47,0.43,0.51,0.59,0.74,0.43,0.52,0.38,0.33,0.32,0.6,0.46,0.6,0.84,0.49,0.62,0.41,0.58,0.49,0.69,0.54,0.63,0.28,0.7,0.715,0.56,0.59,0.65,0.57,0.6,0.56,0.55,0.7,0.35,0.39,0.725,0.41,0.27,0.58,0.6,0.51,0.28,0.53,0.6,0.57,0.47,0.61,0.42,0.36,0.745,0.44,0.58,0.57,0.84,0.31,0.785,0.7,0.34,0.38,0.28,0.37,0.59,0.69,0.57,0.835,0.34,0.31,0.64,0.28,0.885,0.49,0.8,0.36,0.37,0.61,0.66,0.42,0.57,0.43,0.3,0.48,0.52,0.31,0.54,0.63,0.58,1.0,0.835,0.6,0.48,0.28,0.76,0.5,0.31,0.39,0.43,0.46,0.33,0.84,0.4,0.64,0.6,0.59,0.705,0.87,0.6,0.35,0.625,0.66,0.65,0.7,0.36,0.43,0.38,0.5,0.46,0.35,0.74,0.725,0.64,0.28,0.32,0.46,0.27,0.57,0.69,0.63,0.43,0.38,0.49,0.27,0.49,0.33,0.39,0.77,0.715,0.58,0.52,0.24,0.44,0.45,0.38,0.6,0.735,0.77,0.31,0.61,0.27,0.39,0.835,0.74,0.63,0.43,0.64,0.48,0.48,0.64,0.36,0.32,0.53,0.49,0.5,0.27,0.32,0.34,0.32,0.84,0.56,0.5,0.53,0.48,0.59,0.43,0.39,0.24,0.63,0.72,0.38,0.64,0.4,0.3,0.49,0.34,0.69,0.475,0.41,0.56,0.3,0.41,0.31,0.38,0.58,0.84,0.36,0.51,0.47,0.56,0.41,0.55,0.59,0.39,0.745,0.81,0.84,0.48,1.18,0.6,0.59,0.35,0.31,0.5,0.735,0.28,0.545,0.615,0.82,0.655,0.39,0.47,0.43,0.26,0.78,0.56,0.28,0.3,0.62,0.84,0.43,0.38,0.35,0.6,0.78,0.43,0.31,0.43,0.57,0.4,0.46,0.76,0.48,0.4,0.35,0.65,0.42,0.66,0.49,0.67,0.46,0.62,0.58,0.32,0.39,0.66,0.56,0.39,0.48,0.55,0.49,0.43,0.735,0.935,0.37,0.39,0.34,0.66,0.96,0.715,0.3,0.66,0.27,0.3,0.64,0.36,0.4,0.4,0.6,0.51,0.44,0.56,0.6,0.39,0.58,0.28,0.6,0.61,0.56,0.53,0.38,0.66,0.59,0.66,0.6,0.6,0.47,0.4,0.39,0.52,0.53,1.035,0.39,0.69,0.5,0.6,0.745,0.96,0.74,0.27,0.32,0.57,0.43,0.64,0.615,0.47,0.31,0.63,0.53,0.39,0.56,0.51,0.28,0.28,0.6,0.725,0.62,0.29,0.31,0.685,0.41,0.61,0.39,0.5,0.38,0.675,0.56,0.31,0.64,0.735,0.57,0.6,0.44,0.31,0.43,0.44,0.695,0.935,0.66,0.42,0.63,0.37,0.51,0.38,0.39,0.42,0.49,0.33,0.6,0.885,0.42,0.32,0.45,0.43,0.35,0.725,0.64,0.9,0.57,0.38,0.39,0.38,0.52,0.52,0.6,0.33,0.59,0.41,0.7,0.49,0.24,0.56,0.4,0.63,0.39,0.84,0.53,0.42,0.52,0.87,0.6,0.635,0.36,0.31,0.43,0.69,0.6,0.785,0.43,0.31,0.3,0.41,0.34,0.58,0.43,0.87,0.5,0.635,0.66,0.6,0.56,0.67,0.56,0.735,0.3,0.73,0.55,0.62,0.67,0.41,0.56,0.64,0.37,0.34,0.49,0.31,0.82,0.49,0.84,0.33,0.34,0.7,0.655,0.22,0.54,1.0,0.47,0.66,0.6,0.41,0.37,0.34,0.53,0.75,0.835,0.54,0.4,0.685,0.24,0.63,0.37,0.22,0.52,0.66,0.31,0.52,0.49,0.53,0.52,0.36,0.7,0.52,0.27,0.28,0.58,0.54,0.4,0.49,0.32,0.885,0.31,0.56,0.48,0.88,0.26,0.66,0.5,0.5,0.35,0.64,0.43,0.775,0.59,0.51,0.5,0.76,0.56,0.785,0.36,0.48,0.36,0.42,0.35,0.24,0.64,0.35,0.41,0.59,0.76,0.6,0.635,0.645,0.78,0.57,0.35,0.38,0.36,0.38,0.69,0.84,0.55,0.46,0.69,0.31,0.22,0.43,0.6,0.49,0.39,0.32,0.6,0.655,0.4,0.49,0.48,0.54,0.315,0.64,0.6,0.34,0.43,0.965,0.61,0.6,0.63,0.18,0.655,0.82,0.46,0.57,0.725,0.56,0.65,0.59,0.37,0.66,0.43,0.835,0.2,0.43,0.46,0.5,0.52,0.64,0.69,0.31,0.18,0.51,0.57,0.43,0.78,0.43,0.43,0.78,0.67,0.31,0.28,0.43,0.78,0.4,0.62,0.75,0.36,0.4,0.46,0.59,0.755,0.605,0.35,0.54,0.48,0.47,0.36,0.73,0.4,0.36,0.705,0.96,0.54,0.64,0.27,0.47,0.18,0.38,0.54,0.47,0.46,0.5,0.48,0.715,0.67,0.78,0.42,0.835,0.43,0.3,0.5,0.57,0.6,0.42,0.57,0.64,0.58,0.52,0.49,0.66,0.24,0.36,0.52,0.27,0.51,0.38,0.39,0.655,0.725,0.4,0.26,0.49,0.87,0.34,0.46,0.78,0.27,0.83,0.58,0.78,0.98,0.53,0.74,0.35,0.41,0.32,0.58,0.59,0.7,0.41,0.28,0.43,0.54,0.5,0.22,0.49,0.47,0.76,1.04,0.58,0.43,0.39,0.52,0.39,0.46,0.725,0.48,0.735,0.24,0.655,0.4,0.775,0.65,0.57,0.48,0.67,0.885,0.315,0.5,0.5,0.55,0.69,0.55,0.43,0.46,0.615,0.4,0.615,0.835,0.62,0.53,0.84,0.3,0.43,0.27,0.31,0.725,0.51,0.88,0.28,0.38,0.49,0.36,0.47,0.74,0.78,0.66,0.5,0.36,0.45,0.24,0.46,0.48,0.66,0.53,0.39,0.935,0.82,0.5,0.56,0.34,0.41,0.58,0.715,0.75,0.545,0.4,0.37,0.63,0.36,0.28,0.64,0.66,0.65,1.04,0.32,0.59,0.45,1.035,0.64,0.46,0.475,0.69,0.28,0.33,0.28,0.96,0.66,0.43,0.45,0.8,0.84,0.28,0.39,0.64,0.32,0.66,0.38,0.56,0.57,0.34,0.62,0.68,0.31,0.57,0.59,0.74,0.47,0.715,0.41,0.49,0.67,0.5,0.6,0.55,0.48,0.34,0.5,0.44,0.58,0.32,0.54,0.52,0.43,0.63,0.29,0.57,0.62,0.48,0.3,0.67,0.49,0.43,0.695,0.66,0.26,0.63,0.78,0.34,0.46,0.38,0.18,0.34,0.4,0.66,0.29,0.31,0.31,0.77,0.54,0.69,0.68,1.33,0.61,1.012,0.32,0.66,0.635,0.54,0.6,0.78,0.51,0.47,0.46,0.45,0.57,0.53,0.34,0.4,0.635,0.43,0.24,0.635,0.725,0.47,0.24,0.36,0.49,0.46,0.545,0.34,0.33,0.56,0.64,0.5,0.66,0.49,0.46,0.37,0.34,0.6,0.52,0.46,0.64,0.27,0.37,0.63,0.34,0.59,0.54,0.88,0.24,0.34,0.36,0.22,0.51,0.51,0.48,0.695,0.31,0.54,0.53,0.42,0.28,0.54,0.795,0.6,0.52,0.65,0.58,0.51,1.58,0.35,0.31,0.715,0.35,0.61,0.46,0.45,0.69,0.4,0.49,0.34,0.36,0.5,0.49,0.24,0.31,0.66,0.38,0.3,0.36,0.38,0.795,0.38,0.685,0.57,0.27,0.61,0.52,0.36,0.4,0.58,0.65,0.52,0.32,0.28,0.6,0.41,0.64,0.57,0.6,0.66,0.725,0.43,0.58,0.43,0.53,0.67,0.39,0.56,0.54,0.52,0.59,0.66,0.56,0.615,0.84,0.78,0.33,0.35,0.57,0.28,0.835,0.62,0.36,0.24,0.35,0.61,0.55,0.885,0.66,0.39,0.52,0.26,0.49,0.6,0.5,0.28,0.63,0.6,0.38,0.53,0.4,0.27,0.37,1.04,0.77,0.74,0.69,0.62,0.5,0.64,0.45,0.59,0.66,0.36,0.63,0.705,0.735,0.35,0.47,0.6,0.74,0.46,0.39,0.47,0.39,0.41,0.38,0.37,0.47,0.685,0.62,0.62,0.695,0.66,0.42,0.5,0.635,0.4,0.725,0.43,0.43,0.855,0.55,0.59,0.37,0.6,0.8,0.36,0.78,0.68,0.38,0.77,0.36,0.3,0.705,0.5,0.875,1.33,0.77,0.88,0.3,0.61,0.66,0.35,0.545,0.48,0.7,0.27,0.31,0.62,0.47,0.835,0.5,0.715,0.31,0.68,0.46,0.51,0.64,0.63,0.68,0.27,0.66,0.725,0.32,0.42,0.52,0.48,0.67,0.24,0.32,0.28,0.56,0.83,0.49,0.55,0.84,0.68,0.31,0.33,0.18,0.54,0.32,0.34,0.24,0.58,0.43,0.765,0.41,0.43,0.82,0.63,0.28,0.68,0.66,0.58,0.42,0.28,0.41,0.96,0.36,0.5,0.49,0.56,0.7,0.39,0.5,0.6,0.735,0.84,0.49,0.31,0.29,0.32,0.67,0.69,0.56,1.18,0.61,0.43,0.55,0.57,0.41,0.38,0.53,0.59,0.6,0.725,0.55,0.46,0.5,0.48,0.645,0.43,0.54,0.38,0.5,0.64,0.55,0.43,0.49,0.46,0.39,0.64,0.46,0.78,0.43,0.43,0.4,0.52,0.46,0.53,0.48,0.35,0.69,0.31,0.46,0.69,0.54,0.32,0.24,0.35,0.6,0.28,0.63,0.29,0.38,0.87,0.63,0.28,0.34,0.38,0.31,0.59,0.43,0.5,0.31],\"type\":\"histogram\",\"xaxis\":\"x2\",\"yaxis\":\"y2\"},{\"name\":\"citric acid\",\"x\":[0.39,0.73,0.03,0.22,0.3,0.44,0.0,0.32,0.55,0.09,0.24,0.42,0.24,0.28,0.03,0.24,0.6,0.28,0.34,0.16,0.31,0.24,0.0,0.01,0.0,0.32,0.0,0.57,0.18,0.55,0.07,0.24,0.39,0.29,0.26,0.06,0.3,0.21,0.49,0.11,0.02,0.49,0.29,0.42,0.0,0.07,0.6,0.41,0.13,0.32,0.43,0.29,0.5,0.21,0.39,0.08,0.49,0.26,0.12,0.0,0.23,0.07,0.39,0.19,0.18,0.6,0.0,0.21,0.05,0.06,0.0,0.02,0.37,0.0,0.02,0.19,0.44,0.32,0.0,0.24,0.39,0.21,0.02,0.09,0.22,0.33,0.27,0.57,0.01,0.55,0.23,0.26,0.0,0.49,0.29,0.66,0.42,0.53,0.22,0.03,0.06,0.49,0.09,0.22,0.14,0.39,0.13,0.04,0.05,0.4,0.0,0.3,0.0,0.49,0.27,0.33,0.55,0.22,0.64,0.19,0.02,0.49,0.49,0.02,0.0,0.53,0.0,0.33,0.36,0.49,0.52,0.24,0.44,0.43,0.0,0.01,0.06,0.11,0.49,0.14,0.0,0.26,0.26,0.49,0.49,0.53,0.3,0.14,0.02,0.34,0.12,0.34,0.39,0.02,0.14,0.05,0.4,0.03,0.39,0.24,0.09,0.1,0.22,0.25,0.31,0.06,0.26,0.0,0.5,0.05,0.06,0.32,0.0,0.13,0.14,0.28,0.24,0.53,0.07,0.27,0.17,0.02,0.27,0.0,0.1,0.14,0.45,0.22,0.0,0.18,0.31,0.0,0.54,0.25,0.22,0.73,0.48,0.52,0.64,0.26,0.0,0.33,0.01,0.49,0.0,0.45,0.24,0.49,0.21,0.44,0.0,0.66,0.43,0.31,0.49,0.36,0.0,0.09,0.63,0.02,0.45,0.21,0.19,0.06,0.21,0.22,0.49,0.0,0.27,0.28,0.49,0.33,0.13,0.29,0.12,0.4,0.33,0.02,0.6,0.06,0.13,0.22,0.04,0.31,0.29,0.03,0.25,0.21,0.24,0.0,0.35,0.27,0.02,0.26,0.03,0.42,0.57,0.13,0.0,0.0,0.55,0.48,0.49,0.28,0.66,0.66,0.27,0.21,0.4,0.49,0.36,0.08,0.08,0.34,0.0,0.32,0.2,0.08,0.34,0.33,0.49,0.49,0.24,0.19,0.44,0.0,0.66,0.21,0.42,0.49,0.44,0.63,0.4,0.49,0.45,0.53,0.42,0.49,0.11,0.04,0.29,0.1,0.05,0.49,0.27,0.24,0.3,0.32,0.0,0.0,0.53,0.08,0.26,0.25,0.32,0.06,0.34,0.15,0.2,0.2,0.49,0.42,0.3,0.5,0.01,0.29,0.59,0.01,0.21,0.53,0.04,0.28,0.0,0.22,0.01,0.49,0.33,0.0,0.13,0.0,0.22,0.03,0.65,0.6,0.03,0.01,0.24,0.49,0.26,0.02,0.0,0.26,0.03,0.24,0.0,0.18,0.24,0.14,0.26,0.12,0.39,0.24,0.2,0.01,0.03,0.31,0.2,0.09,0.35,0.0,0.28,0.55,0.03,0.18,0.21,0.49,0.01,0.23,0.2,0.32,0.21,0.15,0.36,0.13,0.05,0.2,0.31,0.09,0.24,0.43,0.52,0.52,0.53,0.41,0.21,0.28,0.53,0.04,0.49,0.31,0.48,0.45,0.02,0.04,0.34,0.08,0.1,0.12,0.13,0.31,0.28,0.49,0.24,0.39,0.26,0.57,0.36,0.49,0.12,0.45,0.32,0.27,0.21,0.1,0.34,0.24,0.53,0.0,0.14,0.21,0.0,0.08,0.51,0.21,0.53,0.31,0.63,0.32,0.08,0.07,0.24,0.48,0.54,0.23,0.28,0.34,0.19,0.76,0.11,0.43,0.0,0.22,0.21,0.14,0.49,0.18,0.49,0.49,0.56,0.5,0.63,0.04,0.32,0.0,0.27,0.49,0.0,0.21,0.3,0.56,0.15,0.21,0.17,0.31,0.0,0.19,0.03,0.0,0.34,0.04,0.02,0.01,0.49,0.53,0.65,0.28,0.53,0.0,0.41,0.22,0.64,0.01,0.34,0.0,0.3,0.31,0.01,0.06,0.24,0.0,0.0,0.0,0.39,0.19,0.01,0.26,0.51,0.44,0.3,0.1,0.01,0.34,0.01,0.0,0.09,0.1,0.15,0.63,0.19,0.44,0.06,0.22,0.24,0.41,0.36,0.59,0.49,0.22,0.35,0.0,0.36,0.0,0.04,0.4,0.32,0.34,0.51,0.31,0.49,0.02,0.04,0.07,0.2,0.31,0.13,0.4,0.26,0.49,0.25,0.07,0.45,0.03,0.48,0.14,0.12,0.52,0.32,0.53,0.0,0.21,0.53,0.0,0.43,0.49,0.68,0.37,0.33,0.45,0.17,0.31,0.03,0.28,0.31,0.49,0.49,0.2,0.01,0.49,0.34,0.24,0.3,0.32,0.02,0.15,0.53,0.53,0.26,0.19,0.18,0.11,0.26,0.0,0.49,0.2,0.63,0.4,0.28,0.25,0.05,0.31,0.66,0.32,0.49,0.24,0.63,0.06,0.49,0.07,0.25,0.49,0.49,0.49,0.37,0.22,0.3,0.24,0.66,0.45,0.52,0.29,0.05,0.22,0.26,0.26,0.0,0.49,0.0,0.33,0.0,0.46,0.0,0.46,0.45,0.5,0.29,0.3,0.06,0.53,0.08,0.3,0.24,0.36,0.23,0.34,0.39,0.08,0.12,0.24,0.03,0.63,0.13,0.08,0.0,0.42,0.31,0.49,0.27,0.48,0.0,0.24,0.03,0.36,0.57,0.4,0.21,0.17,0.03,0.03,0.2,0.45,0.0,0.31,0.31,0.32,0.51,0.49,0.14,0.48,0.15,0.14,0.02,0.08,0.36,0.19,0.0,0.0,0.0,0.33,0.48,0.24,0.48,0.53,0.49,0.45,0.42,0.01,0.21,0.0,0.21,0.32,0.0,0.52,0.02,0.04,0.0,0.01,0.32,0.24,0.02,0.34,0.22,0.26,0.01,0.12,0.3,0.0,0.08,0.3,0.28,0.74,0.28,0.42,0.03,0.0,0.11,0.68,0.1,0.14,0.0,0.26,0.27,0.08,0.24,0.4,0.3,0.32,0.04,0.28,0.63,0.0,0.31,0.35,0.17,0.44,0.25,0.08,0.0,0.49,0.3,0.52,0.02,0.0,0.41,0.2,0.22,0.49,0.26,0.55,0.26,0.29,0.21,0.36,0.4,0.0,0.54,0.59,0.32,0.47,0.02,0.09,0.19,0.1,0.13,0.28,0.07,0.25,0.13,0.53,0.12,0.0,0.6,0.42,0.43,0.33,0.03,0.39,0.4,0.0,0.34,0.12,0.16,0.07,0.24,0.63,0.01,0.44,0.24,0.55,0.44,0.66,0.22,0.3,0.01,0.07,0.3,0.3,0.31,0.36,0.49,0.49,0.07,0.0,0.0,0.49,0.32,0.26,0.39,0.53,0.49,0.08,0.47,0.21,0.31,0.0,0.31,0.0,0.26,0.21,0.0,0.28,0.2,0.01,0.51,0.49,0.06,0.06,0.23,0.59,0.54,0.08,0.34,0.52,0.15,0.25,0.0,0.12,0.0,0.24,0.0,0.24,0.0,0.2,0.01,0.53,0.04,0.03,0.51,0.53,0.49,0.14,0.59,0.53,0.24,0.52,0.0,0.53,0.09,0.45,0.2,0.51,0.06,0.48,0.12,0.31,0.0,0.21,0.02,0.24,0.3,0.44,0.0,0.1,0.54,0.03,0.59,0.24,0.6,0.0,0.45,0.23,0.26,0.21,0.26,0.46,0.43,0.46,0.23,0.0,0.53,0.07,0.0,0.08,0.32,0.32,0.49,0.17,0.01,0.24,0.29,0.04,0.46,0.27,0.63,0.01,0.24,0.0,0.24,0.19,0.02,0.54,0.02,0.28,0.0,0.26,0.0,0.28,0.16,0.0,0.26,0.18,0.14,0.73,0.35,0.31,0.21,0.26,0.49,0.66,0.22,0.44,0.4,0.01,0.66,0.05,0.49,0.24,0.01,0.29,0.32,0.0,0.3,0.25,0.12,0.59,0.01,0.51,0.21,0.68,0.0,0.0,0.29,0.45,0.49,0.66,0.0,0.24,0.19,0.03,0.29,0.52,0.21,0.6,0.23,0.29,0.0,0.29,0.52,0.23,0.0,0.32,0.02,0.53,0.39,0.31,0.0,0.49,0.06,0.27,0.3,0.18,0.0,0.26,0.3,0.38,0.2,0.49,0.47,0.41,0.0,0.42,0.73,0.0,0.49,0.26,0.49,0.08,0.02,0.0,0.22,0.42,0.37,0.0,0.07,0.26,0.31,0.4,0.53,0.32,0.54,0.27,0.21,0.06,0.26,0.32,0.25,0.21,0.49,0.02,0.0,0.27,0.24,0.3,0.19,0.43,0.28,0.2,0.49,0.01,0.1,0.0,0.0,0.66,0.63,0.3,0.32,0.28,0.08,0.0,0.4,0.07,0.53,0.49,0.0,0.0,0.14,0.59,0.09,0.63,0.2,0.45,0.16,0.45,0.24,0.31,0.09,0.43,0.55,0.33,0.63,0.36,0.19,0.49,0.18,0.49,0.49,0.32,0.39,0.34,0.03,0.0,0.55,0.22,0.5,0.36,0.26,0.36,0.06,0.63,0.49,0.07,0.3,0.54,0.36,0.49,0.02,0.26,0.31,0.11,0.47,0.26,0.31,0.21,0.0,0.49,0.24,0.13,0.04,0.24,0.25,0.22,0.26,0.49,0.59,0.19,0.02,0.49,0.12,0.6,0.03,0.14,0.31,0.3,0.41,0.35,0.26,0.0,0.33,0.42,0.38,0.0,0.22,0.3,0.57,0.49,0.1,0.16,0.24,0.24,0.24,0.53,0.23,0.0,0.24,0.53,0.32,0.0,0.57,0.0,0.49,0.21,0.45,0.01,0.06,0.55,0.3,0.0,0.05,0.31,0.11,0.03,0.37,0.42,0.02,0.0,0.49,0.32,0.53,0.0,0.0,0.03,0.39,0.0,0.27,0.43,0.23,0.23,0.49,0.45,0.0,0.01,0.24,0.03,0.28,0.54,0.02,0.48,0.26,0.3,0.25,0.06,0.49,0.03,0.0,0.03,0.28,0.14,0.47,0.27,0.6,0.08,0.04,0.15,0.6,0.28,0.21,0.26,0.11,0.0,0.05,0.54,0.32,0.26,0.2,0.26,0.24,0.49,0.36,0.28,0.09,0.47,0.14,0.0,0.49,0.55,0.22,0.0,0.2,0.6,0.28,0.11,0.0,0.2,0.49,0.58,0.66,0.22,0.24,0.41,0.0,0.01,0.02,0.49,0.4,0.37,0.49,0.38,0.0,0.25,0.2,0.57,0.26,0.45,0.18,0.49,0.27,0.32,0.08,0.45,0.26,0.0,0.41,0.37,0.49,0.0,0.53,0.04,0.07,0.0,0.2,0.45,0.5,0.51,0.24,0.1,0.26,0.32,0.23,0.53,0.06,0.49,0.32,0.0,0.67,0.08,0.63,0.1,0.06,0.3,0.08,0.0,0.08,0.1,0.3,0.49,0.24,0.57,0.49,0.16,0.3,0.54,0.4,0.14,0.48,0.25,0.32,0.24,0.53,0.37,0.06,0.49,0.04,0.19,0.08,0.08,0.36,0.02,0.13,0.14,0.59,0.32,0.24,0.22,0.29,0.43,0.29,0.43,0.03,0.26,0.0,0.3,0.42,0.24,0.22,0.24,0.66,0.0,0.32,0.08,0.26,0.24,0.49,0.42,0.24,0.01,0.03,0.23,0.49,0.25,0.56,0.24,0.66,0.49,0.3,0.0,0.24,0.35,0.19,0.09,0.25,0.4,0.0,0.24,0.49,0.32,0.28,0.37,0.24,0.3,0.41,0.48,0.36,0.35,0.33,0.03,0.4,0.0,0.4,0.49,0.5,0.0,0.31,0.22,0.31,0.04,0.49,0.0,0.16,0.0,0.49,0.2,0.3,0.39,0.53,0.31,0.19,0.53,0.66,0.3,0.24,0.26,0.1,0.49,0.26,0.02,0.49,0.38,0.53,0.32,0.0,0.03,0.17,0.24,0.06,0.37,0.35,0.39,0.53,0.28,0.53,0.25,0.32,0.12,0.17,0.23,0.32,0.26,0.49,0.17,0.08,0.45,0.5,0.1,0.3,0.26,0.15,0.49,0.1,0.0,0.29,0.0,0.05,0.09,0.01,0.22,0.66,0.0,0.32,0.0,0.35,0.24,0.2,0.35,0.15,0.07,0.08,0.49,0.4,0.55,0.25,0.24,0.0,0.66,0.24,0.0,0.1,0.42,0.49,0.59,0.08,0.42,0.01,0.1,0.39,0.5,0.21,0.29,0.15,0.08,0.65,0.09,0.44,0.45,0.32,0.0,0.01,0.19,0.13,0.22,0.26,0.0,0.35,0.27,0.49,0.66,0.37,0.32,0.24,0.45,0.28,0.17,0.28,0.02,0.24,0.0,0.41,0.51,0.39,0.22,0.07,0.57,0.05,0.22,0.31,0.25,0.29,0.23,0.34,0.34,0.24,0.41,0.18,0.27,0.48,0.0,0.22,0.6,0.24,0.45,0.23,0.37,0.28,0.28,0.34,0.0,0.02,0.05,0.06,0.15,0.21,0.33,0.49,0.31,0.2,0.3,0.0,0.66,0.45,0.43,0.42,0.3,0.23,0.24,0.13,0.19,0.24,0.06,0.6,0.31,0.24,0.4,0.27,0.08,0.4,0.05,0.42,0.1,0.49,0.03,0.07,0.43,0.68,0.0,0.0,0.66,0.0,0.24,0.14,0.07,0.12,0.3,0.24,0.08,0.6,0.66,0.29,0.12,0.14,0.17,0.49,0.3,0.53,0.36,0.1,0.15,0.26,0.52,0.6,0.29,0.63,0.3,0.0,0.3,0.0,0.3,0.32,0.49,0.34,0.26,0.21,0.49,0.14,0.13,0.25,0.0,0.05,0.0,0.32,0.54,0.14,0.21,0.2,0.66,0.53,0.45,0.49,0.32,0.24,0.06,0.1,0.02,0.24,0.36,0.24,0.49,0.21,0.02,0.24,0.66,0.08,0.28,0.33,0.48,0.0,0.0,0.3,0.73,0.26,0.01,0.48,0.21,0.07,0.25,0.24,0.49,0.3,0.24,0.33,0.66,0.0,0.43,0.23,0.01,0.0,0.24,0.0,0.32,0.32,0.23,0.21,0.29,0.03,0.72,0.24,0.45,0.53,0.15,0.33,0.64,0.25,0.4,0.0,0.09,0.04,0.66,0.28,0.41,0.24,0.63,0.24,0.13,0.0,0.54,0.24,0.08,0.31,0.21,0.38,0.49,0.32,0.4,0.03,0.49,0.5,0.37,0.17,0.12,0.1,0.05,0.0,0.19,0.21,0.27,0.0,0.1,0.23,0.31,0.0,0.02,0.33,0.12,0.49,0.02,0.36,0.34,0.27,0.01,0.34,0.48,0.1,0.22,0.58,0.42,0.49,0.49,0.43,0.22,0.31,0.34,0.0,0.21,0.49,0.0,0.09,0.31,0.51,0.23,0.08,0.35,0.53,0.0,0.43,0.65,0.03,0.0,0.02,0.42,0.02,0.09,0.34,0.51,0.24,0.02,0.06,0.28,0.13,0.53,0.23,0.31,0.27,0.23,0.09,0.0,0.26,0.25,0.0,0.22,0.44,0.1,0.49,0.39,0.43,0.45,0.14,0.11,0.0,0.0,0.31,0.28,0.45,0.52,0.49,0.57,0.37,0.54,0.04,0.76,0.24,0.49,0.66,0.0,0.25,0.0,0.03,0.53,0.01,0.51,0.19,0.26,0.01,0.03,0.04,0.42,0.28,0.28,0.3,0.05,0.08,0.27,0.21,0.08,0.28,0.1,0.24,0.18,0.11,0.27,0.24,0.27,0.2,0.18,0.0,0.24,0.07,0.21,0.21,0.63,0.53,0.02,0.42,0.14,0.24,0.32,0.48,0.53,0.26,0.45,0.0,0.03,0.39,0.03,0.06,0.09,0.0,0.3,0.57,0.2,0.26,0.49,0.24,0.49,0.34,0.21,0.25,0.0,0.08,0.0,0.01,0.3,0.2,0.2,0.05,0.17,0.33,0.18,0.11,0.09,0.32,0.64,0.03,0.23,0.63,0.5,0.4,0.66,0.45,0.56,0.49,0.32,0.0,0.04,0.24,0.0,0.0,0.07,0.12,0.13,0.49,0.05,0.46,0.3,0.02,0.15,0.66,0.46,0.25,0.21,0.22,0.51,0.06,0.49,0.21,0.66,0.57,0.1,0.18,0.15,0.3,0.0,0.0,0.57,0.31,0.21,0.42,0.68,0.09,0.24,0.49,0.39,0.2,0.49,0.0,0.33,0.0,0.4,0.02,0.2,0.21,0.26,0.14,0.19,0.28,0.07,0.24,0.32,0.42,0.18,0.02,0.02,0.42,0.33,0.53,0.21,0.04,0.49,0.02,0.21,0.01,0.49,0.49,0.4,0.24,0.44,0.08,0.24,0.25,0.33,0.0,0.5,0.24,0.07,0.31,0.54,0.21,0.1,0.0,0.33,0.49,0.46,0.0,0.14,0.49,0.13,0.24,0.0,0.49,0.34,0.26,0.06,0.04,0.33,0.43,0.47,0.0,0.08,0.05,0.24,0.21,0.17,0.4,0.15,0.02,0.45,0.42,0.0,0.01,0.08,0.08,0.24,0.24,0.49,0.31,0.49,0.24,0.24,0.55,0.57,0.22,0.14,0.32,0.2,0.2,0.48,0.21,0.14,0.32,0.27,0.4,0.16,0.25,0.24,0.21,0.3,0.48,0.0,0.38,0.19,0.49,0.19,0.43,0.47,0.6,0.0,0.28,0.27,0.42,0.33,0.29,0.27,0.49,0.24,0.49,0.13,0.21,0.42,0.0,0.18],\"type\":\"histogram\",\"xaxis\":\"x3\",\"yaxis\":\"y3\"},{\"name\":\"residual sugar\",\"x\":[2.2,2.3,2.1,2.6,2.3,2.2,2.3,1.8,2.2,2.2,2.6,2.4,2.7,1.8,2.2,2.8,2.3,2.4,2.6,3.0,1.8,2.4,3.0,1.8,1.9,2.0,2.2,2.4,1.9,2.2,2.5,2.3,1.5,2.1,2.3,1.9,1.8,2.5,2.8,1.9,2.6,14.0,2.8,2.6,2.5,2.2,2.0,2.4,1.9,1.8,2.1,2.5,2.6,2.2,3.3,1.7,1.5,1.9,2.3,1.8,1.5,2.8,2.9,1.8,1.6,2.2,1.4,2.1,2.2,3.0,4.3,2.5,2.6,2.1,2.0,2.4,2.6,2.0,1.6,1.8,2.0,2.5,2.1,1.8,2.3,2.4,1.9,2.3,2.0,2.0,1.9,2.1,2.1,5.5,2.6,1.9,2.0,1.9,2.5,1.9,2.0,2.5,3.0,2.5,2.1,2.2,2.0,1.9,2.9,1.5,1.6,1.9,2.4,2.2,1.9,4.4,1.7,2.0,2.6,4.0,2.1,2.5,2.9,2.4,2.3,5.1,1.7,3.4,2.0,2.9,2.4,3.4,1.9,2.3,1.4,2.2,1.6,2.4,2.3,2.1,2.6,1.9,2.0,2.6,2.9,1.6,1.6,2.1,1.4,1.9,2.6,2.5,3.3,2.1,1.9,2.3,2.6,2.5,1.7,3.3,1.8,1.8,2.5,2.4,3.2,2.3,2.6,1.9,2.1,2.2,1.6,2.0,1.8,2.3,6.3,1.8,2.0,3.2,2.6,8.8,2.7,1.5,2.8,2.3,1.9,1.6,1.4,1.9,6.3,2.0,2.2,2.5,2.5,2.5,2.7,1.7,1.8,2.3,2.0,2.1,1.9,2.4,2.1,2.2,1.4,4.7,1.9,3.3,2.1,2.0,1.8,3.0,1.5,2.0,2.6,1.8,2.4,2.4,2.1,2.3,3.4,1.6,4.0,2.3,4.0,2.3,1.9,1.8,3.4,2.4,2.9,1.5,1.9,2.1,1.9,3.4,2.5,2.3,2.1,1.6,2.0,4.65,2.2,2.6,1.9,2.2,1.9,2.1,1.7,1.9,2.0,1.9,2.1,2.2,2.0,1.4,3.4,2.5,2.1,2.1,2.0,2.7,2.0,3.9,1.5,2.5,2.2,5.6,2.4,2.8,1.7,1.8,2.2,2.3,2.9,2.1,2.1,2.1,1.8,2.4,2.2,3.0,2.4,2.6,2.2,1.9,3.6,1.9,1.7,2.7,2.2,2.4,1.5,2.6,4.3,2.0,2.6,2.9,2.5,2.8,2.3,1.7,1.9,2.2,2.6,2.8,2.1,2.6,2.0,1.8,2.0,3.4,1.9,1.7,2.6,1.7,2.4,2.3,2.1,3.2,2.6,2.1,1.8,6.6,2.1,2.1,2.6,2.4,2.0,4.3,2.1,2.8,3.7,2.2,2.1,2.3,2.4,1.4,2.0,1.8,2.9,2.6,2.6,1.7,2.5,2.2,2.6,1.4,3.3,4.0,1.8,2.1,2.3,2.0,1.65,2.0,2.2,2.1,1.9,2.0,2.0,2.1,1.9,2.1,2.7,2.5,2.5,2.2,1.7,1.7,1.7,2.7,3.0,2.8,2.5,2.3,2.2,2.9,1.9,2.8,3.0,2.9,1.5,2.2,1.6,2.1,3.2,1.9,1.9,5.5,2.2,2.8,2.0,3.3,3.4,2.7,2.7,2.5,2.7,6.0,2.0,6.3,2.2,1.9,2.1,2.1,2.3,2.8,5.15,2.7,2.1,1.6,4.3,1.6,2.0,2.7,2.6,2.6,1.8,2.3,2.8,2.5,2.1,1.8,1.8,2.0,2.2,1.9,2.4,1.9,1.5,1.8,1.7,1.7,2.2,2.6,2.5,2.2,2.1,1.6,2.8,2.2,1.8,2.0,2.1,6.55,2.5,3.3,2.6,1.8,2.6,2.1,1.8,2.1,1.9,2.7,1.9,2.3,1.5,2.3,6.8,3.0,3.1,1.9,4.0,2.6,1.3,2.5,1.8,2.4,2.0,2.1,2.8,2.6,1.4,2.0,2.5,2.4,3.0,2.4,1.8,2.7,3.2,2.95,2.3,2.8,3.2,2.3,2.8,2.5,2.6,2.5,2.6,3.0,2.0,2.8,1.8,2.6,2.1,1.5,2.4,1.6,1.8,1.7,1.9,2.0,1.7,2.1,2.6,4.5,1.8,4.0,1.4,3.0,4.3,2.3,2.3,2.3,1.8,2.4,2.5,2.2,2.5,2.2,1.7,1.9,2.8,3.0,1.9,2.1,2.8,1.9,2.0,2.2,5.1,2.1,5.2,2.6,2.0,2.1,3.0,1.7,1.4,2.3,1.9,2.0,1.9,2.0,1.9,2.1,2.0,2.1,2.1,1.8,2.3,2.4,3.4,2.5,1.9,2.6,2.3,2.1,2.3,2.6,3.1,1.5,1.9,3.0,2.6,2.4,4.0,2.1,2.9,2.6,3.2,2.8,2.7,2.7,2.5,2.3,1.2,1.9,1.4,1.9,2.4,2.3,2.1,2.9,2.7,2.1,2.1,2.3,2.0,7.5,2.1,1.8,2.5,2.8,1.7,2.5,6.2,2.8,2.5,2.2,3.8,2.1,3.2,3.7,1.5,4.5,2.9,5.8,2.1,2.0,1.9,2.1,2.8,2.2,2.5,1.5,1.8,2.0,1.7,2.5,1.9,2.6,2.5,2.4,2.4,2.0,2.1,2.3,2.1,2.2,2.6,2.0,3.0,2.9,2.1,2.6,1.9,3.3,2.3,2.5,2.2,1.4,4.1,3.0,1.7,3.0,2.5,2.6,1.8,2.1,1.8,2.3,1.8,2.1,2.5,2.7,2.5,4.3,2.6,1.7,2.2,3.75,4.5,2.5,1.4,2.3,1.7,2.6,2.5,2.0,2.0,2.6,5.1,2.7,2.8,2.0,2.1,2.6,2.5,2.8,3.4,2.3,2.0,2.2,3.0,1.8,2.5,2.2,3.0,3.2,2.7,2.1,2.6,2.4,2.1,2.1,2.0,2.2,2.2,2.3,2.5,2.6,2.4,2.9,1.4,1.9,2.1,2.8,2.5,4.2,1.8,2.8,2.3,2.6,1.9,2.8,2.1,2.4,5.6,1.7,1.8,2.4,1.9,2.4,2.0,1.9,3.3,2.7,5.5,2.4,2.6,2.5,2.3,1.5,1.9,2.5,2.8,2.8,1.4,2.6,2.7,1.8,2.1,2.2,1.7,2.0,2.1,2.1,1.9,2.3,2.0,2.6,1.9,2.7,2.2,1.9,1.7,2.4,2.1,1.6,2.1,2.5,2.1,2.0,1.5,1.9,3.3,1.8,1.9,1.9,1.9,2.1,2.3,1.8,1.9,2.4,2.1,1.6,8.3,1.6,2.2,2.3,1.7,2.8,1.7,1.8,1.7,2.4,2.6,2.4,2.1,2.1,2.0,2.3,2.0,2.1,2.1,2.1,2.3,2.0,2.2,1.7,2.1,6.6,2.7,3.3,1.7,1.7,2.6,2.9,2.4,2.4,2.7,2.7,1.6,2.0,4.3,2.3,3.4,3.0,2.4,2.1,2.6,1.9,2.6,2.15,1.9,2.1,1.7,2.3,2.5,2.3,3.3,1.9,2.0,2.0,3.0,1.7,1.6,2.1,2.2,1.8,2.4,1.9,2.1,2.1,2.3,1.9,2.0,2.2,2.5,2.0,3.3,2.5,2.6,2.1,3.7,2.1,2.5,1.8,2.1,2.1,2.4,6.4,1.9,1.8,4.65,2.1,1.6,2.0,1.9,2.6,2.1,2.5,2.1,4.2,1.9,4.0,2.0,2.5,2.2,2.2,2.3,2.1,2.3,2.6,2.0,1.8,1.8,1.8,3.0,1.7,2.2,1.9,2.6,1.9,1.8,2.1,2.1,2.4,2.2,2.1,1.8,2.5,2.6,1.6,2.6,2.0,2.4,2.3,2.2,2.5,2.2,1.8,1.9,3.4,2.1,1.8,2.2,2.0,2.0,2.1,1.9,2.1,1.9,2.1,2.1,3.65,3.2,2.3,2.0,2.5,5.5,2.0,2.1,3.0,2.4,4.3,2.4,2.1,2.4,3.2,2.3,2.0,2.6,2.0,2.9,1.9,2.1,2.5,2.3,1.8,2.1,2.6,1.9,2.3,2.4,2.4,2.8,2.2,1.6,2.4,3.2,1.7,1.3,2.1,3.3,2.4,2.0,1.8,1.8,2.1,4.6,2.3,1.4,1.7,1.9,1.9,2.6,3.9,2.3,6.7,2.1,1.7,2.2,2.0,1.9,3.6,2.0,2.2,2.3,2.2,1.9,2.1,2.1,1.9,2.0,2.2,1.4,2.5,2.4,3.1,1.9,1.7,4.1,2.0,2.1,2.6,2.2,2.1,2.0,1.9,2.4,2.9,2.6,2.4,2.3,2.0,2.1,2.7,2.2,4.0,1.7,5.5,1.9,2.0,1.9,2.0,2.3,1.6,3.4,1.7,2.7,2.3,2.1,2.1,2.3,3.3,2.3,1.7,2.2,3.0,1.8,1.9,2.3,2.0,2.4,3.9,2.2,1.4,1.8,2.5,2.2,3.3,1.8,3.6,1.8,2.0,2.3,1.8,2.4,2.3,2.4,1.9,2.6,2.0,2.3,5.5,2.6,1.7,2.2,2.2,4.3,2.2,2.1,2.1,2.4,2.5,8.3,2.2,1.7,1.9,2.0,2.6,2.8,1.7,1.9,2.6,2.1,3.0,6.6,2.2,1.9,2.2,2.3,2.2,4.0,1.9,1.5,5.8,1.8,4.3,1.8,2.6,1.8,2.3,2.0,1.6,2.8,3.9,1.9,2.3,5.2,2.8,1.8,2.5,2.8,1.6,3.3,2.0,4.5,2.0,2.6,2.0,1.8,2.3,2.3,1.5,2.3,2.7,2.2,2.2,2.2,5.6,1.7,2.2,2.1,2.1,1.6,1.6,2.2,1.8,2.0,2.5,2.0,2.6,3.2,2.1,1.7,2.2,1.7,1.9,1.8,2.0,1.9,1.7,5.8,2.0,2.6,1.9,1.6,3.8,2.5,2.3,2.1,1.8,2.5,2.0,2.2,1.7,2.1,2.3,3.0,2.2,1.7,2.3,1.8,2.6,1.9,2.5,2.1,5.5,1.9,2.2,2.0,2.1,1.4,1.6,1.8,3.0,2.4,1.9,2.1,2.1,2.0,2.9,1.7,2.0,3.0,1.4,2.1,2.1,2.1,1.6,1.7,2.6,2.8,2.6,5.1,2.7,5.15,2.7,2.6,2.6,2.5,2.2,1.9,1.7,2.5,2.0,2.0,2.1,3.3,2.4,3.4,2.0,2.1,1.8,2.1,2.0,2.0,2.1,2.1,2.5,2.0,2.3,3.0,2.0,2.2,2.2,5.2,2.2,1.8,2.1,2.1,1.7,1.9,2.0,1.5,4.8,2.9,1.9,2.1,1.9,1.9,2.2,2.5,2.4,2.0,2.2,2.1,2.15,2.2,1.9,3.3,2.0,2.0,1.8,2.9,2.1,2.7,1.8,3.4,2.1,2.3,2.5,1.7,2.8,2.0,2.7,2.0,1.3,2.6,3.4,2.4,2.4,2.1,3.0,1.9,2.0,1.7,1.8,2.6,2.3,2.6,3.4,2.8,2.2,3.4,2.0,2.1,2.3,2.6,2.8,2.6,2.7,2.1,2.8,6.55,2.4,1.8,4.1,2.5,1.8,2.8,2.1,2.0,1.6,2.5,2.0,2.1,3.4,2.6,2.9,2.5,5.6,2.8,2.2,2.1,2.4,3.0,2.0,1.9,2.0,2.0,3.0,4.1,2.5,1.9,2.8,1.6,1.7,2.4,2.3,1.7,2.4,2.0,1.9,2.2,2.0,1.9,2.0,2.4,1.7,1.8,2.3,2.3,2.2,1.4,2.1,2.5,2.4,2.3,3.6,2.1,2.1,2.4,2.1,1.7,2.2,1.7,1.8,1.4,3.3,1.7,2.4,1.9,2.0,2.2,1.7,2.7,1.4,2.0,2.05,3.2,1.7,1.8,2.5,2.6,2.1,2.0,4.5,3.6,2.2,2.2,1.7,2.0,3.3,2.2,1.8,6.2,2.0,2.1,2.1,2.3,1.6,3.4,2.1,1.8,2.5,1.7,2.1,2.6,2.5,2.2,1.8,1.9,2.3,1.8,2.4,3.2,2.5,4.1,2.8,2.5,2.0,2.3,2.5,8.2,2.0,2.0,2.5,2.1,2.7,2.1,2.0,1.8,2.3,2.1,2.6,2.8,4.0,2.3,2.3,3.7,1.8,1.7,2.7,1.8,1.7,1.9,1.6,2.0,2.7,2.7,2.2,2.3,3.2,1.6,2.4,6.1,2.1,3.3,2.1,2.3,2.2,1.7,2.9,2.4,2.3,1.8,2.8,2.1,1.8,2.1,2.2,2.2,1.9,2.3,1.9,2.1,1.8,6.7,5.5,5.1,1.9,1.7,2.5,2.5,2.0,2.0,2.0,1.9,3.0,2.1,3.0,2.6,2.8,2.8,1.8,1.8,2.0,5.0,2.7,2.4,2.2,1.6,2.6,2.1,2.0,2.7,3.0,1.9,2.0,2.7,2.1,3.0,2.4,2.6,2.4,2.0,3.0,1.5,5.8,2.0,2.9,2.8,3.4,2.5,1.6,2.1,2.8,1.7,2.9,3.0,2.8,2.3,2.95,2.2,1.8,1.6,3.4,1.9,2.2,2.4,2.5,2.2,2.5,4.2,2.0,2.0,2.2,2.2,4.0,1.9,2.4,2.3,1.8,1.8,2.3,2.1,1.7,2.4,2.2,2.1,1.8,2.3,1.5,2.1,2.7,1.9,1.9,2.6,2.1,1.5,3.0,2.3,2.1,2.1,3.0,1.9,4.65,1.9,2.1,2.5,2.3,2.6,1.7,4.5,2.4,2.3,2.3,3.3,2.7,2.6,1.6,2.2,2.2,1.5,2.2,2.2,2.5,2.1,2.0,2.1,2.3,2.7,1.8,2.7,2.8,1.8,1.7,2.1,2.2,2.5,3.3,2.9,3.3,2.0,1.8,3.6,1.8,2.1,2.4,1.7,2.0,1.7,2.3,2.2,3.6,2.3,2.1,3.4,2.3,2.1,2.6,1.7,2.1,2.5,2.2,2.5,3.3,2.7,2.6,2.4,2.4,1.8,1.9,2.4,2.1,1.6,2.2,2.4,2.7,2.2,2.0,1.5,1.6,1.8,2.4,2.1,2.7,2.1,2.1,2.6,1.9,2.3,2.2,1.5,2.3,2.0,5.2,1.8,2.8,2.2,2.2,1.8,2.2,3.0,2.2,3.6,2.3,2.0,2.9,2.1,2.2,3.4,2.0,2.4,1.7,5.6,3.4,2.2,1.8,2.3,2.1,2.3,2.6,2.2,2.3,1.6,1.6,3.0,2.3,1.7,1.8,1.9,1.9,1.7,2.4,2.3,3.0,2.2,2.2,2.3,2.1,1.7,2.1,1.4,2.0,2.7,2.2,2.8,2.0,1.9,4.65,2.2,2.1,2.1,1.9,1.8,2.2,2.0,2.8,1.8,2.1,2.9,4.3,2.1,1.7,2.3,2.1,2.1,2.4,2.6,2.1,2.2,2.7,1.4,1.6,2.3,2.1,2.3,2.5,2.2,2.4,1.6,2.3,1.5,1.9,2.1,2.8,4.1,2.2,2.1,2.4,1.4,2.6,2.3,2.0,2.2,2.3,2.55,1.7,2.4,2.1,2.9,3.4,2.1,1.6,2.1,1.4,1.7,2.1,2.6,2.1,2.3,2.1,2.3,2.5,2.2,2.8,1.6,2.55,1.4,1.6,2.4,2.4,2.6,2.4,2.8,1.6,1.5,2.0,2.6,1.7,1.8,1.4,2.1,2.1,2.3,2.1,2.8,2.5,2.1,2.1,2.1,1.6,2.1,1.9,1.8,2.6,2.1,3.4,2.5,2.3,2.1,2.5,2.6,2.1,2.2,1.9,2.3,2.3,1.8,1.9,2.8,2.0,2.5,2.6,2.3,2.2,2.6,2.3,1.4,2.5,2.0,2.0,2.1,1.8,2.3,2.1,3.0,2.7,2.6,2.8,4.8,2.1,1.8,1.9,2.0,2.1,2.3,2.1,1.8,1.9,2.0,2.0,2.1,1.5,2.0,2.2,2.2,2.5,1.9,2.8,2.5,2.1,2.1,2.9,2.0,2.6,2.8,1.8,2.1,1.5,2.8,2.7,2.1,1.9,1.7,3.0,2.4,3.0,1.8,1.4,1.7,1.7,2.1,2.1,2.3,2.3,3.6,1.7,3.1,2.1,2.3,1.6,1.7,1.8,5.5,2.4,1.9,1.9,1.7,2.6,2.2,2.7,2.5,2.6,3.0,2.9,2.8,2.7,2.4,2.9,4.2,3.0,2.4,2.4,1.6,1.9,2.4,2.1,2.1,2.0,2.5,1.5,1.8,3.8,3.2,1.8,2.1,2.7,2.1,3.8,2.0,2.5,2.1,3.2,2.6,1.8,2.6,1.9,1.8,2.1,2.1,1.7,2.4,2.2,2.0,1.7,1.6,2.2,2.5,1.8,2.6,5.6,2.1,1.7,2.0,1.75,2.2,2.2,1.9,1.7,2.4,2.5,2.6,1.75,2.6,1.8,2.9,6.2,1.6,2.8,1.7,4.5,1.9,1.75,2.8,2.4,2.0,2.9,2.2,2.8,1.9,4.6,2.7,1.7,1.5,2.7,2.5,2.5,2.1,2.4,2.2,2.2,2.6,2.8,5.5,2.1,1.6,2.3,2.3,3.4,2.1,2.3,2.3,1.8,1.9,2.7,1.9,2.7,1.9,2.0,2.3,3.2,3.1,2.8,2.2,2.4,2.6,1.9,2.4,2.6,2.6,2.2,2.0,1.8,4.3,2.2,2.6,2.0,4.2,1.9,2.3,2.0,1.8,1.7,1.75,2.3],\"type\":\"histogram\",\"xaxis\":\"x4\",\"yaxis\":\"y4\"},{\"name\":\"chlorides\",\"x\":[0.073,0.092,0.059,0.084,0.079,0.111,0.08,0.066,0.084,0.049,0.086,0.059,0.076,0.088,0.078,0.076,0.089,0.077,0.067,0.095,0.0969999999999999,0.078,0.093,0.0409999999999999,0.104,0.066,0.0579999999999999,0.054,0.074,0.077,0.086,0.078,0.05,0.104,0.0819999999999999,0.076,0.081,0.0969999999999999,0.091,0.065,0.077,0.086,0.098,0.106,0.0969999999999999,0.0409999999999999,0.074,0.086,0.093,0.052,0.067,0.081,0.077,0.077,0.103,0.084,0.098,0.08,0.0819999999999999,0.057,0.063,0.089,0.08,0.114,0.074,0.07,0.066,0.076,0.087,0.077,0.0819999999999999,0.066,0.114,0.065,0.077,0.095,0.081,0.083,0.084,0.109,0.064,0.11,0.066,0.048,0.08,0.076,0.055,0.07,0.0579999999999999,0.077,0.077,0.074,0.0559999999999999,0.0969999999999999,0.084,0.081,0.079,0.063,0.096,0.081,0.089,0.0819999999999999,0.039,0.086,0.0559999999999999,0.084,0.075,0.064,0.092,0.0559999999999999,0.08,0.068,0.065,0.098,0.095,0.093,0.049,0.0819999999999999,0.089,0.088,0.071,0.078,0.08,0.102,0.059,0.074,0.039,0.073,0.084,0.1,0.102,0.077,0.072,0.093,0.068,0.055,0.076,0.083,0.205,0.091,0.093,0.083,0.079,0.074,0.083,0.071,0.074,0.063,0.072,0.085,0.104,0.068,0.085,0.066,0.077,0.0819999999999999,0.046,0.078,0.075,0.083,0.078,0.106,0.0969999999999999,0.012,0.078,0.078,0.079,0.076,0.069,0.049,0.072,0.081,0.068,0.078,0.078,0.091,0.114,0.1009999999999999,0.1,0.0969999999999999,0.0559999999999999,0.053,0.086,0.106,0.071,0.08,0.08,0.076,0.085,0.078,0.086,0.094,0.085,0.0969999999999999,0.095,0.1,0.067,0.066,0.07,0.076,0.08,0.332,0.059,0.086,0.079,0.125,0.078,0.092,0.08,0.069,0.057,0.083,0.076,0.0819999999999999,0.098,0.072,0.0579999999999999,0.065,0.084,0.064,0.094,0.08,0.077,0.076,0.077,0.1119999999999999,0.09,0.052,0.074,0.08,0.095,0.057,0.064,0.0819999999999999,0.078,0.066,0.073,0.0819999999999999,0.132,0.062,0.071,0.079,0.076,0.086,0.1689999999999999,0.087,0.05,0.073,0.081,0.0819999999999999,0.077,0.0579999999999999,0.081,0.087,0.063,0.071,0.07,0.0559999999999999,0.096,0.132,0.128,0.076,0.095,0.078,0.071,0.077,0.079,0.11,0.066,0.075,0.086,0.064,0.075,0.0819999999999999,0.081,0.079,0.092,0.077,0.05,0.063,0.066,0.074,0.0819999999999999,0.111,0.106,0.066,0.08,0.063,0.069,0.087,0.09,0.081,0.1,0.088,0.078,0.1009999999999999,0.074,0.095,0.098,0.086,0.077,0.091,0.076,0.077,0.084,0.076,0.076,0.074,0.086,0.123,0.078,0.075,0.074,0.06,0.065,0.086,0.0819999999999999,0.079,0.093,0.081,0.0819999999999999,0.079,0.076,0.078,0.074,0.085,0.108,0.065,0.086,0.071,0.061,0.0819999999999999,0.086,0.071,0.084,0.414,0.065,0.046,0.0579999999999999,0.048,0.071,0.077,0.106,0.079,0.08,0.074,0.1,0.0969999999999999,0.083,0.064,0.0409999999999999,0.062,0.059,0.087,0.094,0.074,0.039,0.077,0.089,0.076,0.075,0.079,0.073,0.062,0.086,0.076,0.077,0.073,0.066,0.066,0.077,0.05,0.081,0.0819999999999999,0.078,0.11,0.077,0.087,0.0819999999999999,0.088,0.079,0.1009999999999999,0.074,0.08,0.061,0.084,0.069,0.106,0.119,0.107,0.07,0.083,0.093,0.098,0.087,0.0819999999999999,0.095,0.078,0.086,0.07,0.066,0.078,0.078,0.123,0.0819999999999999,0.064,0.11,0.095,0.084,0.078,0.0819999999999999,0.094,0.075,0.0819999999999999,0.077,0.205,0.104,0.111,0.057,0.118,0.076,0.0969999999999999,0.069,0.121,0.053,0.084,0.071,0.062,0.087,0.0969999999999999,0.05,0.068,0.077,0.086,0.063,0.086,0.08,0.073,0.08,0.0579999999999999,0.094,0.132,0.11,0.0819999999999999,0.099,0.0559999999999999,0.114,0.077,0.0819999999999999,0.066,0.123,0.093,0.059,0.092,0.084,0.104,0.077,0.084,0.111,0.08,0.075,0.0969999999999999,0.0819999999999999,0.057,0.063,0.222,0.08,0.0969999999999999,0.0819999999999999,0.079,0.0409999999999999,0.078,0.062,0.084,0.08,0.111,0.089,0.078,0.086,0.078,0.09,0.072,0.083,0.085,0.07,0.107,0.093,0.07,0.107,0.0819999999999999,0.091,0.078,0.092,0.076,0.072,0.118,0.077,0.077,0.061,0.062,0.081,0.052,0.078,0.111,0.1169999999999999,0.08,0.079,0.118,0.08,0.087,0.104,0.073,0.072,0.065,0.094,0.089,0.077,0.071,0.069,0.063,0.078,0.073,0.084,0.083,0.084,0.074,0.091,0.106,0.048,0.079,0.067,0.068,0.071,0.081,0.063,0.062,0.093,0.08,0.132,0.123,0.087,0.054,0.054,0.0969999999999999,0.0409999999999999,0.0819999999999999,0.0969999999999999,0.104,0.118,0.074,0.066,0.072,0.093,0.115,0.132,0.07,0.079,0.077,0.102,0.079,0.091,0.084,0.0819999999999999,0.085,0.107,0.071,0.0579999999999999,0.095,0.084,0.075,0.076,0.077,0.088,0.095,0.072,0.083,0.078,0.088,0.0819999999999999,0.1009999999999999,0.104,0.132,0.064,0.065,0.095,0.086,0.075,0.08,0.103,0.068,0.074,0.066,0.0819999999999999,0.052,0.093,0.076,0.086,0.1689999999999999,0.054,0.079,0.214,0.063,0.074,0.078,0.077,0.081,0.078,0.077,0.079,0.114,0.062,0.085,0.073,0.068,0.08,0.078,0.123,0.09,0.07,0.109,0.071,0.084,0.071,0.094,0.096,0.226,0.091,0.085,0.074,0.115,0.068,0.109,0.104,0.079,0.084,0.0819999999999999,0.076,0.0819999999999999,0.07,0.0819999999999999,0.067,0.093,0.08,0.05,0.107,0.08,0.105,0.084,0.063,0.073,0.077,0.093,0.1169999999999999,0.1,0.081,0.099,0.0969999999999999,0.054,0.0969999999999999,0.074,0.0969999999999999,0.084,0.093,0.039,0.077,0.052,0.078,0.08,0.088,0.0579999999999999,0.08,0.077,0.079,0.079,0.0559999999999999,0.081,0.079,0.109,0.102,0.109,0.062,0.049,0.084,0.09,0.077,0.071,0.076,0.077,0.076,0.109,0.074,0.061,0.098,0.092,0.087,0.071,0.087,0.053,0.079,0.062,0.157,0.05,0.076,0.0579999999999999,0.07,0.093,0.081,0.092,0.045,0.05,0.111,0.09,0.059,0.084,0.08,0.096,0.092,0.088,0.084,0.088,0.012,0.07,0.075,0.08,0.068,0.061,0.091,0.084,0.0969999999999999,0.104,0.07,0.095,0.0819999999999999,0.092,0.087,0.073,0.049,0.074,0.111,0.104,0.086,0.0819999999999999,0.071,0.074,0.086,0.066,0.055,0.075,0.092,0.067,0.0819999999999999,0.083,0.067,0.07,0.079,0.079,0.091,0.106,0.084,0.171,0.079,0.104,0.092,0.074,0.075,0.088,0.074,0.0559999999999999,0.071,0.049,0.088,0.0819999999999999,0.053,0.086,0.1169999999999999,0.078,0.077,0.078,0.071,0.0409999999999999,0.067,0.083,0.099,0.0579999999999999,0.0819999999999999,0.062,0.068,0.1169999999999999,0.061,0.114,0.064,0.102,0.077,0.093,0.072,0.055,0.118,0.0819999999999999,0.093,0.065,0.084,0.07,0.076,0.078,0.074,0.064,0.0559999999999999,0.0819999999999999,0.1,0.114,0.111,0.06,0.086,0.095,0.076,0.079,0.087,0.085,0.096,0.068,0.067,0.1,0.0559999999999999,0.086,0.0819999999999999,0.106,0.071,0.08,0.074,0.358,0.073,0.08,0.074,0.098,0.087,0.098,0.078,0.1169999999999999,0.065,0.083,0.067,0.077,0.102,0.104,0.0969999999999999,0.072,0.069,0.077,0.065,0.065,0.055,0.077,0.07,0.106,0.0819999999999999,0.076,0.083,0.09,0.085,0.073,0.072,0.118,0.0579999999999999,0.104,0.044,0.06,0.074,0.076,0.084,0.095,0.076,0.051,0.063,0.086,0.0579999999999999,0.07,0.067,0.077,0.062,0.079,0.076,0.084,0.084,0.0969999999999999,0.0819999999999999,0.085,0.077,0.0579999999999999,0.092,0.084,0.08,0.091,0.08,0.123,0.071,0.063,0.106,0.049,0.088,0.059,0.077,0.068,0.073,0.104,0.084,0.077,0.078,0.095,0.077,0.069,0.072,0.0579999999999999,0.099,0.0819999999999999,0.079,0.087,0.098,0.077,0.08,0.077,0.063,0.085,0.071,0.06,0.093,0.062,0.066,0.095,0.076,0.076,0.114,0.104,0.084,0.069,0.076,0.0969999999999999,0.094,0.078,0.083,0.083,0.123,0.096,0.064,0.1159999999999999,0.061,0.087,0.069,0.114,0.084,0.171,0.072,0.063,0.092,0.094,0.076,0.072,0.076,0.098,0.067,0.123,0.098,0.065,0.093,0.088,0.074,0.071,0.077,0.09,0.07,0.084,0.096,0.071,0.0579999999999999,0.084,0.078,0.104,0.063,0.086,0.057,0.07,0.084,0.072,0.0819999999999999,0.084,0.079,0.098,0.071,0.081,0.076,0.085,0.089,0.083,0.084,0.093,0.072,0.09,0.075,0.053,0.065,0.052,0.073,0.067,0.08,0.114,0.092,0.076,0.076,0.067,0.086,0.061,0.093,0.123,0.1,0.083,0.087,0.064,0.092,0.051,0.07,0.073,0.044,0.081,0.076,0.064,0.089,0.073,0.0409999999999999,0.078,0.0409999999999999,0.104,0.094,0.05,0.077,0.08,0.0819999999999999,0.069,0.1,0.078,0.089,0.079,0.072,0.091,0.085,0.086,0.073,0.075,0.1,0.057,0.079,0.094,0.0819999999999999,0.065,0.084,0.055,0.062,0.085,0.085,0.084,0.067,0.0969999999999999,0.064,0.072,0.077,0.102,0.073,0.095,0.085,0.076,0.0819999999999999,0.074,0.073,0.1169999999999999,0.106,0.091,0.095,0.071,0.095,0.062,0.084,0.068,0.128,0.0819999999999999,0.083,0.09,0.077,0.08,0.087,0.091,0.092,0.044,0.0819999999999999,0.072,0.109,0.1,0.0819999999999999,0.104,0.074,0.084,0.061,0.062,0.0969999999999999,0.085,0.069,0.081,0.123,0.076,0.099,0.079,0.081,0.081,0.0819999999999999,0.084,0.092,0.084,0.086,0.095,0.096,0.083,0.078,0.0559999999999999,0.094,0.067,0.052,0.073,0.084,0.0919999999999999,0.0579999999999999,0.071,0.088,0.0579999999999999,0.0819999999999999,0.084,0.074,0.086,0.1,0.064,0.064,0.05,0.079,0.105,0.081,0.084,0.067,0.077,0.073,0.07,0.077,0.048,0.084,0.071,0.074,0.091,0.062,0.099,0.081,0.0579999999999999,0.07,0.0559999999999999,0.091,0.081,0.214,0.074,0.084,0.068,0.07,0.08,0.0819999999999999,0.0969999999999999,0.086,0.057,0.093,0.071,0.104,0.069,0.073,0.071,0.095,0.044,0.089,0.0579999999999999,0.083,0.077,0.077,0.091,0.074,0.093,0.063,0.084,0.088,0.114,0.095,0.078,0.055,0.083,0.076,0.086,0.085,0.0559999999999999,0.0819999999999999,0.076,0.044,0.074,0.095,0.085,0.07,0.079,0.111,0.072,0.062,0.095,0.079,0.094,0.095,0.087,0.098,0.055,0.054,0.093,0.123,0.109,0.077,0.123,0.104,0.092,0.084,0.066,0.075,0.068,0.077,0.093,0.065,0.078,0.09,0.0819999999999999,0.08,0.076,0.102,0.08,0.096,0.08,0.076,0.091,0.094,0.079,0.084,0.038,0.0559999999999999,0.077,0.071,0.08,0.089,0.118,0.079,0.091,0.092,0.081,0.076,0.0579999999999999,0.076,0.08,0.091,0.064,0.091,0.052,0.071,0.086,0.076,0.091,0.093,0.044,0.0819999999999999,0.077,0.085,0.073,0.0819999999999999,0.042,0.214,0.1939999999999999,0.08,0.0969999999999999,0.054,0.07,0.078,0.076,0.092,0.077,0.076,0.077,0.0819999999999999,0.077,0.063,0.096,0.078,0.098,0.07,0.1169999999999999,0.075,0.084,0.06,0.077,0.067,0.067,0.0819999999999999,0.086,0.062,0.078,0.068,0.1,0.085,0.1,0.079,0.083,0.08,0.064,0.054,0.076,0.074,0.078,0.093,0.092,0.077,0.081,0.059,0.063,0.078,0.088,0.073,0.09,0.081,0.069,0.102,0.1,0.076,0.095,0.078,0.09,0.077,0.1,0.0819999999999999,0.087,0.072,0.0819999999999999,0.076,0.079,0.08,0.086,0.07,0.1169999999999999,0.077,0.1,0.095,0.076,0.062,0.065,0.115,0.0969999999999999,0.076,0.166,0.076,0.08,0.076,0.062,0.055,0.08,0.092,0.076,0.092,0.061,0.062,0.1,0.079,0.079,0.077,0.066,0.049,0.166,0.0579999999999999,0.08,0.074,0.068,0.076,0.077,0.077,0.066,0.0819999999999999,0.084,0.079,0.064,0.0819999999999999,0.11,0.0819999999999999,0.07,0.071,0.08,0.086,0.1009999999999999,0.106,0.072,0.226,0.074,0.08,0.095,0.0969999999999999,0.076,0.084,0.07,0.071,0.081,0.076,0.054,0.073,0.077,0.078,0.079,0.067,0.093,0.085,0.093,0.107,0.086,0.089,0.099,0.063,0.075,0.0819999999999999,0.094,0.1939999999999999,0.083,0.071,0.0819999999999999,0.062,0.07,0.075,0.087,0.066,0.059,0.073,0.05,0.075,0.063,0.074,0.07,0.059,0.077,0.091,0.086,0.08,0.065,0.07,0.08,0.067,0.1159999999999999,0.078,0.079,0.084,0.075,0.091,0.091,0.0819999999999999,0.077,0.067,0.09,0.102,0.068,0.063,0.074,0.093,0.08,0.0819999999999999,0.05,0.08,0.084,0.073,0.099,0.079,0.1939999999999999,0.067,0.091,0.085,0.081,0.07,0.071,0.07,0.044,0.118,0.062,0.076,0.0819999999999999,0.087,0.0579999999999999,0.074,0.074,0.068,0.088,0.075,0.0819999999999999,0.086,0.104,0.064,0.092,0.08,0.077,0.077,0.068,0.08,0.072,0.0819999999999999,0.084,0.0969999999999999,0.084,0.079,0.077,0.086,0.077,0.098,0.084,0.066,0.073,0.087,0.067,0.07,0.0559999999999999,0.0819999999999999,0.0559999999999999,0.1169999999999999,0.094,0.053,0.05,0.077,0.0819999999999999,0.074,0.087,0.066,0.095,0.059,0.074,0.075,0.095,0.087,0.079,0.084,0.093,0.092,0.073,0.083,0.075,0.063,0.074,0.0819999999999999,0.067,0.074,0.074,0.061,0.086,0.095,0.078,0.095,0.079,0.05,0.114,0.079,0.1169999999999999,0.114,0.0819999999999999,0.072,0.087,0.085,0.08,0.102,0.089,0.414,0.08,0.123,0.095,0.057,0.0559999999999999,0.079,0.067,0.076,0.095,0.078,0.093,0.061,0.083,0.092,0.072,0.106,0.095,0.1,0.062,0.095,0.079,0.1169999999999999,0.066,0.084,0.0969999999999999,0.093,0.077,0.1009999999999999,0.071,0.048,0.084,0.065,0.076,0.08,0.094,0.068,0.079,0.074,0.1,0.077,0.079,0.074,0.066,0.1159999999999999,0.077,0.062,0.078,0.0579999999999999,0.08,0.088,0.081,0.102,0.241,0.094,0.066,0.064,0.078,0.063,0.077,0.0969999999999999,0.063,0.077,0.07,0.08,0.08,0.077,0.091,0.122,0.104,0.06,0.068,0.064,0.089,0.07,0.094,0.079,0.084,0.076,0.092,0.054,0.0579999999999999,0.084,0.078,0.08,0.077,0.071,0.093,0.085,0.075,0.1369999999999999,0.063,0.064,0.08,0.077,0.091,0.072,0.074,0.0819999999999999,0.088,0.07,0.122,0.087,0.0819999999999999,0.095,0.107,0.0579999999999999,0.107,0.077,0.068,0.0579999999999999,0.095,0.059,0.084,0.087,0.098,0.1009999999999999,0.073,0.078,0.104,0.076,0.09,0.092,0.111,0.0819999999999999,0.081,0.044,0.071,0.068,0.039,0.0819999999999999,0.0819999999999999,0.067,0.0409999999999999,0.087,0.066,0.088,0.089,0.062,0.109,0.076,0.08,0.057,0.088,0.074,0.092,0.078,0.071,0.075,0.074,0.07,0.062,0.07,0.0819999999999999,0.0579999999999999,0.078,0.083,0.084,0.077,0.1169999999999999,0.095,0.062,0.086,0.095,0.073,0.074,0.0819999999999999,0.095,0.064,0.093,0.1,0.09,0.092,0.076,0.077,0.0819999999999999,0.078,0.065,0.073,0.098,0.094,0.09,0.078,0.066,0.062,0.078,0.1,0.077,0.069,0.077,0.078,0.084,0.076,0.0819999999999999,0.076,0.1169999999999999,0.063,0.074,0.093,0.068,0.086,0.171,0.07,0.074,0.0969999999999999,0.0819999999999999,0.089,0.081,0.091,0.061,0.089,0.08,0.067,0.0559999999999999,0.0819999999999999,0.084,0.077,0.077,0.0819999999999999,0.073,0.085,0.074,0.068,0.098,0.076,0.075,0.069,0.075,0.081,0.068,0.081,0.079,0.096,0.084,0.074,0.077,0.0559999999999999,0.106,0.067,0.077,0.054,0.0559999999999999,0.061,0.118,0.079,0.078,0.092,0.1159999999999999,0.087,0.1169999999999999,0.0819999999999999,0.088,0.066,0.076,0.075,0.092,0.077,0.067,0.084,0.067,0.066,0.077,0.086,0.083,0.077,0.071,0.091,0.081,0.078,0.084,0.078,0.0819999999999999,0.075,0.077,0.08,0.071,0.068,0.08,0.055,0.081,0.052,0.072,0.059,0.111,0.084,0.06,0.088,0.081,0.077,0.093,0.0559999999999999,0.079,0.077,0.064,0.061,0.034,0.071,0.102,0.1159999999999999,0.102,0.08,0.083,0.078,0.083,0.0559999999999999,0.067,0.078,0.0819999999999999,0.0579999999999999,0.091,0.077,0.054,0.0819999999999999,0.094,0.111,0.087,0.084,0.12,0.071,0.0579999999999999,0.078,0.055,0.094,0.0579999999999999,0.076,0.071,0.091,0.1169999999999999,0.064,0.079,0.087,0.0969999999999999,0.084,0.074,0.075,0.0819999999999999,0.0819999999999999,0.118,0.073,0.084,0.075,0.081,0.087,0.07,0.078,0.0819999999999999,0.066,0.0969999999999999,0.106,0.071,0.077,0.081,0.0579999999999999,0.084,0.0969999999999999,0.086,0.085,0.0819999999999999,0.076,0.092,0.1,0.102,0.0969999999999999,0.078,0.123,0.076,0.079,0.08,0.0969999999999999,0.076,0.0819999999999999,0.091,0.106,0.067,0.085,0.076,0.063,0.08,0.086,0.077,0.089,0.086,0.052,0.084,0.0819999999999999,0.084,0.092,0.0969999999999999,0.07,0.066,0.061,0.05,0.071,0.062,0.104,0.069,0.067,0.213,0.065,0.074,0.084,0.061,0.071,0.105,0.064,0.078,0.118,0.081,0.096,0.077,0.066,0.0969999999999999,0.079,0.0409999999999999,0.085,0.0819999999999999,0.079,0.095,0.063,0.074,0.104,0.0559999999999999,0.044,0.0559999999999999,0.0819999999999999,0.077,0.0819999999999999,0.11,0.079,0.107,0.0559999999999999,0.0559999999999999,0.096,0.0579999999999999,0.0819999999999999,0.08,0.084,0.077,0.109,0.094,0.072,0.074,0.087,0.086,0.0969999999999999,0.073,0.1159999999999999,0.086,0.072,0.068,0.076,0.093,0.08,0.049,0.0819999999999999,0.063,0.073,0.06,0.074,0.093,0.062,0.09,0.086,0.102,0.062,0.067,0.095,0.062,0.061,0.075,0.066,0.118,0.071,0.0969999999999999,0.085,0.0819999999999999,0.084,0.0969999999999999,0.098,0.076,0.081,0.0559999999999999,0.079,0.071,0.0579999999999999,0.059],\"type\":\"histogram\",\"xaxis\":\"x5\",\"yaxis\":\"y5\"},{\"name\":\"free sulfur dioxide\",\"x\":[30.0,30.0,3.0,11.0,10.0,30.0,6.0,18.0,17.0,13.0,17.0,6.0,13.0,23.0,31.0,31.0,11.0,16.0,13.0,12.0,25.0,25.0,5.0,16.0,15.0,10.0,16.0,7.0,12.0,15.0,11.0,5.0,3.0,6.0,23.0,27.0,24.0,18.0,9.0,3.0,17.0,6.0,19.0,5.0,12.0,22.0,6.0,16.0,14.0,27.0,19.0,26.0,16.0,28.0,28.0,16.0,5.0,23.0,32.0,7.0,21.0,31.0,32.0,6.0,12.0,12.0,5.0,23.0,21.0,17.0,5.0,12.0,10.0,15.0,31.0,32.0,16.0,23.0,7.0,6.0,5.0,10.0,17.0,6.0,11.0,3.0,15.0,5.0,9.0,8.0,21.0,27.0,6.0,9.0,21.0,10.0,26.0,6.0,34.0,7.0,27.0,17.0,16.0,18.0,14.0,26.0,15.0,16.0,16.0,6.0,21.0,20.0,17.0,29.0,35.0,11.0,6.0,23.0,9.0,6.0,24.0,21.0,23.0,5.0,19.0,11.0,18.0,30.0,6.0,6.0,7.0,16.0,25.0,26.0,25.0,11.0,23.0,4.0,5.0,37.5,5.0,11.0,29.0,6.0,16.0,5.0,29.0,8.0,32.0,41.0,14.0,6.0,7.0,21.0,15.0,5.0,8.0,29.0,13.0,17.0,8.0,4.0,5.0,16.0,41.0,31.0,27.0,26.0,14.0,6.0,7.0,27.0,5.0,16.0,9.0,15.0,3.0,4.0,8.0,7.0,5.0,12.0,17.0,17.0,45.0,15.0,29.0,27.0,28.0,10.0,26.0,32.0,7.0,26.0,5.0,3.0,6.0,17.0,4.0,23.0,27.0,16.0,7.0,5.0,6.0,11.0,10.0,5.0,23.0,17.0,8.0,5.0,10.0,21.0,10.0,6.0,29.0,5.0,6.0,32.0,6.0,6.0,26.0,28.0,15.0,12.0,20.0,18.0,10.0,13.0,16.0,5.0,48.0,34.0,21.0,25.0,17.0,23.0,6.0,13.0,20.0,4.0,16.0,30.0,20.0,28.0,14.0,15.0,37.5,9.0,23.0,16.0,29.0,32.0,18.0,6.0,5.0,14.0,20.0,9.0,7.0,15.0,19.0,21.0,3.0,7.0,33.0,28.0,16.0,15.0,12.0,27.0,10.0,28.0,17.0,38.0,16.0,11.0,13.0,11.0,10.0,5.0,21.0,1.0,6.0,11.0,10.0,36.0,3.0,23.0,12.0,12.0,6.0,20.0,6.0,10.0,21.0,5.0,38.0,19.0,34.0,11.0,4.0,6.0,31.0,12.0,26.0,16.0,15.0,5.0,5.0,19.0,27.0,14.0,23.0,9.0,25.0,26.0,16.0,14.0,5.0,27.0,26.0,11.0,34.0,21.0,5.0,3.0,33.0,7.0,4.0,12.0,5.0,21.0,38.0,6.0,23.0,21.0,15.0,15.0,11.0,31.0,10.0,23.0,31.0,32.0,10.0,5.0,28.0,4.0,6.0,15.0,12.0,20.0,7.0,12.0,6.0,26.0,19.0,35.0,32.0,14.0,34.0,12.0,27.0,22.0,29.0,4.0,10.0,19.0,19.0,12.0,7.0,22.0,22.0,21.0,35.0,26.0,41.0,16.0,5.0,20.0,11.0,27.0,9.0,20.0,6.0,20.0,20.0,10.0,23.0,8.0,6.0,6.0,6.0,26.0,18.0,10.0,11.0,30.0,16.0,3.0,12.0,6.0,28.0,25.0,24.0,17.0,27.0,23.0,23.0,16.0,6.0,51.0,23.0,12.0,6.0,11.0,19.0,22.0,29.0,31.0,9.0,17.0,6.0,19.0,7.0,9.0,27.0,30.0,5.0,16.0,25.0,29.0,25.0,24.0,5.0,19.0,12.0,14.0,14.0,10.0,23.0,19.0,28.0,12.0,34.0,6.0,18.0,8.0,11.0,38.0,25.0,25.0,17.0,11.0,34.0,13.0,23.0,7.0,17.0,6.0,11.0,15.0,7.0,6.0,5.0,23.0,27.0,9.0,13.0,27.0,21.0,35.0,16.0,18.0,36.0,25.0,8.0,20.0,38.0,36.0,21.0,7.0,5.0,23.0,6.0,12.0,20.0,23.0,6.0,24.0,16.0,6.0,34.0,14.0,27.0,9.0,7.0,27.0,17.0,7.0,34.0,6.0,12.0,31.0,31.0,3.0,13.0,13.0,20.0,6.0,15.0,14.0,10.0,17.0,33.0,6.0,16.0,17.0,24.0,9.0,41.0,6.0,24.0,9.0,7.0,16.0,32.0,23.0,26.0,15.0,27.0,41.0,3.0,31.0,6.0,21.0,13.0,10.0,14.0,12.0,6.0,16.0,16.0,19.0,21.0,10.0,20.0,27.0,15.0,5.0,6.0,10.0,29.0,7.0,23.0,21.0,8.0,31.0,23.0,31.0,24.0,5.0,8.0,11.0,17.0,6.0,26.0,25.0,4.0,7.0,17.0,14.0,5.0,11.0,26.0,12.0,15.0,11.0,38.0,28.0,11.0,17.0,26.0,9.0,16.0,21.0,7.0,27.0,25.0,18.0,28.0,16.0,9.0,25.0,25.0,6.0,5.0,31.0,23.0,21.0,12.0,6.0,5.0,27.0,12.0,5.0,16.0,9.0,6.0,7.0,25.0,4.0,36.0,17.0,5.0,25.0,19.0,9.0,35.0,17.0,34.0,16.0,41.0,7.0,22.0,26.0,19.0,6.0,18.0,5.0,12.0,12.0,37.5,20.0,51.0,5.0,14.0,27.0,15.0,27.0,3.0,18.0,8.0,17.0,21.0,4.0,32.0,5.0,17.0,7.0,5.0,6.0,21.0,21.0,21.0,4.0,27.0,22.0,26.0,16.0,16.0,18.0,31.0,5.0,17.0,36.0,11.0,5.0,26.0,16.0,24.0,34.0,4.0,5.0,33.0,10.0,13.0,15.0,17.0,11.0,16.0,19.0,10.0,11.0,15.0,5.0,7.0,26.0,23.0,9.0,12.0,6.0,25.0,27.0,68.0,27.0,13.0,3.0,5.0,5.0,31.0,5.0,26.0,42.0,33.0,13.0,13.0,13.0,11.0,23.0,21.0,19.0,32.0,21.0,32.0,34.0,25.0,10.0,17.0,15.0,15.0,18.0,5.0,4.0,41.0,15.0,14.0,11.0,36.0,19.0,11.0,21.0,31.0,18.0,5.0,5.0,25.0,15.0,17.0,21.0,8.0,6.0,15.0,14.0,7.0,6.0,10.0,23.0,8.0,8.0,18.0,16.0,38.0,5.0,19.0,12.0,23.0,18.0,8.0,9.0,26.0,8.0,5.0,5.0,37.5,14.0,5.0,8.0,10.0,4.0,20.0,25.0,4.0,30.0,16.0,7.0,17.0,6.0,8.0,14.0,6.0,6.0,18.0,3.0,18.0,5.0,6.0,3.0,24.0,12.0,22.0,5.0,34.0,5.0,18.0,23.0,16.0,12.0,41.0,48.0,25.0,32.0,35.0,11.0,6.0,6.0,11.0,18.0,3.0,5.0,35.0,19.0,14.0,24.0,26.0,6.0,6.0,15.0,6.0,5.0,32.0,16.0,26.0,8.0,22.0,8.0,15.0,6.0,25.0,34.0,13.0,6.0,21.0,20.0,28.0,10.0,16.0,14.0,23.0,16.0,24.0,6.0,36.0,14.0,10.0,29.0,4.0,13.0,8.0,16.0,31.0,7.0,16.0,13.0,10.0,5.0,18.0,23.0,6.0,6.0,11.0,19.0,12.0,6.0,15.0,25.0,23.0,6.0,4.0,6.0,14.0,27.0,4.0,13.0,16.0,28.0,23.0,6.0,6.0,3.0,13.0,21.0,8.0,25.0,11.0,16.0,15.0,24.0,28.0,23.0,38.0,4.0,18.0,19.0,5.0,7.0,6.0,7.0,29.0,19.0,16.0,6.0,10.0,25.0,43.0,14.0,23.0,8.0,32.0,25.0,6.0,13.0,26.0,30.0,5.0,21.0,15.0,6.0,17.0,27.0,27.0,27.0,18.0,30.0,21.0,6.0,20.0,31.0,16.0,5.0,34.0,27.0,12.0,31.0,5.0,17.0,29.0,6.0,8.0,3.0,6.0,7.0,6.0,20.0,29.0,5.0,26.0,21.0,22.0,16.0,16.0,5.0,23.0,6.0,11.0,8.0,27.0,9.0,15.0,31.0,32.0,6.0,24.0,16.0,15.0,23.0,34.0,24.0,23.0,12.0,15.0,35.0,19.0,9.0,27.0,21.0,14.0,26.0,27.0,5.0,19.0,6.0,20.0,12.0,24.0,41.0,30.0,14.0,18.0,22.0,21.0,19.0,24.0,26.0,16.0,5.0,26.0,38.0,3.0,32.0,11.0,52.0,6.0,24.0,27.0,8.0,41.0,18.0,19.0,6.0,5.0,23.0,6.0,32.0,6.0,40.5,6.0,25.0,15.0,21.0,32.0,6.0,29.0,30.0,6.0,12.0,26.0,8.0,16.0,5.0,22.0,21.0,16.0,8.0,15.0,12.0,17.0,6.0,16.0,14.0,24.0,20.0,19.0,10.0,12.0,6.0,31.0,17.0,7.0,6.0,6.0,16.0,13.0,7.0,35.0,6.0,19.0,5.0,15.0,14.0,21.0,19.0,35.0,11.0,14.0,16.0,12.0,7.0,13.0,18.0,12.0,10.0,20.0,28.0,5.0,6.0,16.0,20.0,6.0,32.0,18.0,36.0,33.0,27.0,21.0,7.0,24.0,8.0,13.0,3.0,5.0,5.0,6.0,52.0,26.0,14.0,24.0,12.0,15.0,15.0,5.0,9.0,5.0,28.0,16.0,19.0,11.0,21.0,31.0,14.0,6.0,10.0,29.0,18.0,11.0,6.0,18.0,3.0,21.0,20.0,14.0,9.0,24.0,29.0,15.0,24.0,52.0,17.0,36.0,11.0,6.0,23.0,13.0,26.0,25.0,19.0,16.0,7.0,23.0,19.0,16.0,5.0,30.0,18.0,10.0,9.0,32.0,6.0,7.0,28.0,16.0,6.0,20.0,24.0,7.0,20.0,36.0,12.0,7.0,24.0,20.0,24.0,7.0,4.0,6.0,26.0,6.0,13.0,15.0,33.0,17.0,26.0,32.0,20.0,6.0,6.0,16.0,34.0,31.0,28.0,17.0,14.0,6.0,6.0,16.0,33.0,29.0,6.0,7.0,15.0,6.0,5.0,33.0,19.0,24.0,6.0,9.0,31.0,4.0,13.0,16.0,13.0,13.0,31.0,10.0,16.0,34.0,6.0,51.0,24.0,3.0,9.0,4.0,5.0,6.0,17.0,12.0,17.0,12.0,6.0,5.0,15.0,17.0,6.0,35.0,25.0,29.0,6.0,7.0,36.0,13.0,27.0,5.0,17.0,5.0,13.0,7.0,34.0,8.0,40.0,6.0,19.0,3.0,6.0,4.0,23.0,10.0,17.0,25.0,6.0,3.0,17.0,27.0,39.0,16.0,10.0,31.0,17.0,26.0,4.0,27.0,11.0,11.0,7.0,28.0,4.0,17.0,5.0,6.0,4.0,9.0,17.0,23.0,18.0,40.0,10.0,29.0,23.0,5.0,30.0,6.0,10.0,6.0,6.0,32.0,42.0,19.0,8.0,16.0,15.0,32.0,11.0,6.0,5.0,19.0,19.0,11.0,8.0,15.0,11.0,31.0,31.0,6.0,6.0,15.0,12.0,27.0,6.0,8.0,22.0,19.0,18.0,6.0,7.0,21.0,32.0,6.0,19.0,6.0,10.0,6.0,40.0,21.0,16.0,23.0,31.0,5.0,10.0,26.0,5.0,26.0,6.0,6.0,3.0,16.0,18.0,68.0,10.0,8.0,12.0,15.0,23.0,26.0,28.0,5.0,17.0,6.0,6.0,5.0,5.0,5.0,4.0,6.0,21.0,25.0,26.0,20.0,17.0,18.0,35.0,5.0,23.0,30.0,25.0,22.0,3.0,18.0,5.0,6.0,21.0,25.0,18.0,8.0,5.0,5.0,6.0,5.0,19.0,31.0,32.0,21.0,27.0,6.0,29.0,15.0,26.0,8.0,11.0,12.0,36.0,5.0,25.0,19.0,8.0,6.0,31.0,19.0,32.0,25.0,11.0,21.0,24.0,7.0,34.0,25.0,12.0,19.0,18.0,10.0,25.0,31.0,8.0,4.0,16.0,15.0,20.0,6.0,12.0,31.0,5.0,24.0,13.0,21.0,23.0,8.0,27.0,31.0,6.0,13.0,13.0,12.0,23.0,5.0,5.0,29.0,13.0,10.0,23.0,6.0,10.0,15.0,31.0,3.0,9.0,29.0,8.0,16.0,10.0,35.0,17.0,16.0,40.0,18.0,36.0,7.0,20.0,32.0,24.0,15.0,7.0,13.0,8.0,25.0,24.0,5.0,6.0,19.0,3.0,37.0,15.0,38.0,7.0,14.0,32.0,32.0,15.0,9.0,6.0,43.0,23.0,28.0,16.0,19.0,15.0,11.0,3.0,23.0,14.0,12.0,24.0,6.0,6.0,15.0,32.0,18.0,8.0,27.0,17.0,23.0,18.0,20.0,20.0,21.0,9.0,7.0,17.0,5.0,6.0,25.0,19.0,26.0,32.0,29.0,14.0,12.0,48.0,16.0,14.0,12.0,13.0,11.0,26.0,22.0,3.0,15.0,4.0,14.0,17.0,23.0,12.0,4.0,6.0,17.0,19.0,9.0,32.0,21.0,27.0,35.0,14.0,21.0,27.0,23.0,5.0,13.0,30.0,21.0,18.0,7.0,11.0,16.0,11.0,5.0,28.0,21.0,4.0,13.0,14.0,27.0,14.0,5.0,31.0,16.0,17.0,21.0,17.0,9.0,21.0,5.0,17.0,13.0,6.0,13.0,38.0,29.0,25.0,5.0,19.0,6.0,16.0,12.0,6.0,16.0,21.0,13.0,5.0,16.0,27.0,8.0,21.0,10.0,38.0,17.0,5.0,8.0,13.0,9.0,16.0,26.0,16.0,5.0,30.0,25.0,5.0,10.0,27.0,34.0,5.0,32.0,19.0,12.0,15.0,3.0,34.0,16.0,6.0,9.0,16.0,4.0,6.0,22.0,29.0,6.0,17.0,6.0,28.0,14.0,5.0,17.0,4.0,21.0,6.0,30.0,21.0,7.0,6.0,14.0,31.0,27.0,31.0,3.0,18.0,40.0,14.0,18.0,13.0,3.0,32.0,30.0,21.0,26.0,22.0,31.0,19.0,10.0,6.0,32.0,6.0,19.0,12.0,10.0,31.0,29.0,28.0,26.0,16.0,32.0,23.0,16.0,6.0,16.0,26.0,10.0,14.0,12.0,11.0,19.0,8.0,5.0,29.0,10.0,11.0,23.0,4.0,9.0,16.0,43.0,12.0,15.0,5.0,23.0,22.0,26.0,16.0,10.0,6.0,18.0,34.0,30.0,23.0,16.0,17.0,17.0,15.0,33.0,17.0,6.0,5.0,20.0,21.0,6.0,25.0,25.0,32.0,34.0,28.0,22.0,16.0,16.0,16.0,13.0,17.0,10.0,27.0,34.0,6.0,37.0,10.0,15.0,26.0,27.0,10.0,24.0,16.0,31.0,38.0,7.0,9.0,5.0,9.0,12.0,16.0,25.0,17.0,24.0,23.0,5.0,6.0,8.0,6.0,21.0,31.0,33.0,13.0,8.0,6.0,28.0,10.0,10.0,23.0,18.0,23.0,38.0,5.0,15.0,25.0,19.0,3.0,6.0,36.0,31.0,45.0,11.0,31.0,16.0,8.0,20.0,6.0,21.0,6.0,20.0,12.0,21.0,18.0,3.0,32.0,17.0,41.0,8.0,6.0,10.0,5.0,20.0,6.0,16.0,5.0,4.0,19.0,27.0,6.0,24.0,6.0,13.0,4.0,18.0,29.0,27.0,15.0,18.0,8.0,17.0,6.0,33.0,25.0,5.0,8.0,23.0,14.0,18.0,23.0,12.0,19.0,19.0,52.0,23.0,26.0,35.0,28.0,14.0,16.0,5.0,24.0,32.0,6.0,5.0,21.0,17.0,3.0,17.0,31.0,11.0,8.0,25.0,9.0,6.0,30.0,4.0,34.0,15.0,15.0,8.0,7.0,8.0,19.0,31.0,14.0,34.0,15.0,15.0,26.0,6.0,18.0,6.0,45.0,28.0,4.0,4.0,26.0,31.0,15.0,27.0,26.0,8.0,6.0,27.0,7.0,22.0,16.0,6.0,16.0,19.0,6.0,9.0,6.0,7.0,16.0,26.0,12.0,41.0,18.0,21.0,31.0,18.0,17.0,5.0,5.0,7.0,26.0,25.0,19.0,10.0,24.0,21.0,31.0,6.0,17.0,27.0,11.0,15.0,6.0,4.0,5.0,20.0,26.0,7.0,28.0,6.0,7.0,16.0,18.0,32.0,20.0,10.0,23.0,8.0,24.0,19.0,16.0,4.0,12.0,25.0,38.0,14.0,18.0,29.0,31.0,18.0,34.0,42.0,26.0,19.0,5.0,21.0,26.0,7.0,15.0,6.0,13.0,6.0,21.0,3.0,6.0,16.0,32.0,27.0,41.0,7.0,6.0,22.0,4.0,7.0,6.0,15.0,19.0,10.0,19.0,25.0,30.0,17.0,6.0,25.0,9.0,17.0,32.0,6.0,14.0,15.0,13.0,15.0,34.0,6.0,6.0,29.0,29.0,25.0,16.0,6.0,25.0,4.0,8.0,8.0,15.0,20.0,5.0,7.0,11.0,32.0,23.0,3.0,15.0,12.0,6.0,8.0,32.0,31.0,20.0,3.0,12.0,11.0,6.0,27.0,26.0,15.0,24.0,5.0,36.0,32.0,11.0,16.0,6.0,30.0,36.0,16.0,23.0,16.0,20.0,16.0,41.0,19.0,25.0,26.0,4.0,26.0,14.0,24.0,30.0,25.0,6.0,24.0,5.0,13.0,20.0,6.0,18.0,12.0,22.0,9.0,16.0,24.0,29.0,27.0,19.0,5.0,12.0],\"type\":\"histogram\",\"xaxis\":\"x6\",\"yaxis\":\"y6\"},{\"name\":\"total sulfur dioxide\",\"x\":[39.0,67.0,12.0,65.0,45.0,134.0,18.0,40.0,40.0,29.0,110.0,15.0,30.0,91.0,54.0,134.0,25.0,86.0,27.0,49.0,72.0,42.0,28.0,29.0,34.0,22.0,42.0,24.0,46.0,33.0,18.0,19.0,12.0,16.0,122.0,63.0,52.0,91.0,30.0,9.0,40.0,42.0,59.0,19.0,89.0,81.0,18.0,72.0,42.0,53.0,35.0,65.0,63.0,54.0,129.0,72.0,15.0,71.0,46.0,16.0,74.0,92.0,44.0,12.0,87.0,47.0,12.0,143.0,75.0,26.0,16.0,77.0,28.0,28.0,54.0,44.0,42.0,58.0,20.0,13.0,15.0,34.0,91.0,21.0,86.0,14.0,28.0,20.0,22.0,23.0,110.0,61.0,17.0,42.0,101.0,39.0,35.0,12.0,143.0,13.0,61.0,110.0,42.0,37.0,22.0,61.0,21.0,86.0,86.0,16.0,110.0,110.0,40.0,44.0,152.0,18.0,24.0,81.0,18.0,14.0,88.0,119.0,67.0,9.0,50.0,38.0,38.0,92.0,21.0,20.0,12.0,46.0,99.0,51.0,42.0,44.0,44.0,8.0,14.0,54.0,12.0,65.0,53.0,21.0,32.0,14.0,46.0,16.0,52.0,87.0,25.0,12.0,31.0,58.0,46.0,14.0,24.0,85.0,35.0,43.0,18.0,14.0,13.0,86.0,55.0,131.0,66.0,51.0,56.0,14.0,20.0,62.0,14.0,86.0,28.0,64.0,14.0,11.0,15.0,11.0,14.0,21.0,119.0,50.0,87.0,34.0,66.0,51.0,52.0,37.0,46.0,94.0,19.0,60.0,16.0,8.0,14.0,42.0,10.0,94.0,61.0,69.0,25.0,14.0,12.0,24.0,45.0,15.0,121.0,24.0,20.0,19.0,21.0,74.0,42.0,15.0,48.0,20.0,11.0,48.0,14.0,15.0,51.0,52.0,65.0,45.0,112.0,38.0,21.0,81.0,112.0,12.0,90.0,52.0,66.0,60.0,40.0,99.0,15.0,45.0,86.0,13.0,37.0,69.0,49.0,109.0,45.0,26.0,53.0,17.0,54.0,36.0,40.0,140.0,40.0,16.0,13.0,20.0,49.0,31.0,16.0,64.0,58.0,77.0,15.0,32.0,141.0,129.0,33.0,28.0,66.0,61.0,44.0,71.0,35.0,54.0,86.0,86.0,35.0,44.0,42.0,14.0,102.0,47.0,13.0,45.0,30.0,121.0,8.0,143.0,31.0,45.0,13.0,112.0,10.0,24.0,67.0,20.0,106.0,31.0,121.0,35.0,15.0,15.0,67.0,42.0,42.0,82.0,54.0,14.0,21.0,77.0,63.0,86.0,53.0,27.0,105.0,45.0,35.0,26.0,14.0,60.0,65.0,18.0,45.0,57.0,10.0,12.0,55.0,20.0,10.0,69.0,12.0,77.0,46.0,21.0,44.0,59.0,24.0,33.0,119.0,54.0,17.0,81.0,134.0,52.0,25.0,62.0,129.0,12.0,12.0,74.0,18.0,110.0,12.0,93.0,28.0,58.0,122.0,67.0,119.0,28.0,151.0,89.0,66.0,71.0,54.0,11.0,21.0,48.0,64.0,23.0,17.0,74.0,84.0,75.0,70.0,61.0,55.0,86.0,14.0,94.0,18.0,60.0,23.0,84.0,12.0,49.0,119.0,44.0,44.0,38.0,14.0,13.0,24.0,106.0,34.0,91.0,41.0,119.0,35.0,10.0,49.0,14.0,133.0,55.0,58.0,40.0,61.0,54.0,145.0,42.0,42.0,70.0,143.0,81.0,13.0,24.0,25.0,84.0,70.0,141.0,68.0,38.0,15.0,122.0,14.0,17.0,62.0,129.0,13.0,37.0,42.0,45.0,47.0,66.0,12.0,98.0,18.0,47.0,56.0,41.0,43.0,102.0,51.0,19.0,106.0,47.0,44.0,26.0,24.0,76.0,48.0,99.0,106.0,81.0,124.0,49.0,49.0,25.0,86.0,12.0,65.0,32.0,31.0,15.0,14.0,94.0,85.0,31.0,29.0,61.0,75.0,103.0,33.0,48.0,45.0,52.0,23.0,49.0,38.0,48.0,84.0,31.0,19.0,143.0,23.0,19.0,67.0,143.0,20.0,94.0,112.0,28.0,66.0,44.0,90.0,28.0,12.0,53.0,43.0,11.0,61.0,15.0,20.0,73.0,35.0,13.0,49.0,57.0,57.0,22.0,39.0,24.0,24.0,38.0,98.0,24.0,38.0,86.0,94.0,36.0,110.0,16.0,44.0,20.0,20.0,119.0,44.0,119.0,52.0,29.0,65.0,55.0,15.0,92.0,12.0,84.0,65.0,31.0,36.0,18.0,25.0,72.0,59.0,66.0,127.0,21.0,84.0,60.0,24.0,16.0,19.0,21.0,44.0,38.0,113.0,51.0,16.0,64.0,58.0,53.0,64.0,19.0,22.0,24.0,91.0,16.0,61.0,44.0,11.0,16.0,119.0,28.0,19.0,50.0,31.0,88.0,26.0,104.0,76.0,128.0,18.0,89.0,45.0,23.0,69.0,110.0,28.0,43.0,36.0,28.0,109.0,46.0,25.0,60.0,99.0,17.0,16.0,67.0,43.0,51.0,47.0,23.0,35.0,43.0,60.0,10.0,36.0,23.0,15.0,35.0,58.0,11.0,51.0,43.0,19.0,52.0,50.0,28.0,103.0,104.0,88.0,86.0,55.0,65.0,46.0,53.0,27.0,15.0,44.0,13.0,39.0,44.0,289.0,110.0,70.0,28.0,29.0,59.0,27.0,61.0,15.0,34.0,19.0,91.0,77.0,65.0,44.0,10.0,44.0,31.0,10.0,21.0,51.0,59.0,59.0,13.0,53.0,41.0,65.0,37.0,112.0,27.0,68.0,15.0,105.0,52.0,38.0,9.0,35.0,86.0,37.0,52.0,10.0,13.0,94.0,86.0,37.0,65.0,89.0,42.0,42.0,58.0,24.0,35.0,34.0,28.0,11.0,70.0,115.0,17.0,50.0,23.0,51.0,35.0,124.0,60.0,49.0,9.0,20.0,11.0,58.0,13.0,61.0,51.0,44.0,27.0,49.0,74.0,41.0,81.0,49.0,47.0,53.0,72.0,54.0,125.0,105.0,47.0,92.0,64.0,34.0,34.0,20.0,11.0,60.0,58.0,24.0,65.0,125.0,64.0,46.0,67.0,131.0,44.0,19.0,35.0,58.0,33.0,104.0,77.0,18.0,13.0,110.0,29.0,15.0,16.0,21.0,47.0,18.0,20.0,65.0,40.0,62.0,22.0,119.0,19.0,145.0,38.0,16.0,30.0,52.0,19.0,16.0,9.0,54.0,25.0,16.0,14.0,89.0,16.0,49.0,85.0,10.0,135.0,59.0,29.0,86.0,12.0,17.0,22.0,14.0,27.0,95.0,9.0,38.0,13.0,22.0,9.0,44.0,31.0,59.0,16.0,46.0,12.0,119.0,44.0,33.0,50.0,55.0,90.0,47.0,46.0,70.0,30.0,14.0,18.0,65.0,104.0,19.0,15.0,53.0,58.0,37.0,122.0,52.0,14.0,18.0,64.0,24.0,19.0,48.0,36.0,66.0,22.0,81.0,65.0,47.0,12.0,53.0,53.0,31.0,21.0,59.0,49.0,128.0,18.0,28.0,61.0,44.0,42.0,58.0,12.0,51.0,28.0,26.0,58.0,10.0,30.0,18.0,40.0,92.0,10.0,86.0,39.0,23.0,28.0,101.0,36.0,15.0,25.0,35.0,77.0,18.0,15.0,28.0,49.0,144.0,22.0,19.0,14.0,31.0,63.0,9.0,31.0,38.0,109.0,54.0,15.0,31.0,15.0,27.0,77.0,19.0,67.0,22.0,37.0,21.0,122.0,129.0,119.0,52.0,11.0,86.0,50.0,17.0,16.0,18.0,12.0,61.0,38.0,86.0,47.0,43.0,85.0,60.0,86.0,43.0,20.0,41.0,42.0,27.0,31.0,85.0,135.0,19.0,119.0,67.0,24.0,53.0,63.0,63.0,63.0,38.0,119.0,102.0,15.0,87.0,34.0,59.0,14.0,45.0,65.0,86.0,131.0,13.0,44.0,66.0,12.0,20.0,12.0,24.0,31.0,18.0,58.0,46.0,9.0,62.0,51.0,54.0,37.0,86.0,15.0,43.0,14.0,50.0,35.0,63.0,17.0,33.0,52.0,68.0,24.0,38.0,40.0,61.0,44.0,85.0,44.0,119.0,24.0,28.0,106.0,35.0,23.0,51.0,49.0,25.0,86.0,53.0,14.0,49.0,15.0,49.0,23.0,94.0,68.0,54.0,58.0,38.0,84.0,119.0,98.0,125.0,62.0,65.0,13.0,35.0,46.0,37.0,54.0,18.0,102.0,15.0,52.0,61.0,22.0,110.0,29.0,61.0,15.0,19.0,81.0,15.0,54.0,16.0,289.0,20.0,85.0,27.0,77.0,44.0,28.0,66.0,134.0,16.0,19.0,48.0,18.0,86.0,15.0,54.0,37.0,104.0,20.0,112.0,87.0,81.0,12.0,52.0,47.0,38.0,84.0,54.0,41.0,65.0,18.0,67.0,45.0,18.0,24.0,31.0,44.0,23.0,11.0,70.0,15.0,50.0,16.0,35.0,32.0,51.0,50.0,53.0,18.0,31.0,46.0,29.0,31.0,48.0,112.0,31.0,50.0,49.0,121.0,10.0,12.0,65.0,46.0,23.0,48.0,98.0,100.0,85.0,69.0,51.0,20.0,33.0,18.0,31.0,9.0,10.0,13.0,14.0,98.0,65.0,26.0,64.0,31.0,49.0,65.0,10.0,42.0,10.0,54.0,44.0,110.0,65.0,119.0,92.0,35.0,21.0,35.0,90.0,95.0,25.0,62.0,38.0,8.0,51.0,110.0,25.0,92.0,58.0,60.0,29.0,64.0,74.0,43.0,90.0,119.0,15.0,143.0,27.0,48.0,52.0,37.0,65.0,20.0,49.0,43.0,20.0,28.0,69.0,38.0,21.0,25.0,141.0,27.0,16.0,42.0,46.0,14.0,84.0,58.0,16.0,49.0,48.0,86.0,32.0,44.0,47.0,66.0,24.0,9.0,22.0,52.0,19.0,28.0,38.0,44.0,43.0,60.0,46.0,136.0,22.0,21.0,30.0,66.0,131.0,109.0,119.0,81.0,13.0,17.0,86.0,85.0,58.0,15.0,28.0,48.0,12.0,15.0,79.0,35.0,64.0,13.0,22.0,58.0,12.0,29.0,39.0,47.0,31.0,131.0,22.0,44.0,61.0,14.0,77.0,147.0,10.0,106.0,11.0,11.0,15.0,88.0,19.0,43.0,19.0,12.0,14.0,53.0,104.0,15.0,122.0,48.0,88.0,32.0,16.0,46.0,54.0,67.0,13.0,38.0,13.0,56.0,16.0,68.0,19.0,64.0,14.0,49.0,23.0,20.0,10.0,104.0,24.0,86.0,54.0,15.0,7.0,38.0,85.0,85.0,28.0,22.0,68.0,91.0,52.0,8.0,67.0,50.0,18.0,31.0,139.0,10.0,113.0,19.0,19.0,12.0,47.0,42.0,94.0,96.0,64.0,21.0,67.0,147.0,22.0,54.0,12.0,25.0,22.0,28.0,54.0,60.0,58.0,32.0,26.0,39.0,44.0,42.0,15.0,10.0,42.0,77.0,50.0,17.0,21.0,21.0,54.0,134.0,14.0,31.0,27.0,45.0,63.0,21.0,15.0,54.0,58.0,42.0,16.0,12.0,37.0,44.0,15.0,66.0,16.0,41.0,14.0,54.0,75.0,31.0,53.0,68.0,10.0,37.0,52.0,15.0,35.0,22.0,21.0,14.0,52.0,77.0,124.0,47.0,26.0,90.0,50.0,44.0,61.0,139.0,33.0,61.0,20.0,23.0,20.0,17.0,14.0,11.0,14.0,49.0,40.0,45.0,84.0,40.0,28.0,53.0,20.0,57.0,135.0,85.0,49.0,13.0,34.0,18.0,12.0,64.0,50.0,38.0,16.0,16.0,10.0,18.0,14.0,64.0,54.0,48.0,92.0,53.0,19.0,55.0,49.0,35.0,18.0,44.0,19.0,46.0,15.0,46.0,58.0,17.0,21.0,68.0,58.0,141.0,67.0,35.0,102.0,94.0,47.0,53.0,64.0,70.0,46.0,49.0,24.0,99.0,38.0,19.0,8.0,42.0,27.0,49.0,13.0,18.0,66.0,33.0,54.0,49.0,46.0,144.0,46.0,67.0,67.0,15.0,30.0,27.0,77.0,121.0,33.0,14.0,46.0,28.0,37.0,44.0,16.0,16.0,37.0,69.0,15.0,22.0,66.0,17.0,60.0,23.0,60.0,53.0,63.0,64.0,25.0,121.0,23.0,48.0,71.0,53.0,42.0,24.0,29.0,17.0,55.0,44.0,16.0,14.0,47.0,9.0,53.0,64.0,76.0,30.0,66.0,48.0,54.0,49.0,30.0,34.0,113.0,77.0,54.0,60.0,58.0,34.0,25.0,9.0,144.0,28.0,64.0,33.0,15.0,15.0,40.0,69.0,34.0,19.0,43.0,61.0,113.0,38.0,49.0,47.0,64.0,22.0,17.0,91.0,62.0,12.0,49.0,58.0,67.0,141.0,67.0,65.0,19.0,82.0,110.0,25.0,49.0,49.0,45.0,35.0,84.0,15.0,21.0,10.0,65.0,105.0,147.0,49.0,11.0,14.0,88.0,42.0,23.0,76.0,67.0,61.0,152.0,38.0,119.0,70.0,54.0,11.0,49.0,68.0,66.0,98.0,26.0,43.0,40.0,42.0,16.0,89.0,43.0,15.0,49.0,119.0,43.0,23.0,12.0,54.0,29.0,82.0,122.0,56.0,24.0,58.0,20.0,43.0,31.0,31.0,26.0,76.0,66.0,48.0,28.0,98.0,20.0,44.0,25.0,15.0,62.0,65.0,54.0,19.0,25.0,46.0,23.0,59.0,19.0,51.0,44.0,14.0,23.0,49.0,42.0,86.0,52.0,63.0,13.0,98.0,67.0,31.0,28.0,61.0,98.0,19.0,64.0,48.0,50.0,34.0,9.0,54.0,86.0,14.0,22.0,61.0,9.0,35.0,49.0,66.0,15.0,82.0,22.0,66.0,28.0,105.0,91.0,10.0,127.0,24.0,134.0,119.0,16.0,17.0,21.0,72.0,63.0,69.0,8.0,38.0,55.0,27.0,34.0,81.0,15.0,44.0,51.0,77.0,65.0,49.0,70.0,58.0,24.0,15.0,52.0,17.0,56.0,31.0,24.0,68.0,66.0,71.0,60.0,112.0,141.0,143.0,86.0,24.0,43.0,81.0,31.0,23.0,19.0,23.0,64.0,27.0,14.0,55.0,19.0,40.0,119.0,9.0,28.0,112.0,77.0,91.0,33.0,25.0,49.0,41.0,99.0,37.0,86.0,18.0,37.0,44.0,69.0,142.0,24.0,81.0,40.0,33.0,76.0,69.0,34.0,15.0,136.0,58.0,11.0,57.0,58.0,44.0,52.0,52.0,109.0,45.0,59.0,44.0,50.0,88.0,21.0,66.0,72.0,24.0,55.0,31.0,35.0,61.0,85.0,41.0,94.0,119.0,59.0,46.0,16.0,32.0,16.0,28.0,28.0,56.0,37.0,92.0,64.0,58.0,20.0,13.0,22.0,17.0,66.0,68.0,45.0,27.0,17.0,20.0,53.0,47.0,39.0,94.0,59.0,119.0,76.0,10.0,35.0,42.0,50.0,9.0,15.0,46.0,145.0,88.0,65.0,134.0,47.0,20.0,110.0,12.0,51.0,17.0,37.0,19.0,59.0,34.0,15.0,71.0,86.0,55.0,28.0,12.0,24.0,9.0,54.0,17.0,38.0,12.0,10.0,40.0,67.0,12.0,88.0,19.0,31.0,9.0,38.0,119.0,43.0,29.0,44.0,24.0,34.0,28.0,85.0,49.0,28.0,17.0,121.0,28.0,88.0,113.0,18.0,64.0,20.0,98.0,147.0,105.0,152.0,109.0,35.0,42.0,16.0,66.0,54.0,12.0,19.0,59.0,77.0,10.0,43.0,68.0,24.0,15.0,105.0,17.0,15.0,91.0,9.0,60.0,28.0,18.0,16.0,15.0,17.0,77.0,131.0,39.0,141.0,104.0,26.0,60.0,33.0,27.0,14.0,87.0,52.0,16.0,10.0,35.0,131.0,24.0,66.0,64.0,16.0,19.0,53.0,42.0,49.0,63.0,16.0,25.0,58.0,23.0,16.0,24.0,17.0,36.0,35.0,87.0,110.0,32.0,59.0,92.0,29.0,25.0,23.0,14.0,20.0,45.0,34.0,27.0,28.0,44.0,102.0,134.0,26.0,32.0,61.0,46.0,58.0,15.0,11.0,20.0,84.0,60.0,65.0,53.0,16.0,29.0,65.0,85.0,44.0,49.0,24.0,49.0,21.0,44.0,28.0,112.0,14.0,62.0,68.0,46.0,44.0,37.0,55.0,94.0,34.0,66.0,74.0,45.0,77.0,13.0,50.0,52.0,15.0,88.0,25.0,47.0,15.0,59.0,16.0,19.0,87.0,48.0,53.0,110.0,47.0,20.0,81.0,9.0,18.0,28.0,47.0,66.0,31.0,32.0,46.0,70.0,81.0,18.0,105.0,24.0,43.0,48.0,28.0,29.0,36.0,27.0,47.0,69.0,24.0,12.0,62.0,66.0,65.0,37.0,18.0,60.0,12.0,16.0,18.0,21.0,49.0,10.0,35.0,45.0,44.0,58.0,8.0,34.0,49.0,14.0,19.0,74.0,72.0,84.0,15.0,39.0,50.0,19.0,61.0,71.0,33.0,52.0,19.0,100.0,48.0,24.0,40.0,12.0,77.0,52.0,86.0,116.0,62.0,49.0,49.0,110.0,50.0,105.0,63.0,10.0,85.0,35.0,58.0,69.0,42.0,15.0,42.0,11.0,30.0,84.0,12.0,86.0,44.0,71.0,17.0,36.0,42.0,42.0,65.0,37.0,13.0,28.0],\"type\":\"histogram\",\"xaxis\":\"x7\",\"yaxis\":\"y7\"},{\"name\":\"density\",\"x\":[0.99572,0.99854,0.9966,0.9973,0.99444,0.9982,0.99552,0.9956,1.0008,0.99682,0.9976,0.9972,0.9981,0.9948,0.99736,0.9978,0.99628,0.9969,0.99683,0.9981,0.999,0.9976,0.99888,0.99258,0.9966,0.9947,0.99472,0.9986,0.9969,0.9988,0.99476,0.9952,0.99808,0.9967,0.998,0.9975,0.9978,0.99596,0.9987,0.99765,0.99587,1.0021,0.9959,0.9965,0.99632,0.9972,0.9973,0.99728,0.99258,0.99467,0.99516,0.99689,0.9991,0.9963,0.9976,0.9971,0.99498,0.99612,0.9964,0.99456,0.99578,0.99693,0.99786,0.9969,0.99685,0.9981,0.9972,0.9974,0.9965,0.99489,0.99787,0.99572,0.9982,0.99531,0.9976,0.99727,1.0032,0.99622,0.9972,0.9968,0.9974,0.99761,0.9962,0.99252,0.99668,0.9978,0.99516,0.9986,0.99362,0.9976,0.9982,0.9976,0.99472,1.0014,0.9972,0.9994,0.99528,0.99604,0.99712,0.99508,0.99621,0.9982,1.00015,0.9994,0.99494,0.9971,0.99528,0.99842,0.99739,0.99396,0.99584,0.999,0.99774,0.999,0.99854,0.99803,0.9948,0.9948,0.99842,0.9962,0.99538,0.9982,1.00012,0.99498,0.99242,0.99528,0.9952,0.99564,0.9983,0.9962,0.99647,0.9986,0.9968,0.99734,0.9956,0.99538,0.9963,0.99668,0.9976,0.99712,0.99316,0.99618,0.99628,0.99975,1.001,0.9986,0.99438,0.99462,0.995,0.9978,0.99593,0.99242,0.9982,0.9972,0.9956,0.9978,0.9955,0.99746,0.9978,1.0022,0.99476,0.9966,0.9994,0.99645,0.9981,0.9971,0.9976,0.995,0.99735,0.99512,0.9969,0.99736,0.996,0.99728,0.99724,0.997,0.99648,0.99562,0.99744,0.99824,0.9976,0.99736,0.9984,0.99786,0.99525,0.9955,0.99704,0.9946,0.99531,0.99498,0.9948,0.99852,0.9986,0.9976,0.99688,0.9973,0.99476,0.9934,0.99558,0.99622,0.9968,0.9986,0.99508,1.0002,0.99668,0.99828,0.9958,1.0014,0.9974,0.99728,0.99672,1.0004,0.9958,0.9976,1.0004,0.9976,0.99362,0.9986,1.0004,0.99557,0.99852,0.9968,0.9948,0.9948,0.99587,0.9971,0.9991,0.99467,0.99572,0.99064,1.0004,0.99498,0.99604,0.99668,0.9963,0.9986,0.9963,0.99745,1.0004,0.9946,0.99546,0.9982,0.9955,0.9987,0.99573,0.9967,0.9952,0.99588,0.99692,0.9934,0.9948,0.99396,0.99534,0.9983,0.9955,0.9973,1.0,0.99472,0.997,0.99636,0.9982,0.9973,0.9968,0.99408,0.99572,0.9988,0.99728,0.9976,0.99572,1.0014,0.99627,0.9948,0.9955,0.9994,0.99701,0.99622,0.9974,0.99552,0.9972,0.9944,1.0032,0.9976,0.99633,0.9996,0.99836,0.9976,1.0014,0.9958,0.99458,0.9982,0.99925,0.9987,0.99774,0.999,0.9971,0.99572,0.9968,0.9994,0.9984,0.9973,0.9961,0.99396,0.9934,0.99316,0.99568,0.9984,0.9984,0.99818,0.99612,0.99594,0.9973,0.9964,0.99578,0.9958,0.9961,0.9962,0.9969,0.9948,0.99458,0.9952,0.9986,0.99608,0.99489,0.99746,0.99538,0.9987,1.00015,0.99444,0.9962,1.00012,0.9959,0.9976,0.99738,0.9973,0.9959,0.99702,0.995,0.9916,0.99499,0.99292,0.99659,0.9964,0.99728,0.99716,0.99568,0.99538,0.9983,0.9976,0.99622,0.99732,0.99191,0.9964,0.99774,0.9972,0.99538,0.9961,1.0004,0.9991,0.99668,0.9968,0.9988,0.99494,0.9958,0.99718,0.99627,0.9984,0.99692,0.99444,0.99478,0.99294,0.9947,0.9952,0.99672,0.9976,0.9961,0.99656,0.99609,0.9986,0.99613,0.99732,0.99608,0.998,0.99546,0.99636,0.9955,0.99688,0.99379,0.99616,0.9976,0.9978,0.99538,0.9982,0.99642,0.9998,0.9976,0.9963,0.99546,0.998,1.0,0.99688,0.99562,0.9976,0.99631,0.99426,0.9956,0.9962,0.99064,0.9994,0.99588,0.9982,0.9964,0.9971,0.9978,0.99647,0.9974,0.9965,0.99708,0.9955,0.99575,0.9978,0.99689,0.99914,0.99478,0.99619,0.9936,0.9988,0.99975,0.99672,0.99672,0.9962,0.99605,0.9969,0.99578,0.99587,0.99523,0.9963,0.99842,0.9984,0.99358,0.99488,0.998,0.9997,0.9984,0.9964,0.99256,0.99536,0.9959,1.0004,0.9956,0.9976,0.99642,0.99584,0.99714,0.99622,0.9959,0.99736,0.9964,1.001,0.9981,0.9991,1.00242,0.9974,0.99744,0.99516,0.9976,0.9991,0.99692,0.99694,0.99688,0.9994,0.99936,0.99786,0.99824,0.9971,0.99682,0.99576,0.99628,0.99728,0.9991,0.9964,0.99498,0.99538,1.0021,0.9976,0.99572,0.99828,0.9986,0.99444,0.99786,0.9988,0.9994,0.99743,0.9974,0.9988,0.997,0.9976,0.99609,0.9982,0.99444,0.9959,0.9968,0.99538,0.99652,0.99668,0.99784,0.9987,0.99519,0.9979,0.9965,0.99631,0.9963,0.9988,0.99566,0.99242,0.9976,0.99803,0.99488,0.9986,0.99458,0.99459,0.99746,0.99476,0.9976,1.0002,0.99652,0.9978,1.0014,0.9964,0.99182,0.99774,0.99516,0.99498,0.9958,0.99498,0.9963,0.9955,0.99652,0.9981,0.99688,0.99599,0.9976,0.99467,0.99609,0.99745,0.9957,0.99476,0.9976,0.9976,0.99616,0.9956,0.99586,0.9967,0.99408,0.99572,0.99536,0.99672,0.99712,0.9934,0.9968,0.99712,0.998,0.9966,0.9987,0.9982,0.9971,0.9948,0.99472,0.9988,0.997,0.99636,0.99494,0.99459,0.9982,0.9994,0.9986,0.996,0.99855,1.001,0.99356,0.9998,0.99735,0.99676,0.9952,0.9952,0.99622,0.9986,0.99633,0.99692,0.99633,0.99562,0.99419,0.99704,0.9988,0.99585,0.99818,0.9971,0.9968,0.99718,0.9946,0.99708,1.00369,0.99508,1.0004,0.9967,1.0014,0.9958,0.9986,0.99702,0.99564,1.0002,0.9994,1.0021,0.9986,0.99007,0.9976,0.99823,0.9994,0.99702,0.9983,0.9965,0.9969,0.9983,0.9972,0.9976,0.99627,0.9981,0.9997,0.99484,0.9956,0.9982,0.99498,0.9976,0.9987,0.9959,0.9981,0.9985,0.9972,0.9982,0.9968,0.9964,0.9947,0.99736,0.9916,0.99352,0.9963,0.99588,0.99586,0.9978,0.99467,0.9988,0.99552,0.9998,0.99655,0.99516,0.99572,0.9988,0.99456,0.9965,0.99734,0.9994,0.99736,0.99704,0.99572,0.999,0.99732,0.9956,0.99746,0.99745,0.99612,0.99386,0.99612,0.9978,0.99516,0.9964,0.99396,1.0004,0.99939,0.99865,0.99625,0.99668,0.99514,0.995,0.9988,0.9976,0.99531,0.99685,0.99633,0.99316,0.99483,0.99803,0.9974,0.99572,1.0004,0.9996,0.99817,0.99516,0.9984,0.99611,0.9963,0.9956,0.995,0.99316,0.99734,0.99522,0.9976,0.997,0.99629,0.9987,0.99387,0.99516,0.9994,0.9987,0.99498,0.9976,0.99489,0.9994,0.99728,0.997,0.995,0.9994,0.99516,0.9973,0.99734,0.99494,0.99546,0.99546,0.99476,0.9968,0.99632,0.9962,0.9976,0.9964,0.9988,0.99786,0.9992,0.9956,0.9948,0.9973,0.9982,0.99774,0.9987,0.9978,0.9956,0.99546,0.9976,0.9956,0.99448,1.0021,0.9972,0.995,0.99668,0.99562,0.99479,0.99388,0.9958,0.9997,0.99738,0.9982,0.99616,0.99692,0.99448,0.995,0.9979,0.9959,1.0003,0.99708,0.9973,0.99396,0.9974,0.9974,0.9972,0.9964,0.99525,0.9967,0.99655,0.9974,0.99693,1.0001,0.99419,0.99536,0.99572,0.99652,0.99467,0.99695,0.9964,0.9947,0.99518,0.99586,0.99732,0.99668,0.99514,0.99458,0.9982,0.9996,0.99546,0.99585,0.99901,1.0004,0.9986,0.9969,0.99538,0.9981,0.99489,0.99743,0.9959,0.99512,0.99472,1.00289,0.9982,0.9982,0.9976,0.99498,0.99615,0.9994,0.99418,0.9976,0.9994,0.99642,0.9986,0.99557,0.9997,0.9946,0.99396,1.0021,0.99694,0.9974,0.99627,0.99668,0.9979,0.99652,0.9974,0.99491,0.99738,1.00012,0.99746,0.9959,0.99572,0.99655,0.9959,0.99702,0.99316,0.99522,0.9962,0.99458,0.99736,0.99504,0.9948,0.9968,0.9966,0.99761,0.995,0.9956,0.9972,0.9986,0.99744,0.99627,1.00369,0.9996,1.0,0.99628,0.99572,0.99592,0.99258,0.99724,0.99191,0.9972,0.9964,0.99738,0.9976,0.99724,0.9974,0.99444,0.99467,0.99708,0.99468,0.9966,0.9934,0.9973,0.99484,0.99668,0.99603,0.9983,0.9994,0.99744,0.9976,0.9991,0.99549,0.99292,0.99572,0.9966,0.99613,0.9974,0.99708,0.99647,0.9956,0.9948,0.9969,0.99693,0.9982,0.99458,0.9964,0.9947,0.99587,0.9974,0.9982,0.99524,0.99538,0.99855,0.9979,0.9958,0.99408,0.99478,0.9987,0.9963,0.9976,0.9982,0.998,0.9968,0.99736,1.0,0.99572,0.99344,0.9963,0.99612,0.99636,0.9963,0.9956,0.9948,0.9976,0.99494,0.99783,0.9996,0.99622,0.9958,0.9979,0.9986,0.9987,0.99647,0.99628,0.9986,0.99623,0.99568,0.9986,0.9976,0.9957,0.9982,0.99521,0.99408,0.9986,0.9976,0.99516,0.99439,0.9968,0.9994,0.9946,0.9972,0.99494,0.99976,0.9946,0.99568,0.99408,0.99332,0.9994,0.9986,0.9964,0.9988,0.9979,0.99514,0.99494,0.99538,0.99572,0.99728,0.99578,0.99685,0.9969,0.9963,0.99374,0.9976,0.99498,0.9934,0.9958,0.9972,0.9976,0.9994,0.99459,0.9994,0.9961,0.996,0.99728,0.9979,0.99693,0.99622,0.9959,0.998,0.9976,0.9974,0.9984,0.991,0.99684,0.99504,0.99546,0.9959,0.99652,0.99736,1.0004,0.9957,0.99557,0.9967,0.99922,0.99704,0.9986,0.99631,0.99598,0.99623,0.9966,0.99476,0.99852,0.9984,0.999,0.99628,0.9947,0.9963,0.99622,0.99334,0.99656,0.9972,0.99526,0.99745,0.99661,0.99613,0.99734,0.9958,0.9948,0.9948,0.9976,0.9964,1.0014,0.9967,0.99855,0.99387,0.99354,1.0004,0.99704,0.99656,0.99636,0.9978,0.9964,0.99628,0.99716,0.9981,0.99774,0.9986,0.9978,0.99182,0.99538,0.99718,0.99815,1.0,0.9963,0.9976,0.99397,0.9956,0.9948,0.99648,0.99745,0.99584,1.00012,0.9972,0.9996,0.99575,0.99451,0.9982,0.99622,0.9997,1.0002,0.9966,0.99408,0.99565,0.99508,0.99494,1.0008,0.99692,1.0022,0.99517,0.99622,0.99748,0.9955,0.9994,0.9986,0.99385,0.99388,0.99504,0.99734,1.0003,0.9948,0.998,0.99387,0.99538,0.9979,0.99408,0.9969,0.9969,0.99458,1.0022,0.99498,0.99668,0.9934,0.9976,0.99632,0.9968,0.99694,0.9981,0.9994,0.99688,0.9971,0.9962,0.99577,1.0022,0.9973,0.99362,0.99782,0.999,0.99458,0.99613,0.9972,0.99619,0.99528,0.9948,0.99708,0.99258,0.9982,0.9965,0.99566,0.9976,0.99628,0.9952,0.99408,0.9934,0.99578,0.995,0.99636,0.99508,0.99672,0.9974,0.99242,0.99157,0.9968,0.9968,0.9976,0.9982,0.99914,0.99504,0.9958,0.99562,0.99538,0.9958,0.99546,0.99472,0.99782,0.9972,1.001,0.9962,0.9988,0.99603,0.9972,0.99642,0.9988,0.9976,0.9978,0.99528,0.9981,0.99494,0.99716,0.9958,0.9963,0.9976,1.0026,0.99388,0.99538,0.99516,0.9969,0.9966,0.99628,0.999,0.99538,0.99738,0.99613,0.99752,0.9982,0.9964,0.9982,0.99586,0.9958,0.99761,0.99748,0.99522,0.99965,0.99672,0.99622,1.0002,0.99385,0.99438,1.0004,0.99652,0.99444,0.99612,0.99668,0.9956,0.9963,0.9984,0.99388,0.9994,0.9971,0.9972,0.9966,0.99182,0.99565,0.99736,0.99568,0.9994,0.9972,0.99624,0.998,0.9994,0.9976,0.99162,0.9978,0.99914,0.99788,0.99668,0.99252,0.99498,0.9994,0.9988,0.99652,0.99636,0.9994,0.9984,0.99712,0.99492,0.9964,0.99578,0.998,0.99732,1.0021,0.99914,0.99536,0.99621,0.99588,0.99652,0.99622,0.99738,0.9948,1.0014,0.99854,0.99728,0.9955,0.9976,0.996,0.9982,0.999,0.99584,0.9972,0.995,0.99534,0.9962,0.9973,0.99704,0.99815,0.9934,1.0002,0.99416,0.9994,0.99538,0.9977,0.9934,0.99738,0.99736,0.99628,0.9988,0.9961,0.99659,0.9968,0.99628,0.9976,0.9966,0.99618,0.9977,0.9964,0.99656,0.99538,0.99656,0.99494,1.0002,0.9956,0.99459,0.9976,0.9971,0.9959,0.99344,0.99467,0.99462,0.9987,0.9976,0.99476,0.99656,0.9934,0.9973,0.99739,0.9994,0.99855,0.99736,0.9974,0.9964,0.99739,0.99508,0.9987,0.99574,0.9986,0.99734,0.9971,0.9978,0.9958,0.9955,0.9978,0.9973,0.99656,0.99612,0.99258,0.99786,0.99633,0.9976,0.99489,0.9994,0.9997,0.99557,0.99552,0.99588,0.99675,0.9986,0.9994,0.99787,0.9978,0.99668,0.9927,0.9968,0.9988,0.99688,0.9979,0.9974,0.9986,0.9974,0.99492,0.99437,0.99656,0.9962,0.99418,0.99498,0.99593,0.99418,0.99467,0.99604,0.99586,0.99629,0.9984,0.99746,0.99682,0.9972,0.99506,0.9982,0.99444,0.99728,0.99535,0.996,0.99648,0.99558,0.99346,1.0002,0.99467,0.99574,0.99728,0.9948,0.9988,0.99568,1.0002,0.9982,0.9996,0.99576,0.99652,0.9957,0.99464,0.99652,0.9982,0.99692,0.9974,1.0018,0.9996,0.99786,0.99688,0.99622,0.99557,1.00315,0.99785,0.9961,1.0004,0.99581,0.99492,0.99408,0.9956,0.9958,0.9982,0.9964,0.99504,0.99538,0.99855,0.99652,0.9988,0.99538,0.9968,0.99419,0.99616,0.99492,0.99925,0.99728,0.99633,0.99786,1.00289,0.99632,0.99584,0.9994,0.99572,0.99562,0.9994,0.9968,0.99182,0.9996,0.99706,0.9934,0.99294,0.9958,0.9962,0.99418,0.99566,0.9986,0.9994,0.9986,0.99716,0.99672,0.9982,0.9956,0.99683,0.99786,0.9964,0.99538,0.99553,0.9974,0.9974,0.9982,0.99782,0.99914,0.99836,1.00242,0.99702,0.99344,0.99576,0.99534,0.998,0.9994,0.99738,0.99702,0.9961,0.9964,0.9981,0.9994,0.99748,0.99596,0.99714,0.9958,1.0,0.9976,0.9978,0.9981,0.9973,0.99494,0.9976,0.99458,0.99538,0.9986,0.9976,0.99258,0.9978,0.99534,0.9976,0.9979,0.9978,0.9963,0.9948,0.99774,0.9956,0.9994,0.9988,0.9976,0.9984,0.9956,0.99652,0.9982,0.99782,0.9984,0.9976,0.99502,0.99734,0.9991,0.99718,0.9968,0.9987,0.9968,0.9956,0.99516,0.9964,0.99562,0.99768,0.99182,0.9976,0.99518,0.9976,0.9968,0.99572,0.9956,0.99761,0.99632,0.9982,0.9991,0.9952,0.997,0.99717,0.9966,0.9969,0.9982,1.0004,0.9976,0.9976,0.9916,0.9972,0.99648,0.9968,0.99672,0.99418,0.9987,0.9964,0.99914,0.9971,1.0008,0.99587,0.9956,0.9964,0.99728,0.9982,0.9986,0.9976,0.99708,0.99516,0.9955,0.9968,0.99395,0.99616,0.9962,0.9988,0.9963,0.99564,0.9942,0.9966,0.99478,0.99396,1.0004,0.99448,0.99472,0.99714,0.9954,0.9962,0.99822,0.9953,0.99448,0.99702,1.0026,0.9966,0.99746,0.99586,0.99855,0.99476,0.9973,0.99736,0.99728,0.99586,0.99512,0.99746,0.9988,1.0,1.0004,1.0014,0.9964,0.99562,0.9966,0.99162,0.9973,0.99725,0.9994,0.9968,0.9964,0.9966,0.9994,0.9964,0.99514,0.99656,0.9986,0.99655,0.9948,0.9948,0.9987,0.99378,0.9955,0.9994,0.9988,0.9994,0.99685,0.9976,0.99612,0.9976,0.99488,0.99748,0.99855,0.99842,0.99437,0.9976,0.9974,0.9964,0.99613,0.9976,0.99704,0.99552,0.99824,0.9958,0.99502,0.99554,0.99358,0.9972,0.9994,0.99616,0.997616,0.9976,0.9953,0.99479,0.99499,0.9976,0.99498,0.99652,0.9976,0.9922,0.9986,0.9976,0.9978,0.99593,0.99538,0.9934,0.99652,0.99636,0.99736,0.9953,0.9974,0.9982,0.99552,0.99746,0.9974,0.9978,0.9997,0.99642,0.99693,0.99362,0.9974,0.99702,0.99454,0.99387,0.99498,0.9964,0.9976,0.9982,0.99444,0.9976,0.9982,0.9958,0.99459,0.9948,0.9988,0.9979,0.99593,0.9962,0.99499,0.99354,0.9994,0.99667,0.99514,0.99744,0.9976,0.99384,0.99386,0.9969,0.9976,0.99842,0.99252,0.9948,0.9982,0.9964,0.9964,0.9958,0.9964,0.995,0.99836,0.99622,0.99566,0.9979,0.99508,0.9973,0.9958,0.99596,0.99818,0.99498,0.99736,0.99622,0.9968,0.99566,0.99668,0.9984,0.99494,0.9964,1.0004,0.9948,0.9967,0.9967,0.99713,0.99346,0.99745,0.9994,0.99484,0.99456,0.99476,0.9982,0.9964,0.9964,0.9934,0.9972,0.99738,0.9996,0.9976,0.9958,0.99258,0.99489,0.99498,0.99588,0.99648,0.9974,0.9982,0.99557,0.9994,0.9948,0.99694,0.99494,0.99774,0.99489,0.99716,0.99408,0.9964,0.99459,0.997,0.99613,0.99629,0.99396,0.99782,1.0002,0.99628,0.9994,0.99476,0.9996,0.9994,0.9959,0.99258,0.9966,0.9948,0.99532,0.99578,0.9985,0.99734,1.0002,0.9994,0.9946,0.99712,0.9959,1.0004,0.9956,0.9994,0.99498,0.9968,0.99622,0.998,0.99575,0.9981,0.99538,0.99558,0.99396,0.9982,0.99528,0.99538,0.9942,0.99396,0.9966,0.99616,0.99786,0.99498,0.9996,0.99708,0.9968,0.99655,0.99823,0.99675,0.99478,0.9962,0.9947,0.998,0.9979,0.9962,0.9959,0.9971,0.9956,0.9991,0.9964,0.99836,0.9991,0.99547,0.99642,0.99745,0.99672,0.9974,0.9986,0.99694,0.9982,0.99534,0.99623,0.99444,0.9962,0.99743,0.99498,0.99538,0.9965,0.99385,0.99448,0.9973,0.9974,0.99745,0.99622,1.0004,0.9976,0.9994,0.99586,0.99656,0.9976,0.9948,0.99489,0.99471,0.99467,0.9968,0.9966,0.9968,0.9966,0.99652,0.99745,0.99652,0.99603,0.99444,0.99546,0.9988,0.99538,0.9962,0.9987,0.99494,0.9964,0.9994,0.99576,0.9994,0.9968,0.99456,0.99622,0.9973,0.9991,0.99536,0.9968,0.99632,0.9952,0.99603,1.00012,0.9976,0.9952,0.99724,0.996,0.99655,0.9976,0.99534,0.99616,0.9976,0.9977,0.99743,0.9968,1.0003,0.9978,0.9972,0.99788,0.9968,0.99855,0.99808,0.9967,0.9979,0.9969,0.9995,0.9974,0.99748,0.99518,0.9982,0.99499,0.9976,1.0004,0.99534,0.99489,0.9992,0.9984,0.99888,0.9969,0.9973,0.9968,0.99672,0.9972,0.99622,0.9997,0.99566,0.99814,0.99574,0.99604,0.99576,0.9987,0.9934,0.9958,0.99745,0.9986,0.9936,0.9983,0.99656,0.99854,1.0021,0.99765,0.9959,0.99562,0.9976,0.9992,0.99334,0.9974,0.9958,0.99374,0.99761,0.9963,0.99732,0.9971,0.99787,0.9934,0.99498,0.9968,0.9957,0.9974,0.99546,0.99626,0.99628,0.9976,0.9982,0.9978,0.99514,0.9987,0.9962,0.9984,0.99258,1.0001,0.99694,0.99631,0.9955,0.9955,0.9972,0.9985,0.99519,0.99235,0.99352,0.9988,0.99444,0.9972,0.9994,0.99526,0.9973,0.99564,0.99652,0.9968,0.9958,0.99362,0.9972,0.99685,0.99552,0.9966,0.9978,0.99364,1.00315,0.9988,0.99613,0.9996,0.99605,0.99828,0.9987,0.99408,0.9973,0.99647,0.99408,0.99534,0.99538,0.99748,0.9982,0.99668,0.9959,0.9962,0.9974,0.99489,0.998,1.0003,0.99672,0.99577,0.9947,0.9994,0.99344,0.9984,0.9985,0.9973,0.99636,0.99064,0.99586,0.99627,0.99768,0.9979,0.99852,1.0014,0.9956,0.9994,0.99388,0.99745,0.99258,0.9967,0.9952],\"type\":\"histogram\",\"xaxis\":\"x8\",\"yaxis\":\"y8\"},{\"name\":\"pH\",\"x\":[3.33,3.32,3.52,3.2,3.2,3.11,3.34,3.3,3.17,3.51,3.31,3.08,3.04,3.38,3.56,3.21,3.1,3.22,3.22,3.61,3.16,3.12,3.3,3.38,3.31,3.27,3.38,3.17,3.17,3.18,3.37,3.54,3.32,3.26,3.12,3.34,3.4,3.19,3.04,3.1,3.37,3.42,3.33,3.16,3.5,3.12,3.27,3.33,3.63,3.38,3.29,3.44,3.35,3.27,3.26,3.02,3.28,3.37,3.29,3.38,3.3,3.22,3.32,3.19,3.3,3.09,3.47,3.16,3.51,3.34,3.48,3.59,3.17,3.52,3.56,3.23,3.32,3.38,3.51,3.19,3.18,3.21,3.47,3.53,3.31,3.2,3.16,3.13,3.59,3.27,3.32,3.4,3.41,3.32,3.14,3.1,3.14,3.2,3.2,3.56,3.51,3.24,3.46,3.1,3.26,3.17,3.54,3.62,3.3,3.39,3.38,3.3,3.47,3.13,3.45,3.26,3.27,3.38,3.08,3.3,3.34,3.09,3.5,3.37,3.35,3.2,3.36,3.35,3.27,3.15,3.23,3.12,3.22,3.26,3.44,3.33,3.38,3.21,3.19,3.54,3.4,3.38,3.31,3.22,3.26,3.17,3.31,3.41,3.54,3.3,3.51,3.1,3.26,3.47,3.36,3.35,3.25,3.55,3.09,3.26,3.31,3.28,3.22,3.43,3.31,3.37,3.39,3.34,3.04,3.62,3.43,3.42,3.54,3.58,3.35,3.28,3.27,3.21,3.51,3.17,3.19,3.34,3.22,3.31,3.46,3.35,3.22,3.39,3.49,3.14,3.4,3.59,3.12,3.21,3.43,3.2,3.1,3.34,3.26,3.37,3.52,3.41,3.44,3.19,3.37,3.27,3.21,3.07,3.32,3.22,3.68,3.19,3.28,3.24,3.15,3.15,3.36,3.18,3.2,3.35,3.1,3.13,3.39,3.51,3.37,3.32,3.03,3.61,3.31,3.34,3.16,3.22,3.23,3.3,3.37,3.28,3.34,3.52,2.88,3.39,3.32,3.37,3.6,3.38,3.24,3.56,3.38,3.27,3.19,3.56,3.39,3.17,3.53,3.49,3.34,3.36,3.17,3.55,3.22,3.37,3.24,3.04,3.45,3.37,3.08,3.11,3.35,3.28,3.39,3.04,3.29,3.45,3.44,3.52,3.56,3.26,3.16,3.58,3.38,3.48,3.16,3.18,3.22,3.19,3.27,3.48,3.08,3.35,3.3,3.08,3.18,3.08,3.35,3.14,3.31,3.21,3.26,3.04,3.23,3.38,3.17,3.36,3.42,3.15,3.31,3.32,3.38,3.2,3.31,3.4,3.17,3.68,3.37,3.38,3.26,3.52,3.25,3.43,3.35,3.44,3.08,3.3,3.47,3.36,3.46,3.41,3.2,3.34,3.37,3.31,3.4,3.3,3.53,3.37,3.46,3.34,3.35,3.68,3.19,3.78,3.22,3.53,3.4,3.31,3.36,3.42,3.16,3.2,3.28,3.47,3.56,3.21,3.51,3.26,3.36,3.29,3.22,3.44,3.14,3.26,3.24,3.14,3.41,3.4,3.35,3.26,3.26,3.33,3.2,3.78,3.26,3.32,3.43,3.54,3.18,3.26,3.32,3.32,3.29,3.3,3.56,3.19,3.3,3.51,3.37,3.36,3.22,3.6,3.18,3.28,3.34,3.2,3.23,3.17,3.09,3.22,3.16,3.33,3.17,3.31,3.17,3.21,3.52,3.37,3.36,3.34,3.51,3.38,3.21,3.41,3.45,3.24,3.16,3.31,3.26,3.29,3.27,3.14,3.33,3.15,3.37,3.28,3.2,3.53,3.22,3.31,3.15,3.56,3.14,3.1,3.39,3.42,3.35,3.28,3.33,3.47,3.31,3.08,3.44,3.17,3.28,3.17,3.02,3.22,3.38,3.21,3.39,3.16,3.2,3.07,3.53,3.3,3.53,3.31,3.2,3.52,3.32,3.31,3.11,3.02,3.09,3.13,3.16,3.53,3.37,3.16,3.45,3.2,3.35,3.17,3.42,3.3,3.28,3.07,3.31,3.5,3.52,3.5,3.2,3.4,3.32,3.32,2.98,3.05,3.24,3.28,3.15,3.31,3.16,3.18,3.2,3.52,3.08,3.3,3.41,2.98,3.32,3.31,3.38,3.38,3.7,3.45,3.32,3.19,3.72,3.37,3.32,3.22,3.3,3.34,3.28,3.33,3.32,3.47,3.33,3.26,3.28,3.1,3.58,3.42,3.52,3.1,3.07,3.08,3.22,3.3,3.12,3.26,3.25,3.23,3.15,3.45,3.72,3.19,3.34,3.26,3.3,3.48,3.29,3.53,3.34,3.16,3.2,3.31,3.27,3.1,3.26,3.16,3.28,3.4,3.17,3.52,3.32,3.37,3.36,3.25,3.28,3.17,3.44,3.13,3.16,3.52,3.15,3.02,3.09,3.39,3.31,3.36,3.31,3.55,3.36,3.42,3.31,3.1,3.08,3.53,3.57,3.21,3.22,3.2,3.0,3.3,3.55,3.36,3.26,3.23,3.1,3.29,3.25,3.44,3.36,3.44,3.12,3.42,3.07,3.12,3.28,3.14,3.3,3.28,3.05,3.34,3.2,3.33,3.05,3.4,3.18,3.28,3.3,3.26,3.33,3.3,3.24,3.3,3.39,3.37,3.15,3.38,3.32,3.19,3.28,3.26,3.35,3.32,3.41,3.21,3.39,3.27,3.42,3.25,3.65,3.07,3.15,3.12,3.07,3.5,3.37,3.33,3.52,3.37,3.28,3.27,3.49,3.44,3.29,3.53,3.27,3.38,3.34,3.19,3.66,3.4,3.36,3.36,3.41,3.26,3.39,3.3,3.3,3.12,3.38,3.23,3.17,3.38,3.53,3.39,3.58,3.55,3.28,3.31,3.38,3.31,3.4,3.3,3.26,3.09,3.24,3.33,3.51,3.19,3.39,3.38,3.39,3.19,3.36,3.61,3.51,3.38,3.36,3.19,3.32,3.14,3.48,3.36,3.27,3.36,3.78,3.36,3.16,3.3,3.59,3.17,3.36,3.38,3.51,3.51,3.28,3.32,3.78,3.26,3.26,3.21,3.55,3.24,3.43,3.44,3.52,3.1,3.26,3.2,3.34,3.37,3.33,3.55,3.54,3.1,3.58,3.14,3.54,3.29,3.15,3.38,3.16,3.31,3.42,3.29,3.31,3.26,3.19,3.5,3.32,3.37,3.3,3.22,3.21,3.32,3.54,3.07,3.0,3.21,3.35,3.41,3.21,3.38,3.12,3.04,3.14,3.17,3.3,3.35,3.14,3.33,3.26,3.46,3.25,3.25,3.33,3.18,3.2,3.19,3.36,3.46,3.19,3.27,3.31,3.21,3.62,3.15,3.38,3.12,3.11,3.21,3.35,3.26,3.35,3.42,3.38,3.26,3.34,3.38,3.4,3.5,3.17,3.16,3.57,3.27,3.24,3.13,3.3,3.43,3.36,3.35,3.52,3.69,3.42,3.3,3.31,3.6,3.17,3.26,3.59,3.48,3.5,3.17,3.22,3.26,3.12,3.23,3.2,3.27,3.12,3.38,3.31,3.16,3.31,3.31,3.16,3.16,3.49,3.38,3.1,3.52,3.02,3.31,3.25,3.4,3.44,3.22,3.27,3.41,3.3,3.35,3.41,3.4,3.52,3.36,3.61,3.04,3.3,3.2,3.54,3.39,3.47,3.19,3.53,3.32,3.22,3.15,3.17,3.26,3.18,3.2,3.22,3.33,3.54,3.35,3.15,3.3,3.1,3.18,3.32,3.26,3.38,3.07,3.52,3.13,3.34,3.43,3.47,3.39,3.31,3.48,3.1,3.38,3.22,3.29,3.4,3.35,3.19,3.22,3.21,3.07,3.32,3.47,3.3,3.36,3.14,3.44,3.11,3.35,3.48,3.35,3.47,3.3,3.3,3.46,3.38,3.42,3.19,3.41,3.27,3.44,3.08,3.52,3.12,3.51,3.29,3.39,3.34,3.16,3.52,3.35,3.48,3.26,3.31,3.17,3.19,3.58,3.28,3.52,3.17,3.2,3.33,3.16,3.17,3.24,3.08,3.21,3.36,3.23,3.3,3.36,3.17,3.5,3.3,3.39,3.35,3.28,3.2,3.61,3.37,3.42,3.09,2.98,3.34,3.05,3.39,3.03,3.59,3.59,3.44,3.21,3.31,3.24,3.41,3.19,3.19,3.39,3.42,3.36,3.14,3.29,3.28,3.35,3.28,3.31,3.3,3.12,3.41,3.52,3.36,3.2,3.3,3.37,3.38,3.31,3.37,3.53,3.29,3.26,3.26,3.35,3.1,3.33,3.1,3.37,3.21,3.29,3.44,3.35,3.37,3.31,3.37,3.25,3.16,3.04,3.35,3.2,3.15,3.17,3.26,3.38,3.21,3.27,3.31,3.39,3.15,3.29,3.14,3.34,3.28,3.5,3.28,3.23,3.13,3.23,3.14,3.22,3.51,3.27,3.27,3.3,3.34,3.33,3.28,3.2,3.08,3.42,3.56,3.33,3.54,3.16,3.17,3.42,3.53,3.12,3.45,3.36,3.31,3.41,3.6,3.18,3.33,3.44,3.68,3.2,3.4,3.2,3.33,3.24,3.49,3.33,3.34,3.37,3.15,3.02,3.07,3.34,3.28,3.23,3.39,3.22,3.3,2.98,3.19,3.32,3.37,3.27,3.58,3.42,3.16,3.24,3.07,3.21,3.35,3.39,3.41,3.16,3.2,3.38,3.52,3.26,3.29,3.14,3.36,3.22,3.35,3.54,3.25,3.35,3.21,3.16,3.44,3.03,3.16,3.38,3.56,3.12,3.31,3.27,3.52,3.04,3.19,3.26,3.38,3.31,3.36,3.0,3.27,3.35,3.27,3.2,3.44,3.42,3.27,3.43,3.12,3.55,3.15,3.18,3.39,3.2,3.25,3.03,3.1,3.44,3.43,3.38,3.15,3.21,3.37,3.52,3.3,3.26,3.3,3.68,3.21,3.36,3.21,3.15,3.29,3.38,3.38,3.36,3.48,2.94,3.0,3.38,3.32,3.2,3.16,3.21,3.47,3.4,3.26,3.39,3.3,3.44,3.39,3.36,3.28,3.38,3.52,3.36,3.35,3.16,3.16,3.48,3.36,3.32,3.47,3.35,3.26,3.17,3.58,3.26,3.26,3.28,3.14,3.27,3.11,3.33,3.45,3.38,3.28,3.51,3.18,3.26,3.4,3.48,3.67,3.29,3.16,3.34,3.34,3.27,3.19,3.58,3.5,3.17,3.36,3.21,3.25,3.26,3.29,3.39,3.32,3.3,3.52,3.1,3.41,3.32,3.14,3.19,3.28,3.38,3.21,3.27,3.31,3.3,3.54,3.39,3.16,3.03,3.1,3.53,3.25,3.17,3.61,3.39,3.36,3.3,3.31,3.41,3.3,3.15,3.51,3.3,3.39,3.29,3.26,3.37,3.4,3.16,3.18,3.35,3.2,3.16,3.2,3.53,3.2,3.34,3.28,3.36,3.2,3.78,3.51,3.3,3.26,3.2,2.74,3.3,3.02,3.48,3.33,3.36,3.21,3.26,3.33,3.22,3.34,3.51,3.15,3.56,3.17,3.59,3.33,3.2,3.36,3.47,3.44,3.27,3.38,3.3,3.39,3.24,3.14,3.34,3.2,3.32,3.27,3.54,3.23,3.17,3.28,3.25,3.17,3.24,3.37,3.1,3.52,3.19,3.47,3.42,3.43,3.51,3.44,3.59,3.36,3.28,3.15,3.31,3.16,3.35,3.26,3.19,3.51,3.35,3.25,3.3,3.32,3.12,3.36,3.33,3.08,3.3,3.38,3.45,3.26,3.35,3.17,3.57,3.18,3.37,3.48,3.14,3.17,3.28,3.07,3.07,3.05,3.25,3.42,3.34,3.41,3.29,3.39,3.35,3.15,3.3,3.55,3.37,3.31,3.28,3.38,3.23,3.21,3.34,3.33,3.26,3.27,3.27,3.31,3.53,3.3,3.56,3.18,3.19,3.35,3.42,3.31,3.29,3.12,3.26,3.19,3.45,3.24,3.38,3.46,3.61,3.39,3.47,3.1,3.25,3.59,3.2,3.2,3.47,3.22,3.21,3.37,2.92,3.27,3.38,3.26,3.27,3.27,3.28,3.54,3.36,3.17,3.39,3.39,3.26,3.28,3.35,3.15,3.34,3.15,3.43,3.26,3.36,3.31,3.52,3.16,3.26,3.14,3.44,3.42,2.94,3.27,3.17,3.19,3.21,3.59,3.24,3.27,3.51,3.31,3.45,3.41,3.42,3.47,3.31,3.2,3.16,3.27,3.48,3.43,3.35,3.2,3.17,3.48,3.44,3.42,3.03,3.27,3.03,3.2,3.2,3.51,3.16,3.41,3.45,3.33,3.3,3.15,3.1,3.34,3.2,3.57,3.16,3.39,3.03,3.16,3.28,3.33,3.51,2.98,3.44,3.39,3.35,3.37,3.6,3.54,3.39,3.51,3.35,3.37,3.47,3.41,3.35,3.25,3.11,3.14,3.3,3.36,3.35,3.28,3.39,3.21,3.48,3.36,3.2,3.15,3.25,3.19,3.28,3.5,3.21,3.38,3.15,3.08,3.19,3.31,3.23,3.34,3.26,3.3,3.27,3.38,3.52,3.03,3.33,3.27,3.1,3.28,3.32,3.22,3.34,3.18,3.2,3.24,3.33,3.4,3.31,3.48,3.23,3.38,3.3,3.21,3.61,3.15,3.3,3.47,3.22,3.26,3.22,3.55,3.32,3.53,3.16,3.36,3.42,3.04,3.35,3.3,3.4,3.26,3.23,3.17,3.42,3.44,3.36,3.33,3.31,3.08,3.42,3.35,3.08,3.3,3.31,3.56,3.05,3.5,3.22,3.16,3.48,3.33,3.25,3.54,3.48,3.28,3.2,3.32,3.42,3.19,3.24,3.05,3.35,3.28,3.34,3.1,3.52,3.3,3.26,3.16,3.25,3.08,3.46,3.68,3.3,3.47,3.2,3.38,3.05,3.3,3.3,3.52,3.1,3.39,3.32,3.27,3.24,3.38,3.6,3.29,3.27,3.37,3.48,3.3,3.2,3.25,3.35,3.14,3.36,3.12,3.61,3.54,3.12,3.21,3.36,3.12,3.08,3.23,3.53,3.37,3.07,3.41,3.38,3.43,3.27,3.48,3.59,3.42,3.18,3.3,3.24,3.31,3.61,3.71,3.36,3.2,3.31,3.25,3.26,3.38,3.08,3.48,3.16,3.28,3.36,3.36,3.47,3.38,3.21,3.36,3.16,3.28,3.39,3.35,3.07,3.32,3.28,3.15,3.34,3.47,3.09,3.15,3.2,3.38,3.42,3.55,3.06,3.13,3.3,3.22,3.39,3.44,3.29,3.56,3.34,3.07,3.41,3.44,3.47,3.3,3.22,3.28,3.29,3.52,3.22,3.32,3.57,3.2,3.29,3.44,3.56,3.5,3.19,3.17,3.3,3.45,3.19,3.24,3.38,3.52,3.36,3.22,3.5,3.35,3.36,3.45,3.6,3.22,3.53,3.38,3.29,3.28,3.36,3.08,3.26,3.39,3.08,3.39,3.3,3.29,3.34,3.36,3.68,3.14,3.27,3.39,3.16,3.26,3.22,3.38,2.92,3.2,3.52,3.09,3.08,3.52,3.68,3.34,3.18,3.2,3.41,3.17,3.09,3.34,3.47,3.39,3.28,3.29,3.22,3.32,3.17,3.39,3.15,3.38,3.51,3.26,3.42,3.68,3.18,3.18,3.3,3.23,3.3,3.24,3.22,3.42,3.22,3.48,3.3,3.39,3.34,3.37,3.38,3.19,3.35,3.37,3.26,3.69,3.12,3.33,3.11,3.08,3.44,3.38,3.58,3.44,3.17,3.34,3.3,3.45,3.26,3.41,3.59,3.42,3.16,3.39,3.43,3.42,3.36,3.12,3.19,3.21,3.34,3.32,3.29,3.49,3.38,3.49,3.2,3.37,3.26,3.34,3.38,3.52,3.14,3.33,3.38,3.48,3.17,3.16,3.51,3.25,3.19,3.26,3.37,3.09,3.23,3.39,3.22,3.56,3.52,3.34,3.36,3.37,3.39,3.61,3.28,3.1,3.55,3.21,3.25,3.17,3.22,3.28,3.3,3.34,3.36,3.45,3.47,3.42,3.35,3.27,3.52,3.52,3.12,3.4,3.16,3.54,3.32,3.36,3.08,3.54,3.43,3.02,3.39,3.38,3.09,3.28,3.14,3.26,3.3,3.54,3.47,3.39,3.38,3.51,3.38,3.52,3.34,3.07,3.35,3.25,3.3,3.54,3.28,3.14,3.38,3.28,3.29,3.14,3.02,3.09,3.08,3.14,3.05,3.28,3.36,3.38,3.39,3.26,3.26,3.36,3.14,3.17,3.2,3.33,3.02,3.37,3.11,3.2,3.31,3.5,3.08,3.51,3.24,3.45,3.31,3.5,3.61,3.32,3.26,3.49,3.34,3.3,3.46,3.32,3.27,3.5,3.34,3.65,3.34,3.21,3.32,3.19,3.1,3.56,3.3,3.36,3.35,3.1,3.31,3.08,3.36,3.22,3.3,3.68,3.18,3.24,3.33,3.59,3.04,3.37,3.39,3.23,3.22,3.29,3.29,3.2,3.2,3.22,3.21,3.51,3.36,3.22,3.19,3.28,3.61,3.09,3.48,3.26,3.39,3.59,3.22,3.15,3.29,3.78,3.48,3.35,3.34,3.27,3.15,3.31,3.44,3.36,3.1,3.1,3.4,3.48,3.47,3.35,3.43,3.15,3.31,3.31,3.24,3.24,3.31,3.3,3.43,3.27,3.29,3.38,3.42,3.57,3.34,3.38,3.14,3.31,3.46,3.48,3.21,3.38,3.21,3.36,3.31,3.23,3.46,3.17,3.59,3.3,3.56,3.08,3.07,3.27,3.38,3.26,3.16,3.3,3.47,3.3,3.47,3.12,3.2,3.15,3.52,3.14,3.32,3.22,3.56],\"type\":\"histogram\",\"xaxis\":\"x9\",\"yaxis\":\"y9\"},{\"name\":\"sulphates\",\"x\":[0.77,0.67,0.73,0.53,1.36,0.54,0.6,0.43,0.73,0.49,0.53,0.86,0.49,0.48,0.57,0.51,0.44,0.64,0.58,0.89,0.44,0.59,0.54,0.71,0.67,0.77,0.6,0.47,0.92,0.6,0.54,0.74,0.72,0.73,0.64,0.74,0.52,0.68,0.81,0.47,0.93,0.75,0.59,1.06,0.52,0.68,0.76,0.77,0.56,0.72,0.66,0.83,0.82,0.47,0.71,0.48,0.64,0.52,0.55,0.54,0.6,0.52,0.63,0.59,0.55,0.73,0.7,0.62,0.51,0.66,0.45,0.52,0.62,0.53,0.62,0.71,0.61,0.78,0.54,0.57,0.57,0.7,0.59,0.76,0.53,0.91,0.8,0.57,0.58,0.78,0.58,0.52,0.71,0.6,0.59,0.69,0.74,1.13,0.48,0.54,0.73,0.61,0.74,0.55,0.59,0.64,0.47,0.68,0.44,0.72,0.57,1.15,0.55,0.6,0.92,0.58,0.79,0.6,0.69,0.64,0.54,0.57,0.49,0.62,0.47,0.77,0.52,0.63,0.48,0.7,0.6,0.65,1.95,0.73,0.58,0.95,0.8,0.57,0.55,0.61,0.63,0.6,0.55,0.93,0.54,0.47,0.64,0.64,0.58,0.61,0.69,0.87,0.53,0.72,0.63,0.48,0.64,0.4,1.06,0.56,0.39,0.55,0.49,0.73,0.89,0.62,0.54,0.84,0.79,0.57,0.6,0.72,0.58,0.53,0.61,0.64,0.54,0.6,0.65,0.63,0.48,0.64,0.57,0.55,0.68,0.44,0.65,0.59,0.77,0.62,0.83,0.6,0.62,0.47,0.55,0.79,0.67,0.79,0.74,0.56,0.58,1.06,0.56,0.61,0.56,0.79,0.56,0.78,0.58,0.51,0.86,0.69,0.53,0.55,0.61,1.02,0.48,0.58,0.93,0.54,0.54,0.66,0.6,0.71,0.55,0.54,0.63,0.59,0.81,0.67,0.64,0.74,0.51,0.73,0.49,0.71,0.54,0.54,0.79,0.79,0.63,0.52,0.63,0.62,0.87,0.6,0.53,0.85,0.44,0.64,0.6,0.4,0.78,0.51,0.6,0.72,0.71,0.59,0.58,0.52,0.85,0.6,0.57,0.77,0.57,0.62,0.57,0.52,0.67,0.68,0.52,0.53,0.58,0.77,0.58,0.62,0.49,0.63,0.6,0.72,0.72,0.84,0.48,0.72,0.57,0.66,0.53,0.54,0.85,0.51,0.67,0.53,0.5,0.61,0.78,0.62,0.57,0.62,0.53,0.65,0.56,0.49,0.59,0.75,0.54,0.57,0.69,0.52,0.54,0.64,0.55,0.48,0.73,0.56,0.87,0.79,0.52,0.7,0.56,0.64,0.6,0.85,0.63,0.85,0.7,0.55,0.78,0.52,0.55,0.68,0.56,0.48,0.58,0.54,0.63,0.86,0.84,0.66,0.49,0.79,0.52,0.47,0.58,0.75,0.53,0.54,0.6,0.61,0.56,0.67,0.62,0.74,0.71,0.61,0.48,0.59,0.49,0.58,0.54,0.52,0.55,0.56,0.52,0.44,0.6,0.74,0.59,0.78,0.66,0.66,0.58,0.64,0.53,0.66,0.52,0.68,0.55,0.71,0.58,0.62,0.48,0.55,0.57,0.69,0.65,1.1,0.44,0.52,0.57,0.8,0.85,0.77,0.71,0.77,0.66,0.48,0.82,0.48,0.52,0.65,0.63,0.6,0.63,0.64,0.55,0.48,0.71,0.75,0.59,0.62,0.48,0.57,0.51,0.77,0.62,0.93,0.64,0.55,0.65,0.86,0.56,0.62,0.52,0.52,0.48,0.54,0.82,0.56,0.66,0.49,0.68,0.68,0.76,0.55,0.83,0.62,0.66,0.65,0.52,0.45,0.7,0.64,0.62,0.55,0.77,0.78,0.57,0.61,0.48,0.6,0.53,0.55,0.55,0.53,0.59,0.72,0.71,0.73,0.75,1.11,0.66,0.56,0.64,0.6,0.54,0.61,0.48,0.48,0.54,0.56,0.69,0.57,0.61,0.62,0.47,0.76,0.6,0.72,0.62,0.68,0.55,0.56,0.68,0.82,0.66,0.55,0.79,0.76,0.66,0.52,0.66,0.63,0.64,0.48,0.64,0.56,0.52,0.48,0.69,0.59,0.83,0.46,0.78,0.53,0.74,0.52,0.91,0.72,1.18,0.59,0.55,0.83,0.63,0.71,0.82,0.54,0.56,0.83,0.68,0.58,0.71,0.56,0.56,0.69,0.72,0.61,0.49,0.55,0.62,0.5,0.62,0.66,0.52,0.75,0.67,0.62,0.75,0.63,0.73,0.6,0.55,0.67,0.57,0.79,0.58,0.62,0.64,1.95,0.52,0.55,0.84,0.58,0.58,0.73,0.52,0.85,0.66,0.85,0.67,0.56,0.78,0.54,0.68,0.49,1.03,0.6,0.4,0.65,0.54,0.74,0.56,0.71,0.62,0.63,0.62,0.57,0.54,0.61,0.62,0.53,0.73,0.48,0.58,0.53,0.58,0.92,0.58,0.58,0.53,0.5,0.46,0.58,0.75,0.81,0.63,0.65,0.8,0.65,0.47,0.55,0.74,0.74,0.61,0.87,0.68,0.86,0.6,0.58,0.44,1.09,0.46,0.63,0.53,0.52,0.48,0.87,0.63,0.79,0.77,1.17,0.55,0.55,0.6,0.64,0.56,0.75,0.6,0.62,0.65,0.76,0.62,1.06,0.58,0.7,0.53,0.56,0.93,0.63,0.55,0.59,0.6,0.84,0.58,0.92,0.75,0.58,0.68,0.54,0.63,0.49,0.69,0.55,0.58,0.71,0.72,0.8,0.52,0.8,0.57,0.57,0.47,0.73,0.68,0.87,0.55,0.64,0.53,0.63,0.66,0.69,0.63,0.61,0.88,0.86,0.68,0.49,0.77,0.6,0.6,0.82,0.68,0.5,0.86,0.58,0.6,0.82,0.56,0.77,0.6,0.57,0.72,0.59,0.57,0.6,0.69,0.62,0.49,0.47,0.49,0.78,0.62,0.79,0.7,0.86,0.54,0.71,0.54,0.87,0.47,0.64,0.48,0.51,0.44,0.55,0.64,0.56,0.62,1.17,0.54,0.77,0.52,0.72,0.58,0.66,0.96,0.78,0.66,0.56,0.55,0.52,0.51,0.47,0.53,0.56,0.71,0.73,0.67,0.53,0.71,0.51,0.55,0.53,0.58,0.85,0.49,0.82,0.45,0.68,1.18,0.47,0.42,0.65,0.62,0.58,0.48,0.7,0.61,0.75,0.53,0.64,0.45,0.83,0.74,0.59,0.64,0.65,0.71,0.47,0.44,1.02,0.55,0.59,0.83,0.54,0.55,0.57,0.61,0.48,0.47,0.44,0.86,0.82,0.78,0.77,0.54,0.62,0.6,0.78,0.82,0.54,0.53,0.52,0.53,0.76,0.73,0.83,0.53,0.59,0.58,0.57,0.57,0.52,0.71,0.57,0.48,0.68,0.68,0.65,0.57,0.55,0.71,0.55,0.73,0.63,0.55,0.52,0.6,0.83,0.6,0.68,0.7,0.8,0.65,0.68,0.66,0.56,0.64,0.55,0.61,0.49,1.13,0.56,0.62,0.66,0.91,0.58,0.5,0.71,0.59,0.52,0.83,0.77,0.59,0.9,0.75,0.89,0.6,0.57,0.57,0.78,0.63,0.64,0.57,0.64,0.82,0.54,0.6,0.51,0.44,0.49,0.62,0.5,0.55,0.77,0.58,0.82,0.81,0.82,0.44,0.57,0.54,0.66,0.73,0.58,0.57,0.59,0.82,0.6,0.82,0.68,0.49,0.53,0.85,0.48,0.77,0.66,0.85,0.55,0.6,0.55,0.64,0.62,0.72,0.53,0.79,0.6,0.5,0.87,0.72,0.72,0.58,0.83,0.81,0.7,0.9,0.59,0.59,0.59,0.64,0.62,0.71,0.55,0.58,0.4,0.48,0.52,0.46,0.54,0.52,0.77,0.72,0.63,0.5,0.64,0.65,0.63,0.59,0.5,0.62,0.6,0.54,0.73,0.72,0.53,0.44,0.57,0.57,0.49,0.56,0.64,0.68,0.53,0.85,0.39,0.57,0.6,0.55,0.6,0.77,0.54,0.56,0.58,0.67,0.68,0.46,0.57,0.6,0.67,0.59,0.67,0.62,0.69,0.63,0.82,0.65,0.62,0.52,0.68,0.92,0.85,0.5,0.69,0.6,0.62,0.56,0.58,0.77,0.54,0.6,0.84,0.75,0.66,0.49,0.77,0.59,0.87,0.68,0.57,0.55,0.66,0.46,0.59,0.54,0.53,0.49,0.76,0.9,0.75,0.56,0.62,0.65,0.54,0.77,0.61,0.61,0.57,0.61,0.57,0.49,0.71,0.55,0.53,0.54,0.64,0.93,0.64,0.72,0.57,0.52,0.85,0.72,0.53,0.56,0.7,0.44,0.5,0.77,0.6,0.59,0.54,0.56,0.42,0.54,0.8,0.6,0.43,0.53,0.52,0.52,0.62,0.86,0.79,0.73,0.55,0.64,0.49,0.52,0.46,0.71,0.7,1.17,0.63,0.53,0.4,0.63,0.64,0.69,0.64,0.62,0.66,0.62,0.76,0.6,0.53,0.57,0.81,0.54,0.77,0.78,0.73,0.82,0.5,0.93,0.64,0.49,0.83,0.62,0.83,0.63,0.72,0.62,0.62,0.53,0.74,0.58,0.77,0.39,0.77,0.73,0.62,0.88,0.76,0.54,0.61,0.58,0.62,0.82,0.89,0.48,0.88,0.62,0.56,0.6,0.57,0.48,0.46,0.56,0.49,0.55,0.56,0.49,0.66,0.61,0.71,0.5,0.6,0.69,0.74,0.57,0.59,0.55,1.17,0.71,0.71,0.54,0.6,0.57,0.77,0.52,0.68,0.52,1.12,0.53,0.57,0.49,0.59,0.77,0.77,0.47,0.57,0.75,0.5,0.87,1.13,0.73,0.53,0.68,0.52,0.54,0.47,0.71,0.51,0.54,0.85,0.48,0.6,1.17,0.81,0.66,0.43,0.62,0.66,0.6,0.54,1.13,0.67,0.66,0.54,0.52,0.44,0.87,0.8,0.73,0.83,0.64,0.49,0.49,0.69,0.44,0.56,0.57,0.61,0.49,0.69,0.66,0.87,0.53,0.61,0.86,0.59,0.82,0.47,0.54,0.48,0.53,0.57,0.93,0.6,0.59,0.72,0.69,0.48,0.68,0.48,0.85,0.62,0.5,0.56,1.26,0.53,0.77,0.57,0.72,0.59,0.67,0.62,0.81,0.53,0.69,0.7,0.62,0.74,0.57,0.62,0.54,0.39,0.52,0.87,0.62,0.65,0.76,0.63,0.61,0.56,0.68,0.58,0.68,0.61,0.52,0.56,0.54,0.61,0.93,0.79,0.61,0.85,0.56,0.62,0.59,0.67,0.57,0.64,0.64,0.69,0.57,0.64,0.6,0.62,0.53,0.53,0.74,0.72,0.67,0.54,0.77,0.6,0.53,0.65,0.49,0.56,0.51,1.06,0.59,0.85,0.52,0.5,0.6,0.71,0.52,0.57,0.44,0.76,0.53,0.49,0.63,0.57,0.83,0.7,0.82,0.54,0.68,0.5,0.82,0.53,0.64,0.54,0.57,0.52,0.59,0.77,0.68,0.62,0.52,0.58,0.76,0.5,0.85,0.77,0.56,0.61,0.71,0.68,0.82,0.57,0.62,0.52,0.89,0.61,0.62,0.65,0.42,0.72,0.52,0.61,0.59,0.81,0.62,0.64,0.59,0.57,0.52,0.49,0.62,0.87,0.62,0.53,0.65,0.59,0.52,0.81,0.65,0.52,0.61,0.55,0.54,0.62,0.44,0.66,0.56,0.63,0.77,0.53,0.89,0.54,0.87,0.65,0.62,0.86,0.49,0.77,0.54,0.62,0.63,0.56,0.6,0.72,0.51,0.59,0.77,0.54,0.62,0.62,1.12,0.58,0.54,0.56,0.69,0.48,0.67,0.67,0.68,0.54,0.48,0.68,0.5,1.1,0.91,0.58,0.87,0.67,0.48,0.73,0.65,0.87,0.62,0.77,0.67,0.72,0.46,0.51,0.69,0.62,0.52,0.52,0.63,0.77,0.81,0.72,0.86,0.56,0.53,0.59,0.93,0.85,0.77,0.52,0.81,0.81,0.69,0.65,0.69,0.58,0.56,0.6,0.82,0.55,0.85,0.59,0.54,0.74,0.69,0.47,0.68,0.49,0.53,0.64,0.55,0.74,0.63,0.73,0.39,0.82,0.58,0.54,0.93,0.53,0.71,0.53,0.58,0.62,0.6,0.62,0.5,0.57,0.53,0.82,0.57,0.76,0.63,0.57,0.52,0.62,0.57,0.54,0.55,0.85,0.72,0.64,0.56,0.6,0.74,0.54,0.77,0.78,0.57,0.49,0.67,0.53,0.49,0.43,0.85,0.77,0.64,0.54,0.88,0.64,0.93,0.68,0.54,0.63,1.06,0.85,0.57,0.75,0.59,0.65,0.6,0.61,0.64,0.55,0.57,0.65,0.55,0.56,0.73,0.76,0.49,0.57,0.43,0.57,0.68,0.52,0.49,0.48,0.62,0.48,0.79,0.85,0.78,0.7,0.73,0.82,0.49,0.73,0.55,0.54,0.8,0.65,0.55,0.45,0.49,0.54,0.66,0.54,0.62,0.55,0.44,0.57,0.57,0.58,1.08,0.71,0.49,0.49,0.56,0.72,0.82,0.57,0.47,0.62,0.87,0.49,0.65,0.47,0.48,0.52,0.57,0.61,0.54,0.67,0.85,0.57,0.64,0.44,0.7,0.45,0.6,0.55,0.53,0.82,1.06,0.52,0.73,0.72,0.45,0.59,0.59,0.75,0.42,0.56,0.6,0.67,0.68,0.66,0.62,0.64,0.57,0.55,0.85,0.65,1.13,0.87,0.49,0.93,0.55,0.82,0.69,0.59,0.82,0.67,0.82,0.57,0.49,0.57,0.62,0.76,0.86,0.62,0.71,0.59,0.62,0.65,0.57,0.56,0.52,0.63,0.7,0.77,0.66,0.58,0.52,0.57,0.93,0.84,0.58,0.77,0.6,0.53,0.74,0.44,0.49,0.44,0.51,0.57,0.58,0.53,0.52,0.66,0.72,0.74,0.75,0.67,0.6,0.56,0.85,0.81,0.6,0.51,1.03,0.44,0.71,0.49,0.72,0.59,0.48,0.74,0.81,0.57,0.6,0.86,0.52,0.44,0.84,0.73,0.46,0.64,0.72,0.55,0.52,0.54,0.83,0.67,0.62,0.74,0.67,0.62,0.65,0.66,0.59,0.69,0.55,0.81,0.64,0.58,0.54,0.66,0.57,0.74,0.6,0.67,0.52,0.87,0.63,0.66,0.85,0.58,0.87,0.73,0.85,0.7,0.55,0.68,0.87,1.06,0.52,0.56,0.6,0.49,0.48,0.44,0.49,0.82,0.54,0.79,0.56,0.72,0.6,0.54,0.62,0.71,0.57,0.52,0.56,0.48,0.68,0.57,0.71,0.85,0.66,0.48,0.61,0.93,0.71,0.76,0.57,0.55,0.67,0.84,0.71,0.73,0.61,0.5,0.59,0.72,0.82,0.52,0.49,0.82,0.72,0.63,0.82,0.68,0.56,0.69,0.47,0.77,0.54,0.7,0.67,0.6,0.87,0.54,0.39,0.7,0.52,0.75,0.61,0.67,0.64,0.65,0.59,0.68,0.48,0.53,0.62,0.55,0.64,0.49,0.73,0.58,0.6,0.67,0.59,0.7,0.62,0.6,0.9,0.6,0.66,0.82,0.47,0.67,0.9,0.61,0.56,0.68,0.64,0.75,0.57,0.57,0.58,0.83,0.6,0.85,0.54,0.87,0.52,0.56,0.56,0.54,0.56,0.71,0.48,0.59,0.56,0.66,0.73,0.51,0.57,0.52,0.52,0.58,0.66,0.65,0.67,0.54,0.54,0.8,0.49,0.77,0.64,0.52,0.89,0.56,0.62,0.64,0.85,0.8,0.77,0.54,0.61,0.49,0.61,0.57,0.54,0.44,0.54,0.57,0.62,0.7,0.8,0.64,0.63,0.62,0.7,0.73,0.52,0.55,0.54,0.61,0.82,0.7,0.48,0.53,0.52,0.65,0.72,0.57,0.6,0.68,0.57,0.71,0.61,0.59,0.48,0.63,0.77,0.61,0.54,0.6,0.57,0.7,0.65,0.74,0.65,0.62,0.66,0.83,0.72,0.52,0.51,0.52,0.71,0.85,0.83,0.49,0.97,0.53,0.86,0.92,0.82,0.59,0.66,0.85,0.53,0.56,0.9,0.69,0.66,0.52,0.53,0.66,0.57,0.52,0.62,0.68,0.61,0.6,0.57,0.56,0.71,0.6,0.72,0.79,0.67,0.53,0.64,0.72,0.59,0.62,0.54,0.53,0.59,0.77,0.52,0.71,0.59,0.58,0.74,0.6,0.88,0.63,1.04,0.58,0.72,0.54,0.54,0.68,1.02,0.77,0.62,0.7,0.56,0.68,0.92,0.54,0.7,0.54,0.57,0.97,0.54,0.44,0.72,0.79,0.58,0.62,0.56,1.08,0.84,0.5,0.52,0.67,0.49,1.18,0.48,0.77,0.77,0.7,0.53,0.59,0.7,0.59,0.93,0.59,0.68,0.77,0.53,0.82,0.48,0.63,0.82,0.68,0.73,0.6,0.54,0.59,0.48,0.59,0.77,0.48,0.46,0.59,0.73,0.58,0.56,0.62,0.52,0.64,0.66,0.61,0.56,0.75,0.6,0.58,0.77,0.67,0.58,0.54,0.72,0.62,0.57,0.56,0.52,0.59,0.52,0.57,0.66,0.59,0.46,0.62,0.62,0.53,0.8,0.74,0.46,0.6,0.53,0.61,0.81,0.82,0.51,0.62,0.72,0.49,0.62,0.65,0.49,0.63,0.64,0.87,0.59,0.87,0.58,0.77,0.42,0.88],\"type\":\"histogram\",\"xaxis\":\"x10\",\"yaxis\":\"y10\"},{\"name\":\"alcohol\",\"x\":[12.1,12.8,11.3,9.8,9.5,9.6,11.3,9.7,9.8,9.5,9.4,10.8,10.0,9.3,11.0,9.4,12.0,9.8,10.0,13.1,9.1,9.6,9.5,11.0,9.7,11.2,11.8,11.0,9.5,9.4,10.0,9.7,11.0,11.8,9.2,9.6,10.3,9.2,10.7,10.7,10.1,11.6,9.5,9.5,11.8,9.6,10.1,10.8,10.1,10.2,11.8,12.5,10.3,9.8,10.6,9.7,9.2,9.9,9.5,11.2,9.8,10.5,10.5,9.8,9.5,10.8,9.5,9.4,9.5,10.1,9.6,10.5,9.5,10.0,10.5,9.5,12.0,12.0,9.4,9.5,10.7,9.0,9.5,12.0,9.5,10.1,11.3,11.0,10.9,9.6,9.3,9.4,12.3,10.5,9.5,9.0,10.1,10.5,9.5,9.8,10.7,9.8,9.2,9.4,11.1,9.3,11.0,9.5,10.5,10.9,9.8,9.0,9.9,10.9,10.5,11.6,12.3,10.7,10.4,9.3,10.9,9.4,9.5,10.8,11.0,11.0,10.9,10.8,9.0,10.2,10.0,11.0,10.5,10.8,9.7,11.1,9.5,9.8,9.5,9.9,12.0,9.0,9.8,10.5,9.4,9.7,11.2,11.5,10.6,9.0,10.8,12.2,11.0,9.7,10.2,9.7,10.4,9.5,9.0,10.0,11.5,9.9,9.4,10.4,10.0,9.7,10.5,10.2,10.1,11.4,9.0,10.0,10.0,9.7,9.5,9.7,9.5,12.4,10.0,10.5,9.5,10.8,9.2,9.5,10.2,9.9,10.0333333333333,10.1,12.4,12.1,12.3,9.8,9.2,9.2,10.4,13.6,10.4,11.1,12.0,9.7,9.7,10.7,11.5,9.3,9.5,11.4,10.1,12.7,9.8,11.0,11.0,10.6,10.4,9.5,9.2,11.0,12.4,10.0,10.9,10.0,9.2,9.8,12.3,10.8,9.7,9.4,9.6,10.9,11.7,9.3,9.2,11.4,9.3,10.4,8.7,11.8,10.1,9.7,12.9,11.2,11.2,9.5,10.0,9.0,10.7,10.8,11.2,9.5,9.5,12.5,11.3,11.4,11.8,9.4,10.7,9.5,11.4,11.9,9.6,10.0,11.8,9.3,12.7,12.4,10.6,9.2,9.9,9.0,11.7,11.4,10.9,9.5,10.0,9.8,9.3,10.6,9.6,9.7,10.8,11.0,12.0,9.3,9.2,9.7,11.8,9.6,10.5,9.9,12.1,10.0,9.3,9.5,9.5,9.5,12.1,11.0,11.2,10.9,9.8,9.5,9.5,9.4,10.5,12.9,10.5,9.0,10.8,11.0,10.0,10.1,9.5,9.3,9.6,10.9,11.2,9.3,9.4,11.6,12.0,10.5,9.8,12.1,10.0,12.8,11.9,9.4,10.8,12.3,9.4,12.2,9.8,9.5,9.8,9.4,10.9,9.9,11.7,12.8,10.1,12.3,9.3,10.5,9.4,9.5,9.7,11.8,9.7,9.4,9.8,9.8,11.8,9.6,10.5,9.4,11.8,9.7,10.3,10.5,9.5,9.4,9.4,10.5,9.3,10.6,10.8,9.3,10.1,10.6,13.1,12.1,9.7,12.5,11.0,9.4,9.7,9.7,9.4,9.3,9.3,11.0,11.3,9.5,10.1,12.5,10.1,10.2,11.0,10.0,9.4,11.0,12.6,10.3,11.1,12.4,9.7,9.5,13.4,9.9,9.8,9.0,11.0,9.8,10.6,10.5,10.3,10.4,11.4,10.0,9.3,9.0,9.5,9.5,11.4,10.5,9.4,11.7,10.0333333333333,11.8,10.0,9.4,10.1,10.5,9.7,10.3,11.5,9.6,10.4,10.5,10.9,9.6,11.9,9.6,10.0,9.2,12.7,9.7,9.7,9.8,12.8,11.0,9.0,12.6,10.8,9.2,11.9,12.3,9.8,9.0,10.8,10.0,11.6,10.9,9.9,9.8,9.8,9.7,11.9,9.8,9.5,9.6,9.5,10.0,12.8,11.3,9.5,10.5,9.5,9.3,9.5,10.9,12.2,9.4,10.2,9.2,10.9,11.0,10.5,9.8,9.3,9.7,10.1,10.8,12.0,10.3,11.2,9.5,11.0,12.4,10.8,9.6,10.8,9.3,9.4,9.6,9.9,9.4,9.4,9.6,12.5,10.9,10.1,9.8,10.8,10.1,9.6,9.3,11.6,9.2,10.2,9.5,9.7,9.9,10.8,11.5,12.0,9.0,10.8,10.8,11.4,11.5,10.5,11.0,9.4,10.8,11.1,9.4,9.4,9.2,12.5,9.4,11.8,9.5,12.9,11.8,10.0,10.1,11.4,9.5,10.5,10.9,9.4,12.8,11.0,9.6,9.7,9.8,9.4,11.0,9.9,10.2,10.5,10.7,12.8,9.3,11.2,11.0,11.0,12.0,9.4,9.8,10.1,9.4,9.3,10.1,12.3,12.3,9.5,11.7,9.8,9.8,11.4,11.7,9.5,10.8,10.6,9.8,10.7,9.2,12.8,9.4,9.2,9.5,10.8,11.0,11.6,9.8,9.8,10.5,9.3,10.0,11.5,9.9,9.9,9.9,10.9,9.9,10.5,9.7,9.3,11.2,9.4,10.5,12.1,9.5,11.3,10.4,9.5,11.0,10.1,9.6,11.5,12.7,10.2,12.0,9.5,10.3,11.3,11.4,10.5,9.6,9.5,9.3,9.5,9.2,10.8,9.5,9.3,12.3,11.0,9.8,11.4,9.4,11.1,9.3,9.5,9.8,9.5,10.7,9.4,11.4,9.8,12.0,11.6,12.4,11.6,10.8,10.0,10.5,11.5,9.4,11.6,9.5,9.7,11.3,10.5,9.9,11.8,12.2,9.7,9.6,9.7,11.4,10.2,11.7,9.6,10.0,9.9,9.6,10.8,12.8,9.7,10.0,11.8,10.4,11.7,10.3,12.0,9.3,10.95,9.8,10.7,10.0,13.3,9.4,10.6,10.0,9.8,12.0,12.5,9.5,9.4,11.8,9.4,11.0,9.5,11.3,9.4,11.3,9.4,11.0,11.0,12.4,11.7,10.9,10.8,10.8,10.6,10.0,10.2,9.6,9.4,9.7,11.7,10.5,11.0,9.6,14.0,9.5,9.2,10.8,11.0,10.8,10.1,9.5,11.1,11.0,11.2,9.4,11.4,9.6,9.8,10.8,9.4,10.9,9.5,12.7,11.8,9.1,11.9,9.7,9.4,9.3,10.3,11.5,9.2,11.7,9.8,10.5,9.4,10.9,9.3,11.5,11.0,11.3,9.5,9.0,9.5,11.1,9.9,10.1,10.3,11.5,11.0,9.2,9.2,9.6,10.5,10.1,9.1,10.9,9.6,9.4,11.2,9.6,9.5,9.8,10.9,11.0,10.5,11.4,11.2,10.5,12.8,9.8,9.6,11.5,11.0,10.9,14.0,9.5,10.3,10.9,9.3,11.0,10.5,11.4,9.4,9.5,9.3,9.4,9.6,9.4,11.2,10.9,9.5,11.9,11.3,9.6,9.5,9.2,12.1,9.5,12.5,10.2,12.8,9.4,9.5,11.7,9.5,9.8,10.1,10.6,11.2,11.0,12.5,9.8,9.7,9.5,10.0,10.5,9.4,10.8,10.0,9.9,9.8,9.8,11.3,9.4,9.5,10.4,12.9,13.6,9.8,10.8,11.6,11.8,11.8,9.5,9.7,10.2,11.0,10.1,9.9,10.2,9.2,10.1,10.8,9.1,9.5,12.0,11.8,12.4,12.2,10.8,12.5,10.2,11.5,12.1,9.3,9.7,9.6,12.8,10.7,9.8,10.6,9.2,10.0,9.4,10.0,10.0,9.5,9.5,10.5,9.2,10.8,10.2,11.8,12.5,11.5,9.4,9.3,9.2,9.5,10.9,12.0,11.0,9.4,10.0,10.0,11.8,9.7,10.6,9.3,10.0,9.4,10.1,11.0,9.2,10.1,9.0,12.6,11.0,9.5,10.7,9.4,9.9,9.3,9.4,9.0,11.0,10.9,12.0,9.7,9.4,11.1,9.6,9.9,11.9,9.8,11.0,9.2,11.5,11.8,9.3,9.4,9.6,9.5,9.8,10.2,11.4,11.9,11.0,11.0,9.7,9.2,10.2,10.5,11.1,9.8,9.3,10.5,11.0,9.5,9.6,10.7,9.5,10.9,10.6,9.4,10.2,11.9,11.0,10.0,10.5,11.7,9.3,9.8,11.2,10.6,11.0,9.5,11.0,9.7,9.5,9.6,10.8,12.5,9.2,12.1,12.6,9.8,11.2,9.4,10.5,12.0,12.4,10.9,9.9,9.8,9.6,9.6,9.3,9.5,9.4,9.6,11.4,9.5,12.7,9.8,11.5,13.6,11.0,10.3,9.8,9.8,12.0,10.5,10.5,9.6,10.0,9.2,10.9,10.1,9.8,9.4,10.5,11.0,9.2,10.9,10.7,9.7,9.8,9.9,11.9,10.6,9.0,12.7,10.5,9.5,9.8,10.5,10.2,9.4,12.1,9.3,9.5,9.5,9.5,9.5,12.0,12.1,11.0,10.3,9.2,9.6,11.7,9.5,9.5,9.5,10.3,9.7,10.0,10.5,10.1,10.4,12.4,12.0,9.4,9.5,9.9,11.3,11.2,12.8,10.9,12.3,13.6,9.8,10.0,10.9,10.9,11.2,9.4,10.0,10.2,9.5,9.5,12.0,10.0,11.8,11.2,9.5,10.0,12.0,11.4,9.2,12.5,10.3,13.3,11.3,11.1,12.8,11.7,11.7,10.0,12.5,9.4,11.9,11.1,9.5,12.6,11.2,10.5,10.3,9.4,9.5,9.5,11.4,9.4,9.5,9.3,9.7,9.4,13.4,9.8,9.1,9.4,10.55,10.0,9.5,12.1,9.5,9.4,11.5,10.0,9.1,10.5,10.8,12.9,9.5,12.8,10.0,9.4,9.3,9.4,11.2,11.7,12.7,12.2,9.5,11.066666666666698,10.7,9.4,10.4,9.1,12.6,9.8,10.0,9.8,9.6,11.9,11.7,11.8,10.5,11.1,10.4,9.2,10.1,12.5,9.6,9.0,11.8,11.0,9.4,9.8,9.3,9.4,10.6,9.4,9.4,11.8,9.5,10.9,10.1,9.4,10.1,9.8,9.3,13.2,10.0,11.7,9.4,9.8,9.9,9.6,11.2,11.9,9.8,9.4,9.7,9.8,9.5,10.0,11.0,10.0,9.8,9.1,11.0,11.3,10.7,10.9,10.1,11.7,11.0,9.7,12.9,10.0,9.5,9.4,9.2,9.7,12.5,9.9,9.2,9.3,9.5,11.8,11.0,9.5,10.4,9.1,9.0,11.0,10.7,10.0,9.4,11.9,9.2,11.4,9.6,9.8,12.5,10.3,9.4,9.4,11.5,10.7,10.4,10.3,11.6,10.0,9.8,12.0,9.5,9.6,12.0,11.8,11.9,9.2,11.4,9.4,9.8,11.0,10.2,11.0,9.5,9.0,10.0,9.5,9.6,9.5,10.3,11.3,11.066666666666698,12.4,12.2,9.7,9.7,9.1,9.5,12.3,9.2,11.3,9.7,11.2,9.7,9.2,9.4,12.6,9.8,9.3,10.7,10.2,9.8,10.6,11.4,10.4,10.9,10.3,10.4,9.8,10.2,9.4,11.0,9.5,10.9,9.6,10.9,9.6,10.5,12.0,12.9,11.8,9.2,9.4,11.5,9.7,12.0,10.1,9.9,9.9,10.5,9.5,10.7,10.6,10.9,11.4,10.5,10.5,10.4,9.6,9.8,10.0,9.6,10.3,9.4,11.0,9.8,10.3,12.4,12.0,10.4,9.3,10.3,10.4,9.2,10.1,9.2,9.8,9.9,10.8,10.6,10.9,9.3,9.9,12.3,9.2,9.4,10.5,9.4,10.2,10.8,9.1,12.5,11.5,10.4,11.5,11.2,10.0,9.8,12.8,11.4,10.6,10.3,11.2,9.6,10.8,9.5,9.5,10.3,9.8,12.6,9.1,10.0,10.7,10.3,9.2,11.5,9.5,12.0,11.7,10.0,11.0,9.4,9.8,9.2,9.4,10.5,11.2,9.5,9.2,10.0,10.1,10.4,10.2,9.8,12.0,11.2,9.4,9.2,9.9,9.4,12.0,9.7,9.5,11.5,10.4,12.8,12.4,12.0,10.7,9.5,10.9,11.9,12.5,10.2,12.9,11.066666666666698,12.5,11.8,10.1,9.2,11.6,12.0,9.5,11.7,9.6,11.3,9.5,9.4,9.7,11.3,10.9,10.2,9.8,12.2,10.3,10.6,12.4,12.1,10.5,10.5,12.0,9.4,9.3,11.5,9.6,10.5,11.4,9.4,10.3,10.1,10.5,9.1,10.0,9.5,9.9,10.1,9.8,9.4,9.8,9.7,11.2,10.5,11.8,9.6,11.4,9.7,11.1,9.2,11.3,11.0,9.6,10.9,10.5,9.4,11.1,10.0,10.1,9.5,9.6,11.5,11.9,10.0,10.0,12.4,10.1,11.4,10.4,9.4,10.6,9.2,11.7,10.8,11.8,9.9,10.5,10.6,10.7,11.7,9.5,9.1,10.1,9.5,9.2,9.5,11.0,10.7,9.9,9.2,11.8,10.6,9.5,9.5,9.6,9.4,9.8,10.9,11.2,9.4,12.0,9.5,12.8,9.8,11.7,9.7,10.0,11.0,11.0,9.7,9.4,9.8,9.4,12.4,9.2,11.0,9.4,10.3,9.9,9.5,11.5,9.3,12.6,9.0,9.5,9.8,11.2,11.4,10.1,9.7,9.5,12.8,9.5,10.1,10.9,10.0,9.8,10.2,10.9,9.8,9.4,11.7,9.5,9.4,10.4,11.4,9.5,9.6,9.2,10.0,10.3,9.1,10.0,11.2,10.9,10.0,9.2,10.6,11.3,9.4,9.1,11.0,10.4,11.4,10.0,9.2,10.9,9.3,9.5,12.7,10.0,9.3,10.0,10.5,10.1,9.6,11.7,9.5,9.7,10.9,9.2,13.2,10.4,11.3,9.2,12.0,12.4,10.7,9.2,9.5,11.0,10.5,11.5,11.8,10.8,9.7,10.9,11.4,9.3,11.4,9.5,9.8,9.0,12.1,9.8,10.6,11.2,10.8,12.3,10.3,9.4,9.4,11.2,9.6,9.1,9.9,9.7,11.1,10.0333333333333,9.5,10.0,11.0,11.0,11.4,12.9,9.6,10.2,9.5,11.5,9.3,9.8,10.5,10.1,9.4,9.8,9.5,9.7,12.0,10.5,9.4,11.8,9.2,10.0,11.0,9.7,9.7,9.4,10.5,9.4,9.5,9.2,11.4,11.7,10.0,9.6,9.5,9.4,10.3,10.9,10.1,11.7,11.4,12.0,11.6,9.2,9.3,11.7,9.6,9.5,10.8,9.5,13.566666666666698,10.4,9.3,10.5,12.0,9.7,12.0,9.2,11.3,12.1,9.7,10.1,12.5,11.2,9.2,9.7,9.9,12.5,10.9,9.5,9.5,10.0,10.8,9.5,11.4,10.5,10.7,10.5,9.4,10.3,10.8,10.1,9.2,9.5,12.2,9.7,10.7,11.4,10.0,9.7,9.0,10.0,10.9,10.5,11.5,9.1,9.2,12.5,11.9,9.5,11.4,11.7,12.6,10.0333333333333,10.9,9.5,10.2,12.4,11.8,9.5,9.4,10.2,9.5,12.3,10.5,12.1,9.4,11.9,10.4,9.2,10.0,9.8,10.6,9.5,9.5,11.2,11.7,11.4,12.5,9.4,11.3,10.0,9.9,9.6,9.5,9.5,10.0333333333333,10.9,9.6,9.4,9.7,10.5,10.1,12.6,9.2,10.4,10.0,10.9,9.4,12.0,9.6,11.2,12.0,10.5,9.8,10.8,10.3,10.5,11.2,9.4,11.3,10.3,10.1,12.0,12.7,9.8,11.3,9.3,12.4,10.2,12.9,11.4,9.4,9.8,9.5,12.9,10.5,9.3,9.5,10.7,9.5,9.9,11.4,10.6,11.4,9.4,9.4,12.1,9.6,10.5,10.3,9.4,9.8,9.7,9.4,10.5,11.0,11.4,11.2,9.3,9.4,9.2,10.5,11.5,9.7,12.0,9.4,10.7,11.2,10.2,10.9,12.6,10.3,9.1,9.5,10.0,9.7,9.5,9.2,9.2,12.8,9.5,10.0,9.5,10.3,12.5,10.4,10.5,9.5,10.9,9.8,10.1,9.5,9.3,11.5,11.2,11.0,9.4,10.6,9.2,10.4,11.0,10.3,11.8,11.4,10.7,14.0,12.9,11.0,9.4,9.4,11.4,9.4,11.6,9.7,9.5,9.7,10.9,13.6,10.3,10.0,10.8,9.2,12.3,9.8,9.2,9.4,9.8,10.7,9.8,9.7,9.4,9.5,10.1,9.6,10.5,9.2,9.0,9.7,9.6,9.2,9.8,11.0,10.7,11.1,9.5,9.5,12.5,11.6,9.5,9.3,10.0,9.7,12.8,9.5,10.0,10.3,9.8,9.4,10.0,12.1,10.9,9.5,11.4,12.0,12.9,10.3,10.2,10.0,12.8,10.1,9.8,9.6,11.3,10.9,10.8,10.3,9.2,10.9,12.5,9.2,10.7,11.0,11.0,10.9,9.5,9.4,9.7,11.9,9.7,9.5,11.4,9.5,10.3,10.5,10.4,11.8,9.9,9.5,10.4,10.4,9.4,10.0,9.4,10.4,9.7,9.3,10.2,10.6,9.5,9.4,11.7,12.4,11.8,10.8,11.5,9.7,9.7,10.5,9.5,10.6,11.7,9.5,10.8,11.3,9.6,10.0,10.0,9.6,9.0,12.3,10.0,9.2,9.1,9.6,11.2,9.7,9.8,11.2,9.4,10.5,11.0,11.0,10.9,10.0,9.5,9.4,9.7,9.5,9.2,10.0,9.4,11.5,11.8,10.0,11.2,10.5,10.3,10.0,10.1,11.1,9.95,10.1,9.5,12.1,9.3,9.2,9.4,10.2,10.1,11.5,12.0,9.4,12.5,9.5,11.4],\"type\":\"histogram\",\"xaxis\":\"x11\",\"yaxis\":\"y11\"},{\"name\":\"quality\",\"x\":[6,6,7,5,6,5,6,6,6,5,5,7,6,4,6,5,7,6,6,8,5,5,5,6,5,7,6,4,6,6,7,6,5,7,5,6,6,5,6,5,6,6,3,5,7,5,8,6,6,6,6,6,6,5,5,5,6,5,5,5,5,5,6,5,5,7,6,5,6,7,5,5,5,6,6,5,6,5,5,5,6,6,5,7,5,6,5,6,5,6,5,5,6,6,6,6,8,6,5,5,6,5,5,6,6,5,4,4,5,6,5,4,5,6,6,6,7,6,6,6,6,6,5,6,5,7,5,5,5,8,6,7,5,5,5,5,6,5,5,6,6,5,4,6,5,6,7,6,5,6,6,7,5,6,5,6,6,5,6,5,6,5,5,6,5,5,5,6,6,6,5,6,5,6,5,6,5,6,7,7,6,6,5,4,6,5,6,6,7,7,7,5,6,5,5,8,6,5,6,6,5,6,5,5,5,7,5,7,5,7,5,6,5,4,5,7,5,6,6,4,5,3,7,6,5,7,4,5,6,5,6,6,5,7,4,7,4,5,7,7,5,5,6,5,8,6,5,7,4,6,6,6,6,5,6,5,6,6,5,5,6,6,6,7,6,5,5,5,6,6,6,5,5,6,5,7,5,5,6,6,5,6,5,6,6,5,6,6,8,5,5,5,5,5,7,6,5,6,5,6,6,6,5,7,5,6,6,8,5,6,5,5,5,5,7,6,5,7,7,6,6,7,5,7,6,5,7,6,5,7,5,5,7,5,6,6,8,6,6,8,5,5,6,7,6,6,6,5,6,5,5,6,7,6,7,5,7,6,5,5,5,5,5,5,6,5,6,6,6,6,5,6,5,6,5,7,5,5,5,5,6,5,7,6,6,6,7,5,5,6,7,6,6,7,6,6,7,5,5,4,5,5,6,6,6,5,6,6,4,4,5,5,7,6,5,7,6,6,5,7,5,5,6,3,5,5,6,5,6,6,6,5,7,6,7,5,6,6,7,5,6,8,6,5,6,7,5,5,5,6,5,6,7,5,5,5,8,5,6,5,5,6,7,6,5,6,5,6,6,7,6,5,5,5,5,7,6,6,5,6,7,7,5,6,6,5,6,6,5,5,6,6,5,5,5,5,4,5,7,6,6,5,7,6,5,5,6,5,6,5,5,6,6,7,7,5,5,6,7,6,6,6,5,6,6,5,5,5,6,5,6,6,6,6,6,4,7,6,5,6,5,6,7,7,5,6,5,7,5,5,7,6,7,7,6,8,8,7,6,5,7,5,6,6,6,7,6,6,5,4,8,6,6,5,6,6,6,5,7,5,6,5,5,5,6,6,5,5,5,5,6,5,6,6,6,6,7,6,5,4,5,7,6,6,6,7,6,5,6,5,5,7,6,5,6,6,6,6,6,5,5,5,5,5,5,7,5,6,6,6,6,4,7,6,6,5,7,6,5,6,6,7,6,6,7,6,5,5,6,5,7,5,5,6,5,5,5,6,6,5,5,6,6,7,5,5,5,5,7,6,5,5,7,7,6,5,7,5,6,7,6,5,7,5,5,7,6,6,7,5,6,7,4,5,6,6,5,5,5,7,7,6,6,7,5,7,5,7,5,6,3,5,6,5,7,5,6,5,5,7,5,5,5,5,8,7,6,5,5,5,5,5,5,4,5,6,6,5,6,5,5,5,5,6,5,8,5,6,5,5,5,5,7,7,5,6,5,7,5,6,6,6,7,5,6,6,7,6,4,6,4,6,5,5,6,5,6,5,5,5,7,6,7,7,5,6,7,7,7,5,5,7,5,7,5,7,5,6,3,5,5,5,4,5,5,6,5,6,5,5,6,6,7,6,6,5,5,7,5,6,7,5,6,5,7,5,5,5,6,5,7,5,6,6,6,5,5,5,6,5,8,8,5,6,7,6,6,5,5,6,6,6,5,6,6,5,6,5,6,6,6,7,8,6,5,6,6,7,5,5,5,6,7,5,4,5,7,5,6,6,6,5,7,5,7,7,7,6,6,5,6,5,5,3,7,5,5,5,5,6,6,6,5,6,6,5,6,5,6,4,6,5,5,5,5,5,7,5,5,6,6,6,5,5,6,5,5,5,5,6,5,7,6,5,5,5,5,5,5,5,5,7,6,5,4,7,6,6,6,4,6,6,5,3,5,5,6,6,5,5,6,5,7,6,7,5,5,6,6,7,5,7,5,6,5,5,7,4,6,7,7,6,5,6,7,7,6,5,6,5,5,5,5,5,5,7,6,7,4,6,6,5,6,5,6,7,5,7,5,5,5,5,5,6,6,6,7,6,5,7,5,5,6,6,7,5,7,5,5,6,5,5,7,7,5,4,5,5,5,6,8,6,6,5,5,6,4,5,6,6,5,4,6,6,7,6,7,6,6,8,6,6,7,6,6,7,5,6,8,5,7,5,6,5,6,5,6,6,6,7,5,6,5,7,5,6,6,7,6,6,7,6,6,6,7,5,7,6,5,7,6,5,6,6,5,5,5,5,5,5,6,4,6,5,5,7,5,5,5,7,5,5,6,7,4,6,5,7,5,7,5,5,5,5,5,6,7,7,5,6,6,4,6,4,6,6,6,6,5,5,7,5,6,8,5,6,7,6,6,5,6,6,6,5,5,5,7,5,5,8,6,6,5,4,6,5,5,5,7,5,5,5,6,3,5,7,5,6,6,7,6,6,5,6,5,6,6,6,6,6,6,6,7,6,7,6,5,5,5,5,7,6,5,5,5,6,6,5,6,6,5,7,6,6,5,6,5,8,5,5,6,7,5,5,6,5,7,5,6,6,5,7,6,7,5,6,6,5,5,5,5,6,5,7,5,5,6,5,5,5,6,7,7,6,6,5,5,5,5,5,6,5,5,7,5,5,5,7,5,5,7,7,6,6,6,5,7,5,7,5,3,5,6,5,5,5,6,5,6,7,6,6,5,5,6,5,7,6,6,5,6,3,8,6,5,6,7,5,6,5,5,7,5,6,5,6,6,6,6,5,5,5,6,6,5,5,5,5,5,8,5,7,5,6,8,5,6,6,6,6,7,5,7,6,7,7,7,5,5,6,5,7,5,6,6,6,5,5,7,6,6,5,7,6,5,5,6,5,6,5,6,7,5,5,7,5,6,7,7,5,6,5,8,5,5,6,7,5,3,5,5,6,5,5,5,7,6,7,7,8,5,5,6,7,8,6,7,6,6,7,5,6,7,5,7,5,6,6,5,6,7,6,6,5,5,6,6,7,6,6,6,7,5,6,4,5,7,6,5,6,5,5,6,7,6,6,5,6,5,6,5,5,5,6,5,5,5,6,5,6,5,6,5,5,5,5,7,6,6,5,7,6,6,5,6,7,7,6,5,6,6,7,6,6,5,6,5,5,6,6,5,6,5,5,6,6,6,6,5,6,5,5,5,5,5,5,5,7,5,6,6,7,5,7,5,5,8,5,6,5,6,5,6,5,7,5,7,5,5,5,5,5,5,5,6,7,6,6,5,5,6,6,6,5,6,5,5,6,5,6,6,6,7,7,6,5,5,6,7,6,5,5,6,5,6,6,6,7,5,5,6,6,7,6,5,6,6,4,6,7,4,7,6,5,5,8,7,6,6,5,5,6,5,5,6,7,6,6,5,5,6,6,6,6,5,6,6,7,6,5,5,5,6,7,6,6,5,4,5,5,5,5,5,5,6,5,5,7,5,6,7,6,6,7,6,7,6,6,5,7,7,5,5,6,4,6,6,3,6,8,5,6,6,6,5,5,6,5,5,5,7,5,6,5,6,6,6,7,6,7,8,6,5,5,4,5,5,7,6,5,6,6,5,6,7,7,7,6,6,7,5,5,7,6,5,6,4,6,4,4,5,7,7,5,5,7,6,6,5,4,5,5,5,5,7,5,6,7,5,5,6,7,5,6,5,4,6,7,7,7,6,6,6,6,7,5,5,6,6,5,6,6,5,6,6,6,5,7,6,6,7,5,6,6,5,7,5,6,6,5,6,7,5,5,7,5,6,6,5,5,6,5,5,6,5,6,6,6,6,7,5,6,6,5,5,5,6,5,6,5,6,6,6,7,7,6,6,6,7,5,6,5,5,6,5,6,6,5,5,6,5,5,6,6,6,5,5,7,5,6,5,5,6,5,5,7,7,6,7,5,5,6,5,6,5,6,4,7,5,6,6,6,6,6,6,7,5,5,5,5,7,5,5,5,5,6,5,5,6,7,5,6,6,5,5,6,7,5,6,5,6,6,7,6,6,6,7,7,7,5,5,5,4,5,7,5,6,6,8,7,8,6,5,6,5,6,6,7,5,5,6,6,6,5,5,6,5,6,5,6,4,5,6,7,6,5,5,7,5,5,5,7,5,7,5,6,6,5,6,5,7,5,5,5,6,6,5,7,7,7,6,6,5,5,7,7,6,5,5,6,5,6,5,7,5,5,5,6,7,6,5,5,5,6,5,6,7,6,5,5,7,6,6,5,6,7,7,7,6,6,6,7,6,6,5,6,5,5,6,5,5,6,6,6,5,5,6,7,5,5,7,6,6,5,6,6,5,6,6,5,6,6,6,6,5,4,6,6,5,5,6,5,6,7,5,6,6,5,6,7,5,6,7,5,6,6,5,5,6,7,6,7,5,8,5,7],\"type\":\"histogram\",\"xaxis\":\"x12\",\"yaxis\":\"y12\"}],                        {\"template\":{\"data\":{\"barpolar\":[{\"marker\":{\"line\":{\"color\":\"white\",\"width\":0.5},\"pattern\":{\"fillmode\":\"overlay\",\"size\":10,\"solidity\":0.2}},\"type\":\"barpolar\"}],\"bar\":[{\"error_x\":{\"color\":\"rgb(36,36,36)\"},\"error_y\":{\"color\":\"rgb(36,36,36)\"},\"marker\":{\"line\":{\"color\":\"white\",\"width\":0.5},\"pattern\":{\"fillmode\":\"overlay\",\"size\":10,\"solidity\":0.2}},\"type\":\"bar\"}],\"carpet\":[{\"aaxis\":{\"endlinecolor\":\"rgb(36,36,36)\",\"gridcolor\":\"white\",\"linecolor\":\"white\",\"minorgridcolor\":\"white\",\"startlinecolor\":\"rgb(36,36,36)\"},\"baxis\":{\"endlinecolor\":\"rgb(36,36,36)\",\"gridcolor\":\"white\",\"linecolor\":\"white\",\"minorgridcolor\":\"white\",\"startlinecolor\":\"rgb(36,36,36)\"},\"type\":\"carpet\"}],\"choropleth\":[{\"colorbar\":{\"outlinewidth\":1,\"tickcolor\":\"rgb(36,36,36)\",\"ticks\":\"outside\"},\"type\":\"choropleth\"}],\"contourcarpet\":[{\"colorbar\":{\"outlinewidth\":1,\"tickcolor\":\"rgb(36,36,36)\",\"ticks\":\"outside\"},\"type\":\"contourcarpet\"}],\"contour\":[{\"colorbar\":{\"outlinewidth\":1,\"tickcolor\":\"rgb(36,36,36)\",\"ticks\":\"outside\"},\"colorscale\":[[0.0,\"#440154\"],[0.1111111111111111,\"#482878\"],[0.2222222222222222,\"#3e4989\"],[0.3333333333333333,\"#31688e\"],[0.4444444444444444,\"#26828e\"],[0.5555555555555556,\"#1f9e89\"],[0.6666666666666666,\"#35b779\"],[0.7777777777777778,\"#6ece58\"],[0.8888888888888888,\"#b5de2b\"],[1.0,\"#fde725\"]],\"type\":\"contour\"}],\"heatmapgl\":[{\"colorbar\":{\"outlinewidth\":1,\"tickcolor\":\"rgb(36,36,36)\",\"ticks\":\"outside\"},\"colorscale\":[[0.0,\"#440154\"],[0.1111111111111111,\"#482878\"],[0.2222222222222222,\"#3e4989\"],[0.3333333333333333,\"#31688e\"],[0.4444444444444444,\"#26828e\"],[0.5555555555555556,\"#1f9e89\"],[0.6666666666666666,\"#35b779\"],[0.7777777777777778,\"#6ece58\"],[0.8888888888888888,\"#b5de2b\"],[1.0,\"#fde725\"]],\"type\":\"heatmapgl\"}],\"heatmap\":[{\"colorbar\":{\"outlinewidth\":1,\"tickcolor\":\"rgb(36,36,36)\",\"ticks\":\"outside\"},\"colorscale\":[[0.0,\"#440154\"],[0.1111111111111111,\"#482878\"],[0.2222222222222222,\"#3e4989\"],[0.3333333333333333,\"#31688e\"],[0.4444444444444444,\"#26828e\"],[0.5555555555555556,\"#1f9e89\"],[0.6666666666666666,\"#35b779\"],[0.7777777777777778,\"#6ece58\"],[0.8888888888888888,\"#b5de2b\"],[1.0,\"#fde725\"]],\"type\":\"heatmap\"}],\"histogram2dcontour\":[{\"colorbar\":{\"outlinewidth\":1,\"tickcolor\":\"rgb(36,36,36)\",\"ticks\":\"outside\"},\"colorscale\":[[0.0,\"#440154\"],[0.1111111111111111,\"#482878\"],[0.2222222222222222,\"#3e4989\"],[0.3333333333333333,\"#31688e\"],[0.4444444444444444,\"#26828e\"],[0.5555555555555556,\"#1f9e89\"],[0.6666666666666666,\"#35b779\"],[0.7777777777777778,\"#6ece58\"],[0.8888888888888888,\"#b5de2b\"],[1.0,\"#fde725\"]],\"type\":\"histogram2dcontour\"}],\"histogram2d\":[{\"colorbar\":{\"outlinewidth\":1,\"tickcolor\":\"rgb(36,36,36)\",\"ticks\":\"outside\"},\"colorscale\":[[0.0,\"#440154\"],[0.1111111111111111,\"#482878\"],[0.2222222222222222,\"#3e4989\"],[0.3333333333333333,\"#31688e\"],[0.4444444444444444,\"#26828e\"],[0.5555555555555556,\"#1f9e89\"],[0.6666666666666666,\"#35b779\"],[0.7777777777777778,\"#6ece58\"],[0.8888888888888888,\"#b5de2b\"],[1.0,\"#fde725\"]],\"type\":\"histogram2d\"}],\"histogram\":[{\"marker\":{\"line\":{\"color\":\"white\",\"width\":0.6}},\"type\":\"histogram\"}],\"mesh3d\":[{\"colorbar\":{\"outlinewidth\":1,\"tickcolor\":\"rgb(36,36,36)\",\"ticks\":\"outside\"},\"type\":\"mesh3d\"}],\"parcoords\":[{\"line\":{\"colorbar\":{\"outlinewidth\":1,\"tickcolor\":\"rgb(36,36,36)\",\"ticks\":\"outside\"}},\"type\":\"parcoords\"}],\"pie\":[{\"automargin\":true,\"type\":\"pie\"}],\"scatter3d\":[{\"line\":{\"colorbar\":{\"outlinewidth\":1,\"tickcolor\":\"rgb(36,36,36)\",\"ticks\":\"outside\"}},\"marker\":{\"colorbar\":{\"outlinewidth\":1,\"tickcolor\":\"rgb(36,36,36)\",\"ticks\":\"outside\"}},\"type\":\"scatter3d\"}],\"scattercarpet\":[{\"marker\":{\"colorbar\":{\"outlinewidth\":1,\"tickcolor\":\"rgb(36,36,36)\",\"ticks\":\"outside\"}},\"type\":\"scattercarpet\"}],\"scattergeo\":[{\"marker\":{\"colorbar\":{\"outlinewidth\":1,\"tickcolor\":\"rgb(36,36,36)\",\"ticks\":\"outside\"}},\"type\":\"scattergeo\"}],\"scattergl\":[{\"marker\":{\"colorbar\":{\"outlinewidth\":1,\"tickcolor\":\"rgb(36,36,36)\",\"ticks\":\"outside\"}},\"type\":\"scattergl\"}],\"scattermapbox\":[{\"marker\":{\"colorbar\":{\"outlinewidth\":1,\"tickcolor\":\"rgb(36,36,36)\",\"ticks\":\"outside\"}},\"type\":\"scattermapbox\"}],\"scatterpolargl\":[{\"marker\":{\"colorbar\":{\"outlinewidth\":1,\"tickcolor\":\"rgb(36,36,36)\",\"ticks\":\"outside\"}},\"type\":\"scatterpolargl\"}],\"scatterpolar\":[{\"marker\":{\"colorbar\":{\"outlinewidth\":1,\"tickcolor\":\"rgb(36,36,36)\",\"ticks\":\"outside\"}},\"type\":\"scatterpolar\"}],\"scatter\":[{\"fillpattern\":{\"fillmode\":\"overlay\",\"size\":10,\"solidity\":0.2},\"type\":\"scatter\"}],\"scatterternary\":[{\"marker\":{\"colorbar\":{\"outlinewidth\":1,\"tickcolor\":\"rgb(36,36,36)\",\"ticks\":\"outside\"}},\"type\":\"scatterternary\"}],\"surface\":[{\"colorbar\":{\"outlinewidth\":1,\"tickcolor\":\"rgb(36,36,36)\",\"ticks\":\"outside\"},\"colorscale\":[[0.0,\"#440154\"],[0.1111111111111111,\"#482878\"],[0.2222222222222222,\"#3e4989\"],[0.3333333333333333,\"#31688e\"],[0.4444444444444444,\"#26828e\"],[0.5555555555555556,\"#1f9e89\"],[0.6666666666666666,\"#35b779\"],[0.7777777777777778,\"#6ece58\"],[0.8888888888888888,\"#b5de2b\"],[1.0,\"#fde725\"]],\"type\":\"surface\"}],\"table\":[{\"cells\":{\"fill\":{\"color\":\"rgb(237,237,237)\"},\"line\":{\"color\":\"white\"}},\"header\":{\"fill\":{\"color\":\"rgb(217,217,217)\"},\"line\":{\"color\":\"white\"}},\"type\":\"table\"}]},\"layout\":{\"annotationdefaults\":{\"arrowhead\":0,\"arrowwidth\":1},\"autotypenumbers\":\"strict\",\"coloraxis\":{\"colorbar\":{\"outlinewidth\":1,\"tickcolor\":\"rgb(36,36,36)\",\"ticks\":\"outside\"}},\"colorscale\":{\"diverging\":[[0.0,\"rgb(103,0,31)\"],[0.1,\"rgb(178,24,43)\"],[0.2,\"rgb(214,96,77)\"],[0.3,\"rgb(244,165,130)\"],[0.4,\"rgb(253,219,199)\"],[0.5,\"rgb(247,247,247)\"],[0.6,\"rgb(209,229,240)\"],[0.7,\"rgb(146,197,222)\"],[0.8,\"rgb(67,147,195)\"],[0.9,\"rgb(33,102,172)\"],[1.0,\"rgb(5,48,97)\"]],\"sequential\":[[0.0,\"#440154\"],[0.1111111111111111,\"#482878\"],[0.2222222222222222,\"#3e4989\"],[0.3333333333333333,\"#31688e\"],[0.4444444444444444,\"#26828e\"],[0.5555555555555556,\"#1f9e89\"],[0.6666666666666666,\"#35b779\"],[0.7777777777777778,\"#6ece58\"],[0.8888888888888888,\"#b5de2b\"],[1.0,\"#fde725\"]],\"sequentialminus\":[[0.0,\"#440154\"],[0.1111111111111111,\"#482878\"],[0.2222222222222222,\"#3e4989\"],[0.3333333333333333,\"#31688e\"],[0.4444444444444444,\"#26828e\"],[0.5555555555555556,\"#1f9e89\"],[0.6666666666666666,\"#35b779\"],[0.7777777777777778,\"#6ece58\"],[0.8888888888888888,\"#b5de2b\"],[1.0,\"#fde725\"]]},\"colorway\":[\"#1F77B4\",\"#FF7F0E\",\"#2CA02C\",\"#D62728\",\"#9467BD\",\"#8C564B\",\"#E377C2\",\"#7F7F7F\",\"#BCBD22\",\"#17BECF\"],\"font\":{\"color\":\"rgb(36,36,36)\"},\"geo\":{\"bgcolor\":\"white\",\"lakecolor\":\"white\",\"landcolor\":\"white\",\"showlakes\":true,\"showland\":true,\"subunitcolor\":\"white\"},\"hoverlabel\":{\"align\":\"left\"},\"hovermode\":\"closest\",\"mapbox\":{\"style\":\"light\"},\"paper_bgcolor\":\"white\",\"plot_bgcolor\":\"white\",\"polar\":{\"angularaxis\":{\"gridcolor\":\"rgb(232,232,232)\",\"linecolor\":\"rgb(36,36,36)\",\"showgrid\":false,\"showline\":true,\"ticks\":\"outside\"},\"bgcolor\":\"white\",\"radialaxis\":{\"gridcolor\":\"rgb(232,232,232)\",\"linecolor\":\"rgb(36,36,36)\",\"showgrid\":false,\"showline\":true,\"ticks\":\"outside\"}},\"scene\":{\"xaxis\":{\"backgroundcolor\":\"white\",\"gridcolor\":\"rgb(232,232,232)\",\"gridwidth\":2,\"linecolor\":\"rgb(36,36,36)\",\"showbackground\":true,\"showgrid\":false,\"showline\":true,\"ticks\":\"outside\",\"zeroline\":false,\"zerolinecolor\":\"rgb(36,36,36)\"},\"yaxis\":{\"backgroundcolor\":\"white\",\"gridcolor\":\"rgb(232,232,232)\",\"gridwidth\":2,\"linecolor\":\"rgb(36,36,36)\",\"showbackground\":true,\"showgrid\":false,\"showline\":true,\"ticks\":\"outside\",\"zeroline\":false,\"zerolinecolor\":\"rgb(36,36,36)\"},\"zaxis\":{\"backgroundcolor\":\"white\",\"gridcolor\":\"rgb(232,232,232)\",\"gridwidth\":2,\"linecolor\":\"rgb(36,36,36)\",\"showbackground\":true,\"showgrid\":false,\"showline\":true,\"ticks\":\"outside\",\"zeroline\":false,\"zerolinecolor\":\"rgb(36,36,36)\"}},\"shapedefaults\":{\"fillcolor\":\"black\",\"line\":{\"width\":0},\"opacity\":0.3},\"ternary\":{\"aaxis\":{\"gridcolor\":\"rgb(232,232,232)\",\"linecolor\":\"rgb(36,36,36)\",\"showgrid\":false,\"showline\":true,\"ticks\":\"outside\"},\"baxis\":{\"gridcolor\":\"rgb(232,232,232)\",\"linecolor\":\"rgb(36,36,36)\",\"showgrid\":false,\"showline\":true,\"ticks\":\"outside\"},\"bgcolor\":\"white\",\"caxis\":{\"gridcolor\":\"rgb(232,232,232)\",\"linecolor\":\"rgb(36,36,36)\",\"showgrid\":false,\"showline\":true,\"ticks\":\"outside\"}},\"title\":{\"x\":0.05},\"xaxis\":{\"automargin\":true,\"gridcolor\":\"rgb(232,232,232)\",\"linecolor\":\"rgb(36,36,36)\",\"showgrid\":false,\"showline\":true,\"ticks\":\"outside\",\"title\":{\"standoff\":15},\"zeroline\":false,\"zerolinecolor\":\"rgb(36,36,36)\"},\"yaxis\":{\"automargin\":true,\"gridcolor\":\"rgb(232,232,232)\",\"linecolor\":\"rgb(36,36,36)\",\"showgrid\":false,\"showline\":true,\"ticks\":\"outside\",\"title\":{\"standoff\":15},\"zeroline\":false,\"zerolinecolor\":\"rgb(36,36,36)\"}}},\"xaxis\":{\"anchor\":\"y\",\"domain\":[0.0,0.45],\"title\":{\"text\":\"fixed acidity\"}},\"yaxis\":{\"anchor\":\"x\",\"domain\":[0.875,1.0],\"title\":{\"text\":\"Frequency\"}},\"xaxis2\":{\"anchor\":\"y2\",\"domain\":[0.55,1.0],\"title\":{\"text\":\"volatile acidity\"}},\"yaxis2\":{\"anchor\":\"x2\",\"domain\":[0.875,1.0],\"title\":{\"text\":\"Frequency\"}},\"xaxis3\":{\"anchor\":\"y3\",\"domain\":[0.0,0.45],\"title\":{\"text\":\"citric acid\"}},\"yaxis3\":{\"anchor\":\"x3\",\"domain\":[0.7,0.825],\"title\":{\"text\":\"Frequency\"}},\"xaxis4\":{\"anchor\":\"y4\",\"domain\":[0.55,1.0],\"title\":{\"text\":\"residual sugar\"}},\"yaxis4\":{\"anchor\":\"x4\",\"domain\":[0.7,0.825],\"title\":{\"text\":\"Frequency\"}},\"xaxis5\":{\"anchor\":\"y5\",\"domain\":[0.0,0.45],\"title\":{\"text\":\"chlorides\"}},\"yaxis5\":{\"anchor\":\"x5\",\"domain\":[0.525,0.65],\"title\":{\"text\":\"Frequency\"}},\"xaxis6\":{\"anchor\":\"y6\",\"domain\":[0.55,1.0],\"title\":{\"text\":\"free sulfur dioxide\"}},\"yaxis6\":{\"anchor\":\"x6\",\"domain\":[0.525,0.65],\"title\":{\"text\":\"Frequency\"}},\"xaxis7\":{\"anchor\":\"y7\",\"domain\":[0.0,0.45],\"title\":{\"text\":\"total sulfur dioxide\"}},\"yaxis7\":{\"anchor\":\"x7\",\"domain\":[0.35,0.475],\"title\":{\"text\":\"Frequency\"}},\"xaxis8\":{\"anchor\":\"y8\",\"domain\":[0.55,1.0],\"title\":{\"text\":\"density\"}},\"yaxis8\":{\"anchor\":\"x8\",\"domain\":[0.35,0.475],\"title\":{\"text\":\"Frequency\"}},\"xaxis9\":{\"anchor\":\"y9\",\"domain\":[0.0,0.45],\"title\":{\"text\":\"pH\"}},\"yaxis9\":{\"anchor\":\"x9\",\"domain\":[0.175,0.3],\"title\":{\"text\":\"Frequency\"}},\"xaxis10\":{\"anchor\":\"y10\",\"domain\":[0.55,1.0],\"title\":{\"text\":\"sulphates\"}},\"yaxis10\":{\"anchor\":\"x10\",\"domain\":[0.175,0.3],\"title\":{\"text\":\"Frequency\"}},\"xaxis11\":{\"anchor\":\"y11\",\"domain\":[0.0,0.45],\"title\":{\"text\":\"alcohol\"}},\"yaxis11\":{\"anchor\":\"x11\",\"domain\":[0.0,0.125],\"title\":{\"text\":\"Frequency\"}},\"xaxis12\":{\"anchor\":\"y12\",\"domain\":[0.55,1.0],\"title\":{\"text\":\"quality\"}},\"yaxis12\":{\"anchor\":\"x12\",\"domain\":[0.0,0.125],\"title\":{\"text\":\"Frequency\"}},\"title\":{\"text\":\"\\u003cb\\u003eHistogram Matrix\\u003cbr\\u003e \\u003csup\\u003e Continuous Features\\u003c\\u002fsup\\u003e\\u003c\\u002fb\\u003e\"},\"showlegend\":false,\"margin\":{\"t\":100,\"l\":80},\"height\":2100,\"width\":1000},                        {\"responsive\": true}                    ).then(function(){\n",
              "                            \n",
              "var gd = document.getElementById('7a92c6ef-2100-44b5-afd5-baee2c7e79ba');\n",
              "var x = new MutationObserver(function (mutations, observer) {{\n",
              "        var display = window.getComputedStyle(gd).display;\n",
              "        if (!display || display === 'none') {{\n",
              "            console.log([gd, 'removed!']);\n",
              "            Plotly.purge(gd);\n",
              "            observer.disconnect();\n",
              "        }}\n",
              "}});\n",
              "\n",
              "// Listen for the removal of the full notebook cells\n",
              "var notebookContainer = gd.closest('#notebook-container');\n",
              "if (notebookContainer) {{\n",
              "    x.observe(notebookContainer, {childList: true});\n",
              "}}\n",
              "\n",
              "// Listen for the clearing of the current output cell\n",
              "var outputEl = gd.closest('.output');\n",
              "if (outputEl) {{\n",
              "    x.observe(outputEl, {childList: true});\n",
              "}}\n",
              "\n",
              "                        })                };                            </script>        </div>\n",
              "</body>\n",
              "</html>"
            ]
          },
          "metadata": {}
        }
      ]
    }
  ]
}