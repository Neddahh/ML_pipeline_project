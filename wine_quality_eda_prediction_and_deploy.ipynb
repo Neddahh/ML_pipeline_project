{
  "metadata": {
    "kernelspec": {
      "language": "python",
      "display_name": "Python 3",
      "name": "python3"
    },
    "language_info": {
      "name": "python",
      "version": "3.10.10",
      "mimetype": "text/x-python",
      "codemirror_mode": {
        "name": "ipython",
        "version": 3
      },
      "pygments_lexer": "ipython3",
      "nbconvert_exporter": "python",
      "file_extension": ".py"
    },
    "colab": {
      "provenance": [],
      "include_colab_link": true
    }
  },
  "nbformat_minor": 0,
  "nbformat": 4,
  "cells": [
    {
      "cell_type": "markdown",
      "metadata": {
        "id": "view-in-github",
        "colab_type": "text"
      },
      "source": [
        "<a href=\"https://colab.research.google.com/github/Neddahh/ML_pipeline_project/blob/main/wine_quality_eda_prediction_and_deploy.ipynb\" target=\"_parent\"><img src=\"https://colab.research.google.com/assets/colab-badge.svg\" alt=\"Open In Colab\"/></a>"
      ]
    },
    {
      "cell_type": "markdown",
      "source": [
        "<div style=\"padding: 95px;color:white;margin:10;border-radius:8px;overflow:hidden;background-image: url(https://images5.alphacoders.com/714/714862.jpg);background-position: 50% 40%\"></div>"
      ],
      "metadata": {
        "id": "_ZzoL8yiVnYG"
      }
    },
    {
      "cell_type": "markdown",
      "source": [
        "<p style=\"padding-bottom: 10px;\n",
        "          margin-bottom: 10px;\n",
        "          font-size: 50px;\n",
        "          font-weight: bold;\n",
        "          color: black;\n",
        "          text-align: left;\n",
        "          font-family: Poppins\"><b>🍷 Wine Quality: EDA, Prediction and Deploy</b>\n",
        "<p style=\"font-size: 22px; color: gray; text-align: left;\">From grape to glass: Leveraging data science to explore wine quality and build a predictive model.</p>\n",
        "<hr style=\"height:2px;border-width:0;color:gray;background-color:gray;box-shadow: 0px 2.5px 5px rgba(0, 0, 0, 0.2);\">"
      ],
      "metadata": {
        "id": "Cn3UJZ9sVnYK"
      }
    },
    {
      "cell_type": "markdown",
      "source": [
        "<h3 style=\"border-bottom: 1px solid #ccc;\n",
        "            padding-bottom: 10px;\n",
        "            margin-bottom: 10px;\n",
        "            font-size: 16px;\n",
        "            font-weight: bold;\n",
        "            color: black;\">Table of Contents</h3>\n",
        "    \n",
        "- [Introduction](#intro)<br><br>\n",
        "- [Exploratory Data Analysis](#eda)<br><br>\n",
        "- [Feature Engineering](#eng)<br><br>\n",
        "- [Feature Selection](#select)<br><br>\n",
        "- [Clustering](#cluster)<br><br>\n",
        "- [Modelling](#model)<br><br>\n",
        "- [Deploying Pipeline](#deploy)<br><br>\n",
        "- [Conclusion](#conclusion)<br><br>"
      ],
      "metadata": {
        "id": "4Qu_hhRQVnYL"
      }
    },
    {
      "cell_type": "markdown",
      "source": [
        "<h1 id = 'intro' style=\"border-bottom: 1px solid #ccc;\n",
        "                        padding-bottom: 10px;\n",
        "                        margin-bottom: 10px;\n",
        "                        font-size: 38px;\n",
        "                        font-weight: bold;\n",
        "                        color: black;\n",
        "                        font-family: Poppins\">Introduction</h1>"
      ],
      "metadata": {
        "id": "jiZRdo_wVnYL"
      }
    },
    {
      "cell_type": "markdown",
      "source": [
        "<p style=\"font-size: 20px\">Wine, an alcoholic beverage renowned for its sophistication and diverse in flavors, has enchanted humanity for centuries! In this notebook, we will delve into a dataset consisting of many wines and explore what influence their quality. Through the performing of an extensive exploratory data analysis, our goal is to gain insights into the world of wines to develop a <i>machine learning</i> model that is capable of accurately predicting wine quality.\n",
        "<br><br>\n",
        "Multiple factors contribute to the overall quality of a wine. While taste is subjective, there are other key elements that are widely recognized as indicators of quality. These factors include acidity, residual sugar, alcohol content, and many more. Each of these attributes plays a crucial role in shaping the taste, aroma, and overall appeal of a wine.\n",
        "<br><br>\n",
        "Our journey begins with a meticulous exploratory analysis of the dataset. Through this analysis, we aim to extract meaningful insights and uncover relevant information by examining the relationships between different attributes within the data. We will investigate how each factor influences the quality of the wine and identify any patterns or correlations that may exist.\n",
        "<br><br>\n",
        "Once we have gained a comprehensive understanding of the data, we will proceed to build and evaluate various predictive models. Our objective is to develop a model that can accurately predict the quality of a wine based on its attributes.\n",
        "<br><br>\n",
        "In the following table, you can see the attributes we have at hand and a brief description on how important they may be to shape a wine's taste, aroma, and overall quality.</p>"
      ],
      "metadata": {
        "id": "LFch3a9fVnYM"
      }
    },
    {
      "cell_type": "markdown",
      "source": [
        "<table style=\"font-family: Arial, sans-serif; font-size: 16px;\">\n",
        "  <tr>\n",
        "    <th><b>Attribute</b></th>\n",
        "    <th><b>Description</b></th>\n",
        "  </tr>\n",
        "  <tr>\n",
        "    <td><b>Fixed Acidity</b></td>\n",
        "    <td>This feature describes the amount of fixed acids within the wine, such as tartaric and malic acid. These contribute to the taste and preservation of the wine.</td>\n",
        "  </tr>\n",
        "  <tr>\n",
        "    <td><b>Volatile Acidity</b></td>\n",
        "    <td>This feature describes the amount of volatile acids in the wine, such as acetic acid. These acids may give an unpleasant taste and smell to the wine.</td>\n",
        "  </tr>\n",
        "  <tr>\n",
        "    <td><b>Citric Acid</b></td>\n",
        "    <td>Citric acid is an organiz acid found in citrus fruits. It can add a tangy flavor to the wine.</td>\n",
        "  </tr>\n",
        "  <tr>\n",
        "      <td><b>Residual Sugar</b></td>\n",
        "      <td>This feature describes the amount of unfermented sugar in the wine, which impacts the taste and sweetness of the wine.</td>\n",
        "    </tr>\n",
        "  <tr>\n",
        "      <td><b>Chlorides</b></td>\n",
        "      <td>This feature describes the amount of salt present in the wine, which may also affect the tase.</td>\n",
        "    </tr>\n",
        "  <tr>\n",
        "      <td><b>Free Sulfur Dioxide</b></td>\n",
        "      <td>This feature describes the sulfur dioxides that hasn't reacted to other components in the wine.</td>\n",
        "    </tr>\n",
        "  <tr>\n",
        "      <td><b>Total Sulfur Dioxide</b></td>\n",
        "      <td>This feature describes the total amount of sulfur dioxide, including the free and bound forms.</td>\n",
        "    </tr>\n",
        "  <tr>\n",
        "      <td><b>Density</b></td>\n",
        "      <td>The density of the wine describes a correlation between its alcoholic content and the types of grapes used to make the wine.</td>\n",
        "    </tr>\n",
        "  <tr>\n",
        "      <td><b>pH</b></td>\n",
        "      <td>This feature is a measure of the acidity or basicity of the wine.</td>\n",
        "    </tr>\n",
        "  <tr>\n",
        "      <td><b>Sulfates</b></td>\n",
        "      <td>A type of salt used for preservation in wine, which can also affect its taste.</td>\n",
        "    </tr>\n",
        "  <tr>\n",
        "      <td><b>Alcohol</b></td>\n",
        "      <td>This feature describes the percentage of alcohol in the wine, which impacts its flavor and body.</td>\n",
        "    </tr>\n",
        "  <tr>\n",
        "      <td><b>Quality</b></td>\n",
        "      <td>Target variable.</td>\n",
        "    </tr>\n",
        "</table>\n"
      ],
      "metadata": {
        "id": "OM3VH-fmVnYM"
      }
    },
    {
      "cell_type": "markdown",
      "source": [
        "<span style=\"font-size: 20px\">In the next cells of code, we will import relevant libraries and write some helpful functions.</span>"
      ],
      "metadata": {
        "id": "JNtv0eTTVnYN"
      }
    },
    {
      "cell_type": "code",
      "source": [
        "# Importing Libraries\n",
        "\n",
        "# Data Handling\n",
        "import pandas as pd\n",
        "import numpy as np\n",
        "\n",
        "\n",
        "# Data Visualization\n",
        "import plotly.express as px\n",
        "import plotly.graph_objs as go\n",
        "import plotly.subplots as sp\n",
        "from plotly.subplots import make_subplots\n",
        "import plotly.figure_factory as ff\n",
        "from IPython.display import display\n",
        "from plotly.offline import init_notebook_mode\n",
        "init_notebook_mode(connected=True)\n",
        "\n",
        "# Statistics & Mathematics\n",
        "import scipy.stats as stats\n",
        "from scipy.stats import shapiro, skew\n",
        "import math\n",
        "\n",
        "from sklearn.feature_selection import RFECV\n",
        "\n",
        "# Machine Learning Pipeline & process\n",
        "from sklearn.pipeline import Pipeline\n",
        "from sklearn.compose import ColumnTransformer\n",
        "from sklearn.base import BaseEstimator, TransformerMixin\n",
        "\n",
        "# Preprocessing data\n",
        "from sklearn.preprocessing import RobustScaler, StandardScaler, QuantileTransformer, FunctionTransformer\n",
        "\n",
        "from sklearn.compose import ColumnTransformer\n",
        "\n",
        "# Model Selection for Cross Validation\n",
        "from sklearn.model_selection import StratifiedKFold, KFold, train_test_split\n",
        "\n",
        "# Machine Learning metrics\n",
        "from sklearn.metrics import mean_squared_error, r2_score, mean_absolute_error, cohen_kappa_score, make_scorer\n",
        "\n",
        "# ML regressors\n",
        "from sklearn.linear_model import HuberRegressor,RANSACRegressor, TheilSenRegressor\n",
        "from sklearn.ensemble import HistGradientBoostingRegressor, StackingRegressor, AdaBoostRegressor, RandomForestRegressor\n",
        "from catboost import CatBoostRegressor\n",
        "from xgboost import XGBRegressor\n",
        "from lightgbm import LGBMRegressor\n",
        "\n",
        "# ML classifiers\n",
        "from sklearn.ensemble import HistGradientBoostingClassifier, AdaBoostClassifier, RandomForestClassifier\n",
        "from sklearn.ensemble import StackingClassifier, VotingClassifier\n",
        "from catboost import CatBoostClassifier\n",
        "from xgboost import XGBClassifier\n",
        "from lightgbm import LGBMClassifier\n",
        "\n",
        "from sklearn.cluster import KMeans\n",
        "\n",
        "import optuna\n",
        "\n",
        "import random\n",
        "\n",
        "# Encoder of categorical variables\n",
        "from sklearn.preprocessing import OrdinalEncoder, OneHotEncoder\n",
        "\n",
        "# Hiding warnings\n",
        "import warnings\n",
        "warnings.filterwarnings(\"ignore\")"
      ],
      "metadata": {
        "_kg_hide-input": true,
        "execution": {
          "iopub.status.busy": "2023-07-14T18:26:15.355853Z",
          "iopub.execute_input": "2023-07-14T18:26:15.356265Z",
          "iopub.status.idle": "2023-07-14T18:26:20.714353Z",
          "shell.execute_reply.started": "2023-07-14T18:26:15.356237Z",
          "shell.execute_reply": "2023-07-14T18:26:20.713407Z"
        },
        "trusted": true,
        "colab": {
          "base_uri": "https://localhost:8080/",
          "height": 383
        },
        "id": "L-CWcaGqVnYO",
        "outputId": "ebdc4da7-1d81-4a86-df8f-23042de49ba6"
      },
      "execution_count": null,
      "outputs": [
        {
          "output_type": "display_data",
          "data": {
            "text/html": [
              "        <script type=\"text/javascript\">\n",
              "        window.PlotlyConfig = {MathJaxConfig: 'local'};\n",
              "        if (window.MathJax && window.MathJax.Hub && window.MathJax.Hub.Config) {window.MathJax.Hub.Config({SVG: {font: \"STIX-Web\"}});}\n",
              "        if (typeof require !== 'undefined') {\n",
              "        require.undef(\"plotly\");\n",
              "        requirejs.config({\n",
              "            paths: {\n",
              "                'plotly': ['https://cdn.plot.ly/plotly-2.35.2.min']\n",
              "            }\n",
              "        });\n",
              "        require(['plotly'], function(Plotly) {\n",
              "            window._Plotly = Plotly;\n",
              "        });\n",
              "        }\n",
              "        </script>\n",
              "        "
            ]
          },
          "metadata": {}
        },
        {
          "output_type": "error",
          "ename": "ModuleNotFoundError",
          "evalue": "No module named 'catboost'",
          "traceback": [
            "\u001b[0;31m---------------------------------------------------------------------------\u001b[0m",
            "\u001b[0;31mModuleNotFoundError\u001b[0m                       Traceback (most recent call last)",
            "\u001b[0;32m<ipython-input-1-ad7231fde591>\u001b[0m in \u001b[0;36m<cell line: 44>\u001b[0;34m()\u001b[0m\n\u001b[1;32m     42\u001b[0m \u001b[0;32mfrom\u001b[0m \u001b[0msklearn\u001b[0m\u001b[0;34m.\u001b[0m\u001b[0mlinear_model\u001b[0m \u001b[0;32mimport\u001b[0m \u001b[0mHuberRegressor\u001b[0m\u001b[0;34m,\u001b[0m\u001b[0mRANSACRegressor\u001b[0m\u001b[0;34m,\u001b[0m \u001b[0mTheilSenRegressor\u001b[0m\u001b[0;34m\u001b[0m\u001b[0;34m\u001b[0m\u001b[0m\n\u001b[1;32m     43\u001b[0m \u001b[0;32mfrom\u001b[0m \u001b[0msklearn\u001b[0m\u001b[0;34m.\u001b[0m\u001b[0mensemble\u001b[0m \u001b[0;32mimport\u001b[0m \u001b[0mHistGradientBoostingRegressor\u001b[0m\u001b[0;34m,\u001b[0m \u001b[0mStackingRegressor\u001b[0m\u001b[0;34m,\u001b[0m \u001b[0mAdaBoostRegressor\u001b[0m\u001b[0;34m,\u001b[0m \u001b[0mRandomForestRegressor\u001b[0m\u001b[0;34m\u001b[0m\u001b[0;34m\u001b[0m\u001b[0m\n\u001b[0;32m---> 44\u001b[0;31m \u001b[0;32mfrom\u001b[0m \u001b[0mcatboost\u001b[0m \u001b[0;32mimport\u001b[0m \u001b[0mCatBoostRegressor\u001b[0m\u001b[0;34m\u001b[0m\u001b[0;34m\u001b[0m\u001b[0m\n\u001b[0m\u001b[1;32m     45\u001b[0m \u001b[0;32mfrom\u001b[0m \u001b[0mxgboost\u001b[0m \u001b[0;32mimport\u001b[0m \u001b[0mXGBRegressor\u001b[0m\u001b[0;34m\u001b[0m\u001b[0;34m\u001b[0m\u001b[0m\n\u001b[1;32m     46\u001b[0m \u001b[0;32mfrom\u001b[0m \u001b[0mlightgbm\u001b[0m \u001b[0;32mimport\u001b[0m \u001b[0mLGBMRegressor\u001b[0m\u001b[0;34m\u001b[0m\u001b[0;34m\u001b[0m\u001b[0m\n",
            "\u001b[0;31mModuleNotFoundError\u001b[0m: No module named 'catboost'",
            "",
            "\u001b[0;31m---------------------------------------------------------------------------\u001b[0;32m\nNOTE: If your import is failing due to a missing package, you can\nmanually install dependencies using either !pip or !apt.\n\nTo view examples of installing some common dependencies, click the\n\"Open Examples\" button below.\n\u001b[0;31m---------------------------------------------------------------------------\u001b[0m\n"
          ],
          "errorDetails": {
            "actions": [
              {
                "action": "open_url",
                "actionText": "Open Examples",
                "url": "/notebooks/snippets/importing_libraries.ipynb"
              }
            ]
          }
        }
      ]
    },
    {
      "cell_type": "code",
      "source": [
        "# Defining seed and the template for plots\n",
        "seed = 42\n",
        "plotly_template = 'simple_white'"
      ],
      "metadata": {
        "_kg_hide-input": true,
        "execution": {
          "iopub.status.busy": "2023-07-14T11:55:14.924886Z",
          "iopub.execute_input": "2023-07-14T11:55:14.925670Z",
          "iopub.status.idle": "2023-07-14T11:55:14.930456Z",
          "shell.execute_reply.started": "2023-07-14T11:55:14.925627Z",
          "shell.execute_reply": "2023-07-14T11:55:14.929650Z"
        },
        "trusted": true,
        "id": "KQIvrCZjVnYR"
      },
      "execution_count": null,
      "outputs": []
    },
    {
      "cell_type": "code",
      "source": [
        "def dataframe_description(df):\n",
        "    \"\"\"\n",
        "    This function prints some basic info on the dataset.\n",
        "    \"\"\"\n",
        "    categorical_features = []\n",
        "    continuous_features = []\n",
        "    binary_features = []\n",
        "\n",
        "    for col in df.columns:\n",
        "        if df[col].dtype == object:\n",
        "            categorical_features.append(col)\n",
        "        else:\n",
        "            if df[col].nunique() <= 2:\n",
        "                binary_features.append(col)\n",
        "            else:\n",
        "                continuous_features.append(col)\n",
        "\n",
        "    print(\"\\n{} shape: {}\".format(type(df).__name__, df.shape))\n",
        "    print(\"\\n{:,.0f} samples\".format(df.shape[0]))\n",
        "    print(\"\\n{:,.0f} attributes\".format(df.shape[1]))\n",
        "    print(f'\\nMissing Data: \\n')\n",
        "    print(df.isnull().sum())\n",
        "    print(f'\\nDuplicates: {df.duplicated().sum()}')\n",
        "    print(f'\\nData types: \\n')\n",
        "    print(df.dtypes)\n",
        "    print(f'\\nCategorical features: \\n')\n",
        "    if len(categorical_features) == 0:\n",
        "        print('No Categorical Features')\n",
        "    else:\n",
        "        for feature in categorical_features:\n",
        "            print(feature)\n",
        "    print(f'\\nContinuous features: \\n')\n",
        "    if len(continuous_features) == 0:\n",
        "        print('No Continuous Features')\n",
        "    else:\n",
        "        for feature in continuous_features:\n",
        "            print(feature)\n",
        "    print(f'\\nBinary features: \\n')\n",
        "    if len(binary_features) == 0:\n",
        "        print('No Binary Features')\n",
        "    else:\n",
        "        for feature in binary_features:\n",
        "            print(feature)\n",
        "    print(f'\\n{type(df).__name__} Head: \\n')\n",
        "    display(df.head(5))\n",
        "    print(f'\\n{type(df).__name__} Tail: \\n')\n",
        "    display(df.tail(5))"
      ],
      "metadata": {
        "_kg_hide-input": true,
        "execution": {
          "iopub.status.busy": "2023-07-14T11:55:14.932065Z",
          "iopub.execute_input": "2023-07-14T11:55:14.932710Z",
          "iopub.status.idle": "2023-07-14T11:55:14.957341Z",
          "shell.execute_reply.started": "2023-07-14T11:55:14.932678Z",
          "shell.execute_reply": "2023-07-14T11:55:14.955599Z"
        },
        "trusted": true,
        "id": "GGxC8A3aVnYR"
      },
      "execution_count": null,
      "outputs": []
    },
    {
      "cell_type": "code",
      "source": [
        "def plot_correlation(df):\n",
        "    '''\n",
        "    This function is resposible to plot a correlation map among features in the dataset\n",
        "    '''\n",
        "    corr = np.round(df.corr(), 2)\n",
        "    mask = np.triu(np.ones_like(corr, dtype = bool))\n",
        "    c_mask = np.where(~mask, corr, 100)\n",
        "\n",
        "    c = []\n",
        "    for i in c_mask.tolist()[1:]:\n",
        "        c.append([x for x in i if x != 100])\n",
        "\n",
        "    fig = ff.create_annotated_heatmap(z=c[::-1],\n",
        "                                      x=corr.index.tolist()[:-1],\n",
        "                                      y=corr.columns.tolist()[1:][::-1],\n",
        "                                      colorscale = 'bluyl')\n",
        "\n",
        "    fig.update_layout(title = {'text': '<b>Feature Correlation <br> <sup>Heatmap</sup></b>'},\n",
        "                      height = 650, width = 650,\n",
        "                      margin = dict(t=210, l = 80),\n",
        "                      template = 'simple_white',\n",
        "                      yaxis = dict(autorange = 'reversed'))\n",
        "\n",
        "    fig.add_trace(go.Heatmap(z = c[::-1],\n",
        "                             colorscale = 'bluyl',\n",
        "                             showscale = True,\n",
        "                             visible = False))\n",
        "    fig.data[1].visible = True\n",
        "\n",
        "    fig.show()"
      ],
      "metadata": {
        "_kg_hide-input": true,
        "execution": {
          "iopub.status.busy": "2023-07-14T11:55:14.960657Z",
          "iopub.execute_input": "2023-07-14T11:55:14.961400Z",
          "iopub.status.idle": "2023-07-14T11:55:14.975088Z",
          "shell.execute_reply.started": "2023-07-14T11:55:14.961353Z",
          "shell.execute_reply": "2023-07-14T11:55:14.973188Z"
        },
        "trusted": true,
        "id": "QTlipdRAVnYS"
      },
      "execution_count": null,
      "outputs": []
    },
    {
      "cell_type": "code",
      "source": [
        "def describe(df):\n",
        "    '''\n",
        "    This function plots a table containing Descriptive Statistics of the Dataframe\n",
        "    '''\n",
        "    mean_features = df.mean().round(2).apply(lambda x: \"{:,.2f}\".format(x))\n",
        "    std_features = df.std().round(2).apply(lambda x: \"{:,.2f}\".format(x))\n",
        "    q1 = df.quantile(0.25).round(2).apply(lambda x: \"{:,.2f}\".format(x))\n",
        "    median = df.quantile(0.5).round(2).apply(lambda x: \"{:,.2f}\".format(x))\n",
        "    q3 = df.quantile(0.75).round(2).apply(lambda x: \"{:,.2f}\".format(x))\n",
        "\n",
        "\n",
        "    # Generating new Dataframe\n",
        "    describe_df = pd.DataFrame({'Feature Name': mean_features.index,\n",
        "                                'Mean': mean_features.values,\n",
        "                                'Standard Deviation': std_features.values,\n",
        "                                '25%': q1.values,\n",
        "                                'Median': median.values,\n",
        "                                '75%': q3.values})\n",
        "\n",
        "    # Generating a Table w/ Pyplot\n",
        "    fig = go.Figure(data = [go.Table(header=dict(values=list(describe_df.columns),\n",
        "                                                 align = 'center',\n",
        "                                                 fill_color = 'midnightblue',\n",
        "                                               font=dict(color = 'white', size = 18)),\n",
        "                                     cells=dict(values=[describe_df['Feature Name'],\n",
        "                                                        describe_df['Mean'],\n",
        "                                                        describe_df['Standard Deviation'],\n",
        "                                                       describe_df['25%'],\n",
        "                                                       describe_df['Median'],\n",
        "                                                       describe_df['75%']],\n",
        "                                                fill_color = 'gainsboro',\n",
        "                                                align = 'center'))\n",
        "                           ])\n",
        "\n",
        "    fig.update_layout(title = {'text': f'<b>Descriptive Statistics of the Dataframe<br><sup> (Mean, Standard Deviation, 25%, Median, and 75%)</sup></b>'},\n",
        "                      template = plotly_template,\n",
        "                      height = 700, width = 950,\n",
        "                      margin = dict(t = 100))\n",
        "\n",
        "    fig.show()"
      ],
      "metadata": {
        "_kg_hide-input": true,
        "execution": {
          "iopub.status.busy": "2023-07-14T11:55:14.976690Z",
          "iopub.execute_input": "2023-07-14T11:55:14.977334Z",
          "iopub.status.idle": "2023-07-14T11:55:15.001918Z",
          "shell.execute_reply.started": "2023-07-14T11:55:14.977298Z",
          "shell.execute_reply": "2023-07-14T11:55:15.000864Z"
        },
        "trusted": true,
        "id": "dBD4rnb7VnYS"
      },
      "execution_count": null,
      "outputs": []
    },
    {
      "cell_type": "code",
      "source": [
        "def plot_distplot(df, x):\n",
        "    '''\n",
        "    This function creates a distribution plot for continuous variables\n",
        "    '''\n",
        "\n",
        "    feature = df[x]\n",
        "\n",
        "    fig = ff.create_distplot([feature], [x], show_hist=False)\n",
        "\n",
        "    fig.update_layout(\n",
        "        title={'text': f'<b>Distplot <br> <sup>{x}</sup></b>',\n",
        "               'xanchor': 'left',\n",
        "               'x': 0.05},\n",
        "        height=600,\n",
        "        width=1000,\n",
        "        margin=dict(t=100),\n",
        "        template= plotly_template,\n",
        "        showlegend=True\n",
        "    )\n",
        "\n",
        "    fig.show()"
      ],
      "metadata": {
        "_kg_hide-input": true,
        "execution": {
          "iopub.status.busy": "2023-07-14T11:55:15.003626Z",
          "iopub.execute_input": "2023-07-14T11:55:15.004078Z",
          "iopub.status.idle": "2023-07-14T11:55:15.032635Z",
          "shell.execute_reply.started": "2023-07-14T11:55:15.004045Z",
          "shell.execute_reply": "2023-07-14T11:55:15.031043Z"
        },
        "trusted": true,
        "id": "tXvEm2mVVnYT"
      },
      "execution_count": null,
      "outputs": []
    },
    {
      "cell_type": "code",
      "source": [
        "def plot_histogram_matrix(df):\n",
        "\n",
        "    '''\n",
        "    This function identifies all continuous features within the dataset and plots\n",
        "    a matrix of histograms for each attribute\n",
        "    '''\n",
        "\n",
        "    continuous_features = []\n",
        "    for feat in df.columns:\n",
        "        if df[feat].nunique() > 2:\n",
        "            continuous_features.append(feat)\n",
        "    num_cols = 2\n",
        "    num_rows = (len(continuous_features) + 1) // num_cols\n",
        "\n",
        "    fig = make_subplots(rows=num_rows, cols=num_cols)\n",
        "\n",
        "    for i, feature in enumerate(continuous_features):\n",
        "        row = i // num_cols + 1\n",
        "        col = i % num_cols + 1\n",
        "\n",
        "        fig.add_trace(\n",
        "            go.Histogram(\n",
        "                x=df[feature],\n",
        "                name=feature\n",
        "            ),\n",
        "            row=row,\n",
        "            col=col\n",
        "        )\n",
        "\n",
        "        fig.update_xaxes(title_text=feature, row=row, col=col)\n",
        "        fig.update_yaxes(title_text='Frequency', row=row, col=col)\n",
        "        fig.update_layout(\n",
        "            title=f'<b>Histogram Matrix<br> <sup> Continuous Features</sup></b>',\n",
        "            showlegend=False\n",
        "        )\n",
        "\n",
        "    fig.update_layout(\n",
        "        height=350 * num_rows,\n",
        "        width=1000,\n",
        "        margin=dict(t=100, l=80),\n",
        "        template= plotly_template\n",
        "    )\n",
        "\n",
        "    fig.show()"
      ],
      "metadata": {
        "_kg_hide-input": true,
        "execution": {
          "iopub.status.busy": "2023-07-14T11:55:15.034389Z",
          "iopub.execute_input": "2023-07-14T11:55:15.035509Z",
          "iopub.status.idle": "2023-07-14T11:55:15.051206Z",
          "shell.execute_reply.started": "2023-07-14T11:55:15.035450Z",
          "shell.execute_reply": "2023-07-14T11:55:15.049898Z"
        },
        "trusted": true,
        "id": "fSEY-gB2VnYT"
      },
      "execution_count": null,
      "outputs": []
    },
    {
      "cell_type": "code",
      "source": [
        "def plot_boxplot_matrix(df):\n",
        "\n",
        "    '''\n",
        "    This function identifies all continuous features within the dataset and plots\n",
        "    a matrix of boxplots for each attribute\n",
        "    '''\n",
        "\n",
        "    continuous_features = []\n",
        "    for feat in df.columns:\n",
        "        if df[feat].nunique() > 2:\n",
        "            continuous_features.append(feat)\n",
        "\n",
        "    num_cols = 2\n",
        "    num_rows = (len(continuous_features) + 1) // num_cols\n",
        "\n",
        "\n",
        "    fig = make_subplots(rows=num_rows, cols=num_cols)\n",
        "\n",
        "\n",
        "    for i, feature in enumerate(continuous_features):\n",
        "        row = i // num_cols + 1\n",
        "        col = i % num_cols + 1\n",
        "\n",
        "        fig.add_trace(\n",
        "            go.Box(\n",
        "                x=df[feature],\n",
        "                name = ' '\n",
        "            ),\n",
        "            row=row,\n",
        "            col=col\n",
        "        )\n",
        "\n",
        "        fig.update_yaxes(title_text = ' ', row=row, col=col)\n",
        "        fig.update_xaxes(title_text= feature, row=row, col=col)\n",
        "        fig.update_layout(\n",
        "            title=f'<b>Boxplot Matrix<br> <sup> Continuous Features</sup></b>',\n",
        "            showlegend=False,\n",
        "            yaxis=dict(\n",
        "            tickangle=-90\n",
        "        )\n",
        "        )\n",
        "\n",
        "    fig.update_layout(\n",
        "        height=350 * num_rows,\n",
        "        width=1000,\n",
        "        margin=dict(t=100, l=80),\n",
        "        template= plotly_template\n",
        "    )\n",
        "\n",
        "\n",
        "    fig.show()"
      ],
      "metadata": {
        "_kg_hide-input": true,
        "execution": {
          "iopub.status.busy": "2023-07-14T11:55:15.052592Z",
          "iopub.execute_input": "2023-07-14T11:55:15.052973Z",
          "iopub.status.idle": "2023-07-14T11:55:15.078453Z",
          "shell.execute_reply.started": "2023-07-14T11:55:15.052940Z",
          "shell.execute_reply": "2023-07-14T11:55:15.077122Z"
        },
        "trusted": true,
        "id": "043klL39VnYU"
      },
      "execution_count": null,
      "outputs": []
    },
    {
      "cell_type": "code",
      "source": [
        "def scatterplot(df, x, y):\n",
        "    '''\n",
        "    This function takes a dataframe and X and y axes to plot a scatterplot\n",
        "    '''\n",
        "\n",
        "    color_dict = {\n",
        "        0: 'orange',\n",
        "        1: 'blue',\n",
        "        2: 'green',\n",
        "        3: 'red',\n",
        "        4: 'black',\n",
        "        5: 'purple',\n",
        "        6: 'pink',\n",
        "        7: 'brown',\n",
        "        8: 'teal',\n",
        "        9: 'magenta',\n",
        "        10: 'cyan',\n",
        "        11: 'olive',\n",
        "        12: 'navy',\n",
        "        13: 'indigo',\n",
        "        14: 'maroon',\n",
        "        15: 'turquoise',\n",
        "        16: 'silver',\n",
        "        17: 'gold'\n",
        "    }\n",
        "\n",
        "    color_index = random.choice(list(color_dict.keys()))\n",
        "    color = color_dict[color_index]\n",
        "\n",
        "    fig = px.scatter(df, y=y, x=x)\n",
        "    fig.update_traces(marker=dict(size=10, color=color))\n",
        "    fig.update_layout(\n",
        "        title={'text': f'<b>Scatterplot <br> <sup>{x} x {y}</sup></b>'},\n",
        "        height=750,\n",
        "        width=850,\n",
        "        margin=dict(t=80, l=80),\n",
        "        template= plotly_template\n",
        "    )\n",
        "    fig.show()"
      ],
      "metadata": {
        "_kg_hide-input": true,
        "execution": {
          "iopub.status.busy": "2023-07-14T11:55:15.080335Z",
          "iopub.execute_input": "2023-07-14T11:55:15.080809Z",
          "iopub.status.idle": "2023-07-14T11:55:15.101558Z",
          "shell.execute_reply.started": "2023-07-14T11:55:15.080742Z",
          "shell.execute_reply": "2023-07-14T11:55:15.100339Z"
        },
        "trusted": true,
        "id": "mPMKd5drVnYU"
      },
      "execution_count": null,
      "outputs": []
    },
    {
      "cell_type": "code",
      "source": [
        "def clustered_scatterplot(df, y, x, cluster):\n",
        "    '''\n",
        "    This function takes a dataframe, x, and y axes to plot a scatterplot colored accordingly to clusters\n",
        "    It also prints a count of values for each cluster\n",
        "    '''\n",
        "    fig = px.scatter(df,\n",
        "                     y = y,\n",
        "                     x = x,\n",
        "                     color = cluster, symbol = cluster)\n",
        "\n",
        "    fig.update_traces(marker = dict(size = 10))\n",
        "\n",
        "    fig.update(layout_coloraxis_showscale=False)\n",
        "\n",
        "    fig.update_layout(title = {'text': f'<b>Clustered Scatterplot <br> <sup> {y} x {x} </sup></b>',\n",
        "                              'xanchor': 'left',\n",
        "                              'x': 0.05},\n",
        "                     height = 600, width = 700,\n",
        "                     margin = dict(t=100),\n",
        "                     template = plotly_template,\n",
        "                     showlegend = True)\n",
        "\n",
        "    fig.show()\n",
        "\n",
        "    print('Cluster Count:')\n",
        "    print(f'{df[cluster].value_counts()}')"
      ],
      "metadata": {
        "_kg_hide-input": true,
        "execution": {
          "iopub.status.busy": "2023-07-14T11:55:15.105676Z",
          "iopub.execute_input": "2023-07-14T11:55:15.106156Z",
          "iopub.status.idle": "2023-07-14T11:55:15.124121Z",
          "shell.execute_reply.started": "2023-07-14T11:55:15.106122Z",
          "shell.execute_reply": "2023-07-14T11:55:15.122746Z"
        },
        "trusted": true,
        "id": "hnO63qtvVnYV"
      },
      "execution_count": null,
      "outputs": []
    },
    {
      "cell_type": "code",
      "source": [
        "def barplot(df, feat):\n",
        "\n",
        "    '''\n",
        "    This function is supposed to organize the n top value counts of any attribute and plot a Barplot\n",
        "    '''\n",
        "\n",
        "    counts = df[feat].value_counts()\n",
        "    fig = px.bar(y=counts.values,\n",
        "                 x=counts.index,\n",
        "                 color = counts.index,\n",
        "                 text=counts.values)\n",
        "\n",
        "    fig.update_layout(title=f'<b>Frequency of values in {feat}<br> <sup> Barplot</sup></b>',\n",
        "                      xaxis=dict(title=f'{feat}'),\n",
        "                      yaxis=dict(title='Count'),\n",
        "                      legend=dict(title=f'{feat}'),\n",
        "                      showlegend=True,\n",
        "                      height=600,\n",
        "                      width=1000,\n",
        "                      margin=dict(t=100, l=80),\n",
        "                      template= plotly_template)\n",
        "    fig.show()"
      ],
      "metadata": {
        "_kg_hide-input": true,
        "execution": {
          "iopub.status.busy": "2023-07-14T11:55:15.126310Z",
          "iopub.execute_input": "2023-07-14T11:55:15.126945Z",
          "iopub.status.idle": "2023-07-14T11:55:15.139508Z",
          "shell.execute_reply.started": "2023-07-14T11:55:15.126908Z",
          "shell.execute_reply": "2023-07-14T11:55:15.138165Z"
        },
        "trusted": true,
        "id": "HAlaBcA8VnYV"
      },
      "execution_count": null,
      "outputs": []
    },
    {
      "cell_type": "code",
      "source": [
        "def shapiro_wilk_test(df):\n",
        "    '''\n",
        "    This function performs a Shapiro-Wilk test to check if the data is normally distributed or not, as well as skewness\n",
        "    '''\n",
        "    print(f'\\033[1mShapiro-Wilk Test & Skewness:\\033[0m')\n",
        "    print('\\n- - - - - - - - - - - - - - - - - - - - - - - - - - - - - - - - - - - - - - - - - - - - - - - - - - - -  \\n')\n",
        "\n",
        "    numeric_columns = df.select_dtypes(include=['float', 'int']).columns\n",
        "\n",
        "    for feature in numeric_columns:\n",
        "        stats, p_value = shapiro(df[feature])\n",
        "\n",
        "        if p_value < 0.05:\n",
        "            text = f'{feature} Does Not Seem to be Normally Distributed'\n",
        "        else:\n",
        "            text = f'{feature} Seems to be Normally Distributed'\n",
        "\n",
        "        print(f'{feature}')\n",
        "        print(f'\\n  Shapiro-Wilk Statistic: {stats:.2f}')\n",
        "        print(f'\\n  Shapiro-Wilk P-value: {p_value}')\n",
        "        print(f'\\n  Skewness: {np.round(skew(df[feature]), 2)}')\n",
        "        print(f'\\n  Conclusion: {text}')\n",
        "        print('\\n===============================================================================================')\n",
        "\n",
        "    print('\\n- - - - - - - - - - - - - - - - - - - - - - - - - - - - - - - - - - - - - - - - - - - - - - - - - - - -  \\n')\n",
        "    print(f'\\033[1mEnd of Shapiro-Wilk Test\\033[0m')"
      ],
      "metadata": {
        "_kg_hide-input": true,
        "execution": {
          "iopub.status.busy": "2023-07-14T11:55:15.140747Z",
          "iopub.execute_input": "2023-07-14T11:55:15.141526Z",
          "iopub.status.idle": "2023-07-14T11:55:15.163995Z",
          "shell.execute_reply.started": "2023-07-14T11:55:15.141481Z",
          "shell.execute_reply": "2023-07-14T11:55:15.162845Z"
        },
        "trusted": true,
        "id": "Cp8ju-GCVnYV"
      },
      "execution_count": null,
      "outputs": []
    },
    {
      "cell_type": "code",
      "source": [
        "def boxplot(df, y, x, color):\n",
        "    '''\n",
        "    This function plots a Y and X boxplot\n",
        "    '''\n",
        "    fig = px.box(df, y= y , x = x, color= color)\n",
        "\n",
        "    fig.update_layout(title=f'<b>Boxplot<br> <sup> {y} by {x}</sup></b>',\n",
        "                      showlegend=False,\n",
        "                      yaxis=dict(tickangle= -45),\n",
        "                      height=600,\n",
        "                      width=1000,\n",
        "                      margin=dict(t=100, l=80),\n",
        "                      template= plotly_template)\n",
        "\n",
        "    fig.show()"
      ],
      "metadata": {
        "_kg_hide-input": true,
        "execution": {
          "iopub.status.busy": "2023-07-14T11:55:15.165099Z",
          "iopub.execute_input": "2023-07-14T11:55:15.165468Z",
          "iopub.status.idle": "2023-07-14T11:55:15.183034Z",
          "shell.execute_reply.started": "2023-07-14T11:55:15.165437Z",
          "shell.execute_reply": "2023-07-14T11:55:15.181768Z"
        },
        "trusted": true,
        "id": "_MV-9Xj-VnYW"
      },
      "execution_count": null,
      "outputs": []
    },
    {
      "cell_type": "code",
      "source": [
        "def pred_vs_true_plot(y_true, y_pred):\n",
        "    '''\n",
        "    This function takes values for y_true and y_val, and plots a scatterplot along with a line of best fit\n",
        "    '''\n",
        "\n",
        "    slope, intercept = np.polyfit(y_true, y_pred, 1)\n",
        "    fit_line = slope * y_true + intercept\n",
        "\n",
        "    fig = go.Figure()\n",
        "    fig.add_trace(go.Scatter(x=y_true, y=y_pred, mode='markers', name='Data Points'))\n",
        "    fig.add_trace(go.Scatter(x=y_true, y=fit_line, mode='lines', line=dict(color='red'), name='Fit-line'))\n",
        "    fig.update_traces(marker=dict(size=10, color='blue'))\n",
        "    fig.update_layout(\n",
        "        title={'text': f'<b>True x Predicted <br> <sup>Scatterplot</sup></b>'},\n",
        "        xaxis=dict(title='True Salaries'),\n",
        "        yaxis=dict(title='Predicted Salaries'),\n",
        "        height=750,\n",
        "        width=850,\n",
        "        margin=dict(t=250, l=80),\n",
        "        template= plotly_template,\n",
        "    )\n",
        "    fig.show()\n"
      ],
      "metadata": {
        "_kg_hide-input": true,
        "execution": {
          "iopub.status.busy": "2023-07-14T11:55:15.184184Z",
          "iopub.execute_input": "2023-07-14T11:55:15.184613Z",
          "iopub.status.idle": "2023-07-14T11:55:15.206891Z",
          "shell.execute_reply.started": "2023-07-14T11:55:15.184576Z",
          "shell.execute_reply": "2023-07-14T11:55:15.205658Z"
        },
        "trusted": true,
        "id": "ARZJFG9BVnYW"
      },
      "execution_count": null,
      "outputs": []
    },
    {
      "cell_type": "code",
      "source": [
        "def three_axes_scatterplot(df, x, y, z):\n",
        "\n",
        "    '''\n",
        "    This function takes a dataframe and different attributes to build a 3D scatterplot\n",
        "\n",
        "    '''\n",
        "\n",
        "    scatterplot = go.Scatter3d(\n",
        "        x= df[x],\n",
        "        y= df[y],\n",
        "        z= df[z],\n",
        "        mode='markers')\n",
        "\n",
        "    fig = go.Figure(data=scatterplot)\n",
        "    fig.update_layout(\n",
        "        title={'text': f'<b>3D Scatterplot <br> <sup>{x} x {y} x {z}</sup></b>',\n",
        "               'xanchor': 'left',\n",
        "               'x': 0.05},\n",
        "        height=600,\n",
        "        width=700,\n",
        "        margin=dict(t=100),\n",
        "        template= plotly_template,\n",
        "        showlegend=True\n",
        "    )\n",
        "\n",
        "\n",
        "    fig.show()"
      ],
      "metadata": {
        "_kg_hide-input": true,
        "execution": {
          "iopub.status.busy": "2023-07-14T11:55:15.208401Z",
          "iopub.execute_input": "2023-07-14T11:55:15.208888Z",
          "iopub.status.idle": "2023-07-14T11:55:15.225208Z",
          "shell.execute_reply.started": "2023-07-14T11:55:15.208836Z",
          "shell.execute_reply": "2023-07-14T11:55:15.223649Z"
        },
        "trusted": true,
        "id": "JmwMnKjMVnYW"
      },
      "execution_count": null,
      "outputs": []
    },
    {
      "cell_type": "code",
      "source": [
        "def violin_boxplot(df, y, x, color):\n",
        "    '''\n",
        "    This function plots a Y and X ridgeline plot\n",
        "    '''\n",
        "\n",
        "    fig = px.violin(df, y=y, x=x, color=color, box=True, points= 'all')\n",
        "\n",
        "    fig.update_layout(title=f'<b>Violin Boxplot<br> <sup>{x} by {y}</sup></b>',\n",
        "                      showlegend=False,\n",
        "                      yaxis=dict(tickangle=-45),\n",
        "                      height=600,\n",
        "                      width=1000,\n",
        "                      margin=dict(t=100, l=80),\n",
        "                      template= plotly_template)\n",
        "\n",
        "    fig.show()"
      ],
      "metadata": {
        "_kg_hide-input": true,
        "execution": {
          "iopub.status.busy": "2023-07-14T11:55:15.227256Z",
          "iopub.execute_input": "2023-07-14T11:55:15.227698Z",
          "iopub.status.idle": "2023-07-14T11:55:15.244362Z",
          "shell.execute_reply.started": "2023-07-14T11:55:15.227667Z",
          "shell.execute_reply": "2023-07-14T11:55:15.243211Z"
        },
        "trusted": true,
        "id": "7uSSTCacVnYX"
      },
      "execution_count": null,
      "outputs": []
    },
    {
      "cell_type": "code",
      "source": [
        "def individual_boxplot(df, x):\n",
        "    fig = px.box(df, x = x)\n",
        "\n",
        "    fig.update_layout(title=f'<b>Boxplot<br> <sup> {x}</sup></b>',\n",
        "                      showlegend=False,\n",
        "                      yaxis=dict(tickangle= -45),\n",
        "                      height=400,\n",
        "                      width=1000,\n",
        "                      margin=dict(t=100, l=80),\n",
        "                      template= plotly_template)\n",
        "\n",
        "    fig.show()"
      ],
      "metadata": {
        "_kg_hide-input": true,
        "execution": {
          "iopub.status.busy": "2023-07-14T11:55:15.345652Z",
          "iopub.execute_input": "2023-07-14T11:55:15.346037Z",
          "iopub.status.idle": "2023-07-14T11:55:15.353644Z",
          "shell.execute_reply.started": "2023-07-14T11:55:15.346008Z",
          "shell.execute_reply": "2023-07-14T11:55:15.352290Z"
        },
        "trusted": true,
        "id": "5QMbNE2SVnYX"
      },
      "execution_count": null,
      "outputs": []
    },
    {
      "cell_type": "code",
      "source": [
        "def elbow_curve(wss):\n",
        "    fig = go.Figure()\n",
        "    fig.add_trace(go.Scatter(x = list(range(1,10)),\n",
        "                            y = wss,\n",
        "                            mode = 'lines+markers',\n",
        "                            marker = dict(color = 'midnightblue'),\n",
        "                            name = 'WSS'))\n",
        "\n",
        "\n",
        "    fig.update_layout(title = {'text': '<b>Elbow Curve Plot <br> <sup>Within-Cluster Sum of Squares</sup></b>'},\n",
        "                     height = 400, width = 950,\n",
        "                     xaxis_title = 'Number of Clusters',\n",
        "                     yaxis_title = 'Within-Cluster Sum of Squares (WSS)',\n",
        "                     margin = dict(t=80),\n",
        "                     template = plotly_template)\n",
        "\n",
        "    fig.show()"
      ],
      "metadata": {
        "_kg_hide-input": true,
        "execution": {
          "iopub.status.busy": "2023-07-14T11:55:15.896388Z",
          "iopub.execute_input": "2023-07-14T11:55:15.897224Z",
          "iopub.status.idle": "2023-07-14T11:55:15.904389Z",
          "shell.execute_reply.started": "2023-07-14T11:55:15.897184Z",
          "shell.execute_reply": "2023-07-14T11:55:15.902875Z"
        },
        "trusted": true,
        "id": "XaBHTXjmVnYX"
      },
      "execution_count": null,
      "outputs": []
    },
    {
      "cell_type": "code",
      "source": [
        "def split_train_test(df, test_size, seed):\n",
        "\n",
        "    '''\n",
        "    This function splits a dataframe for training and testing according to test_size\n",
        "    '''\n",
        "\n",
        "    train, test = train_test_split(df, test_size = test_size, shuffle = True, random_state = seed) # Splitting data\n",
        "\n",
        "    print(f'\\n Train shape: {train.shape}\\n')\n",
        "    print(f'\\n {len(train)} Samples \\n')\n",
        "    print(f'\\n {len(train.columns)} Attributes \\n')\n",
        "    display(train.head(10))\n",
        "    print('\\n' * 2)\n",
        "\n",
        "    print(f'\\n Test shape: {test.shape:}\\n')\n",
        "    print(f'\\n {len(test)} Samples \\n')\n",
        "    print(f'\\n {len(test.columns)} Attributes \\n')\n",
        "    display(test.head(10))\n",
        "\n",
        "    return train, test"
      ],
      "metadata": {
        "_kg_hide-input": true,
        "execution": {
          "iopub.status.busy": "2023-07-14T11:55:16.446565Z",
          "iopub.execute_input": "2023-07-14T11:55:16.446995Z",
          "iopub.status.idle": "2023-07-14T11:55:16.455187Z",
          "shell.execute_reply.started": "2023-07-14T11:55:16.446962Z",
          "shell.execute_reply": "2023-07-14T11:55:16.453925Z"
        },
        "trusted": true,
        "id": "PJflM1EfVnYX"
      },
      "execution_count": null,
      "outputs": []
    },
    {
      "cell_type": "code",
      "source": [
        "def X_y_split(df, target_variable):\n",
        "\n",
        "    '''\n",
        "    This function takes a dataframe and a target variable to create an X (predictors) dataframe and a y Series\n",
        "    '''\n",
        "\n",
        "    X, y = df.drop([target_variable], axis = 1), df[target_variable]\n",
        "\n",
        "    #Printing info on X and y\n",
        "    print(f'\\nX shape: {X.shape}\\n')\n",
        "    print(f'\\n{len(X)} Samples \\n')\n",
        "    print(f'\\n{len(X.columns)} Attributes \\n')\n",
        "    display(X.head(10))\n",
        "    print('\\n')\n",
        "    print(f'\\ny shape: {y.shape}\\n')\n",
        "    print(f'\\n{len(y)} Samples \\n')\n",
        "    display(y.head(10))\n",
        "\n",
        "    return X, y"
      ],
      "metadata": {
        "_kg_hide-input": true,
        "execution": {
          "iopub.status.busy": "2023-07-14T11:55:16.965012Z",
          "iopub.execute_input": "2023-07-14T11:55:16.965421Z",
          "iopub.status.idle": "2023-07-14T11:55:16.974681Z",
          "shell.execute_reply.started": "2023-07-14T11:55:16.965389Z",
          "shell.execute_reply": "2023-07-14T11:55:16.973234Z"
        },
        "trusted": true,
        "id": "bmqUj2tqVnYX"
      },
      "execution_count": null,
      "outputs": []
    },
    {
      "cell_type": "code",
      "source": [
        "def quadratic_weighted_kappa(y_true, y_pred):\n",
        "    '''\n",
        "    This function returns the evaluation metric of this competition\n",
        "    '''\n",
        "    return cohen_kappa_score(y_true, y_pred, weights='quadratic')"
      ],
      "metadata": {
        "execution": {
          "iopub.status.busy": "2023-07-14T11:55:17.452710Z",
          "iopub.execute_input": "2023-07-14T11:55:17.453109Z",
          "iopub.status.idle": "2023-07-14T11:55:17.459142Z",
          "shell.execute_reply.started": "2023-07-14T11:55:17.453080Z",
          "shell.execute_reply": "2023-07-14T11:55:17.457538Z"
        },
        "_kg_hide-input": true,
        "trusted": true,
        "id": "TfpobksVVnYX"
      },
      "execution_count": null,
      "outputs": []
    },
    {
      "cell_type": "markdown",
      "source": [
        "<h1 id = 'eda' style=\"border-bottom: 1px solid #ccc;\n",
        "                        padding-bottom: 10px;\n",
        "                        margin-bottom: 10px;\n",
        "                        font-size: 38px;\n",
        "                        font-weight: bold;\n",
        "                        color: black;\n",
        "                        font-family: Poppins\">Exploratory Data Analysis</h1>"
      ],
      "metadata": {
        "id": "Z1a5guKRVnYY"
      }
    },
    {
      "cell_type": "markdown",
      "source": [
        "<p style=\"font-size: 20px\">We start our analysis by loading the dataset and observing some general behaviors across the entire data. <br><br>\n",
        "Afterwards, we explore the variables according to their type (continuous, binary, etc.), and also explore the target variable separately.</p>"
      ],
      "metadata": {
        "id": "Owxl5Ue6VnYY"
      }
    },
    {
      "cell_type": "code",
      "source": [
        "df = pd.read_csv('/kaggle/input/playground-series-s3e5/train.csv') # Loading data\n",
        "dataframe_description(df) # Printing info on the data"
      ],
      "metadata": {
        "execution": {
          "iopub.status.busy": "2023-07-14T11:55:20.314013Z",
          "iopub.execute_input": "2023-07-14T11:55:20.314581Z",
          "iopub.status.idle": "2023-07-14T11:55:20.431196Z",
          "shell.execute_reply.started": "2023-07-14T11:55:20.314544Z",
          "shell.execute_reply": "2023-07-14T11:55:20.429872Z"
        },
        "trusted": true,
        "id": "6cSXiBssVnYY"
      },
      "execution_count": null,
      "outputs": []
    },
    {
      "cell_type": "markdown",
      "source": [
        "> <p style=\"font-size: 20px\"><b>📝 We may drop the <code>Id</code> column. <br><br>\n",
        "    📝 The dataset contains only continuous and numeric features.<br><br>\n",
        "    📝 No NaNs nor duplicated detected.</b></p>"
      ],
      "metadata": {
        "id": "f7NzqTgJVnYY"
      }
    },
    {
      "cell_type": "code",
      "source": [
        "df = df.drop('Id', axis = 1)  # Dropping 'Id' columns"
      ],
      "metadata": {
        "execution": {
          "iopub.status.busy": "2023-07-14T11:55:24.291098Z",
          "iopub.execute_input": "2023-07-14T11:55:24.291459Z",
          "iopub.status.idle": "2023-07-14T11:55:24.304372Z",
          "shell.execute_reply.started": "2023-07-14T11:55:24.291431Z",
          "shell.execute_reply": "2023-07-14T11:55:24.302932Z"
        },
        "trusted": true,
        "id": "4zp9RTS5VnYZ"
      },
      "execution_count": null,
      "outputs": []
    },
    {
      "cell_type": "code",
      "source": [
        "describe(df)"
      ],
      "metadata": {
        "_kg_hide-input": true,
        "execution": {
          "iopub.status.busy": "2023-07-14T11:55:24.907198Z",
          "iopub.execute_input": "2023-07-14T11:55:24.907600Z",
          "iopub.status.idle": "2023-07-14T11:55:26.388617Z",
          "shell.execute_reply.started": "2023-07-14T11:55:24.907568Z",
          "shell.execute_reply": "2023-07-14T11:55:26.387241Z"
        },
        "trusted": true,
        "id": "7LrZ8bBMVnYZ"
      },
      "execution_count": null,
      "outputs": []
    },
    {
      "cell_type": "markdown",
      "source": [
        "> <p style=\"font-size: 20px\"><b>📝 We have different scales across the attributes. We may benefit from using rescaling methods, such as StandardScaling.</b></p>"
      ],
      "metadata": {
        "id": "0mFuUFrsVnYZ"
      }
    },
    {
      "cell_type": "code",
      "source": [
        "plot_correlation(df)"
      ],
      "metadata": {
        "execution": {
          "iopub.status.busy": "2023-07-14T11:55:35.664262Z",
          "iopub.execute_input": "2023-07-14T11:55:35.664692Z",
          "iopub.status.idle": "2023-07-14T11:55:35.817358Z",
          "shell.execute_reply.started": "2023-07-14T11:55:35.664657Z",
          "shell.execute_reply": "2023-07-14T11:55:35.816127Z"
        },
        "trusted": true,
        "id": "KyhBlDSqVnYZ"
      },
      "execution_count": null,
      "outputs": []
    },
    {
      "cell_type": "markdown",
      "source": [
        "> <p style=\"font-size: 20px\"><b>📝 The highest correlated feature with the target variable <code>quality</code> is <code>alcohol</code>, with 0.48 correlation. <br><br>\n",
        "    📝 The highest positive correlation is between <code>citric acid</code> and <code>fixed acidity</code>, at 0.7. <br><br>\n",
        "    📝 The highest negative correlation is between <code>ph</code> and <code>fixed acidity</code>, at -0.67.</b></p>"
      ],
      "metadata": {
        "id": "DyWvL1u0VnYZ"
      }
    },
    {
      "cell_type": "code",
      "source": [
        "three_axes_scatterplot(df, 'citric acid', 'fixed acidity', 'density')"
      ],
      "metadata": {
        "execution": {
          "iopub.status.busy": "2023-07-14T11:55:36.848219Z",
          "iopub.execute_input": "2023-07-14T11:55:36.848599Z",
          "iopub.status.idle": "2023-07-14T11:55:36.923591Z",
          "shell.execute_reply.started": "2023-07-14T11:55:36.848569Z",
          "shell.execute_reply": "2023-07-14T11:55:36.922653Z"
        },
        "trusted": true,
        "id": "wZIhJOGvVnYa"
      },
      "execution_count": null,
      "outputs": []
    },
    {
      "cell_type": "markdown",
      "source": [
        "> <p style=\"font-size: 20px\"><b>📝 In the 3D Scatterplot above, we can see the relationships between <code>citric acid</code>, <code>fixed acidity</code>, and <code>density</code>, which are highy-correlated features.</b></p>"
      ],
      "metadata": {
        "id": "Bgv6Ni64VnYa"
      }
    },
    {
      "cell_type": "markdown",
      "source": [
        "<h1 id = 'eda2' style=\"border-bottom: 1px solid #ccc;\n",
        "                        padding-bottom: 10px;\n",
        "                        margin-bottom: 10px;\n",
        "                        font-size: 26px;\n",
        "                        font-weight: bold;\n",
        "                        color: black;\n",
        "                        font-family: Poppins\">Continuous Features</h1>"
      ],
      "metadata": {
        "id": "vi29uHiqVnYb"
      }
    },
    {
      "cell_type": "code",
      "source": [
        "cols = df.columns.tolist()\n",
        "cols.remove('quality')"
      ],
      "metadata": {
        "_kg_hide-input": true,
        "execution": {
          "iopub.status.busy": "2023-07-14T11:55:40.363848Z",
          "iopub.execute_input": "2023-07-14T11:55:40.364547Z",
          "iopub.status.idle": "2023-07-14T11:55:40.370522Z",
          "shell.execute_reply.started": "2023-07-14T11:55:40.364509Z",
          "shell.execute_reply": "2023-07-14T11:55:40.369110Z"
        },
        "trusted": true,
        "id": "_KFrC941VnYb"
      },
      "execution_count": null,
      "outputs": []
    },
    {
      "cell_type": "code",
      "source": [
        "plot_histogram_matrix(df)"
      ],
      "metadata": {
        "_kg_hide-input": true,
        "execution": {
          "iopub.status.busy": "2023-07-14T11:55:40.909705Z",
          "iopub.execute_input": "2023-07-14T11:55:40.910136Z",
          "iopub.status.idle": "2023-07-14T11:55:41.331092Z",
          "shell.execute_reply.started": "2023-07-14T11:55:40.910104Z",
          "shell.execute_reply": "2023-07-14T11:55:41.330067Z"
        },
        "trusted": true,
        "id": "NpC0-LU2VnYb"
      },
      "execution_count": null,
      "outputs": []
    },
    {
      "cell_type": "markdown",
      "source": [
        "> <p style=\"font-size: 20px\"><b>📝 Most distributions do not seem to follow a gaussian-like distribution (i.e., a normal distribution). <br><br>\n",
        "    📝 <code>residual sugar</code> and <code>chlorides</code> seem to be very skewed. <br><br></b></p>"
      ],
      "metadata": {
        "id": "4G1qWMYsVnYc"
      }
    },
    {
      "cell_type": "code",
      "source": [
        "plot_boxplot_matrix(df)"
      ],
      "metadata": {
        "_kg_hide-input": true,
        "execution": {
          "iopub.status.busy": "2023-07-14T11:55:46.362103Z",
          "iopub.execute_input": "2023-07-14T11:55:46.362482Z",
          "iopub.status.idle": "2023-07-14T11:55:46.584760Z",
          "shell.execute_reply.started": "2023-07-14T11:55:46.362441Z",
          "shell.execute_reply": "2023-07-14T11:55:46.583566Z"
        },
        "trusted": true,
        "id": "DbfwV43qVnYc"
      },
      "execution_count": null,
      "outputs": []
    },
    {
      "cell_type": "markdown",
      "source": [
        "> <p style=\"font-size: 20px\"><b>📝 We have <i>outliers</i> present in every feature except for <code>citric acid</code>.</b></p>"
      ],
      "metadata": {
        "id": "t_GWdphvVnYc"
      }
    },
    {
      "cell_type": "code",
      "source": [
        "shapiro_wilk_test(df)"
      ],
      "metadata": {
        "_kg_hide-input": true,
        "execution": {
          "iopub.status.busy": "2023-07-14T11:55:47.637099Z",
          "iopub.execute_input": "2023-07-14T11:55:47.637507Z",
          "iopub.status.idle": "2023-07-14T11:55:47.662499Z",
          "shell.execute_reply.started": "2023-07-14T11:55:47.637474Z",
          "shell.execute_reply": "2023-07-14T11:55:47.661354Z"
        },
        "trusted": true,
        "id": "G5uL77WzVnYc"
      },
      "execution_count": null,
      "outputs": []
    },
    {
      "cell_type": "markdown",
      "source": [
        "> <p style=\"font-size: 20px\"><b>📝 The Shapiro-Wilk test confirms the <u>non-normality</u> of the distributions.</b></p>"
      ],
      "metadata": {
        "id": "2yhygkFaVnYd"
      }
    },
    {
      "cell_type": "markdown",
      "source": [
        "<h1 id = 'eda2' style=\"border-bottom: 1px solid #ccc;\n",
        "                        padding-bottom: 10px;\n",
        "                        margin-bottom: 10px;\n",
        "                        font-size: 26px;\n",
        "                        font-weight: bold;\n",
        "                        color: black;\n",
        "                        font-family: Poppins\">Target Variable - Wine Quality</h1>"
      ],
      "metadata": {
        "id": "8FU91muZVnYd"
      }
    },
    {
      "cell_type": "code",
      "source": [
        "barplot(df, 'quality')"
      ],
      "metadata": {
        "_kg_hide-input": true,
        "execution": {
          "iopub.status.busy": "2023-07-14T11:55:56.779376Z",
          "iopub.execute_input": "2023-07-14T11:55:56.779753Z",
          "iopub.status.idle": "2023-07-14T11:55:56.983221Z",
          "shell.execute_reply.started": "2023-07-14T11:55:56.779724Z",
          "shell.execute_reply": "2023-07-14T11:55:56.982131Z"
        },
        "trusted": true,
        "id": "7BCp8fZJVnYd"
      },
      "execution_count": null,
      "outputs": []
    },
    {
      "cell_type": "code",
      "source": [
        "individual_boxplot(df, 'quality')"
      ],
      "metadata": {
        "_kg_hide-input": true,
        "execution": {
          "iopub.status.busy": "2023-07-14T11:55:57.309652Z",
          "iopub.execute_input": "2023-07-14T11:55:57.310075Z",
          "iopub.status.idle": "2023-07-14T11:55:57.443768Z",
          "shell.execute_reply.started": "2023-07-14T11:55:57.310035Z",
          "shell.execute_reply": "2023-07-14T11:55:57.442427Z"
        },
        "trusted": true,
        "id": "6vrDa_PsVnYd"
      },
      "execution_count": null,
      "outputs": []
    },
    {
      "cell_type": "markdown",
      "source": [
        "> <p style=\"font-size: 20px\"><b>📝 Most wines are classified as either 5 or 6 in quality. <br><br>\n",
        "    📝 A low number of wines are classified as \"exceptionally good\" (8). An even lower number gets classified as \"awful\" (3).</b></p>"
      ],
      "metadata": {
        "id": "mVSct5heVnYe"
      }
    },
    {
      "cell_type": "code",
      "source": [
        "features = df.columns.tolist()\n",
        "features.remove('quality')\n",
        "for i in features:\n",
        "    violin_boxplot(df, i, 'quality', 'quality')"
      ],
      "metadata": {
        "execution": {
          "iopub.status.busy": "2023-07-14T11:56:03.759380Z",
          "iopub.execute_input": "2023-07-14T11:56:03.760628Z",
          "iopub.status.idle": "2023-07-14T11:56:05.236355Z",
          "shell.execute_reply.started": "2023-07-14T11:56:03.760587Z",
          "shell.execute_reply": "2023-07-14T11:56:05.234648Z"
        },
        "_kg_hide-input": true,
        "trusted": true,
        "id": "z8P-dYQGVnYe"
      },
      "execution_count": null,
      "outputs": []
    },
    {
      "cell_type": "markdown",
      "source": [
        "> <p style=\"font-size: 20px\"><b>📝 The violin boxplot confirms the high positive correlation between <code>alcohol</code> and <code>quality</code>. The higher the alcohol, the higher the quality of the wine. <br><br>\n",
        "    📝 Similar behavior can be seen in <code>sulphates</code>, as higher median values suggest higher quality.<br><br>\n",
        "    📝 As the median value of <code>volatile acidity</code> gets lower, the quality gets higher. This suggests a negative correlation between this feature and the target variable.</b></p>"
      ],
      "metadata": {
        "id": "03a9ZgbUVnYe"
      }
    },
    {
      "cell_type": "markdown",
      "source": [
        "<h1 id = 'eng' style=\"border-bottom: 1px solid #ccc;\n",
        "                        padding-bottom: 10px;\n",
        "                        margin-bottom: 10px;\n",
        "                        font-size: 38px;\n",
        "                        font-weight: bold;\n",
        "                        color: black;\n",
        "                        font-family: Poppins\">Feature Engineering</h1>"
      ],
      "metadata": {
        "id": "ofEQBCV5VnYf"
      }
    },
    {
      "cell_type": "markdown",
      "source": [
        "<p style=\"font-size: 20px\">For feature engineering, we are going to create a function to perform some operations to create new features. These new features mays be able to increase the accuracy of our model in predicting wine quality.</p>"
      ],
      "metadata": {
        "id": "sR7AMIxCVnYf"
      }
    },
    {
      "cell_type": "markdown",
      "source": [
        "<h1 id = 'feat_eng2' style=\"border-bottom: 1px solid #ccc;\n",
        "                        padding-bottom: 10px;\n",
        "                        margin-bottom: 10px;\n",
        "                        font-size: 26px;\n",
        "                        font-weight: bold;\n",
        "                        color: black;\n",
        "                        font-family: Poppins\">Creating New Features</h1>"
      ],
      "metadata": {
        "id": "DhX04R9AVnYf"
      }
    },
    {
      "cell_type": "markdown",
      "source": [
        "<p style=\"font-size: 20px\">First, we create a copy of the original dataframe to test some basic preprocessing steps. <br><br>\n",
        "It is important to work with a copy of the original dataframe in case something goes wrong.</p>"
      ],
      "metadata": {
        "id": "oZKbq-_YVnYf"
      }
    },
    {
      "cell_type": "code",
      "source": [
        "# Creating a copy of the dataframe\n",
        "copy_df = df.copy()\n",
        "copy_df.head(3)"
      ],
      "metadata": {
        "execution": {
          "iopub.status.busy": "2023-07-14T11:56:15.654164Z",
          "iopub.execute_input": "2023-07-14T11:56:15.654607Z",
          "iopub.status.idle": "2023-07-14T11:56:15.678532Z",
          "shell.execute_reply.started": "2023-07-14T11:56:15.654573Z",
          "shell.execute_reply": "2023-07-14T11:56:15.677351Z"
        },
        "trusted": true,
        "id": "XipObOGoVnYg"
      },
      "execution_count": null,
      "outputs": []
    },
    {
      "cell_type": "code",
      "source": [],
      "metadata": {
        "id": "zGNR4_Z9SS3I"
      },
      "execution_count": null,
      "outputs": []
    },
    {
      "cell_type": "code",
      "source": [
        "# Cleaning column names and creating new features\n",
        "def feat_eng(df):\n",
        "    df.columns = df.columns.str.replace(' ', '_')\n",
        "    df['total_acidity'] = df['fixed_acidity'] + df['volatile_acidity'] + df['citric_acid']\n",
        "    df['acidity_to_pH_ratio'] = df['total_acidity'] / df['pH']\n",
        "    df['free_sulfur_dioxide_to_total_sulfur_dioxide_ratio'] = df['free_sulfur_dioxide'] / df['total_sulfur_dioxide']\n",
        "    df['alcohol_to_acidity_ratio'] = df['alcohol'] / df['total_acidity']\n",
        "    df['residual_sugar_to_citric_acid_ratio'] = df['residual_sugar'] / df['citric_acid']\n",
        "    df['alcohol_to_density_ratio'] = df['alcohol'] / df['density']\n",
        "    df['total_alkalinity'] = df['pH'] + df['alcohol']\n",
        "    df['total_minerals'] = df['chlorides'] + df['sulphates'] + df['residual_sugar']\n",
        "\n",
        "    # Cleaning inf or null values that may result from the operations above\n",
        "    df = df.replace([np.inf, -np.inf], 0)\n",
        "    df = df.dropna()\n",
        "\n",
        "    return df"
      ],
      "metadata": {
        "execution": {
          "iopub.status.busy": "2023-07-14T11:56:16.434301Z",
          "iopub.execute_input": "2023-07-14T11:56:16.434726Z",
          "iopub.status.idle": "2023-07-14T11:56:16.445694Z",
          "shell.execute_reply.started": "2023-07-14T11:56:16.434693Z",
          "shell.execute_reply": "2023-07-14T11:56:16.443046Z"
        },
        "trusted": true,
        "id": "mdLLOhRzVnYg"
      },
      "execution_count": null,
      "outputs": []
    },
    {
      "cell_type": "markdown",
      "source": [
        "<p style=\"font-size: 20px\">Below, you may see the dataframe with the new features.</p>"
      ],
      "metadata": {
        "id": "5McGw8eUVnYg"
      }
    },
    {
      "cell_type": "code",
      "source": [
        "copy_df = feat_eng(copy_df)\n",
        "copy_df.head(5)"
      ],
      "metadata": {
        "execution": {
          "iopub.status.busy": "2023-07-14T11:56:18.406864Z",
          "iopub.execute_input": "2023-07-14T11:56:18.407292Z",
          "iopub.status.idle": "2023-07-14T11:56:18.451710Z",
          "shell.execute_reply.started": "2023-07-14T11:56:18.407258Z",
          "shell.execute_reply": "2023-07-14T11:56:18.450637Z"
        },
        "_kg_hide-input": true,
        "trusted": true,
        "id": "7GY9eDX7VnYg"
      },
      "execution_count": null,
      "outputs": []
    },
    {
      "cell_type": "markdown",
      "source": [
        "<h1 id = 'feat_eng3' style=\"border-bottom: 1px solid #ccc;\n",
        "                        padding-bottom: 10px;\n",
        "                        margin-bottom: 10px;\n",
        "                        font-size: 28px;\n",
        "                        font-weight: bold;\n",
        "                        color: black;\n",
        "                        font-family: Poppins\">Transforming Distribution</h1>"
      ],
      "metadata": {
        "id": "VsmugR_4VnYg"
      }
    },
    {
      "cell_type": "markdown",
      "source": [
        "<p style=\"font-size: 20px\">By plotting the <code>histogram matrix</code>, we were able to realize the our data is not normally-distributed. In an attempt to improve performance and avoid biases, I am going to transfrom the distributions in the data for a more gaussian-like distribution. <br><br>\n",
        "I am going to use the <code>X_y_split</code> function to split the data into <b><i>Independent Features</i></b> $X$ and <b><i>Target Variable</i></b> $y$.</p>"
      ],
      "metadata": {
        "id": "vauhIu0eVnYh"
      }
    },
    {
      "cell_type": "code",
      "source": [
        "X, y = X_y_split(copy_df, 'quality')"
      ],
      "metadata": {
        "execution": {
          "iopub.status.busy": "2023-07-14T11:56:22.382566Z",
          "iopub.execute_input": "2023-07-14T11:56:22.382958Z",
          "iopub.status.idle": "2023-07-14T11:56:22.430472Z",
          "shell.execute_reply.started": "2023-07-14T11:56:22.382927Z",
          "shell.execute_reply": "2023-07-14T11:56:22.429397Z"
        },
        "trusted": true,
        "id": "vFDinzYsVnYh"
      },
      "execution_count": null,
      "outputs": []
    },
    {
      "cell_type": "markdown",
      "source": [
        "<p style=\"font-size: 20px\">Below, I'll conduct a simple test to see if there are any negative values in the $X$ dataframe. This is important to pick the most adequate method for transforming the distribution, as some methods don't work with negative values.</p>"
      ],
      "metadata": {
        "id": "y_jwxxmPVnYh"
      }
    },
    {
      "cell_type": "code",
      "source": [
        "has_negatives = np.any(X <= 0)\n",
        "\n",
        "if has_negatives:\n",
        "    print(\"There are negative values in the data.\")\n",
        "else:\n",
        "    print(\"There are no negative values in the data.\")"
      ],
      "metadata": {
        "execution": {
          "iopub.status.busy": "2023-07-14T11:56:26.199130Z",
          "iopub.execute_input": "2023-07-14T11:56:26.199526Z",
          "iopub.status.idle": "2023-07-14T11:56:26.208256Z",
          "shell.execute_reply.started": "2023-07-14T11:56:26.199496Z",
          "shell.execute_reply": "2023-07-14T11:56:26.206867Z"
        },
        "trusted": true,
        "id": "h15s9EW-VnYh"
      },
      "execution_count": null,
      "outputs": []
    },
    {
      "cell_type": "markdown",
      "source": [
        "> <p style=\"font-size: 20px\"><b>📝 By confirming the existance of negative values in the data, I decided to use <code>QuantileTransformer</code>.</b></p>"
      ],
      "metadata": {
        "id": "Q_EsF_NbVnYi"
      }
    },
    {
      "cell_type": "markdown",
      "source": [
        "<p style=\"font-size: 20px\">You can see below another histogram matrix displaying the new distributions across the data.</p>"
      ],
      "metadata": {
        "id": "ltrbX66WVnYi"
      }
    },
    {
      "cell_type": "code",
      "source": [
        "transformer = QuantileTransformer(output_distribution='normal')\n",
        "X_transformed = transformer.fit_transform(X)\n",
        "X_transformed = pd.DataFrame(X_transformed, columns=X.columns)\n",
        "plot_histogram_matrix(X_transformed)"
      ],
      "metadata": {
        "execution": {
          "iopub.status.busy": "2023-07-14T11:56:27.042298Z",
          "iopub.execute_input": "2023-07-14T11:56:27.042726Z",
          "iopub.status.idle": "2023-07-14T11:56:27.882147Z",
          "shell.execute_reply.started": "2023-07-14T11:56:27.042691Z",
          "shell.execute_reply": "2023-07-14T11:56:27.880873Z"
        },
        "_kg_hide-input": true,
        "trusted": true,
        "id": "PrMwiAESVnYi"
      },
      "execution_count": null,
      "outputs": []
    },
    {
      "cell_type": "markdown",
      "source": [
        "<h1 id = 'feat_eng4' style=\"border-bottom: 1px solid #ccc;\n",
        "                        padding-bottom: 10px;\n",
        "                        margin-bottom: 10px;\n",
        "                        font-size: 28px;\n",
        "                        font-weight: bold;\n",
        "                        color: black;\n",
        "                        font-family: Poppins\">Standardizing</h1>"
      ],
      "metadata": {
        "id": "PBCgkNvsVnYi"
      }
    },
    {
      "cell_type": "markdown",
      "source": [
        "<p style=\"font-size: 20px\">Some models are extremely sensitive to scale. During the exploratory analysis, we saw that our data has many different scales across features. By using <code>StandardScaler</code>, we can bring all features to the same scale by having $\\mu = 0$ and $\\sigma = 1$. <br><br>\n",
        "In the table below, you can see the new scale across our data.</p>"
      ],
      "metadata": {
        "id": "ifBjgbwyVnYi"
      }
    },
    {
      "cell_type": "code",
      "source": [
        "scaler = StandardScaler()\n",
        "X_scaled = scaler.fit_transform(X_transformed)\n",
        "X_scaled = pd.DataFrame(X_scaled, columns=X_transformed.columns)\n",
        "describe(X_scaled)"
      ],
      "metadata": {
        "execution": {
          "iopub.status.busy": "2023-07-14T11:56:43.146458Z",
          "iopub.execute_input": "2023-07-14T11:56:43.146987Z",
          "iopub.status.idle": "2023-07-14T11:56:43.215369Z",
          "shell.execute_reply.started": "2023-07-14T11:56:43.146934Z",
          "shell.execute_reply": "2023-07-14T11:56:43.214252Z"
        },
        "_kg_hide-input": true,
        "trusted": true,
        "id": "hdGurl5lVnYj"
      },
      "execution_count": null,
      "outputs": []
    },
    {
      "cell_type": "markdown",
      "source": [
        "<h1 id = 'select' style=\"border-bottom: 1px solid #ccc;\n",
        "                        padding-bottom: 10px;\n",
        "                        margin-bottom: 10px;\n",
        "                        font-size: 38px;\n",
        "                        font-weight: bold;\n",
        "                        color: black;\n",
        "                        font-family: Poppins\">Feature Selection</h1>"
      ],
      "metadata": {
        "id": "mROsxQUzVnYj"
      }
    },
    {
      "cell_type": "markdown",
      "source": [
        "<p style=\"font-size: 20px\">Feature selection operates on the idea of employing different algorithms and tools to identify the most relevant variables for predicting a certain target.\n",
        "<br><br>\n",
        "I will be utilizing <code>RFECV</code>, with a simple <code>RandomForestClassifier</code> as the estimator, to select the features in $X$ that are considered most significant for predicting the values in $y$.\n",
        "<br><br>\n",
        "Let's start by defining a <code>cv</code> KFold strategy below.</p>"
      ],
      "metadata": {
        "id": "fh6miaRHVnYj"
      }
    },
    {
      "cell_type": "code",
      "source": [
        "cv = StratifiedKFold(n_splits = 5,shuffle = True, random_state = seed)\n",
        "cv_splits = list(cv.split(X,y))"
      ],
      "metadata": {
        "execution": {
          "iopub.status.busy": "2023-07-14T11:56:50.964034Z",
          "iopub.execute_input": "2023-07-14T11:56:50.964427Z",
          "iopub.status.idle": "2023-07-14T11:56:50.975831Z",
          "shell.execute_reply.started": "2023-07-14T11:56:50.964389Z",
          "shell.execute_reply": "2023-07-14T11:56:50.974541Z"
        },
        "trusted": true,
        "id": "-LdpxIyZVnYj"
      },
      "execution_count": null,
      "outputs": []
    },
    {
      "cell_type": "markdown",
      "source": [
        "<p style=\"font-size: 20px\">After running <code>RFECV</code>, we may see a list of selected features. I am also going to redefine the $X$ dataframe by selecting only the features in the list.</p>"
      ],
      "metadata": {
        "id": "tJ1M5rXLVnYk"
      }
    },
    {
      "cell_type": "code",
      "source": [
        "estimator = RandomForestClassifier(random_state=seed)\n",
        "rfe = RFECV(estimator=estimator, cv=cv, scoring=make_scorer(quadratic_weighted_kappa))\n",
        "rfe.fit(X, y)\n",
        "\n",
        "selected_features = []\n",
        "\n",
        "for i, feature in enumerate(X_scaled.columns):\n",
        "    if rfe.support_[i]:\n",
        "        selected_features.append(feature)\n",
        "\n",
        "print(f'{len(selected_features)} features selected out of {len(X_scaled.columns)}.')\n",
        "print(f'\\nSelected Features: \\n')\n",
        "for feature in selected_features:\n",
        "    print(feature)"
      ],
      "metadata": {
        "execution": {
          "iopub.status.busy": "2023-07-14T11:56:52.405378Z",
          "iopub.execute_input": "2023-07-14T11:56:52.405834Z",
          "iopub.status.idle": "2023-07-14T11:57:59.634271Z",
          "shell.execute_reply.started": "2023-07-14T11:56:52.405801Z",
          "shell.execute_reply": "2023-07-14T11:57:59.632947Z"
        },
        "_kg_hide-input": true,
        "trusted": true,
        "id": "HO3pHlMkVnYk"
      },
      "execution_count": null,
      "outputs": []
    },
    {
      "cell_type": "code",
      "source": [
        "X_scaled = X_scaled[selected_features]\n",
        "X_scaled.head(5)"
      ],
      "metadata": {
        "execution": {
          "iopub.status.busy": "2023-07-14T11:58:02.987043Z",
          "iopub.execute_input": "2023-07-14T11:58:02.987435Z",
          "iopub.status.idle": "2023-07-14T11:58:03.015185Z",
          "shell.execute_reply.started": "2023-07-14T11:58:02.987406Z",
          "shell.execute_reply": "2023-07-14T11:58:03.013894Z"
        },
        "_kg_hide-input": true,
        "trusted": true,
        "id": "sC2VFdSwVnYk"
      },
      "execution_count": null,
      "outputs": []
    },
    {
      "cell_type": "markdown",
      "source": [
        "<h1 id = 'cluster' style=\"border-bottom: 1px solid #ccc;\n",
        "                        padding-bottom: 10px;\n",
        "                        margin-bottom: 10px;\n",
        "                        font-size: 38px;\n",
        "                        font-weight: bold;\n",
        "                        color: black;\n",
        "                        font-family: Poppins\">Clustering</h1>"
      ],
      "metadata": {
        "id": "Ug-wA7cfVnYk"
      }
    },
    {
      "cell_type": "markdown",
      "source": [
        "<p style=\"font-size: 20px\">Clustering is done to identify natural groupings within the data that may not have been previously apparent.\n",
        "<br><br>\n",
        "I will use <code>KMeans</code>, which is probably the most popular clustering algorithm, to segregate our data into distinct clusters, based on feature similarities.\n",
        "<br><br>\n",
        "To identify the optimal number of clusters, I'll use the <b>Elbow Curve</b> method. This technique can help us to identify the right count of clusters where the rate of decrease in within-cluster sum of squares (WCSS) starts to diminish.\n",
        "<br><br>\n",
        "Let's take a look at the plot below.</p>"
      ],
      "metadata": {
        "id": "-IV4NjErVnYl"
      }
    },
    {
      "cell_type": "code",
      "source": [
        "wss_values = []\n",
        "for k in range(1,10):\n",
        "    kmeans = KMeans(n_clusters = k, random_state = seed)\n",
        "    kmeans.fit(X_scaled)\n",
        "    wss_values.append(kmeans.inertia_)\n",
        "elbow_curve(wss_values)"
      ],
      "metadata": {
        "execution": {
          "iopub.status.busy": "2023-07-14T11:58:05.528066Z",
          "iopub.execute_input": "2023-07-14T11:58:05.528549Z",
          "iopub.status.idle": "2023-07-14T11:58:09.118186Z",
          "shell.execute_reply.started": "2023-07-14T11:58:05.528513Z",
          "shell.execute_reply": "2023-07-14T11:58:09.116952Z"
        },
        "_kg_hide-input": true,
        "trusted": true,
        "id": "AW5UCTesVnYl"
      },
      "execution_count": null,
      "outputs": []
    },
    {
      "cell_type": "markdown",
      "source": [
        "<p style=\"font-size: 20px\">It seems like the optimal number of clusters may be around $K = 3$ or $K = 4$. <br><br>\n",
        "I am going to cluster our data twice, segregating it into three clusters and first and four clusters afterwards. We can then see a clustered scatterplot to see what kind of behavior we may identify in the data.</p>"
      ],
      "metadata": {
        "id": "pJUhldvUVnYl"
      }
    },
    {
      "cell_type": "code",
      "source": [
        "kmeans = KMeans(n_clusters = 3, random_state = seed)\n",
        "kmeans.fit(X_scaled)\n",
        "X_scaled['Cluster_3'] = kmeans.labels_\n",
        "clustered_scatterplot(X_scaled,'total_alkalinity', 'alcohol', 'Cluster_3')"
      ],
      "metadata": {
        "execution": {
          "iopub.status.busy": "2023-07-14T11:58:09.120989Z",
          "iopub.execute_input": "2023-07-14T11:58:09.121756Z",
          "iopub.status.idle": "2023-07-14T11:58:09.473307Z",
          "shell.execute_reply.started": "2023-07-14T11:58:09.121713Z",
          "shell.execute_reply": "2023-07-14T11:58:09.471937Z"
        },
        "_kg_hide-input": true,
        "trusted": true,
        "id": "Tff_t_rYVnYl"
      },
      "execution_count": null,
      "outputs": []
    },
    {
      "cell_type": "code",
      "source": [
        "kmeans = KMeans(n_clusters = 4, random_state = seed)\n",
        "kmeans.fit(X_scaled)\n",
        "X_scaled['Cluster_4'] = kmeans.labels_\n",
        "clustered_scatterplot(X_scaled,'total_alkalinity', 'alcohol', 'Cluster_4')"
      ],
      "metadata": {
        "execution": {
          "iopub.status.busy": "2023-07-14T11:58:09.475158Z",
          "iopub.execute_input": "2023-07-14T11:58:09.475603Z",
          "iopub.status.idle": "2023-07-14T11:58:09.799317Z",
          "shell.execute_reply.started": "2023-07-14T11:58:09.475565Z",
          "shell.execute_reply": "2023-07-14T11:58:09.798280Z"
        },
        "_kg_hide-input": true,
        "trusted": true,
        "id": "9q4rln7DVnYm"
      },
      "execution_count": null,
      "outputs": []
    },
    {
      "cell_type": "markdown",
      "source": [
        "> <p style=\"font-size: 20px\"><b>📝 It seems like $K = 3$ is able to better group the data. <br><br>\n",
        "    📝 We can clearly see that <code>cluster 0</code> is more concentrated towards negative values, while <code>cluster 1</code> is more concentrated towards positive values. <code>cluster 2</code> gets grouped towards the middle.</b></p>"
      ],
      "metadata": {
        "id": "_KP6zGJAVnYm"
      }
    },
    {
      "cell_type": "markdown",
      "source": [
        "<h1 id = 'model' style=\"border-bottom: 1px solid #ccc;\n",
        "                        padding-bottom: 10px;\n",
        "                        margin-bottom: 10px;\n",
        "                        font-size: 38px;\n",
        "                        font-weight: bold;\n",
        "                        color: black;\n",
        "                        font-family: Poppins\">Modeling</h1>"
      ],
      "metadata": {
        "id": "XQYlxJ5-VnYm"
      }
    },
    {
      "cell_type": "markdown",
      "source": [
        "<p style=\"font-size: 20px\">The first part of our modeling process is building the <code>pipeline</code>. <br><br>\n",
        "The purpose of the pipeline is to easily and autonomously preprocess the data by performing the transformations we've performed on the <code>copy_df</code> dataframe above.</p>"
      ],
      "metadata": {
        "id": "2DV6hDSvVnYn"
      }
    },
    {
      "cell_type": "markdown",
      "source": [
        "<h1 id = 'eda2' style=\"border-bottom: 1px solid #ccc;\n",
        "                        padding-bottom: 10px;\n",
        "                        margin-bottom: 10px;\n",
        "                        font-size: 26px;\n",
        "                        font-weight: bold;\n",
        "                        color: black;\n",
        "                        font-family: Poppins\">Building Pipeline</h1>"
      ],
      "metadata": {
        "id": "Ry03RfNuVnYn"
      }
    },
    {
      "cell_type": "markdown",
      "source": [
        "<p style=\"font-size: 20px\">Below you can see the original dataframe with the raw data, without any transformation.</p>"
      ],
      "metadata": {
        "id": "4c_NixUGVnYn"
      }
    },
    {
      "cell_type": "code",
      "source": [
        "df"
      ],
      "metadata": {
        "execution": {
          "iopub.status.busy": "2023-07-14T11:58:21.466319Z",
          "iopub.execute_input": "2023-07-14T11:58:21.466690Z",
          "iopub.status.idle": "2023-07-14T11:58:21.498289Z",
          "shell.execute_reply.started": "2023-07-14T11:58:21.466655Z",
          "shell.execute_reply": "2023-07-14T11:58:21.496980Z"
        },
        "_kg_hide-input": true,
        "trusted": true,
        "id": "L8uYKLkeVnYn"
      },
      "execution_count": null,
      "outputs": []
    },
    {
      "cell_type": "markdown",
      "source": [
        "<p style=\"font-size: 20px\">In the following cells, I am going to create some functions and classes that are going to compose our Pipeline.</p>"
      ],
      "metadata": {
        "id": "DoMZ2bWuVnYn"
      }
    },
    {
      "cell_type": "code",
      "source": [
        "# Cleaning and creating features\n",
        "def feat_eng(df):\n",
        "    df.columns = df.columns.str.replace(' ', '_')\n",
        "    df['total_acidity'] = df['fixed_acidity'] + df['volatile_acidity'] + df['citric_acid']\n",
        "    df['acidity_to_pH_ratio'] = df['total_acidity'] / df['pH']\n",
        "    df['free_sulfur_dioxide_to_total_sulfur_dioxide_ratio'] = df['free_sulfur_dioxide'] / df['total_sulfur_dioxide']\n",
        "    df['alcohol_to_acidity_ratio'] = df['alcohol'] / df['total_acidity']\n",
        "    df['residual_sugar_to_citric_acid_ratio'] = df['residual_sugar'] / df['citric_acid']\n",
        "    df['alcohol_to_density_ratio'] = df['alcohol'] / df['density']\n",
        "    df['total_alkalinity'] = df['pH'] + df['alcohol']\n",
        "    df['total_minerals'] = df['chlorides'] + df['sulphates'] + df['residual_sugar']\n",
        "\n",
        "    df = df.replace([np.inf, -np.inf], 0)\n",
        "    df = df.dropna()\n",
        "\n",
        "    df = df[selected_features]\n",
        "\n",
        "    return df"
      ],
      "metadata": {
        "execution": {
          "iopub.status.busy": "2023-07-14T11:58:22.495243Z",
          "iopub.execute_input": "2023-07-14T11:58:22.495627Z",
          "iopub.status.idle": "2023-07-14T11:58:22.504977Z",
          "shell.execute_reply.started": "2023-07-14T11:58:22.495599Z",
          "shell.execute_reply": "2023-07-14T11:58:22.503569Z"
        },
        "trusted": true,
        "id": "WwyyV6hQVnYn"
      },
      "execution_count": null,
      "outputs": []
    },
    {
      "cell_type": "code",
      "source": [
        "# Applying QuantileTransformer to change the distribution to a gaussian-like distribution\n",
        "class CustomQuantileTransformer(BaseEstimator, TransformerMixin):\n",
        "    def __init__(self, random_state=None):\n",
        "        self.random_state = random_state\n",
        "        self.quantile_transformer = QuantileTransformer(output_distribution='normal', random_state=self.random_state)\n",
        "\n",
        "    def fit(self, X_train, y=None):\n",
        "        self.quantile_transformer.fit(X_train)\n",
        "        return self\n",
        "\n",
        "    def transform(self, X):\n",
        "        X_transformed = self.quantile_transformer.transform(X)\n",
        "        X = pd.DataFrame(X_transformed, columns=X.columns)\n",
        "        return X"
      ],
      "metadata": {
        "execution": {
          "iopub.status.busy": "2023-07-14T11:58:23.902575Z",
          "iopub.execute_input": "2023-07-14T11:58:23.902989Z",
          "iopub.status.idle": "2023-07-14T11:58:23.913810Z",
          "shell.execute_reply.started": "2023-07-14T11:58:23.902956Z",
          "shell.execute_reply": "2023-07-14T11:58:23.912077Z"
        },
        "trusted": true,
        "id": "l8VmIm2JVnYo"
      },
      "execution_count": null,
      "outputs": []
    },
    {
      "cell_type": "code",
      "source": [
        "# Applying StandardScaler to bring every feature to the same scale\n",
        "class CustomStandardScaler(BaseEstimator, TransformerMixin):\n",
        "    def __init__(self):\n",
        "        self.scaler = StandardScaler()\n",
        "\n",
        "    def fit(self, X_train, y=None):\n",
        "        self.scaler.fit(X_train)\n",
        "        return self\n",
        "\n",
        "    def transform(self, X):\n",
        "        X_transformed = self.scaler.transform(X)\n",
        "        X = pd.DataFrame(X_transformed, columns=X.columns)\n",
        "        return X"
      ],
      "metadata": {
        "execution": {
          "iopub.status.busy": "2023-07-14T11:58:24.498104Z",
          "iopub.execute_input": "2023-07-14T11:58:24.498479Z",
          "iopub.status.idle": "2023-07-14T11:58:24.506289Z",
          "shell.execute_reply.started": "2023-07-14T11:58:24.498451Z",
          "shell.execute_reply": "2023-07-14T11:58:24.504859Z"
        },
        "trusted": true,
        "id": "2WNL5AySVnYo"
      },
      "execution_count": null,
      "outputs": []
    },
    {
      "cell_type": "code",
      "source": [
        "# Applying KMeans clustering with n_clusters = 3\n",
        "\n",
        "class KMeansTransformer(BaseEstimator, TransformerMixin):\n",
        "\n",
        "    def __init__(self, n_clusters=3, random_state=seed):\n",
        "        self.n_clusters = n_clusters\n",
        "        self.random_state = random_state\n",
        "        self.kmeans = KMeans(n_clusters=self.n_clusters, random_state=self.random_state)\n",
        "\n",
        "    def fit(self, X_train, y=None):\n",
        "        self.kmeans.fit(X_train)\n",
        "        return self\n",
        "\n",
        "    def transform(self, X):\n",
        "        X_clustered = pd.DataFrame(X.copy())\n",
        "        cluster_labels = self.kmeans.predict(X)\n",
        "        X_clustered['Cluster'] = cluster_labels\n",
        "        return X_clustered"
      ],
      "metadata": {
        "execution": {
          "iopub.status.busy": "2023-07-14T11:58:25.706219Z",
          "iopub.execute_input": "2023-07-14T11:58:25.706761Z",
          "iopub.status.idle": "2023-07-14T11:58:25.717251Z",
          "shell.execute_reply.started": "2023-07-14T11:58:25.706712Z",
          "shell.execute_reply": "2023-07-14T11:58:25.715711Z"
        },
        "trusted": true,
        "id": "9UP7fqXXVnYo"
      },
      "execution_count": null,
      "outputs": []
    },
    {
      "cell_type": "markdown",
      "source": [
        "<p style=\"font-size: 20px\">After creating all the steps above, we define the Pipeline. <br><br>\n",
        "The pipeline ensures that the data will be preprocessed and transformed in a sequential order.</p>"
      ],
      "metadata": {
        "id": "xF1gZ-HFVnYo"
      }
    },
    {
      "cell_type": "code",
      "source": [
        "pipeline = Pipeline([\n",
        "    ('Feature Engineering', FunctionTransformer(feat_eng)),\n",
        "    ('Transforming Distribution', CustomQuantileTransformer()),\n",
        "    ('Standard Scaler', CustomStandardScaler()),\n",
        "    ('Clustering', KMeansTransformer()),\n",
        "    ('Model', None)\n",
        "])"
      ],
      "metadata": {
        "execution": {
          "iopub.status.busy": "2023-07-14T11:58:26.385754Z",
          "iopub.execute_input": "2023-07-14T11:58:26.386184Z",
          "iopub.status.idle": "2023-07-14T11:58:26.392933Z",
          "shell.execute_reply.started": "2023-07-14T11:58:26.386153Z",
          "shell.execute_reply": "2023-07-14T11:58:26.391569Z"
        },
        "trusted": true,
        "id": "O0EA1QWMVnYo"
      },
      "execution_count": null,
      "outputs": []
    },
    {
      "cell_type": "code",
      "source": [
        "pipeline # Visualizing the pipeline"
      ],
      "metadata": {
        "execution": {
          "iopub.status.busy": "2023-07-14T11:58:30.986960Z",
          "iopub.execute_input": "2023-07-14T11:58:30.987373Z",
          "iopub.status.idle": "2023-07-14T11:58:31.011491Z",
          "shell.execute_reply.started": "2023-07-14T11:58:30.987343Z",
          "shell.execute_reply": "2023-07-14T11:58:31.009972Z"
        },
        "trusted": true,
        "id": "zjPGLZ56VnYo"
      },
      "execution_count": null,
      "outputs": []
    },
    {
      "cell_type": "markdown",
      "source": [
        "<h1 id = 'eda2' style=\"border-bottom: 1px solid #ccc;\n",
        "                        padding-bottom: 10px;\n",
        "                        margin-bottom: 10px;\n",
        "                        font-size: 26px;\n",
        "                        font-weight: bold;\n",
        "                        color: black;\n",
        "                        font-family: Poppins\">Selecting Models</h1>"
      ],
      "metadata": {
        "id": "Ewbob-HJVnYp"
      }
    },
    {
      "cell_type": "markdown",
      "source": [
        "<p style=\"font-size: 20px\">You can notice that the last step of the pipeline is currently <code>None</code>, indicating the emptyness in the <code>Model</code> parameter.\n",
        "<br><br>\n",
        "We are going to perform <code>cross validation</code> with different models to see which one's the best. First, let's split our original dataframe into $X$ and $y$, similarly to what we did before with the copy dataframe.</p>"
      ],
      "metadata": {
        "id": "ICJaZjX_VnYp"
      }
    },
    {
      "cell_type": "code",
      "source": [
        "X, y = X_y_split(df, 'quality') # Splitting original data"
      ],
      "metadata": {
        "execution": {
          "iopub.status.busy": "2023-07-14T11:58:34.944971Z",
          "iopub.execute_input": "2023-07-14T11:58:34.946629Z",
          "iopub.status.idle": "2023-07-14T11:58:34.984516Z",
          "shell.execute_reply.started": "2023-07-14T11:58:34.946572Z",
          "shell.execute_reply": "2023-07-14T11:58:34.983362Z"
        },
        "trusted": true,
        "id": "mCVz6Wt3VnYp"
      },
      "execution_count": null,
      "outputs": []
    },
    {
      "cell_type": "code",
      "source": [
        "# Defining CV strategy\n",
        "cv = StratifiedKFold(n_splits = 5,shuffle = True, random_state = seed)\n",
        "cv_splits = list(cv.split(X,y))"
      ],
      "metadata": {
        "execution": {
          "iopub.status.busy": "2023-07-14T11:58:37.038023Z",
          "iopub.execute_input": "2023-07-14T11:58:37.039194Z",
          "iopub.status.idle": "2023-07-14T11:58:37.047348Z",
          "shell.execute_reply.started": "2023-07-14T11:58:37.039142Z",
          "shell.execute_reply": "2023-07-14T11:58:37.046339Z"
        },
        "trusted": true,
        "id": "Au8kpU4WVnYp"
      },
      "execution_count": null,
      "outputs": []
    },
    {
      "cell_type": "code",
      "source": [
        "#y_range = y.max() - y.min()\n",
        "#y_median = y.median()\n",
        "#y_mean = y.mean()\n",
        "#y_std = y.std()\n",
        "\n",
        "#print(f\"Range of y: {y_range}\")\n",
        "#print(f\"Median of y: {y_median}\")\n",
        "#print(f\"Mean of y: {y_mean:.2f}\")\n",
        "#print(f\"Standard deviation of y: {y_std:.2f}\")"
      ],
      "metadata": {
        "execution": {
          "iopub.status.busy": "2023-07-14T11:58:38.611987Z",
          "iopub.execute_input": "2023-07-14T11:58:38.612717Z",
          "iopub.status.idle": "2023-07-14T11:58:38.617839Z",
          "shell.execute_reply.started": "2023-07-14T11:58:38.612673Z",
          "shell.execute_reply": "2023-07-14T11:58:38.616799Z"
        },
        "_kg_hide-input": true,
        "trusted": true,
        "id": "8wzP6zBcVnYp"
      },
      "execution_count": null,
      "outputs": []
    },
    {
      "cell_type": "markdown",
      "source": [
        "<p style=\"font-size: 20px\">Below, I'll create a <code>classifiers</code> list, containing different algorithms that are going to be tested during cross validation.\n",
        "<br><br>\n",
        "The evaluation metric of this competition is the <code>Quadratic Weighted Kappa</code> score, which is a metric that evaluates the agreement between two raters, in this case, the predicted and actual values. It's particularly useful for datasets with ordinal categories, and takes both under-prediction and over-prediction into account.\n",
        "<br><br>\n",
        "The formula for Quadratic Weighted Kappa is given as:\n",
        "<br><br></p>\n",
        "<p style=\"font-size: 24px\">\n",
        "\\[\n",
        "\\kappa = 1 - \\frac{\\sum_{i,j}w_{ij}O_{ij}}{\\sum_{i,j}w_{ij}E_{ij}}\n",
        "\\]\n",
        "<br><br></p>\n",
        "<p style=\"font-size: 20px\">where: <br><br>\n",
        ". \\(O_{ij}\\) is the actual confusion matrix. <br><br>\n",
        ". \\(E_{ij}\\) is the expected confusion matrix under randomness. <br><br>\n",
        ". \\(w_{ij}\\) is the weighted matrix, which can be calculated as \\((i-j)^2\\), where \\(i\\) and \\(j\\) are the ratings.\n",
        "<br><br><br>\n",
        "A score of 1 implies <b>perfect agreement</b> between the raters, while a score of 0 indicates that the agreement is no better than what would be expected by random chance. Negative values suggest that the agreement is even worse than random.</p>"
      ],
      "metadata": {
        "id": "kGYG41MmVnYq"
      }
    },
    {
      "cell_type": "code",
      "source": [
        "# List of classification algorithms\n",
        "classifiers = [\n",
        "    ('CatBoost', CatBoostClassifier(random_state = seed, verbose = False)),\n",
        "    ('LightGBM', LGBMClassifier(random_state = seed)),\n",
        "    #('XGboost', XGBClassifier(random_state = seed)),\n",
        "    ('Ada Boost', AdaBoostClassifier(random_state = seed)),\n",
        "    ('Histogram-based Gradient Boosting', HistGradientBoostingClassifier(random_state = seed))\n",
        "]"
      ],
      "metadata": {
        "execution": {
          "iopub.status.busy": "2023-07-14T11:58:39.602315Z",
          "iopub.execute_input": "2023-07-14T11:58:39.602761Z",
          "iopub.status.idle": "2023-07-14T11:58:39.613858Z",
          "shell.execute_reply.started": "2023-07-14T11:58:39.602729Z",
          "shell.execute_reply": "2023-07-14T11:58:39.612491Z"
        },
        "trusted": true,
        "id": "DHt93AH-VnYq"
      },
      "execution_count": null,
      "outputs": []
    },
    {
      "cell_type": "markdown",
      "source": [
        "<p style=\"font-size: 20px\">We will now perform cross validation on every model in the list below, except <code>XGBoost</code>, and choose the ones with the highest mean Quadratic Weighted Kappa. We will also look for the mean standard deviation across folds. In this case, the lower standard deviation, the more stable the model is, thus more reliable.</p>"
      ],
      "metadata": {
        "id": "QTKj1ERLVnYq"
      }
    },
    {
      "cell_type": "code",
      "source": [
        "print('\\nCross-Validation:')\n",
        "for j, (name, clf) in enumerate(classifiers):\n",
        "    scores = []\n",
        "    r2_scores = []\n",
        "    pipeline.set_params(Model = clf)\n",
        "\n",
        "    print('\\n')\n",
        "    print(f'\\n{name} Classifier:\\n')\n",
        "\n",
        "    for i, (train_index, val_index) in enumerate(cv_splits):\n",
        "        X_train, X_val = X.iloc[train_index], X.iloc[val_index]\n",
        "        y_train, y_val = y.iloc[train_index], y.iloc[val_index]\n",
        "\n",
        "        pipeline.fit(X_train, y_train)\n",
        "        y_pred = pipeline.predict(X_val)\n",
        "\n",
        "        kappa = cohen_kappa_score(y_val, y_pred, weights = 'quadratic')\n",
        "\n",
        "        print(f'Fold {i + 1}:\\n')\n",
        "        print(f'  Quadratic Weighted Kappa = {kappa:.4f}')\n",
        "\n",
        "        scores.append(kappa)\n",
        "\n",
        "        print('===================================================')\n",
        "\n",
        "    if i == len(cv_splits) - 1:\n",
        "        mean_score = np.mean(scores)\n",
        "        fold_std = np.std(scores)\n",
        "\n",
        "        print(f'\\n  Mean Quadratic Weighted Kappa = = {mean_score:.4f} \\u00B1 {fold_std:.4f}')"
      ],
      "metadata": {
        "execution": {
          "iopub.status.busy": "2023-07-14T11:58:40.581403Z",
          "iopub.execute_input": "2023-07-14T11:58:40.581802Z",
          "iopub.status.idle": "2023-07-14T12:00:16.552296Z",
          "shell.execute_reply.started": "2023-07-14T11:58:40.581751Z",
          "shell.execute_reply": "2023-07-14T12:00:16.550927Z"
        },
        "_kg_hide-input": true,
        "trusted": true,
        "id": "DpXwh99NVnYq"
      },
      "execution_count": null,
      "outputs": []
    },
    {
      "cell_type": "markdown",
      "source": [
        "<p style=\"font-size: 20px\"> The <b>best</b> model is the <code>CatBoost Classifier</code>, with mean <code>QWK = 0.4771</code> and mean <code>σ = ±0.0147</code>. This model outperforms the others in both the evaluation metrics and the standard deviation across folds, indicating more stability of performance. <br><br>\n",
        "The second-best model is the <code>Histogram-based Gradient Boosting Classifier</code>, with mean <code>QWK = 0.4734</code> and mean <code>σ = ±0.0281</code>.</p>"
      ],
      "metadata": {
        "id": "3ZUPjuy_VnYq"
      }
    },
    {
      "cell_type": "markdown",
      "source": [
        "<h1 id = 'tuning' style=\"border-bottom: 1px solid #ccc;\n",
        "                        padding-bottom: 10px;\n",
        "                        margin-bottom: 10px;\n",
        "                        font-size: 28px;\n",
        "                        font-weight: bold;\n",
        "                        color: black;\n",
        "                        font-family: Poppins\">Tuning Models</h1>"
      ],
      "metadata": {
        "id": "P2S-1HWyVnYr"
      }
    },
    {
      "cell_type": "markdown",
      "source": [
        "<p style=\"font-size: 20px\">Aiming at higher performances, I am going to use <code>Optuna</code> to individually tune and find the most optimal parameters for both the Histogram-based Gradient Boosting model and the CatBoost model.</p>"
      ],
      "metadata": {
        "id": "2sC4uxn_VnYr"
      }
    },
    {
      "cell_type": "code",
      "source": [
        "def objective(trial):\n",
        "    params = {\n",
        "        'loss': trial.suggest_categorical('loss', ['log_loss', 'auto', 'categorical_crossentropy']),\n",
        "        'learning_rate': trial.suggest_float('learning_rate', 0.1, 1.0, step = 0.2),\n",
        "        'max_iter': trial.suggest_int('max_iter', 100, 1000, step = 50),\n",
        "        'max_leaf_nodes': trial.suggest_int('max_leaf_nodes', 30, 10000, step = 100),\n",
        "        'max_depth': trial.suggest_int('max_depth', 30, 10000, step = 100),\n",
        "        'min_samples_leaf': trial.suggest_int('min_samples_leaf', 10, 1000, step = 15),\n",
        "        'l2_regularization': trial.suggest_float('l2_regularization', 0.01, 100, step = 0.05),\n",
        "        'class_weight': trial.suggest_categorical('class_weight', ['balanced', None])\n",
        "    }\n",
        "\n",
        "    pipeline.set_params(Model = HistGradientBoostingClassifier(**params, random_state = seed))\n",
        "    scores = []\n",
        "\n",
        "    for i, (train_index, val_index) in enumerate(cv_splits):\n",
        "        X_train, X_val = X.iloc[train_index], X.iloc[val_index]\n",
        "        y_train, y_val = y.iloc[train_index], y.iloc[val_index]\n",
        "\n",
        "        pipeline.fit(X_train, y_train)\n",
        "        y_pred = pipeline.predict(X_val)\n",
        "\n",
        "        kappa = cohen_kappa_score(y_val, y_pred, weights = 'quadratic')\n",
        "\n",
        "        print(f'Fold {i + 1}:\\n')\n",
        "        print(f'  Quadratic Weighted Kappa = {kappa:.4f}\\n')\n",
        "\n",
        "        scores.append(kappa)\n",
        "\n",
        "    if i == len(cv_splits) - 1:\n",
        "        mean_score = np.mean(scores)\n",
        "\n",
        "        print('* * * * * * * * * * * * * * * * * * * * * * * * * * * *\\n')\n",
        "        print(f'  Mean Quadratic Weighted Kappa: {mean_score:.4f}\\n')\n",
        "        print('\\n')\n",
        "\n",
        "    return mean_score\n",
        "\n",
        "\n",
        "study = optuna.create_study(direction='maximize')\n",
        "study.optimize(objective, n_trials = 100, show_progress_bar = True)"
      ],
      "metadata": {
        "_kg_hide-input": true,
        "_kg_hide-output": true,
        "execution": {
          "iopub.status.busy": "2023-07-14T12:00:47.951133Z",
          "iopub.execute_input": "2023-07-14T12:00:47.951528Z",
          "iopub.status.idle": "2023-07-14T12:17:34.379087Z",
          "shell.execute_reply.started": "2023-07-14T12:00:47.951499Z",
          "shell.execute_reply": "2023-07-14T12:17:34.378174Z"
        },
        "collapsed": true,
        "jupyter": {
          "outputs_hidden": true
        },
        "trusted": true,
        "id": "HH9K44rAVnYr"
      },
      "execution_count": null,
      "outputs": []
    },
    {
      "cell_type": "code",
      "source": [
        "best_params = study.best_params\n",
        "best_rmse_score = study.best_value\n",
        "\n",
        "\n",
        "print(f'\\nHistogram-based Gradient Boosting Regressor:\\n')\n",
        "print(f'\\n Best RMSE score = {best_rmse_score} \\n')\n",
        "print(f'\\n Best Params = {best_params} \\n')"
      ],
      "metadata": {
        "_kg_hide-input": true,
        "execution": {
          "iopub.status.busy": "2023-07-14T12:17:34.381023Z",
          "iopub.execute_input": "2023-07-14T12:17:34.381951Z",
          "iopub.status.idle": "2023-07-14T12:17:34.389599Z",
          "shell.execute_reply.started": "2023-07-14T12:17:34.381914Z",
          "shell.execute_reply": "2023-07-14T12:17:34.388180Z"
        },
        "trusted": true,
        "id": "PbVIdNhOVnYr"
      },
      "execution_count": null,
      "outputs": []
    },
    {
      "cell_type": "code",
      "source": [
        "def objective2(trial):\n",
        "    params = {\n",
        "        'learning_rate': trial.suggest_float('learning_rate', 0.01, 0.5, step=0.01),\n",
        "        'iterations': trial.suggest_int('iterations', 100, 1000, step=50),\n",
        "        'max_depth': trial.suggest_int('max_depth', 4, 10),\n",
        "        'subsample': trial.suggest_float('subsample', 0.1, 1.0, step=0.1),\n",
        "        'l2_leaf_reg': trial.suggest_float('l2_leaf_reg', 0.1, 10, step=0.1),\n",
        "        'min_data_in_leaf': trial.suggest_int('min_data_in_leaf', 1, 50),\n",
        "        'random_strength': trial.suggest_float('random_strength', 0.1, 10, step=0.1),\n",
        "        'verbose': False,\n",
        "        'bootstrap_type': trial.suggest_categorical('bootstrap_type', ['Bernoulli', 'MVS']),\n",
        "        'grow_policy': trial.suggest_categorical('grow_policy', ['SymmetricTree', 'Depthwise', 'Lossguide']),\n",
        "        'leaf_estimation_method': trial.suggest_categorical('leaf_estimation_method', ['Newton', 'Gradient']),\n",
        "        'eval_metric': 'Accuracy'\n",
        "    }\n",
        "\n",
        "    pipeline.set_params(Model = CatBoostClassifier(**params, random_state = seed))\n",
        "    scores = []\n",
        "\n",
        "    for i, (train_index, val_index) in enumerate(cv_splits):\n",
        "        X_train, X_val = X.iloc[train_index], X.iloc[val_index]\n",
        "        y_train, y_val = y.iloc[train_index], y.iloc[val_index]\n",
        "\n",
        "        pipeline.fit(X_train, y_train)\n",
        "        y_pred = pipeline.predict(X_val)\n",
        "\n",
        "        kappa = cohen_kappa_score(y_val, y_pred, weights = 'quadratic')\n",
        "\n",
        "        print(f'Fold {i + 1}:\\n')\n",
        "        print(f'  Quadratic Weighted Kappa = {kappa:.4f}\\n')\n",
        "\n",
        "        scores.append(kappa)\n",
        "\n",
        "    if i == len(cv_splits) - 1:\n",
        "        mean_score = np.mean(scores)\n",
        "\n",
        "        print('* * * * * * * * * * * * * * * * * * * * * * * * * * * *\\n')\n",
        "        print(f'  Mean Quadratic Weighted Kappa: {mean_score:.4f}\\n')\n",
        "        print('\\n')\n",
        "\n",
        "    return mean_score\n",
        "\n",
        "\n",
        "study2 = optuna.create_study(direction='maximize')\n",
        "study2.optimize(objective2, n_trials = 100, show_progress_bar = True)"
      ],
      "metadata": {
        "_kg_hide-input": true,
        "_kg_hide-output": true,
        "execution": {
          "iopub.status.busy": "2023-07-14T12:17:34.390852Z",
          "iopub.execute_input": "2023-07-14T12:17:34.391174Z",
          "iopub.status.idle": "2023-07-14T12:49:50.096245Z",
          "shell.execute_reply.started": "2023-07-14T12:17:34.391147Z",
          "shell.execute_reply": "2023-07-14T12:49:50.094963Z"
        },
        "collapsed": true,
        "jupyter": {
          "outputs_hidden": true
        },
        "trusted": true,
        "id": "sLkooVLWVnYr"
      },
      "execution_count": null,
      "outputs": []
    },
    {
      "cell_type": "code",
      "source": [
        "best_params2 = study2.best_params\n",
        "best_rmse_score2 = study2.best_value\n",
        "\n",
        "\n",
        "print(f'\\nCatBoost Regressor:\\n')\n",
        "print(f'\\n Best RMSE score = {best_rmse_score2} \\n')\n",
        "print(f'\\n Best Params = {best_params2} \\n')"
      ],
      "metadata": {
        "execution": {
          "iopub.status.busy": "2023-07-14T12:49:50.100833Z",
          "iopub.execute_input": "2023-07-14T12:49:50.101180Z",
          "iopub.status.idle": "2023-07-14T12:49:50.109668Z",
          "shell.execute_reply.started": "2023-07-14T12:49:50.101154Z",
          "shell.execute_reply": "2023-07-14T12:49:50.107589Z"
        },
        "_kg_hide-input": true,
        "trusted": true,
        "id": "o2MOBHkOVnYs"
      },
      "execution_count": null,
      "outputs": []
    },
    {
      "cell_type": "markdown",
      "source": [
        "<h1 id = 'meta-model' style=\"border-bottom: 1px solid #ccc;\n",
        "                        padding-bottom: 10px;\n",
        "                        margin-bottom: 10px;\n",
        "                        font-size: 28px;\n",
        "                        font-weight: bold;\n",
        "                        color: black;\n",
        "                        font-family: Poppins\">Creating Ensembles</h1>"
      ],
      "metadata": {
        "id": "QLTkr3hsVnYs"
      }
    },
    {
      "cell_type": "markdown",
      "source": [
        "<p style=\"font-size: 20px\">Now that we have the optimal parameters for higher performance, I am going to perform some <b>ensembling</b> technique by creating a metamodel that consists of the tuned versions of the <code>CatBoost</code> model and the <code>Histogram-based Gradient Boosting</code>. <br><br>\n",
        "I am going to try two different techniques. First, <code>StackingClassifier</code>, then <code>VotingClassifier</code>. We will then evaluate both ensemble models using the same metrics we did to evaluate each model individually.</p>"
      ],
      "metadata": {
        "id": "E_3um2RzVnYs"
      }
    },
    {
      "cell_type": "code",
      "source": [
        "# Creating list of the tuned models\n",
        "estimators = [\n",
        "    ('CatBoost Regressor', CatBoostClassifier(**best_params2,random_state = seed, verbose = False)),\n",
        "    ('Histogram-based Gradient Boosting', HistGradientBoostingClassifier(**best_params,random_state = seed))\n",
        "]"
      ],
      "metadata": {
        "execution": {
          "iopub.status.busy": "2023-07-14T12:50:19.625841Z",
          "iopub.execute_input": "2023-07-14T12:50:19.626247Z",
          "iopub.status.idle": "2023-07-14T12:50:19.635633Z",
          "shell.execute_reply.started": "2023-07-14T12:50:19.626213Z",
          "shell.execute_reply": "2023-07-14T12:50:19.633530Z"
        },
        "trusted": true,
        "id": "zxVSLJ8-VnYs"
      },
      "execution_count": null,
      "outputs": []
    },
    {
      "cell_type": "code",
      "source": [
        "# Creating a stackingclassifier model\n",
        "stacking_model = StackingClassifier(estimators = estimators, n_jobs = 5)"
      ],
      "metadata": {
        "execution": {
          "iopub.status.busy": "2023-07-14T12:50:22.546521Z",
          "iopub.execute_input": "2023-07-14T12:50:22.546956Z",
          "iopub.status.idle": "2023-07-14T12:50:22.551669Z",
          "shell.execute_reply.started": "2023-07-14T12:50:22.546923Z",
          "shell.execute_reply": "2023-07-14T12:50:22.550810Z"
        },
        "trusted": true,
        "id": "tvKOBGTtVnYt"
      },
      "execution_count": null,
      "outputs": []
    },
    {
      "cell_type": "code",
      "source": [
        "# Visualizing Pipeline\n",
        "pipeline.set_params(Model = stacking_model)\n",
        "pipeline"
      ],
      "metadata": {
        "execution": {
          "iopub.status.busy": "2023-07-14T12:50:23.681203Z",
          "iopub.execute_input": "2023-07-14T12:50:23.682080Z",
          "iopub.status.idle": "2023-07-14T12:50:23.740254Z",
          "shell.execute_reply.started": "2023-07-14T12:50:23.682041Z",
          "shell.execute_reply": "2023-07-14T12:50:23.738528Z"
        },
        "trusted": true,
        "id": "1pFTlGd4VnYt"
      },
      "execution_count": null,
      "outputs": []
    },
    {
      "cell_type": "code",
      "source": [
        "print('\\nStacking Classifier Cross-Validation:')\n",
        "scores = []\n",
        "print('\\n')\n",
        "print(f'\\nStacking Classifier w/ CatBoost Classifier and Histogram-based Gradient Boosting Classifier :\\n')\n",
        "\n",
        "for i, (train_index, val_index) in enumerate(cv_splits):\n",
        "    X_train, X_val = X.iloc[train_index], X.iloc[val_index]\n",
        "    y_train, y_val = y.iloc[train_index], y.iloc[val_index]\n",
        "\n",
        "    pipeline.fit(X_train, y_train)\n",
        "    y_pred = pipeline.predict(X_val)\n",
        "\n",
        "    kappa = cohen_kappa_score(y_val, y_pred, weights = 'quadratic')\n",
        "\n",
        "    print(f'Fold {i + 1}:\\n')\n",
        "    print(f'  Quadratic Weighted Kappa = {kappa:.4f}')\n",
        "\n",
        "    scores.append(kappa)\n",
        "\n",
        "    print('===================================================')\n",
        "\n",
        "    if i == len(cv_splits) - 1:\n",
        "        mean_score = np.mean(scores)\n",
        "        fold_std = np.std(scores)\n",
        "\n",
        "        print(f'\\n  Mean Quadratic Weighted Kappa = = {mean_score:.4f} \\u00B1 {fold_std:.4f}')"
      ],
      "metadata": {
        "_kg_hide-input": true,
        "execution": {
          "iopub.status.busy": "2023-07-14T12:51:27.569274Z",
          "iopub.execute_input": "2023-07-14T12:51:27.569733Z",
          "iopub.status.idle": "2023-07-14T12:52:33.294350Z",
          "shell.execute_reply.started": "2023-07-14T12:51:27.569700Z",
          "shell.execute_reply": "2023-07-14T12:52:33.292763Z"
        },
        "trusted": true,
        "id": "qoyXo_HSVnYt"
      },
      "execution_count": null,
      "outputs": []
    },
    {
      "cell_type": "markdown",
      "source": [
        "<p style=\"font-size: 20px\">The StackingClassifier model scored <code>0.5110 ± 0.0231</code>. The mean Quadratic Weighted Kappa is an improvement compared to the individual models, but the standard deviation is a higher than the baseline CatBoost model.<br><br>\n",
        "Let's now try with the <code>VotingClassifier</code> model.</p>"
      ],
      "metadata": {
        "id": "U3lOFpiSVnYt"
      }
    },
    {
      "cell_type": "code",
      "source": [
        "# Creating VotingClassifier model\n",
        "voting_model = VotingClassifier(estimators = estimators, n_jobs = 5, voting = 'soft')"
      ],
      "metadata": {
        "execution": {
          "iopub.status.busy": "2023-07-14T12:54:18.739542Z",
          "iopub.execute_input": "2023-07-14T12:54:18.740093Z",
          "iopub.status.idle": "2023-07-14T12:54:18.747376Z",
          "shell.execute_reply.started": "2023-07-14T12:54:18.740046Z",
          "shell.execute_reply": "2023-07-14T12:54:18.745446Z"
        },
        "trusted": true,
        "id": "nitqdVC9VnYu"
      },
      "execution_count": null,
      "outputs": []
    },
    {
      "cell_type": "code",
      "source": [
        "# Setting and visualizing pipeline\n",
        "pipeline.set_params(Model = voting_model)\n",
        "pipeline"
      ],
      "metadata": {
        "execution": {
          "iopub.status.busy": "2023-07-14T12:54:19.983892Z",
          "iopub.execute_input": "2023-07-14T12:54:19.984288Z",
          "iopub.status.idle": "2023-07-14T12:54:20.034222Z",
          "shell.execute_reply.started": "2023-07-14T12:54:19.984249Z",
          "shell.execute_reply": "2023-07-14T12:54:20.032841Z"
        },
        "trusted": true,
        "id": "JxKLXR6TVnYu"
      },
      "execution_count": null,
      "outputs": []
    },
    {
      "cell_type": "code",
      "source": [
        "print('\\nVoting Classifier Cross-Validation:')\n",
        "scores = []\n",
        "print('\\n')\n",
        "print(f'\\nVoting Classifier w/ CatBoost Classifier and Histogram-based Gradient Boosting Classifier :\\n')\n",
        "\n",
        "for i, (train_index, val_index) in enumerate(cv_splits):\n",
        "    X_train, X_val = X.iloc[train_index], X.iloc[val_index]\n",
        "    y_train, y_val = y.iloc[train_index], y.iloc[val_index]\n",
        "\n",
        "    pipeline.fit(X_train, y_train)\n",
        "    y_pred = pipeline.predict(X_val)\n",
        "\n",
        "    kappa = cohen_kappa_score(y_val, y_pred, weights = 'quadratic')\n",
        "\n",
        "    print(f'Fold {i + 1}:\\n')\n",
        "    print(f'  Quadratic Weighted Kappa = {kappa:.4f}')\n",
        "\n",
        "    scores.append(kappa)\n",
        "\n",
        "    print('===================================================')\n",
        "\n",
        "    if i == len(cv_splits) - 1:\n",
        "        mean_score = np.mean(scores)\n",
        "        fold_std = np.std(scores)\n",
        "\n",
        "        print(f'\\n  Mean Quadratic Weighted Kappa = = {mean_score:.4f} \\u00B1 {fold_std:.4f}')"
      ],
      "metadata": {
        "execution": {
          "iopub.status.busy": "2023-07-14T12:54:20.512227Z",
          "iopub.execute_input": "2023-07-14T12:54:20.512636Z",
          "iopub.status.idle": "2023-07-14T12:54:32.933077Z",
          "shell.execute_reply.started": "2023-07-14T12:54:20.512603Z",
          "shell.execute_reply": "2023-07-14T12:54:32.931848Z"
        },
        "_kg_hide-input": true,
        "trusted": true,
        "id": "HVZ3GUiRVnYu"
      },
      "execution_count": null,
      "outputs": []
    },
    {
      "cell_type": "markdown",
      "source": [
        "<p style=\"font-size: 20px\">The VotingClassifier model scored <code>0.5142 ± 0.0231</code>. It outperforms the StackingClassifier model, but it doesn't outperform the sole tuned CatBoost Classifier.</p>"
      ],
      "metadata": {
        "id": "EL3lZ57aVnYu"
      }
    },
    {
      "cell_type": "code",
      "source": [
        "# Setting pipeline with Tuned CatBoost Model\n",
        "pipeline.set_params(Model = CatBoostClassifier(**best_params2,random_state = seed, verbose = False))\n",
        "pipeline"
      ],
      "metadata": {
        "execution": {
          "iopub.status.busy": "2023-07-14T12:55:18.479593Z",
          "iopub.execute_input": "2023-07-14T12:55:18.480036Z",
          "iopub.status.idle": "2023-07-14T12:55:18.496484Z",
          "shell.execute_reply.started": "2023-07-14T12:55:18.480001Z",
          "shell.execute_reply": "2023-07-14T12:55:18.495202Z"
        },
        "trusted": true,
        "id": "2nhbCcGKVnYv"
      },
      "execution_count": null,
      "outputs": []
    },
    {
      "cell_type": "code",
      "source": [
        "print('\\nTuned CatBoostClassifier Cross-Validation:')\n",
        "scores = []\n",
        "feature_importance = []\n",
        "print('\\n')\n",
        "\n",
        "for i, (train_index, val_index) in enumerate(cv_splits):\n",
        "    X_train, X_val = X.iloc[train_index], X.iloc[val_index]\n",
        "    y_train, y_val = y.iloc[train_index], y.iloc[val_index]\n",
        "\n",
        "    pipeline.fit(X_train, y_train)\n",
        "    y_pred = pipeline.predict(X_val)\n",
        "\n",
        "    kappa = cohen_kappa_score(y_val, y_pred, weights = 'quadratic')\n",
        "\n",
        "    print(f'Fold {i + 1}:\\n')\n",
        "    print(f'  Quadratic Weighted Kappa = {kappa:.4f}')\n",
        "\n",
        "    scores.append(kappa)\n",
        "    feature_importance.append(pipeline[-1].feature_importances_)\n",
        "\n",
        "    print('===================================================')\n",
        "\n",
        "    if i == len(cv_splits) - 1:\n",
        "        mean_score = np.mean(scores)\n",
        "        fold_std = np.std(scores)\n",
        "\n",
        "        print(f'\\n  Mean Quadratic Weighted Kappa = = {mean_score:.4f} \\u00B1 {fold_std:.4f}')"
      ],
      "metadata": {
        "execution": {
          "iopub.status.busy": "2023-07-14T13:30:01.059616Z",
          "iopub.execute_input": "2023-07-14T13:30:01.060558Z",
          "iopub.status.idle": "2023-07-14T13:30:07.980377Z",
          "shell.execute_reply.started": "2023-07-14T13:30:01.060475Z",
          "shell.execute_reply": "2023-07-14T13:30:07.978961Z"
        },
        "_kg_hide-input": true,
        "trusted": true,
        "id": "-XjctY3IVnYv"
      },
      "execution_count": null,
      "outputs": []
    },
    {
      "cell_type": "markdown",
      "source": [
        "<p style=\"font-size: 20px\">The tuned CatBoost Classifier alone scores <code> 0.5228 ± 0.0159</code>, clearly outperforming the ensemble models. This is going the be the model selected for this task. <br><br>\n",
        "Below, we can see a barplot displaying feature importance for predictions.</p>"
      ],
      "metadata": {
        "id": "CeB6QmpJVnYv"
      }
    },
    {
      "cell_type": "code",
      "source": [
        "no_model_pipeline = Pipeline(pipeline.steps[:-1])\n",
        "feat_names = X.copy()\n",
        "feat_names = no_model_pipeline.fit_transform(feat_names)\n",
        "feature_names = feat_names.columns\n",
        "mean_feature_importance = np.mean(feature_importance, axis=0)\n",
        "\n",
        "sorted_indices = np.argsort(mean_feature_importance)[::1]\n",
        "mean_feature_importance = mean_feature_importance[sorted_indices]\n",
        "feature_names = feature_names[sorted_indices]\n",
        "\n",
        "fig = go.Figure()\n",
        "fig.add_trace(go.Bar(x=mean_feature_importance,y=feature_names,orientation='h'))\n",
        "\n",
        "fig.update_layout(\n",
        "    title=\"<b>Feature Importance <br> <sub> CatBoostClassifier</sub></b>\",\n",
        "    xaxis=dict(title=\"Feature Importance\"),\n",
        "    yaxis=dict(title=\"Features\"),\n",
        "    showlegend=False,\n",
        "    height=600,\n",
        "    width=1000,\n",
        "    margin=dict(t=100, l=80),\n",
        "    template= plotly_template,\n",
        "    coloraxis = dict(colorscale = 'magma')\n",
        ")\n",
        "fig.show()"
      ],
      "metadata": {
        "execution": {
          "iopub.status.busy": "2023-07-14T13:30:20.269548Z",
          "iopub.execute_input": "2023-07-14T13:30:20.269966Z",
          "iopub.status.idle": "2023-07-14T13:30:20.786713Z",
          "shell.execute_reply.started": "2023-07-14T13:30:20.269933Z",
          "shell.execute_reply": "2023-07-14T13:30:20.785361Z"
        },
        "_kg_hide-input": true,
        "trusted": true,
        "id": "GiwyvgULVnYw"
      },
      "execution_count": null,
      "outputs": []
    },
    {
      "cell_type": "markdown",
      "source": [
        "> <p style=\"font-size: 20px\"><b>📝 <code>sulphates</code> seems to be the most relevant feature for predicting wine quality. <br><br>\n",
        "    📝 Features deriving from alcohol, such as <code>alcohol_to_density_ratio</code> and <code>total_alkalinity</code> also appear to have high relevance in predicting wine quality.</b></p>"
      ],
      "metadata": {
        "id": "LEvSgUJrVnYw"
      }
    },
    {
      "cell_type": "markdown",
      "source": [
        "<h1 id = 'predictions' style=\"border-bottom: 1px solid #ccc;\n",
        "                        padding-bottom: 10px;\n",
        "                        margin-bottom: 10px;\n",
        "                        font-size: 38px;\n",
        "                        font-weight: bold;\n",
        "                        color: black;\n",
        "                        font-family: Poppins\">Testing the Pipeline</h1>"
      ],
      "metadata": {
        "id": "G3TyEer9VnYw"
      }
    },
    {
      "cell_type": "markdown",
      "source": [
        "<p style=\"font-size: 20px\">Now that our pipeline is completed, we can move on to predicting wine quality for the samples in the <code>test</code> data.</p>"
      ],
      "metadata": {
        "id": "y08y9GYgVnYw"
      }
    },
    {
      "cell_type": "code",
      "source": [
        "test = pd.read_csv('/kaggle/input/playground-series-s3e5/test.csv')\n",
        "test # Visualizing test data"
      ],
      "metadata": {
        "execution": {
          "iopub.status.busy": "2023-07-14T13:05:29.585400Z",
          "iopub.execute_input": "2023-07-14T13:05:29.585840Z",
          "iopub.status.idle": "2023-07-14T13:05:29.631845Z",
          "shell.execute_reply.started": "2023-07-14T13:05:29.585807Z",
          "shell.execute_reply": "2023-07-14T13:05:29.630985Z"
        },
        "trusted": true,
        "id": "N5mb8VgMVnYw"
      },
      "execution_count": null,
      "outputs": []
    },
    {
      "cell_type": "code",
      "source": [
        "# Saving ids\n",
        "test_id = test['Id']\n",
        "test_id"
      ],
      "metadata": {
        "_kg_hide-input": false,
        "execution": {
          "iopub.status.busy": "2023-07-14T13:06:06.595110Z",
          "iopub.execute_input": "2023-07-14T13:06:06.595511Z",
          "iopub.status.idle": "2023-07-14T13:06:06.606061Z",
          "shell.execute_reply.started": "2023-07-14T13:06:06.595470Z",
          "shell.execute_reply": "2023-07-14T13:06:06.604516Z"
        },
        "trusted": true,
        "id": "UipDP9bLVnYx"
      },
      "execution_count": null,
      "outputs": []
    },
    {
      "cell_type": "code",
      "source": [
        "test = test.drop('Id', axis = 1) # Removing 'Id' feature\n",
        "test"
      ],
      "metadata": {
        "execution": {
          "iopub.status.busy": "2023-07-14T13:06:29.088365Z",
          "iopub.execute_input": "2023-07-14T13:06:29.088829Z",
          "iopub.status.idle": "2023-07-14T13:06:29.121291Z",
          "shell.execute_reply.started": "2023-07-14T13:06:29.088793Z",
          "shell.execute_reply": "2023-07-14T13:06:29.120046Z"
        },
        "trusted": true,
        "id": "2X8Jl0aYVnYx"
      },
      "execution_count": null,
      "outputs": []
    },
    {
      "cell_type": "code",
      "source": [
        "pipeline # Visualizing final pipeline"
      ],
      "metadata": {
        "execution": {
          "iopub.status.busy": "2023-07-14T13:06:46.764171Z",
          "iopub.execute_input": "2023-07-14T13:06:46.764601Z",
          "iopub.status.idle": "2023-07-14T13:06:46.780622Z",
          "shell.execute_reply.started": "2023-07-14T13:06:46.764567Z",
          "shell.execute_reply": "2023-07-14T13:06:46.779722Z"
        },
        "trusted": true,
        "id": "uXD5oI3-VnYx"
      },
      "execution_count": null,
      "outputs": []
    },
    {
      "cell_type": "code",
      "source": [
        "# Predicting with the pipeline\n",
        "y_pred = pipeline.predict(test)\n",
        "y_pred # Visualizing predictions"
      ],
      "metadata": {
        "_kg_hide-output": true,
        "execution": {
          "iopub.status.busy": "2023-07-14T13:06:52.496740Z",
          "iopub.execute_input": "2023-07-14T13:06:52.497207Z",
          "iopub.status.idle": "2023-07-14T13:06:52.554366Z",
          "shell.execute_reply.started": "2023-07-14T13:06:52.497174Z",
          "shell.execute_reply": "2023-07-14T13:06:52.553381Z"
        },
        "trusted": true,
        "id": "-WoI69sFVnYx"
      },
      "execution_count": null,
      "outputs": []
    },
    {
      "cell_type": "code",
      "source": [
        "# Creating a submission dataframe\n",
        "predictions = pd.DataFrame({\n",
        "    'id': test_id,\n",
        "    'quality': np.squeeze(y_pred)\n",
        "})\n",
        "predictions"
      ],
      "metadata": {
        "_kg_hide-input": true,
        "execution": {
          "iopub.status.busy": "2023-07-14T13:08:59.097619Z",
          "iopub.execute_input": "2023-07-14T13:08:59.098021Z",
          "iopub.status.idle": "2023-07-14T13:08:59.113143Z",
          "shell.execute_reply.started": "2023-07-14T13:08:59.097993Z",
          "shell.execute_reply": "2023-07-14T13:08:59.111748Z"
        },
        "trusted": true,
        "id": "Nj5aq8MDVnYy"
      },
      "execution_count": null,
      "outputs": []
    },
    {
      "cell_type": "code",
      "source": [
        "predictions.to_csv('submission.csv', index = False) # submitting dataframe"
      ],
      "metadata": {
        "execution": {
          "iopub.status.busy": "2023-07-14T13:10:09.988277Z",
          "iopub.execute_input": "2023-07-14T13:10:09.988681Z",
          "iopub.status.idle": "2023-07-14T13:10:10.003496Z",
          "shell.execute_reply.started": "2023-07-14T13:10:09.988650Z",
          "shell.execute_reply": "2023-07-14T13:10:10.002429Z"
        },
        "trusted": true,
        "id": "qEi-YLwGVnYy"
      },
      "execution_count": null,
      "outputs": []
    },
    {
      "cell_type": "markdown",
      "source": [
        "<h1 id = 'deploy' style=\"border-bottom: 1px solid #ccc;\n",
        "                        padding-bottom: 10px;\n",
        "                        margin-bottom: 10px;\n",
        "                        font-size: 38px;\n",
        "                        font-weight: bold;\n",
        "                        color: black;\n",
        "                        font-family: Poppins\">Deploying Pipeline</h1>"
      ],
      "metadata": {
        "id": "q9bFKBmJVnYy"
      }
    },
    {
      "cell_type": "markdown",
      "source": [
        "<p style=\"font-size: 20px\">For the first time after completing a task on Kaggle, I've decided to save the pipeline with the aim of deploying my model.\n",
        "    <br><br>\n",
        "I used the <code>joblib</code> library to save my pipeline in a .pkl file, as you can see below.</p>"
      ],
      "metadata": {
        "id": "TZqlFCVRVnYy"
      }
    },
    {
      "cell_type": "code",
      "source": [
        "import joblib\n",
        "\n",
        "joblib.dump(pipeline, 'wine_quality_prediction.pkl')"
      ],
      "metadata": {
        "execution": {
          "iopub.status.busy": "2023-07-14T13:33:33.291867Z",
          "iopub.execute_input": "2023-07-14T13:33:33.292277Z",
          "iopub.status.idle": "2023-07-14T13:33:33.305416Z",
          "shell.execute_reply.started": "2023-07-14T13:33:33.292239Z",
          "shell.execute_reply": "2023-07-14T13:33:33.304519Z"
        },
        "trusted": true,
        "id": "VVLejC5RVnYy"
      },
      "execution_count": null,
      "outputs": []
    },
    {
      "cell_type": "markdown",
      "source": [
        "<p style=\"font-size: 20px\">Thanks to Hugging Face, I have been able to deploy this pipeline using <code>Streamlit</code>. <br><br>\n",
        "You can test it by clicking on the link below to be redirected to the <b>Wine Quality Predictor</b> app on Hugging Face:\n",
        "<br><br><br>\n",
        "<a href = \"https://huggingface.co/spaces/luisotorres/wine-quality-predictions\">https://huggingface.co/spaces/luisotorres/wine-quality-predictions</a></p>"
      ],
      "metadata": {
        "id": "9T-pGUbXVnYz"
      }
    },
    {
      "cell_type": "markdown",
      "source": [
        "<h1 id = 'conclusion' style=\"border-bottom: 1px solid #ccc;\n",
        "                        padding-bottom: 10px;\n",
        "                        margin-bottom: 10px;\n",
        "                        font-size: 38px;\n",
        "                        font-weight: bold;\n",
        "                        color: black;\n",
        "                        font-family: Poppins\">Conclusion</h1>"
      ],
      "metadata": {
        "id": "2bHSyDoYVnYz"
      }
    },
    {
      "cell_type": "markdown",
      "source": [
        "<p style='font-size: 20px'>In the study presented, we embarked on a comprehensive exploratory data analysis, aiming to extract as many insights as possible from the dataset. We succeeded in revealing relevant patterns among wines and identifying trends tied to their quality.\n",
        "<br><br>\n",
        "Additionally, we performed data preprocessing and examined a variety of machine learning algorithms, then fine-tuned the best ones to predict the quality of a wine based on its unique attributes.\n",
        "<br><br>\n",
        "Among the models evaluated, the CatBoost model, fine-tuned with Optuna, emerged as the most effective. This model achieved a Quadratic Weighted Kappa score of 0.5228 during cross-validation, demonstrating consistency with a lower standard deviation across folds.\n",
        "<br><br>\n",
        "For the first time, I've utilized tools such as Streamlit and Hugging Face to deploy this pipeline, culminating in the creation of an app. In this app, users can input the attributes of a wine and receive a prediction of its quality as determined by the model crafted in this notebook.\n",
        "<br><br>\n",
        "I hope you have found this experiment insightful. Please share your thoughts and feedback in the comments, and feel free to upvote if you found this work beneficial.\n",
        "<br><br><br>\n",
        "Thank you for reading.</p>"
      ],
      "metadata": {
        "id": "VCbLDEx5VnYz"
      }
    },
    {
      "cell_type": "markdown",
      "source": [
        "#### <hr style=\"border: 0; height: 1px; border-top: 0.85px solid #b2b2b2\">\n",
        "<div style=\"text-align: left; color: #8d8d8d; padding-left: 15px; font-size: 14.25px;\">\n",
        "    Luis Fernando Torres, 2023 <br><br>\n",
        "    <a href=\"https://www.linkedin.com/in/luuisotorres/\">LinkedIn</a>&nbsp;&nbsp;&nbsp;&nbsp;&nbsp;&nbsp;&nbsp;&nbsp;&nbsp;&nbsp;&nbsp;&nbsp;&nbsp;&nbsp;&nbsp;&nbsp;<a href=\"https://medium.com/@luuisotorres\">Medium</a><br><br>\n",
        "</div>"
      ],
      "metadata": {
        "id": "chK1H5ZJVnYz"
      }
    }
  ]
}